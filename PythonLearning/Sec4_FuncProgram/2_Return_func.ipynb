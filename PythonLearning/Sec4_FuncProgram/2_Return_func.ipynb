{
 "cells": [
  {
   "cell_type": "code",
   "execution_count": null,
   "metadata": {},
   "outputs": [
    {
     "name": "stdout",
     "output_type": "stream",
     "text": [
      "(1, 3, 4)\n",
      "8\n"
     ]
    }
   ],
   "source": [
    "# 高阶函数除了可以接受函数作为参数外，还可以把函数作为结果值返回。\n",
    "# 我们来实现一个可变参数的求和。通常情况下，求和的函数是这样定义的：\n",
    "def cacl_sum(*args):\n",
    "    ax = 0\n",
    "    print(args)\n",
    "    for n in args:\n",
    "        ax = ax + n\n",
    "    return ax\n",
    "\n",
    "# *args 的作用：*args 是一个可变参数，它会将传入的多个参数打包成一个元组。例如，调用 calc_sum(1, 2, 3) 时，args 的值会是 (1, 2, 3)。\n",
    "# 传入列表时的行为：当你传入一个列表 [1, 3, 4] 时，args 的值会是 ([1, 3, 4],)，即一个包含一个列表的元组。\n",
    "# 因此，for n in args 实际上只会遍历这个元组一次，n 的值是整个列表 [1, 3, 4]，而不是列表中的每个元素。\n",
    "# 相当于是传入3个参数还是传入1个list参数\n",
    "print(cacl_sum(1,3,4))\n",
    "\n",
    "# **kwargs（通常写作 **kw 或 **kwargs）是一种用于接收任意数量的关键字参数的语法。\n",
    "# 它允许函数在调用时接收任意数量的命名参数（即关键字参数），并将这些参数存储在一个字典中。\n",
    "# **kwargs 的作用，**kwargs 可以接收任意数量的关键字参数。这些参数以键值对的形式传入函数，并被存储在一个字典中。\n",
    "# 主要的参数是key=value形式，比如 name=\"Alice\"变成了字典 {name:Alice}\n"
   ]
  },
  {
   "cell_type": "code",
   "execution_count": 9,
   "metadata": {},
   "outputs": [
    {
     "name": "stdout",
     "output_type": "stream",
     "text": [
      "<function lazy_sum.<locals>.sum at 0x000001A490675120>\n"
     ]
    }
   ],
   "source": [
    "# 但是，如果不需要立刻求和，而是在后面的代码中，根据需要再计算怎么办？可以不返回求和的结果，而是返回求和的函数：\n",
    "def lazy_sum(*args):\n",
    "    def sum():\n",
    "        ax = 0\n",
    "        for n in args:\n",
    "            ax +=n\n",
    "        return ax\n",
    "    return sum\n",
    "\n",
    "# 当我们调用lazy_sum()时，返回的并不是求和结果，而是求和函数：\n",
    "f = lazy_sum(1,3,5,7,9)\n",
    "print(f)"
   ]
  },
  {
   "cell_type": "code",
   "execution_count": null,
   "metadata": {},
   "outputs": [
    {
     "data": {
      "text/plain": [
       "25"
      ]
     },
     "execution_count": 5,
     "metadata": {},
     "output_type": "execute_result"
    }
   ],
   "source": [
    "# 调用函数f时，才真正计算求和的结果：\n",
    "print(f())\n",
    "# 个人理解是被返回了函数，要函数结果需要调用函数\n",
    "# 在这个例子中，我们在函数lazy_sum中又定义了函数sum，并且，\n",
    "# 内部函数sum可以引用外部函数lazy_sum的参数和局部变量，当lazy_sum返回函数sum时，\n",
    "# 相关参数和变量都保存在返回的函数中，这种称为“闭包（Closure）”的程序结构拥有极大的威力。"
   ]
  },
  {
   "cell_type": "code",
   "execution_count": null,
   "metadata": {},
   "outputs": [
    {
     "name": "stdout",
     "output_type": "stream",
     "text": [
      "False\n",
      "True\n"
     ]
    }
   ],
   "source": [
    "# 请再注意一点，当我们调用lazy_sum()时，每次调用都会返回一个新的函数，即使传入相同的参数：\n",
    "f1 = lazy_sum(1,3,5,7,9)\n",
    "f2 = lazy_sum(1,3,5,7,9)\n",
    "print (f1 == f2) # 相当于两个一样的函数不同的地址所以不一样\n",
    "# f1()和f2()的调用结果互不影响。\n",
    "print(f1()==f2())# 但是计算出的数字结果是一样的"
   ]
  },
  {
   "cell_type": "code",
   "execution_count": null,
   "metadata": {},
   "outputs": [
    {
     "name": "stdout",
     "output_type": "stream",
     "text": [
      "9\n",
      "9\n",
      "9\n"
     ]
    }
   ],
   "source": [
    "# 闭包 Closure\n",
    "# 注意到返回的函数在其定义内部引用了局部变量args，\n",
    "# 所以，当一个函数返回了一个函数后，其内部的局部变量还被新函数引用，所以，闭包用起来简单，实现起来可不容易。\n",
    "# 另一个需要注意的问题是，返回的函数并没有立刻执行，而是直到调用了f()才执行。我们来看一个例子：\n",
    "def count():\n",
    "    fs = []\n",
    "    for i in range(1,4):\n",
    "        def f():\n",
    "            return i*i\n",
    "        fs.append(f)\n",
    "    return fs\n",
    "\n",
    "f1 ,f2 , f3 = count()\n",
    "# 在上面的例子中，每次循环，都创建了一个新的函数，然后，把创建的3个函数都返回了。\n",
    "# 你可能认为调用f1()，f2()和f3()结果应该是1，4，9，但实际结果是：\n",
    "print(f1())\n",
    "print(f2())\n",
    "print(f3())\n",
    "# 全部都是9！原因就在于返回的函数引用了变量i，但它并非立刻执行。等到3个函数都返回时，它们所引用的变量i已经变成了3，因此最终结果为9。\n",
    "# 在 Python 中，闭包引用的是变量的内存地址，而不是变量的当前值。\n",
    "# 换句话说，闭包中的变量 i 是在函数被调用时才去查找其值，而不是在函数被定义时。\n",
    "# 当 count() 函数执行完毕时，循环已经结束，变量 i 的最终值为 3。\n",
    "# 之后f1()时才去查询i算i*i得到9\n",
    "# 延迟绑定（late binding）\n"
   ]
  },
  {
   "cell_type": "code",
   "execution_count": null,
   "metadata": {},
   "outputs": [
    {
     "name": "stdout",
     "output_type": "stream",
     "text": [
      "1\n",
      "4\n",
      "9\n"
     ]
    }
   ],
   "source": [
    "# 返回闭包时牢记一点：返回函数不要引用任何循环变量，或者后续会发生变化的变量。\n",
    "# 如果一定要引用循环变量怎么办？方法是再创建一个函数，\n",
    "# 用该函数的参数绑定循环变量当前的值，无论该循环变量后续如何更改，已绑定到函数参数的值不变：\n",
    "def count():\n",
    "    def f(j):\n",
    "        def g():\n",
    "            return j*j\n",
    "        return g\n",
    "    fs = []\n",
    "    for i in range(1,4):\n",
    "        fs.append(f(i)) # f(i)立刻被执行，因此i的当前值传入f()\n",
    "    return fs\n",
    "\n",
    "f1 ,f2 , f3 = count()\n",
    "print(f1())\n",
    "print(f2())\n",
    "print(f3())\n",
    "# 缺点是代码较长，可利用lambda函数缩短代码。"
   ]
  },
  {
   "cell_type": "code",
   "execution_count": 13,
   "metadata": {},
   "outputs": [
    {
     "name": "stdout",
     "output_type": "stream",
     "text": [
      "1\n",
      "1\n"
     ]
    }
   ],
   "source": [
    "# nonlocal\n",
    "# 使用闭包，就是内层函数引用了外层函数的局部变量。如果只是读外层变量的值，我们会发现返回的闭包函数调用一切正常：\n",
    "def inc():\n",
    "    x = 0\n",
    "    def fn():\n",
    "        # 仅读取x的值\n",
    "        return x+1\n",
    "    return fn\n",
    "\n",
    "f = inc()\n",
    "print(f())\n",
    "print(f())"
   ]
  },
  {
   "cell_type": "code",
   "execution_count": 14,
   "metadata": {},
   "outputs": [
    {
     "ename": "UnboundLocalError",
     "evalue": "local variable 'x' referenced before assignment",
     "output_type": "error",
     "traceback": [
      "\u001b[1;31m---------------------------------------------------------------------------\u001b[0m",
      "\u001b[1;31mUnboundLocalError\u001b[0m                         Traceback (most recent call last)",
      "Cell \u001b[1;32mIn[14], line 11\u001b[0m\n\u001b[0;32m      8\u001b[0m     \u001b[38;5;28;01mreturn\u001b[39;00m fn\n\u001b[0;32m     10\u001b[0m f \u001b[38;5;241m=\u001b[39m inc()\n\u001b[1;32m---> 11\u001b[0m \u001b[38;5;28mprint\u001b[39m(\u001b[43mf\u001b[49m\u001b[43m(\u001b[49m\u001b[43m)\u001b[49m) \u001b[38;5;66;03m# 1\u001b[39;00m\n\u001b[0;32m     12\u001b[0m \u001b[38;5;28mprint\u001b[39m(f()) \u001b[38;5;66;03m# 2\u001b[39;00m\n",
      "Cell \u001b[1;32mIn[14], line 6\u001b[0m, in \u001b[0;36minc.<locals>.fn\u001b[1;34m()\u001b[0m\n\u001b[0;32m      4\u001b[0m \u001b[38;5;28;01mdef\u001b[39;00m\u001b[38;5;250m \u001b[39m\u001b[38;5;21mfn\u001b[39m():\n\u001b[0;32m      5\u001b[0m     \u001b[38;5;66;03m# nonlocal x\u001b[39;00m\n\u001b[1;32m----> 6\u001b[0m     x \u001b[38;5;241m=\u001b[39m \u001b[43mx\u001b[49m \u001b[38;5;241m+\u001b[39m \u001b[38;5;241m1\u001b[39m\n\u001b[0;32m      7\u001b[0m     \u001b[38;5;28;01mreturn\u001b[39;00m x\n",
      "\u001b[1;31mUnboundLocalError\u001b[0m: local variable 'x' referenced before assignment"
     ]
    }
   ],
   "source": [
    "# 但是，如果对外层变量赋值，由于Python解释器会把x当作函数fn()的局部变量，它会报错：\n",
    "def inc():\n",
    "    x = 0\n",
    "    def fn():\n",
    "        # nonlocal x\n",
    "        x = x + 1\n",
    "        return x\n",
    "    return fn\n",
    "\n",
    "f = inc()\n",
    "print(f()) # 1\n",
    "print(f()) # 2"
   ]
  },
  {
   "cell_type": "code",
   "execution_count": null,
   "metadata": {},
   "outputs": [
    {
     "name": "stdout",
     "output_type": "stream",
     "text": [
      "1\n",
      "2\n"
     ]
    }
   ],
   "source": [
    "def inc():\n",
    "    x = 0\n",
    "    def fn():\n",
    "        nonlocal x # 相当于声明了函数外变量\n",
    "        x = x + 1\n",
    "        return x\n",
    "    return fn\n",
    "\n",
    "f = inc()\n",
    "print(f()) # 1\n",
    "print(f()) # 2\n",
    "# 原因是x作为局部变量并没有初始化，直接计算x+1是不行的。\n",
    "# 但我们其实是想引用inc()函数内部的x，所以需要在fn()函数内部加一个nonlocal x的声明。\n",
    "# 加上这个声明后，解释器把fn()的x看作外层函数的局部变量，它已经被初始化了，可以正确计算x+1。\n",
    "\n",
    "# 使用闭包时，对外层变量赋值前，需要先使用nonlocal声明该变量不是当前函数的局部变量。"
   ]
  },
  {
   "cell_type": "code",
   "execution_count": 17,
   "metadata": {},
   "outputs": [
    {
     "name": "stdout",
     "output_type": "stream",
     "text": [
      "1 2 3 4 5\n",
      "测试通过!\n"
     ]
    }
   ],
   "source": [
    "# 练习\n",
    "# 利用闭包返回一个计数器函数，每次调用它返回递增整数：\n",
    "def createCounter():\n",
    "    x = 0\n",
    "    def counter():\n",
    "        nonlocal x\n",
    "        x = x+1\n",
    "        return x\n",
    "    return counter\n",
    "\n",
    "counterA = createCounter()\n",
    "print(counterA(), counterA(), counterA(), counterA(), counterA()) # 1 2 3 4 5\n",
    "\n",
    "counterB = createCounter()\n",
    "if [counterB(), counterB(), counterB(), counterB()] == [1, 2, 3, 4]:\n",
    "    print('测试通过!')\n",
    "else:\n",
    "    print('测试失败!')"
   ]
  }
 ],
 "metadata": {
  "kernelspec": {
   "display_name": "homework",
   "language": "python",
   "name": "python3"
  },
  "language_info": {
   "codemirror_mode": {
    "name": "ipython",
    "version": 3
   },
   "file_extension": ".py",
   "mimetype": "text/x-python",
   "name": "python",
   "nbconvert_exporter": "python",
   "pygments_lexer": "ipython3",
   "version": "3.10.16"
  }
 },
 "nbformat": 4,
 "nbformat_minor": 2
}
