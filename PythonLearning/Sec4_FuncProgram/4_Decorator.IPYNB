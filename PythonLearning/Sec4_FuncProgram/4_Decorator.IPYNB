{
 "cells": [
  {
   "cell_type": "code",
   "execution_count": null,
   "metadata": {},
   "outputs": [
    {
     "name": "stdout",
     "output_type": "stream",
     "text": [
      "2025.3.15\n",
      "2025.3.15\n",
      "None\n"
     ]
    }
   ],
   "source": [
    "# 由于函数也是一个对象，而且函数对象可以被赋值给变量，所以，通过变量也能调用该函数。\n",
    "def now():\n",
    "    print('2025.3.15')\n",
    "\n",
    "f = now # f 现在是一个函数对象，与 now 函数指向同一个内存地址。你可以通过调用 f() 来执行 now 函数。\n",
    "f() # 调用 f()，等同于调用 now()\n",
    "\n",
    "f = now() # 这里调用了 now() 函数，并将 now() 的返回值赋值给变量 f。\n",
    "print(f) # now() 函数的定义中，它只是打印了一行字符串 '2025.3.15'，并没有返回任何值（默认返回 None）。因此，f 的值将是 None。"
   ]
  },
  {
   "cell_type": "code",
   "execution_count": 3,
   "metadata": {},
   "outputs": [
    {
     "data": {
      "text/plain": [
       "'now'"
      ]
     },
     "execution_count": 3,
     "metadata": {},
     "output_type": "execute_result"
    }
   ],
   "source": [
    "# 函数对象有一个__name__属性（注意：是前后各两个下划线），可以拿到函数的名字：\n",
    "now.__name__"
   ]
  },
  {
   "cell_type": "code",
   "execution_count": 5,
   "metadata": {},
   "outputs": [
    {
     "data": {
      "text/plain": [
       "'now'"
      ]
     },
     "execution_count": 5,
     "metadata": {},
     "output_type": "execute_result"
    }
   ],
   "source": [
    "f = now\n",
    "f.__name__"
   ]
  },
  {
   "cell_type": "code",
   "execution_count": 8,
   "metadata": {},
   "outputs": [
    {
     "name": "stdout",
     "output_type": "stream",
     "text": [
      "call now():\n",
      "2025-3-15\n"
     ]
    }
   ],
   "source": [
    "# 现在，假设我们要增强now()函数的功能，比如，在函数调用前后自动打印日志，但又不希望修改now()函数的定义，\n",
    "# 这种在代码运行期间动态增加功能的方式，称之为“装饰器”（Decorator）。\n",
    "# 本质上，decorator就是一个返回函数的高阶函数。所以，我们要定义一个能打印日志的decorator，可以定义如下：\n",
    "def log(func):\n",
    "    def wrapper(*args,**kw):\n",
    "        print('call %s():'% func.__name__)\n",
    "        return func(*args,**kw) \n",
    "    return wrapper\n",
    "\n",
    "# 观察上面的log，因为它是一个decorator，所以接受一个函数作为参数，并返回一个函数。我们要借助Python的@语法，把decorator置于函数的定义处：\n",
    "@log\n",
    "def now():\n",
    "    print('2025-3-15')\n",
    "\n",
    "# 调用now()函数，不仅会运行now()函数本身，还会在运行now()函数前打印一行日志：\n",
    "now()"
   ]
  },
  {
   "cell_type": "code",
   "execution_count": 19,
   "metadata": {},
   "outputs": [
    {
     "name": "stdout",
     "output_type": "stream",
     "text": [
      "excute now():\n",
      "2025.3.15\n"
     ]
    }
   ],
   "source": [
    "# 把@log放到now()函数的定义处，相当于执行了语句：\n",
    "# now = log(now)\n",
    "# 由于log()是一个decorator，返回一个函数，所以，原来的now()函数仍然存在，\n",
    "# 只是现在同名的now变量指向了新的函数，于是调用now()将执行新函数，即在log()函数中返回的wrapper()函数。\n",
    "\n",
    "# wrapper()函数的参数定义是(*args, **kw)，因此，wrapper()函数可以接受任意参数的调用。\n",
    "# 在wrapper()函数内，首先打印日志，再紧接着调用原始函数。\n",
    "# 如果decorator本身需要传入参数，那就需要编写一个返回decorator的高阶函数，写出来会更复杂。比如，要自定义log的文本：\n",
    "\n",
    "def log(text):\n",
    "    def decorator(func):\n",
    "        def wrapper(*args,**kw):\n",
    "            print('%s %s():' % (text, func.__name__))\n",
    "            return func(*args,**kw)\n",
    "        return wrapper\n",
    "    return decorator\n",
    "\n",
    "# 这个3层嵌套的decorator用法如下：\n",
    "@log('excute')\n",
    "def now():\n",
    "    print('2025.3.15')\n",
    "\n",
    "now()"
   ]
  },
  {
   "cell_type": "code",
   "execution_count": 21,
   "metadata": {},
   "outputs": [
    {
     "name": "stdout",
     "output_type": "stream",
     "text": [
      "execute now():\n"
     ]
    },
    {
     "data": {
      "text/plain": [
       "<function __main__.now()>"
      ]
     },
     "execution_count": 21,
     "metadata": {},
     "output_type": "execute_result"
    }
   ],
   "source": [
    "def log(text):\n",
    "    def decorator(func):\n",
    "        def wrapper(*args, **kw):\n",
    "            print('%s %s():' % (text, func.__name__))\n",
    "            return func # 和上述的区别是这里最后返回的是func的地址，而不是func(参数)方式调用起func\n",
    "        return wrapper\n",
    "    return decorator\n",
    "\n",
    "@log('execute')\n",
    "def now():\n",
    "    print('2024-6-1')\n",
    "now()"
   ]
  },
  {
   "cell_type": "code",
   "execution_count": 26,
   "metadata": {},
   "outputs": [
    {
     "name": "stdout",
     "output_type": "stream",
     "text": [
      "execute now():\n",
      "2024-6-1\n"
     ]
    }
   ],
   "source": [
    "def log(text):\n",
    "    def decorator(func):\n",
    "        def wrapper(): # 如果上下都没有参数相当于也没什么参数使用，这样也可以 \n",
    "            print('%s %s():' % (text, func.__name__))\n",
    "            return func() # 括号的存在主要就是为了调用函数\n",
    "        return wrapper\n",
    "    return decorator\n",
    "\n",
    "@log('execute')\n",
    "def now():\n",
    "    print('2024-6-1')\n",
    "now()"
   ]
  },
  {
   "cell_type": "code",
   "execution_count": 25,
   "metadata": {},
   "outputs": [],
   "source": [
    "# 和两层嵌套的decorator相比，3层嵌套的效果是这样的：\n",
    "now = log('execute')(now)\n",
    "# 我们来剖析上面的语句，首先执行log('execute')，\n",
    "# 返回的是decorator函数，再调用返回的函数，参数是now函数，返回值最终是wrapper函数。"
   ]
  },
  {
   "cell_type": "code",
   "execution_count": null,
   "metadata": {},
   "outputs": [
    {
     "data": {
      "text/plain": [
       "'wrapper'"
      ]
     },
     "execution_count": 27,
     "metadata": {},
     "output_type": "execute_result"
    }
   ],
   "source": [
    "# 以上两种decorator的定义都没有问题，但还差最后一步。因为我们讲了函数也是对象，它有__name__等属性，\n",
    "# 但你去看经过decorator装饰之后的函数，它们的__name__已经从原来的'now'变成了'wrapper'：\n",
    "now.__name__\n",
    "# 因为返回的那个wrapper()函数名字就是'wrapper'，所以，需要把原始函数的__name__等属性复制到wrapper()函数中，否则，有些依赖函数签名的代码执行就会出错。"
   ]
  },
  {
   "cell_type": "code",
   "execution_count": 30,
   "metadata": {},
   "outputs": [
    {
     "name": "stdout",
     "output_type": "stream",
     "text": [
      "call print_log():\n",
      "time now\n"
     ]
    },
    {
     "data": {
      "text/plain": [
       "'print_log'"
      ]
     },
     "execution_count": 30,
     "metadata": {},
     "output_type": "execute_result"
    }
   ],
   "source": [
    "# 不需要编写wrapper.__name__ = func.__name__这样的代码，\n",
    "# Python内置的functools.wraps就是干这个事的，所以，一个完整的decorator的写法如下：\n",
    "import functools\n",
    "def log(func):\n",
    "    @functools.wraps(func)\n",
    "    def wrapper(*args,**kw):\n",
    "        print('call %s():' % func.__name__)\n",
    "        return func(*args,**kw)\n",
    "    return wrapper\n",
    "\n",
    "@log\n",
    "def print_log():\n",
    "    print('time now')\n",
    "\n",
    "print_log()\n",
    "print_log.__name__"
   ]
  },
  {
   "cell_type": "code",
   "execution_count": 32,
   "metadata": {},
   "outputs": [
    {
     "name": "stdout",
     "output_type": "stream",
     "text": [
      "test print_log():\n",
      "time now\n"
     ]
    },
    {
     "data": {
      "text/plain": [
       "'print_log'"
      ]
     },
     "execution_count": 32,
     "metadata": {},
     "output_type": "execute_result"
    }
   ],
   "source": [
    "# 或者针对带参数的decorator：\n",
    "import functools\n",
    "\n",
    "def log(text):\n",
    "    def decorator(func):\n",
    "        @functools.wraps(func)\n",
    "        def wrapper(*args, **kw):\n",
    "            print('%s %s():' % (text, func.__name__))\n",
    "            return func(*args, **kw)\n",
    "        return wrapper\n",
    "    return decorator\n",
    "\n",
    "# import functools是导入functools模块。模块的概念稍候讲解。现在，只需记住在定义wrapper()的前面加上@functools.wraps(func)即可。\n",
    "@log('test')\n",
    "def print_log():\n",
    "    print('time now')\n",
    "\n",
    "print_log()\n",
    "print_log.__name__"
   ]
  },
  {
   "cell_type": "code",
   "execution_count": 38,
   "metadata": {},
   "outputs": [
    {
     "name": "stdout",
     "output_type": "stream",
     "text": [
      "fast executed in 10.24 ms\n",
      "slow executed in 10.24 ms\n",
      "测试成功!\n",
      "测试成功!\n"
     ]
    }
   ],
   "source": [
    "# 练习\n",
    "# 请设计一个decorator，它可作用于任何函数上，并打印该函数的执行时间：\n",
    "import time,functools\n",
    "\n",
    "def metric(fn):\n",
    "    @functools.wraps(fn)\n",
    "    def wrapper(*args,**kw):\n",
    "        print('%s executed in %s ms' % (fn.__name__, 10.24))\n",
    "        return fn(*args,**kw)\n",
    "    return wrapper\n",
    "\n",
    "@metric\n",
    "def fast(x, y):\n",
    "    time.sleep(0.0012)\n",
    "    return x + y\n",
    "\n",
    "@metric\n",
    "def slow(x, y, z):\n",
    "    time.sleep(0.1234)\n",
    "    return x * y * z\n",
    "\n",
    "f = fast(11, 22)\n",
    "s = slow(11, 22, 33)\n",
    "if f == 33:\n",
    "    print('测试成功!')\n",
    "if s == 7986:\n",
    "    print('测试成功!')"
   ]
  },
  {
   "cell_type": "code",
   "execution_count": 43,
   "metadata": {},
   "outputs": [
    {
     "name": "stdout",
     "output_type": "stream",
     "text": [
      "begin call\n",
      "func running\n",
      "end call\n"
     ]
    }
   ],
   "source": [
    "# 请编写一个decorator，能在函数调用的前后打印出'begin call'和'end call'的日志。\n",
    "# 再思考一下能否写出一个@log的decorator，使它既支持：\n",
    "def log(func):\n",
    "    @functools.wraps(func)\n",
    "    def wrapper(*args,**kw):\n",
    "        print(\"begin call\")\n",
    "        result = func(*args,**kw)\n",
    "        print(\"end call\")\n",
    "        return result\n",
    "    return wrapper\n",
    "\n",
    "@log\n",
    "def f():\n",
    "    print(\"func running\")\n",
    "\n",
    "f()\n",
    "    "
   ]
  },
  {
   "cell_type": "code",
   "execution_count": null,
   "metadata": {},
   "outputs": [
    {
     "ename": "TypeError",
     "evalue": "log.<locals>.decorator() missing 1 required positional argument: 'func'",
     "output_type": "error",
     "traceback": [
      "\u001b[1;31m---------------------------------------------------------------------------\u001b[0m",
      "\u001b[1;31mTypeError\u001b[0m                                 Traceback (most recent call last)",
      "Cell \u001b[1;32mIn[45], line 21\u001b[0m\n\u001b[0;32m     17\u001b[0m \u001b[38;5;129m@log\u001b[39m(\u001b[38;5;124m\"\u001b[39m\u001b[38;5;124mexcute\u001b[39m\u001b[38;5;124m\"\u001b[39m)\n\u001b[0;32m     18\u001b[0m \u001b[38;5;28;01mdef\u001b[39;00m\u001b[38;5;250m \u001b[39m\u001b[38;5;21mfunc2\u001b[39m():\n\u001b[0;32m     19\u001b[0m     \u001b[38;5;28mprint\u001b[39m(\u001b[38;5;124m\"\u001b[39m\u001b[38;5;124mfunction running\u001b[39m\u001b[38;5;124m\"\u001b[39m)\n\u001b[1;32m---> 21\u001b[0m \u001b[43mfunc1\u001b[49m\u001b[43m(\u001b[49m\u001b[43m)\u001b[49m\n\u001b[0;32m     22\u001b[0m func2()\n",
      "\u001b[1;31mTypeError\u001b[0m: log.<locals>.decorator() missing 1 required positional argument: 'func'"
     ]
    }
   ],
   "source": [
    "# 再思考一下能否写出一个@log的decorator，使它既支持：\n",
    "def log(text=None):\n",
    "    def decorator(func):\n",
    "        @functools.wraps(func)\n",
    "        def wrapper(*args,**kw):\n",
    "            print(\"begin call\")\n",
    "            result = func(*args,**kw)\n",
    "            print(\"end call\")\n",
    "            return result\n",
    "        return wrapper\n",
    "    return decorator\n",
    "\n",
    "@log\n",
    "def func1():\n",
    "    print(\"function running\")\n",
    "\n",
    "@log(\"excute\")\n",
    "def func2():\n",
    "    print(\"function running\")\n",
    "\n",
    "func1()\n",
    "func2()"
   ]
  },
  {
   "cell_type": "code",
   "execution_count": 50,
   "metadata": {},
   "outputs": [
    {
     "name": "stdout",
     "output_type": "stream",
     "text": [
      "begin call\n",
      "function running\n",
      "end call\n",
      "execute - begin call\n",
      "function running\n",
      "execute - end call\n"
     ]
    }
   ],
   "source": [
    "import functools\n",
    "\n",
    "def log(text=None):\n",
    "    # 如果传入参数，则直接返回装饰器\n",
    "    if callable(text):\n",
    "        func = text\n",
    "        @functools.wraps(func)\n",
    "        def wrapper(*args, **kwargs):\n",
    "            print(\"begin call\")\n",
    "            result = func(*args, **kwargs)\n",
    "            print(\"end call\")\n",
    "            return result\n",
    "        return wrapper\n",
    "    else:\n",
    "        # 如果没有传入参数，或者传入的是字符串参数\n",
    "        def decorator(func):\n",
    "            @functools.wraps(func)\n",
    "            def wrapper(*args, **kwargs):\n",
    "                if text is not None:\n",
    "                    print(f\"{text} - begin call\")\n",
    "                else:\n",
    "                    print(\"begin call\")\n",
    "                result = func(*args, **kwargs)\n",
    "                if text is not None:\n",
    "                    print(f\"{text} - end call\")\n",
    "                else:\n",
    "                    print(\"end call\")\n",
    "                return result\n",
    "            return wrapper\n",
    "        return decorator\n",
    "\n",
    "# 测试代码\n",
    "@log\n",
    "def func1():\n",
    "    print(\"function running\")\n",
    "\n",
    "@log(\"execute\")\n",
    "def func2():\n",
    "    print(\"function running\")\n",
    "\n",
    "func1()\n",
    "func2()"
   ]
  },
  {
   "cell_type": "code",
   "execution_count": 59,
   "metadata": {},
   "outputs": [
    {
     "name": "stdout",
     "output_type": "stream",
     "text": [
      "start\n",
      "function1 running\n",
      "end\n",
      "execute start\n",
      "function2 running\n",
      "execute end\n"
     ]
    }
   ],
   "source": [
    "import functools\n",
    "\n",
    "def log(arg=None):\n",
    "    if callable(arg): # 如果是可调用的（即判断传入的是函数）\n",
    "        func = arg # 先用func去承载它，并且表示判断出是函数\n",
    "        @functools.wraps(func)\n",
    "        def wrapper(*args,**kw):\n",
    "            print(\"start\")\n",
    "            result = func(*args,**kw)\n",
    "            print(\"end\")\n",
    "            return result\n",
    "        return wrapper\n",
    "    \n",
    "    else: #证明传入的是不可调用的（即不是函数，那就是参数）\n",
    "        prefix = arg\n",
    "\n",
    "        def decorator(func):\n",
    "            @functools.wraps(func)\n",
    "            def wrapper(*args,**kw):\n",
    "                print(\"%s start\"% arg)\n",
    "                result = func(*args,**kw)\n",
    "                print(\"%s end\"% arg)\n",
    "                return result\n",
    "            return wrapper\n",
    "        return decorator\n",
    "\n",
    "@log\n",
    "def func1():\n",
    "    print(\"function1 running\")\n",
    "\n",
    "@log(\"execute\")\n",
    "def func2():\n",
    "    print(\"function2 running\")\n",
    "\n",
    "func1()\n",
    "func2()\n",
    "# 在面向对象（OOP）的设计模式中，decorator被称为装饰模式。OOP的装饰模式需要通过继承和组合来实现，\n",
    "# 而Python除了能支持OOP的decorator外，直接从语法层次支持decorator。Python的decorator可以用函数实现，也可以用类实现。\n",
    "# decorator可以增强函数的功能，定义起来虽然有点复杂，但使用起来非常灵活和方便。"
   ]
  }
 ],
 "metadata": {
  "kernelspec": {
   "display_name": "homework",
   "language": "python",
   "name": "python3"
  },
  "language_info": {
   "codemirror_mode": {
    "name": "ipython",
    "version": 3
   },
   "file_extension": ".py",
   "mimetype": "text/x-python",
   "name": "python",
   "nbconvert_exporter": "python",
   "pygments_lexer": "ipython3",
   "version": "3.10.16"
  }
 },
 "nbformat": 4,
 "nbformat_minor": 2
}
