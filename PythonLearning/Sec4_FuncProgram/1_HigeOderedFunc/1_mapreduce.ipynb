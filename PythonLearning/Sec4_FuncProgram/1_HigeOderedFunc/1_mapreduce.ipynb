{
 "cells": [
  {
   "cell_type": "code",
   "execution_count": null,
   "metadata": {},
   "outputs": [],
   "source": [
    "# 函数式变成\n",
    "# 函数是Python内建支持的一种封装，我们通过把大段代码拆成函数，通过一层一层的函数调用，\n",
    "# 就可以把复杂任务分解成简单的任务，这种分解可以称之为面向过程的程序设计\n",
    "# 函数就是面向过程的程序设计的基本单元。\n",
    "\n",
    "# 函数式编程（请注意多了一个“式”字）——Functional Programming，\n",
    "# 虽然也可以归结到面向过程的程序设计，但其思想更接近数学计算。\n",
    "\n",
    "# 计算机的层次上，CPU执行的是加减乘除的指令代码，以及各种条件判断和跳转指令，所以，汇编语言是最贴近计算机的语言。\n",
    "# 计算则指数学意义上的计算，越是抽象的计算，离计算机硬件越远。\n",
    "\n",
    "# 对应到编程语言，就是越低级的语言，越贴近计算机，抽象程度低，执行效率高，比如C语言；\n",
    "# 越高级的语言，越贴近计算，抽象程度高，执行效率低，比如Lisp语言。\n",
    "# 函数式编程就是一种抽象程度很高的编程范式，纯粹的函数式编程语言编写的函数没有变量，\n",
    "# 因此，任意一个函数，只要输入是确定的，输出就是确定的，这种纯函数我们称之为没有副作用。\n",
    "# 而允许使用变量的程序设计语言，由于函数内部的变量状态不确定，同样的输入，可能得到不同的输出，因此，这种函数是有副作用的。\n",
    "# 函数式编程的一个特点就是，允许把函数本身作为参数传入另一个函数，还允许返回一个函数！\n",
    "# Python对函数式编程提供部分支持。由于Python允许使用变量，因此，Python不是纯函数式编程语言。\n"
   ]
  },
  {
   "cell_type": "code",
   "execution_count": 1,
   "metadata": {},
   "outputs": [
    {
     "name": "stdout",
     "output_type": "stream",
     "text": [
      "10\n"
     ]
    }
   ],
   "source": [
    "# 高阶函数\n",
    "# 变量可以指向函数\n",
    "# 以Python内置的求绝对值的函数abs()为例，调用该函数用以下代码：\n",
    "print(abs(-10))\n"
   ]
  },
  {
   "cell_type": "code",
   "execution_count": 2,
   "metadata": {},
   "outputs": [
    {
     "data": {
      "text/plain": [
       "<function abs(x, /)>"
      ]
     },
     "execution_count": 2,
     "metadata": {},
     "output_type": "execute_result"
    }
   ],
   "source": [
    "abs"
   ]
  },
  {
   "cell_type": "code",
   "execution_count": 3,
   "metadata": {},
   "outputs": [
    {
     "name": "stdout",
     "output_type": "stream",
     "text": [
      "10\n"
     ]
    }
   ],
   "source": [
    "# 可见，abs(-10)是函数调用，而abs是函数本身。\n",
    "# 要获得函数调用结果，我们可以把结果赋值给变量：\n",
    "x = abs(-10)\n",
    "print(x)"
   ]
  },
  {
   "cell_type": "code",
   "execution_count": 4,
   "metadata": {},
   "outputs": [
    {
     "name": "stdout",
     "output_type": "stream",
     "text": [
      "<built-in function abs>\n"
     ]
    }
   ],
   "source": [
    "# 但是，如果把函数本身赋值给变量呢？\n",
    "f = abs\n",
    "print(f)"
   ]
  },
  {
   "cell_type": "code",
   "execution_count": null,
   "metadata": {},
   "outputs": [
    {
     "data": {
      "text/plain": [
       "10"
      ]
     },
     "execution_count": 5,
     "metadata": {},
     "output_type": "execute_result"
    }
   ],
   "source": [
    "# 结论：函数本身也可以赋值给变量，即：变量可以指向函数。\n",
    "# 如果一个变量指向了一个函数，那么，可否通过该变量来调用这个函数？用代码验证一下：\n",
    "f = abs\n",
    "f(-10)\n",
    "# 成功！说明变量f现在已经指向了abs函数本身。直接调用abs()函数和调用变量f()完全相同。\n",
    "# 感觉上就是实例化"
   ]
  },
  {
   "cell_type": "code",
   "execution_count": 6,
   "metadata": {},
   "outputs": [
    {
     "ename": "TypeError",
     "evalue": "'int' object is not callable",
     "output_type": "error",
     "traceback": [
      "\u001b[1;31m---------------------------------------------------------------------------\u001b[0m",
      "\u001b[1;31mTypeError\u001b[0m                                 Traceback (most recent call last)",
      "Cell \u001b[1;32mIn[6], line 6\u001b[0m\n\u001b[0;32m      1\u001b[0m \u001b[38;5;66;03m# 函数名也是变量\u001b[39;00m\n\u001b[0;32m      2\u001b[0m \u001b[38;5;66;03m# 函数名是什么呢？函数名其实就是指向函数的变量！\u001b[39;00m\n\u001b[0;32m      3\u001b[0m \u001b[38;5;66;03m# 对于abs()这个函数，完全可以把函数名abs看成变量，它指向一个可以计算绝对值的函数！\u001b[39;00m\n\u001b[0;32m      4\u001b[0m \u001b[38;5;66;03m# 如果把abs指向其他对象，会有什么情况发生？\u001b[39;00m\n\u001b[0;32m      5\u001b[0m \u001b[38;5;28mabs\u001b[39m \u001b[38;5;241m=\u001b[39m \u001b[38;5;241m10\u001b[39m\n\u001b[1;32m----> 6\u001b[0m \u001b[38;5;28;43mabs\u001b[39;49m\u001b[43m(\u001b[49m\u001b[38;5;241;43m-\u001b[39;49m\u001b[38;5;241;43m10\u001b[39;49m\u001b[43m)\u001b[49m\n",
      "\u001b[1;31mTypeError\u001b[0m: 'int' object is not callable"
     ]
    }
   ],
   "source": [
    "# 函数名也是变量\n",
    "# 函数名是什么呢？函数名其实就是指向函数的变量！\n",
    "# 对于abs()这个函数，完全可以把函数名abs看成变量，它指向一个可以计算绝对值的函数！\n",
    "# 如果把abs指向其他对象，会有什么情况发生？\n",
    "abs = 10\n",
    "abs(-10)"
   ]
  },
  {
   "cell_type": "code",
   "execution_count": 7,
   "metadata": {},
   "outputs": [],
   "source": [
    "# 把abs指向10后，就无法通过abs(-10)调用该函数了！因为abs这个变量已经不指向求绝对值函数而是指向一个整数10！\n",
    "# 当然实际代码绝对不能这么写，这里是为了说明函数名也是变量。要恢复abs函数，请重启Python交互环境。\n",
    "# 注：由于abs函数实际上是定义在import builtins模块中的，所以要让修改abs变量的指向在其它模块也生效，要用import builtins; builtins.abs = 10。"
   ]
  },
  {
   "cell_type": "code",
   "execution_count": null,
   "metadata": {},
   "outputs": [
    {
     "name": "stdout",
     "output_type": "stream",
     "text": [
      "11\n"
     ]
    }
   ],
   "source": [
    "# 传入函数\n",
    "# 既然变量可以指向函数，函数的参数能接收变量，那么一个函数就可以接收另一个函数作为参数，这种函数就称之为高阶函数。\n",
    "# 一个最简单的高阶函数：\n",
    "def add(x,y,f):\n",
    "    return f(x)+f(y)\n",
    "\n",
    "# 当我们调用add(-5, 6, abs)时，参数x，y和f分别接收-5，6和abs，根据函数定义，我们可以推导计算过程为：\n",
    "# x = -5\n",
    "# y = 6\n",
    "# f = abs\n",
    "# f(x) + f(y) ==> abs(-5) + abs(6) ==> 11\n",
    "# return 11\n",
    "\n",
    "print(add(-5,6,abs))\n",
    "# 编写高阶函数，就是让函数的参数能够接收别的函数。"
   ]
  },
  {
   "cell_type": "code",
   "execution_count": null,
   "metadata": {},
   "outputs": [
    {
     "name": "stdout",
     "output_type": "stream",
     "text": [
      "<class 'map'>\n",
      "[1, 4, 9, 16, 25, 36, 49, 64, 81]\n",
      "<map object at 0x000002D18C42E710>\n"
     ]
    }
   ],
   "source": [
    "# map/reduce Python内建了map()和reduce()函数。\n",
    "# 我们先看map。map()函数接收两个参数，一个是函数，一个是Iterable，\n",
    "# map将传入的函数依次作用到序列的每个元素，并把结果作为新的Iterator返回。\n",
    "# 举例说明，比如我们有一个函数f(x)=x2，要把这个函数作用在一个list [1, 2, 3, 4, 5, 6, 7, 8, 9]上，就可以用map()实现如下：\n",
    "def f(x):\n",
    "    return x * x\n",
    "\n",
    "r = map(f,[1,2,3,4,5,6,7,8,9])\n",
    "print(type(r))\n",
    "print(list(r))\n",
    "print(r)\n",
    "\n",
    "# map()传入的第一个参数是f，即函数对象本身。由于结果r是一个Iterator，\n",
    "# Iterator是惰性序列，因此通过list()函数让它把整个序列都计算出来并返回一个list。\n"
   ]
  },
  {
   "cell_type": "code",
   "execution_count": null,
   "metadata": {},
   "outputs": [
    {
     "name": "stdout",
     "output_type": "stream",
     "text": [
      "[1, 4, 9, 16, 25, 36, 49, 64, 81]\n"
     ]
    }
   ],
   "source": [
    "# 你可能会想，不需要map()函数，写一个循环，也可以计算出结果：\n",
    "L = []\n",
    "for n in [1,2,3,4,5,6,7,8,9]:\n",
    "    L.append(f(n))\n",
    "\n",
    "print(L)"
   ]
  },
  {
   "cell_type": "code",
   "execution_count": 4,
   "metadata": {},
   "outputs": [
    {
     "name": "stdout",
     "output_type": "stream",
     "text": [
      "['1', '2', '3', '4', '5', '6', '7', '8', '9']\n"
     ]
    }
   ],
   "source": [
    "# 的确可以，但是，从上面的循环代码，能一眼看明白“把f(x)作用在list的每一个元素并把结果生成一个新的list”吗？\n",
    "# 所以，map()作为高阶函数，事实上它把运算规则抽象了，\n",
    "# 因此，我们不但可以计算简单的f(x)=x2，还可以计算任意复杂的函数，比如，把这个list所有数字转为字符串：\n",
    "map1 = map(str,[1,2,3,4,5,6,7,8,9])\n",
    "print(list(map1))"
   ]
  },
  {
   "cell_type": "code",
   "execution_count": 5,
   "metadata": {},
   "outputs": [
    {
     "name": "stdout",
     "output_type": "stream",
     "text": [
      "25\n",
      "<class 'int'>\n"
     ]
    }
   ],
   "source": [
    "# 只需要一行代码。\n",
    "# 再看reduce的用法。reduce把一个函数作用在一个序列[x1, x2, x3, ...]上，\n",
    "# 这个函数必须接收两个参数，reduce把结果继续和序列的下一个元素做累积计算，其效果就是：\n",
    "\n",
    "# reduce(f, [x1, x2, x3, x4]) = f(f(f(x1, x2), x3), x4)\n",
    "\n",
    "# 比方说对一个序列求和，就可以用reduce实现：\n",
    "from functools import reduce\n",
    "def add(x,y):\n",
    "    return x + y\n",
    "\n",
    "reduce1 = reduce(add,[1,3,5,7,9])\n",
    "print(reduce1)\n",
    "print(type(reduce1))"
   ]
  },
  {
   "cell_type": "code",
   "execution_count": 7,
   "metadata": {},
   "outputs": [
    {
     "name": "stdout",
     "output_type": "stream",
     "text": [
      "13579\n"
     ]
    }
   ],
   "source": [
    "# 这个例子本身没多大用处，但是，如果考虑到字符串str也是一个序列，\n",
    "# 对上面的例子稍加改动，配合map()，我们就可以写出把str转换为int的函数：\n",
    "from functools import reduce\n",
    "def fn(x,y):\n",
    "    return x*10+y\n",
    "\n",
    "def char2num(s):\n",
    "    digits = {'0': 0, '1': 1, '2': 2, '3': 3, '4': 4, '5': 5, '6': 6, '7': 7, '8': 8, '9': 9}\n",
    "    return digits[s]\n",
    "\n",
    "ans1 = reduce(fn,map(char2num,'13579'))\n",
    "print(ans1)"
   ]
  },
  {
   "cell_type": "code",
   "execution_count": 8,
   "metadata": {},
   "outputs": [],
   "source": [
    "# 整理成一个str2int的函数就是：\n",
    "from functools import reduce\n",
    "\n",
    "DIGITS = {'0': 0, '1': 1, '2': 2, '3': 3, '4': 4, '5': 5, '6': 6, '7': 7, '8': 8, '9': 9}\n",
    "def str2int(s):\n",
    "    def fn(x,y):\n",
    "        return x * 10 + y\n",
    "    def char2num(s):\n",
    "        return DIGITS[s]\n",
    "    return reduce(fn,map(char2num,s))"
   ]
  },
  {
   "cell_type": "code",
   "execution_count": 9,
   "metadata": {},
   "outputs": [],
   "source": [
    "# 还可以用lambda函数进一步简化成：\n",
    "from functools import reduce\n",
    "\n",
    "DIGITS = {'0': 0, '1': 1, '2': 2, '3': 3, '4': 4, '5': 5, '6': 6, '7': 7, '8': 8, '9': 9}\n",
    "\n",
    "def char2num(s):\n",
    "    return DIGITS[s]\n",
    "\n",
    "def str2int(s):\n",
    "    return reduce(lambda x,y:x * 10 + 7,map(char2num,s))\n",
    "# lambda函数的用法在后面介绍。"
   ]
  },
  {
   "cell_type": "code",
   "execution_count": 32,
   "metadata": {},
   "outputs": [
    {
     "name": "stdout",
     "output_type": "stream",
     "text": [
      "['Adam', 'Lisa', 'Bart']\n"
     ]
    }
   ],
   "source": [
    "# 练习 利用map()函数，把用户输入的不规范的英文名字，变为首字母大写，其他小写的规范名字。输入：['adam', 'LISA', 'barT']，输出：['Adam', 'Lisa', 'Bart']：\n",
    "def normalize(name):\n",
    "    temp = name\n",
    "    name = temp[0].upper()+temp[1:].lower()\n",
    "    return name\n",
    "\n",
    "# 测试:\n",
    "L1 = ['adam', 'LISA', 'barT']\n",
    "L2 = list(map(normalize, L1))\n",
    "print(L2)"
   ]
  },
  {
   "cell_type": "code",
   "execution_count": 41,
   "metadata": {},
   "outputs": [
    {
     "name": "stdout",
     "output_type": "stream",
     "text": [
      "24\n",
      "3 * 5 * 7 * 9 = 945\n",
      "测试成功!\n"
     ]
    }
   ],
   "source": [
    "# Python提供的sum()函数可以接受一个list并求和，请编写一个prod()函数，可以接受一个list并利用reduce()求积：\n",
    "from functools import reduce\n",
    "\n",
    "def prod(L:list):\n",
    "    def multy(x,y):\n",
    "        return x * y\n",
    "    return reduce(multy,L)\n",
    "\n",
    "L1 = [1,2,3,4]\n",
    "print(prod(L1))\n",
    "\n",
    "print('3 * 5 * 7 * 9 =', prod([3, 5, 7, 9]))\n",
    "if prod([3, 5, 7, 9]) == 945:\n",
    "    print('测试成功!')\n",
    "else:\n",
    "    print('测试失败!')"
   ]
  },
  {
   "cell_type": "code",
   "execution_count": 55,
   "metadata": {},
   "outputs": [
    {
     "name": "stdout",
     "output_type": "stream",
     "text": [
      "123.456\n",
      "str2float('123.456') = 123.456\n",
      "测试成功!\n"
     ]
    }
   ],
   "source": [
    "# 利用map和reduce编写一个str2float函数，把字符串'123.456'转换成浮点数123.456：\n",
    "def char_to_int(c):\n",
    "    return ord(c)-ord('0')\n",
    "\n",
    "def str2float(s:str):\n",
    "    dot_index = s.find('.')\n",
    "\n",
    "    integer_part = s[:dot_index]\n",
    "    decimal_part = s[dot_index+1:]\n",
    "\n",
    "    def str2num(x,y):\n",
    "        return x * 10 + y\n",
    "    integer_value = reduce(str2num,map(char_to_int,integer_part))\n",
    "    decimal_value = reduce(str2num,map(char_to_int,decimal_part))\n",
    "\n",
    "    for n in range(dot_index):\n",
    "        decimal_value=decimal_value/10\n",
    "    \n",
    "    return integer_value+decimal_value\n",
    "\n",
    "test = '123.456'\n",
    "ans = str2float(test)\n",
    "print(ans)\n",
    "\n",
    "print('str2float(\\'123.456\\') =', str2float('123.456'))\n",
    "if abs(str2float('123.456') - 123.456) < 0.00001:\n",
    "    print('测试成功!')\n",
    "else:\n",
    "    print('测试失败!')"
   ]
  }
 ],
 "metadata": {
  "kernelspec": {
   "display_name": "homework",
   "language": "python",
   "name": "python3"
  },
  "language_info": {
   "codemirror_mode": {
    "name": "ipython",
    "version": 3
   },
   "file_extension": ".py",
   "mimetype": "text/x-python",
   "name": "python",
   "nbconvert_exporter": "python",
   "pygments_lexer": "ipython3",
   "version": "3.10.16"
  }
 },
 "nbformat": 4,
 "nbformat_minor": 2
}
