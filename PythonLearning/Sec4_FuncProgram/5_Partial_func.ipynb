{
 "cells": [
  {
   "cell_type": "code",
   "execution_count": null,
   "metadata": {},
   "outputs": [
    {
     "data": {
      "text/plain": [
       "123456789"
      ]
     },
     "execution_count": 1,
     "metadata": {},
     "output_type": "execute_result"
    }
   ],
   "source": [
    "# partial funcation 偏函数\n",
    "# Python的functools模块提供了很多有用的功能，其中一个就是偏函数（Partial function）。要注意，这里的偏函数和数学意义上的偏函数不一样。\n",
    "# 在介绍函数参数的时候，我们讲到，通过设定参数的默认值，可以降低函数调用的难度。而偏函数也可以做到这一点。举例如下：\n",
    "# int()函数可以把字符串转换为整数，当仅传入字符串时，int()函数默认按十进制转换：\n",
    "int('123456789')"
   ]
  },
  {
   "cell_type": "code",
   "execution_count": 5,
   "metadata": {},
   "outputs": [
    {
     "name": "stdout",
     "output_type": "stream",
     "text": [
      "5349\n",
      "74565\n",
      "189\n"
     ]
    }
   ],
   "source": [
    "# 但int()函数还提供额外的base参数，默认值为10。如果传入base参数，就可以做N进制的转换：\n",
    "print(int('12345',base=8))\n",
    "print(int('12345',base=16))\n",
    "print(int('10111101',base=2))"
   ]
  },
  {
   "cell_type": "code",
   "execution_count": 7,
   "metadata": {},
   "outputs": [
    {
     "name": "stdout",
     "output_type": "stream",
     "text": [
      "128\n"
     ]
    }
   ],
   "source": [
    "# 假设要转换大量的二进制字符串，每次都传入int(x, base=2)非常麻烦，\n",
    "# 于是，我们想到，可以定义一个int2()的函数，默认把base=2传进去：\n",
    "def int2(x,base = 2):\n",
    "    return int(x,2)\n",
    "\n",
    "print(int2('10000000'))"
   ]
  },
  {
   "cell_type": "code",
   "execution_count": 9,
   "metadata": {},
   "outputs": [
    {
     "data": {
      "text/plain": [
       "64"
      ]
     },
     "execution_count": 9,
     "metadata": {},
     "output_type": "execute_result"
    }
   ],
   "source": [
    "# functools.partial就是帮助我们创建一个偏函数的，不需要我们自己定义int2()，可以直接使用下面的代码创建一个新的函数int2：\n",
    "import functools\n",
    "int2 = functools.partial(int,base=2)\n",
    "\n",
    "int2('1000000')"
   ]
  },
  {
   "cell_type": "code",
   "execution_count": 10,
   "metadata": {},
   "outputs": [
    {
     "data": {
      "text/plain": [
       "10000000"
      ]
     },
     "execution_count": 10,
     "metadata": {},
     "output_type": "execute_result"
    }
   ],
   "source": [
    "# 所以，简单总结functools.partial的作用就是，\n",
    "# 把一个函数的某些参数给固定住（也就是设置默认值），返回一个新的函数，调用这个新函数会更简单。\n",
    "# 注意到上面的新的int2函数，仅仅是把base参数重新设定默认值为2，但也可以在函数调用时传入其他值：\n",
    "int2('10000000',base=10)"
   ]
  },
  {
   "cell_type": "code",
   "execution_count": 11,
   "metadata": {},
   "outputs": [
    {
     "data": {
      "text/plain": [
       "18"
      ]
     },
     "execution_count": 11,
     "metadata": {},
     "output_type": "execute_result"
    }
   ],
   "source": [
    "# 最后，创建偏函数时，实际上可以接收函数对象、*args和**kw这3个参数，当传入：\n",
    "int2 = functools.partial(int,base=2)\n",
    "# 实际上固定了int()函数的关键字参数base，也就是：\n",
    "int2('10010')\n",
    "kw = { 'base': 2 }\n",
    "int('10010', **kw)"
   ]
  },
  {
   "cell_type": "code",
   "execution_count": 14,
   "metadata": {},
   "outputs": [
    {
     "data": {
      "text/plain": [
       "32"
      ]
     },
     "execution_count": 14,
     "metadata": {},
     "output_type": "execute_result"
    }
   ],
   "source": [
    "args = ('100000',2)\n",
    "int(*args)"
   ]
  },
  {
   "cell_type": "code",
   "execution_count": null,
   "metadata": {},
   "outputs": [],
   "source": [
    "# 当传入：\n",
    "max2 = functools.partial(max, 10)\n",
    "# functools.partial 用于固定部分参数，从而简化函数调用。\n",
    "# 在你的例子中，functools.partial(max, 10) 创建了一个新的函数 max2，它将 10 作为第一个参数传递给 max 函数。\n",
    "# 其余参数在调用 max2 时动态传递。\n",
    "# 实际上会把10作为*args的一部分自动加到左边，也就是：\n",
    "max2(5, 6, 7)\n",
    "# 相当于\n",
    "args = (10, 5, 6, 7)\n",
    "max(*args)"
   ]
  }
 ],
 "metadata": {
  "kernelspec": {
   "display_name": "homework",
   "language": "python",
   "name": "python3"
  },
  "language_info": {
   "codemirror_mode": {
    "name": "ipython",
    "version": 3
   },
   "file_extension": ".py",
   "mimetype": "text/x-python",
   "name": "python",
   "nbconvert_exporter": "python",
   "pygments_lexer": "ipython3",
   "version": "3.10.16"
  }
 },
 "nbformat": 4,
 "nbformat_minor": 2
}
