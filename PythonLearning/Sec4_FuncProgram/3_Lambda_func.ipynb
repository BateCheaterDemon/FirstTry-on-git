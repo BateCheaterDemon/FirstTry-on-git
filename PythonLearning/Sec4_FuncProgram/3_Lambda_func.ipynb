{
 "cells": [
  {
   "cell_type": "code",
   "execution_count": null,
   "metadata": {},
   "outputs": [
    {
     "data": {
      "text/plain": [
       "[1, 4, 9, 16, 25, 36, 49, 64, 81]"
      ]
     },
     "execution_count": 1,
     "metadata": {},
     "output_type": "execute_result"
    }
   ],
   "source": [
    "# lambda函数 匿名函数\n",
    "# 当我们在传入函数时，有些时候，不需要显式地定义函数，直接传入匿名函数更方便。\n",
    "# 在Python中，对匿名函数提供了有限支持。\n",
    "# 还是以map()函数为例，计算f(x)=x2时，除了定义一个f(x)的函数外，还可以直接传入匿名函数：\n",
    "list(map(lambda x:x*x,[1,2,3,4,5,6,7,8,9]))\n",
    "\n",
    "# 通过对比可以看出，匿名函数lambda x: x * x实际上就是：\n",
    "def f(x):\n",
    "    return x * x"
   ]
  },
  {
   "cell_type": "code",
   "execution_count": 2,
   "metadata": {},
   "outputs": [
    {
     "name": "stdout",
     "output_type": "stream",
     "text": [
      "<function <lambda> at 0x000001FE94592170>\n",
      "25\n"
     ]
    }
   ],
   "source": [
    "# 关键字lambda表示匿名函数，冒号前面的x表示函数参数。\n",
    "# 匿名函数有个限制，就是只能有一个表达式，不用写return，返回值就是该表达式的结果。\n",
    "# 用匿名函数有个好处，因为函数没有名字，不必担心函数名冲突。\n",
    "# 此外，匿名函数也是一个函数对象，也可以把匿名函数赋值给一个变量，再利用变量来调用该函数：\n",
    "f = lambda x:x*x\n",
    "print(f)\n",
    "print(f(5))"
   ]
  },
  {
   "cell_type": "code",
   "execution_count": 5,
   "metadata": {},
   "outputs": [
    {
     "name": "stdout",
     "output_type": "stream",
     "text": [
      "<function build.<locals>.<lambda> at 0x000001FE94592320>\n",
      "125\n"
     ]
    }
   ],
   "source": [
    "# 同样，也可以把匿名函数作为返回值返回，比如：\n",
    "def build(x,y):\n",
    "    return lambda:x*x+y*y\n",
    "\n",
    "f = build(5,10)\n",
    "print(f)\n",
    "print(f())"
   ]
  },
  {
   "cell_type": "code",
   "execution_count": 8,
   "metadata": {},
   "outputs": [
    {
     "name": "stdout",
     "output_type": "stream",
     "text": [
      "[1, 3, 5, 7, 9, 11, 13, 15, 17, 19]\n"
     ]
    }
   ],
   "source": [
    "# 练习\n",
    "# 请用匿名函数改造下面的代码：\n",
    "\n",
    "L=list(filter(lambda x:x%2>0, range(1, 20)))\n",
    "print(L)"
   ]
  }
 ],
 "metadata": {
  "kernelspec": {
   "display_name": "homework",
   "language": "python",
   "name": "python3"
  },
  "language_info": {
   "codemirror_mode": {
    "name": "ipython",
    "version": 3
   },
   "file_extension": ".py",
   "mimetype": "text/x-python",
   "name": "python",
   "nbconvert_exporter": "python",
   "pygments_lexer": "ipython3",
   "version": "3.10.16"
  }
 },
 "nbformat": 4,
 "nbformat_minor": 2
}
