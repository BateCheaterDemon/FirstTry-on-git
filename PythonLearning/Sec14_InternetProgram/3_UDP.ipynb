{
 "cells": [
  {
   "cell_type": "code",
   "execution_count": null,
   "id": "6292eb27",
   "metadata": {},
   "outputs": [],
   "source": [
    "# UDP编程\n",
    "# TCP是建立可靠连接，并且通信双方都可以以流的形式发送数据。相对TCP，UDP则是面向无连接的协议。\n",
    "# 使用UDP协议时，不需要建立连接，只需要知道对方的IP地址和端口号，就可以直接发数据包。\n",
    "# 但是，能不能到达就不知道了。\n",
    "# 虽然用UDP传输数据不可靠，但它的优点是和TCP比，速度快，对于不要求可靠到达的数据，就可以使用UDP协议。\n",
    "# 我们来看看如何通过UDP协议传输数据。和TCP类似，使用UDP的通信双方也分为客户端和服务器。服务器首先需要绑定端口：\n",
    "\n",
    "import socket\n",
    "s = socket.socket(socket.AF_INET, socket.SOCK_DGRAM)\n",
    "# 绑定端口:\n",
    "s.bind(('127.0.0.1', 9999))"
   ]
  },
  {
   "cell_type": "code",
   "execution_count": null,
   "id": "92574b21",
   "metadata": {},
   "outputs": [],
   "source": [
    "# 创建Socket时，SOCK_DGRAM指定了这个Socket的类型是UDP。绑定端口和TCP一样，但是不需要调用listen()方法，而是直接接收来自任何客户端的数据：\n",
    "\n",
    "print('Bind UDP on 9999...')\n",
    "while True:\n",
    "    # 接收数据:\n",
    "    data, addr = s.recvfrom(1024)\n",
    "    print('Received from %s:%s.' % addr)\n",
    "    s.sendto(b'Hello, %s!' % data, addr)"
   ]
  },
  {
   "cell_type": "code",
   "execution_count": null,
   "id": "605125bc",
   "metadata": {},
   "outputs": [],
   "source": [
    "# recvfrom()方法返回数据和客户端的地址与端口，\n",
    "# 这样，服务器收到数据后，直接调用sendto()就可以把数据用UDP发给客户端。\n",
    "# 注意这里省掉了多线程，因为这个例子很简单。\n",
    "# 客户端使用UDP时，首先仍然创建基于UDP的Socket，\n",
    "# 然后，不需要调用connect()，直接通过sendto()给服务器发数据：\n",
    "\n",
    "s = socket.socket(socket.AF_INET, socket.SOCK_DGRAM)\n",
    "for data in [b'Michael', b'Tracy', b'Sarah']:\n",
    "    # 发送数据:\n",
    "    s.sendto(data, ('127.0.0.1', 9999))\n",
    "    # 接收数据:\n",
    "    print(s.recv(1024).decode('utf-8'))\n",
    "s.close()"
   ]
  },
  {
   "cell_type": "code",
   "execution_count": null,
   "id": "1098bcb2",
   "metadata": {},
   "outputs": [],
   "source": [
    "# UDP的使用与TCP类似，但是不需要建立连接。\n",
    "# 此外，服务器绑定UDP端口和TCP端口互不冲突，也就是说，UDP的9999端口与TCP的9999端口可以各自绑定。"
   ]
  }
 ],
 "metadata": {
  "kernelspec": {
   "display_name": "personal",
   "language": "python",
   "name": "python3"
  },
  "language_info": {
   "codemirror_mode": {
    "name": "ipython",
    "version": 3
   },
   "file_extension": ".py",
   "mimetype": "text/x-python",
   "name": "python",
   "nbconvert_exporter": "python",
   "pygments_lexer": "ipython3",
   "version": "3.10.18"
  }
 },
 "nbformat": 4,
 "nbformat_minor": 5
}
