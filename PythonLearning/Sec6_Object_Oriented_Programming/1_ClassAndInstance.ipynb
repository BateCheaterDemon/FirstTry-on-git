{
 "cells": [
  {
   "cell_type": "code",
   "execution_count": 4,
   "metadata": {},
   "outputs": [
    {
     "data": {
      "text/plain": [
       "<__main__.Student at 0x157251a3b20>"
      ]
     },
     "execution_count": 4,
     "metadata": {},
     "output_type": "execute_result"
    }
   ],
   "source": [
    "# 面向对象最重要的概念就是类（Class）和实例（Instance），\n",
    "# 必须牢记类是抽象的模板，比如Student类，\n",
    "# 而实例是根据类创建出来的一个个具体的“对象”，每个对象都拥有相同的方法，但各自的数据可能不同。\n",
    "# 仍以Student类为例，在Python中，定义类是通过class关键字：\n",
    "\n",
    "# 在 Python 中，object 是一个非常基础且特殊的类，它是所有类的基类。\n",
    "# 换句话说，所有类（包括内置类型和用户自定义类）都直接或间接继承自 object 类。\n",
    "\n",
    "class Student(object):\n",
    "    pass\n",
    "\n",
    "# class后面紧接着是类名，即Student，类名通常是大写开头的单词，紧接着是(object)，表示该类是从哪个类继承下来的，\n",
    "# 继承的概念我们后面再讲，通常，如果没有合适的继承类，就使用object类，这是所有类最终都会继承的类。\n",
    "# 定义好了Student类，就可以根据Student类创建出Student的实例，创建实例是通过类名+()实现的：\n",
    "\n",
    "bart = Student()\n",
    "bart"
   ]
  },
  {
   "cell_type": "code",
   "execution_count": 3,
   "metadata": {},
   "outputs": [
    {
     "data": {
      "text/plain": [
       "__main__.Student"
      ]
     },
     "execution_count": 3,
     "metadata": {},
     "output_type": "execute_result"
    }
   ],
   "source": [
    "Student"
   ]
  },
  {
   "cell_type": "code",
   "execution_count": 5,
   "metadata": {},
   "outputs": [
    {
     "name": "stdout",
     "output_type": "stream",
     "text": [
      "<__main__.Student object at 0x00000157251A3B20>\n",
      "<__main__.Student object at 0x00000157251A1180>\n"
     ]
    }
   ],
   "source": [
    "bart2 = Student()\n",
    "print(bart)\n",
    "print(bart2)"
   ]
  },
  {
   "cell_type": "code",
   "execution_count": 6,
   "metadata": {},
   "outputs": [
    {
     "name": "stdout",
     "output_type": "stream",
     "text": [
      "Bart Simpson\n"
     ]
    }
   ],
   "source": [
    "# 可以看到，变量bart指向的就是一个Student的实例，后面的0x10a67a590是内存地址，每个object的地址都不一样，而Student本身则是一个类。\n",
    "# 可以自由地给一个实例变量绑定属性，比如，给实例bart绑定一个name属性：\n",
    "bart.name = 'Bart Simpson'\n",
    "print(bart.name)"
   ]
  },
  {
   "cell_type": "code",
   "execution_count": 4,
   "metadata": {},
   "outputs": [
    {
     "name": "stdout",
     "output_type": "stream",
     "text": [
      "Quwenxi\n",
      "3.0\n"
     ]
    }
   ],
   "source": [
    "# 由于类可以起到模板的作用，因此，可以在创建实例的时候，把一些我们认为必须绑定的属性强制填写进去。\n",
    "# 通过定义一个特殊的__init__方法，在创建实例的时候，就把name，score等属性绑上去：\n",
    "# 特殊方法__init__前后分别有两个下划线！！！\n",
    "class Student():\n",
    "    def __init__(self,name,score):\n",
    "        self.name = name\n",
    "        self.score = score\n",
    "\n",
    "bart = Student('Quwenxi',3.0)\n",
    "print(bart.name)\n",
    "print(bart.score)\n",
    "\n",
    "# 和普通的函数相比，在类中定义的函数只有一点不同，就是第一个参数永远是实例变量self，\n",
    "# 并且，调用时，不用传递该参数。除此之外，类的方法和普通函数没有什么区别，\n",
    "# 所以，你仍然可以用默认参数、可变参数、关键字参数和命名关键字参数。"
   ]
  },
  {
   "cell_type": "code",
   "execution_count": null,
   "metadata": {},
   "outputs": [
    {
     "name": "stdout",
     "output_type": "stream",
     "text": [
      "Quwenxi : 3.0\n"
     ]
    }
   ],
   "source": [
    "# 数据封装\n",
    "# 面向对象编程的一个重要特点就是数据封装。在上面的Student类中，每个实例就拥有各自的name和score这些数据。\n",
    "# 我们可以通过函数来访问这些数据，比如打印一个学生的成绩：\n",
    "bart = Student('Quwenxi',3.0)\n",
    "def print_score(std):\n",
    "    print('%s : %s' % (std.name,std.score))\n",
    "\n",
    "print_score(bart)"
   ]
  },
  {
   "cell_type": "code",
   "execution_count": null,
   "metadata": {},
   "outputs": [
    {
     "name": "stdout",
     "output_type": "stream",
     "text": [
      "Quwenxi : 100\n"
     ]
    }
   ],
   "source": [
    "# 但是，既然Student实例本身就拥有这些数据，要访问这些数据，就没有必要从外面的函数去访问，\n",
    "# 可以直接在Student类的内部定义访问数据的函数，这样，就把“数据”给封装起来了。\n",
    "# 这些封装数据的函数是和Student类本身是关联起来的，我们称之为类的方法：\n",
    "\n",
    "class Student():\n",
    "    def __init__(self,name,score):\n",
    "        self.name = name\n",
    "        self.score = score\n",
    "\n",
    "    def print_score(self):\n",
    "        print('%s : %s' % (self.name,self.score))\n",
    "\n",
    "# 要定义一个方法，除了第一个参数是self外，其他和普通函数一样。要调用一个方法，只需要在实例变量上直接调用，除了self不用传递，其他参数正常传入：\n",
    "bart = Student('Quwenxi',100)\n",
    "bart.print_score()\n"
   ]
  },
  {
   "cell_type": "code",
   "execution_count": 8,
   "metadata": {},
   "outputs": [
    {
     "name": "stdout",
     "output_type": "stream",
     "text": [
      "Lisa A\n",
      "Bart C\n"
     ]
    }
   ],
   "source": [
    "# 这样一来，我们从外部看Student类，就只需要知道，创建实例需要给出name和score，\n",
    "# 而如何打印，都是在Student类的内部定义的，这些数据和逻辑被“封装”起来了，调用很容易，但却不用知道内部实现的细节。\n",
    "# 封装的另一个好处是可以给Student类增加新的方法，比如get_grade：\n",
    "\n",
    "class Student():\n",
    "    def __init__(self,name,score):\n",
    "        self.name = name\n",
    "        self.score = score\n",
    "\n",
    "    def print_score(self):\n",
    "        print('%s : %s' % (self.name,self.score))\n",
    "\n",
    "    def get_grade(self):\n",
    "        if self.score >= 90:\n",
    "            return 'A'\n",
    "        elif self.score >=60:\n",
    "            return 'B'\n",
    "        else:\n",
    "            return 'C'\n",
    "        \n",
    "# 同样的，get_grade方法可以直接在实例变量上调用，不需要知道内部实现细节：\n",
    "lisa = Student('Lisa', 99)\n",
    "bart = Student('Bart', 59)\n",
    "print(lisa.name, lisa.get_grade())\n",
    "print(bart.name, bart.get_grade())\n"
   ]
  },
  {
   "cell_type": "code",
   "execution_count": null,
   "metadata": {},
   "outputs": [
    {
     "name": "stdout",
     "output_type": "stream",
     "text": [
      "craete successfully!\n"
     ]
    },
    {
     "data": {
      "text/plain": [
       "'\\nlisa.print_init() 逻辑是实例对象使用方法会将自己作为一个参数传入，所以需要类方法设置一个参数\\nStudent.print_init() 则只是调用方法，具体传入什么参数需要看对应类方法的参数需要什么\\n\\n本质上：\\n'"
      ]
     },
     "execution_count": 18,
     "metadata": {},
     "output_type": "execute_result"
    }
   ],
   "source": [
    "class Student():\n",
    "    def __init__(self,name,score):\n",
    "        self.name = name\n",
    "        self.score = score\n",
    "\n",
    "    def print_init(self): #这里由于使用类方法会将self作为第一个参数传入，所以类方法还是需要一个参数，一般这个参数默认是self，但是别的也行\n",
    "        print(\"craete successfully!\")\n",
    "\n",
    "lisa = Student('Lisa', 99)\n",
    "lisa.print_init()\n",
    "\n",
    "'''\n",
    "lisa.print_init() 逻辑是实例对象使用方法会将自己作为一个参数传入，所以需要类方法设置一个参数\n",
    "Student.print_init() 则只是调用方法，具体传入什么参数需要看对应类方法的参数需要什么\n",
    "\n",
    "本质上：\n",
    "lisa.print_init() = Student.print_init(lisa)\n",
    "'''"
   ]
  },
  {
   "cell_type": "code",
   "execution_count": 19,
   "metadata": {},
   "outputs": [
    {
     "name": "stdout",
     "output_type": "stream",
     "text": [
      "craete successfully!\n"
     ]
    }
   ],
   "source": [
    "class Student():\n",
    "    def __init__(self,name,score):\n",
    "        self.name = name\n",
    "        self.score = score\n",
    "\n",
    "    def print_init(): #这里由于使用类方法会将self作为第一个参数传入，所以类方法还是需要一个参数，一般这个参数默认是self，但是别的也行\n",
    "        print(\"craete successfully!\")\n",
    "\n",
    "Student.print_init()"
   ]
  },
  {
   "cell_type": "code",
   "execution_count": 20,
   "metadata": {},
   "outputs": [
    {
     "name": "stdout",
     "output_type": "stream",
     "text": [
      "craete successfully!\n"
     ]
    }
   ],
   "source": [
    "class Student():\n",
    "    def __init__(self,name,score):\n",
    "        self.name = name\n",
    "        self.score = score\n",
    "\n",
    "    def print_init(self): #这里由于使用类方法会将self作为第一个参数传入，所以类方法还是需要一个参数，一般这个参数默认是self，但是别的也行\n",
    "        print(\"craete successfully!\")\n",
    "\n",
    "lisa = Student('Lisa', 99)\n",
    "Student.print_init(lisa)"
   ]
  },
  {
   "cell_type": "code",
   "execution_count": 22,
   "metadata": {},
   "outputs": [
    {
     "name": "stdout",
     "output_type": "stream",
     "text": [
      "bart age: 8\n"
     ]
    },
    {
     "ename": "AttributeError",
     "evalue": "'Student' object has no attribute 'age'",
     "output_type": "error",
     "traceback": [
      "\u001b[1;31m---------------------------------------------------------------------------\u001b[0m",
      "\u001b[1;31mAttributeError\u001b[0m                            Traceback (most recent call last)",
      "Cell \u001b[1;32mIn[22], line 11\u001b[0m\n\u001b[0;32m      8\u001b[0m bart\u001b[38;5;241m.\u001b[39mage \u001b[38;5;241m=\u001b[39m \u001b[38;5;241m8\u001b[39m\n\u001b[0;32m      9\u001b[0m \u001b[38;5;28mprint\u001b[39m(\u001b[38;5;124m\"\u001b[39m\u001b[38;5;124mbart age:\u001b[39m\u001b[38;5;124m\"\u001b[39m,bart\u001b[38;5;241m.\u001b[39mage)\n\u001b[1;32m---> 11\u001b[0m \u001b[38;5;28mprint\u001b[39m(\u001b[43mlisa\u001b[49m\u001b[38;5;241;43m.\u001b[39;49m\u001b[43mage\u001b[49m)\n",
      "\u001b[1;31mAttributeError\u001b[0m: 'Student' object has no attribute 'age'"
     ]
    }
   ],
   "source": [
    "# 类是创建实例的模板，而实例则是一个一个具体的对象，各个实例拥有的数据都互相独立，互不影响；\n",
    "# 方法就是与实例绑定的函数，和普通函数不同，方法可以直接访问实例的数据；\n",
    "# 通过在实例上调用方法，我们就直接操作了对象内部的数据，但无需知道方法内部的实现细节。\n",
    "# 和静态语言不同，Python允许对实例变量绑定任何数据，也就是说，对于两个实例变量，虽然它们都是同一个类的不同实例，但拥有的变量名称都可能不同：\n",
    "bart = Student('Bart Simpson',59)\n",
    "lisa = Student('Lisa Simpson', 87)\n",
    "\n",
    "bart.age = 8\n",
    "print(\"bart age:\",bart.age)\n",
    "\n",
    "print(lisa.age)"
   ]
  }
 ],
 "metadata": {
  "kernelspec": {
   "display_name": "homework",
   "language": "python",
   "name": "python3"
  },
  "language_info": {
   "codemirror_mode": {
    "name": "ipython",
    "version": 3
   },
   "file_extension": ".py",
   "mimetype": "text/x-python",
   "name": "python",
   "nbconvert_exporter": "python",
   "pygments_lexer": "ipython3",
   "version": "3.10.16"
  }
 },
 "nbformat": 4,
 "nbformat_minor": 2
}
