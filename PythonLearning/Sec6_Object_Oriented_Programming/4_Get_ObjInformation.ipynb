{
 "cells": [
  {
   "cell_type": "code",
   "execution_count": null,
   "metadata": {},
   "outputs": [
    {
     "name": "stdout",
     "output_type": "stream",
     "text": [
      "<class 'int'>\n",
      "<class 'str'>\n",
      "<class 'NoneType'>\n"
     ]
    }
   ],
   "source": [
    "# 获得对象信息\n",
    "# 当我们拿到一个对象的引用时，如何知道这个对象是什么类型、有哪些方法呢？\n",
    "\n",
    "# 使用type():返回class类型\n",
    "# 首先，我们来判断对象类型，使用type()函数：\n",
    "# 基本类型都可以用type()判断：\n",
    "print(type(123))\n",
    "print(type('str'))\n",
    "print(type(None))"
   ]
  },
  {
   "cell_type": "code",
   "execution_count": 3,
   "metadata": {},
   "outputs": [
    {
     "name": "stdout",
     "output_type": "stream",
     "text": [
      "<class 'builtin_function_or_method'>\n",
      "<class '__main__.Animal'>\n"
     ]
    }
   ],
   "source": [
    "# 如果一个变量指向函数或者类，也可以用type()判断：\n",
    "class Animal():\n",
    "    def run(self):\n",
    "        print('Animal is running!')\n",
    "\n",
    "a = Animal()\n",
    "\n",
    "print(type(abs))\n",
    "print(type(a))"
   ]
  },
  {
   "cell_type": "code",
   "execution_count": 4,
   "metadata": {},
   "outputs": [
    {
     "name": "stdout",
     "output_type": "stream",
     "text": [
      "True\n",
      "True\n",
      "True\n",
      "True\n",
      "False\n"
     ]
    }
   ],
   "source": [
    "# 但是type()函数返回的是什么类型呢？它返回对应的Class类型。如果我们要在if语句中判断，就需要比较两个变量的type类型是否相同：\n",
    "print(type(123)==type(456))\n",
    "print(type(123)==int)\n",
    "print(type('abc')==type('123'))\n",
    "print(type('abc')==str)\n",
    "print(type('abc')==type(123))"
   ]
  },
  {
   "cell_type": "code",
   "execution_count": 5,
   "metadata": {},
   "outputs": [
    {
     "name": "stdout",
     "output_type": "stream",
     "text": [
      "True\n",
      "True\n",
      "True\n",
      "True\n"
     ]
    }
   ],
   "source": [
    "# 判断基本数据类型可以直接写int，str等，但如果要判断一个对象是否是函数怎么办？可以使用types模块中定义的常量：\n",
    "import types\n",
    "def fn():\n",
    "    pass\n",
    "\n",
    "print(type(fn)==types.FunctionType) \n",
    "print(type(abs)==types.BuiltinFunctionType) # 内置函数的对象类型\n",
    "print(type(lambda x: x)==types.LambdaType)\n",
    "print(type((x for x in range(10)))==types.GeneratorType)"
   ]
  },
  {
   "cell_type": "code",
   "execution_count": 12,
   "metadata": {},
   "outputs": [
    {
     "name": "stdout",
     "output_type": "stream",
     "text": [
      "True\n",
      "True\n",
      "True\n",
      "False\n"
     ]
    }
   ],
   "source": [
    "# 使用isinstance()\n",
    "# 对于class的继承关系来说，使用type()就很不方便。我们要判断class的类型，可以使用isinstance()函数。\n",
    "# 我们回顾上次的例子，如果继承关系是：\n",
    "# object -> Animal -> Dog -> Husky\n",
    "\n",
    "class Animal():\n",
    "    def run(self):\n",
    "        print('Animal is running')\n",
    "\n",
    "# 当我们需要编写Dog和Cat类时，就可以直接从Animal类继承：\n",
    "class Dog(Animal):\n",
    "    pass\n",
    "\n",
    "class Husky(Dog):\n",
    "    pass\n",
    "\n",
    "a = Animal()\n",
    "d = Dog()\n",
    "h = Husky()\n",
    "\n",
    "# h虽然自身是Husky类型，但由于Husky是从Dog继承下来的，所以，h也还是Dog类型。\n",
    "# 换句话说，isinstance()判断的是一个对象是否是该类型本身，或者位于该类型的父继承链上。\n",
    "# 因此，我们可以确信，h还是Animal类型：\n",
    "print(isinstance(h, Husky))\n",
    "print(isinstance(h, Dog))\n",
    "print(isinstance(h, Animal))\n",
    "\n",
    "# 但是，d不是Husky类型：\n",
    "print(isinstance(d,Husky))"
   ]
  },
  {
   "cell_type": "code",
   "execution_count": null,
   "metadata": {},
   "outputs": [
    {
     "data": {
      "text/plain": [
       "True"
      ]
     },
     "execution_count": 13,
     "metadata": {},
     "output_type": "execute_result"
    }
   ],
   "source": [
    "# 能用type()判断的基本类型也可以用isinstance()判断：\n",
    "isinstance('a', str)\n",
    "# 总是优先使用isinstance()判断类型，可以将指定类型及其子类“一网打尽”。"
   ]
  },
  {
   "cell_type": "code",
   "execution_count": null,
   "metadata": {},
   "outputs": [
    {
     "data": {
      "text/plain": [
       "['__add__',\n",
       " '__class__',\n",
       " '__contains__',\n",
       " '__delattr__',\n",
       " '__dir__',\n",
       " '__doc__',\n",
       " '__eq__',\n",
       " '__format__',\n",
       " '__ge__',\n",
       " '__getattribute__',\n",
       " '__getitem__',\n",
       " '__getnewargs__',\n",
       " '__gt__',\n",
       " '__hash__',\n",
       " '__init__',\n",
       " '__init_subclass__',\n",
       " '__iter__',\n",
       " '__le__',\n",
       " '__len__',\n",
       " '__lt__',\n",
       " '__mod__',\n",
       " '__mul__',\n",
       " '__ne__',\n",
       " '__new__',\n",
       " '__reduce__',\n",
       " '__reduce_ex__',\n",
       " '__repr__',\n",
       " '__rmod__',\n",
       " '__rmul__',\n",
       " '__setattr__',\n",
       " '__sizeof__',\n",
       " '__str__',\n",
       " '__subclasshook__',\n",
       " 'capitalize',\n",
       " 'casefold',\n",
       " 'center',\n",
       " 'count',\n",
       " 'encode',\n",
       " 'endswith',\n",
       " 'expandtabs',\n",
       " 'find',\n",
       " 'format',\n",
       " 'format_map',\n",
       " 'index',\n",
       " 'isalnum',\n",
       " 'isalpha',\n",
       " 'isascii',\n",
       " 'isdecimal',\n",
       " 'isdigit',\n",
       " 'isidentifier',\n",
       " 'islower',\n",
       " 'isnumeric',\n",
       " 'isprintable',\n",
       " 'isspace',\n",
       " 'istitle',\n",
       " 'isupper',\n",
       " 'join',\n",
       " 'ljust',\n",
       " 'lower',\n",
       " 'lstrip',\n",
       " 'maketrans',\n",
       " 'partition',\n",
       " 'removeprefix',\n",
       " 'removesuffix',\n",
       " 'replace',\n",
       " 'rfind',\n",
       " 'rindex',\n",
       " 'rjust',\n",
       " 'rpartition',\n",
       " 'rsplit',\n",
       " 'rstrip',\n",
       " 'split',\n",
       " 'splitlines',\n",
       " 'startswith',\n",
       " 'strip',\n",
       " 'swapcase',\n",
       " 'title',\n",
       " 'translate',\n",
       " 'upper',\n",
       " 'zfill']"
      ]
     },
     "execution_count": 14,
     "metadata": {},
     "output_type": "execute_result"
    }
   ],
   "source": [
    "# 使用dir()\n",
    "# 如果要获得一个对象的所有属性和方法，可以使用dir()函数，它返回一个包含字符串的list，比如，获得一个str对象的所有属性和方法：\n",
    "dir('ABC')"
   ]
  },
  {
   "cell_type": "code",
   "execution_count": 15,
   "metadata": {},
   "outputs": [
    {
     "data": {
      "text/plain": [
       "3"
      ]
     },
     "execution_count": 15,
     "metadata": {},
     "output_type": "execute_result"
    }
   ],
   "source": [
    "# 类似__xxx__的属性和方法在Python中都是有特殊用途的，比如__len__方法返回长度。\n",
    "# 在Python中，如果你调用len()函数试图获取一个对象的长度，\n",
    "# 实际上，在len()函数内部，它自动去调用该对象的__len__()方法，所以，下面的代码是等价的：\n",
    "len('ABC')"
   ]
  },
  {
   "cell_type": "code",
   "execution_count": 16,
   "metadata": {},
   "outputs": [
    {
     "data": {
      "text/plain": [
       "3"
      ]
     },
     "execution_count": 16,
     "metadata": {},
     "output_type": "execute_result"
    }
   ],
   "source": [
    "'ABC'.__len__()"
   ]
  },
  {
   "cell_type": "code",
   "execution_count": 17,
   "metadata": {},
   "outputs": [
    {
     "data": {
      "text/plain": [
       "100"
      ]
     },
     "execution_count": 17,
     "metadata": {},
     "output_type": "execute_result"
    }
   ],
   "source": [
    "# 我们自己写的类，如果也想用len(myObj)的话，就自己写一个__len__()方法：\n",
    "class MyDog():\n",
    "    def __len__(self):\n",
    "        return 100\n",
    "    \n",
    "dog = MyDog()\n",
    "len(dog)"
   ]
  },
  {
   "cell_type": "code",
   "execution_count": 18,
   "metadata": {},
   "outputs": [
    {
     "data": {
      "text/plain": [
       "'abc'"
      ]
     },
     "execution_count": 18,
     "metadata": {},
     "output_type": "execute_result"
    }
   ],
   "source": [
    "# 剩下的都是普通属性或方法，比如lower()返回小写的字符串：\n",
    "'ABC'.lower()"
   ]
  },
  {
   "cell_type": "code",
   "execution_count": 11,
   "metadata": {},
   "outputs": [
    {
     "name": "stdout",
     "output_type": "stream",
     "text": [
      "True\n",
      "9\n",
      "True\n",
      "True\n",
      "19\n"
     ]
    },
    {
     "data": {
      "text/plain": [
       "19"
      ]
     },
     "execution_count": 11,
     "metadata": {},
     "output_type": "execute_result"
    }
   ],
   "source": [
    "# 仅仅把属性和方法列出来是不够的，配合getattr()、setattr()以及hasattr()，我们可以直接操作一个对象的状态：\n",
    "class MyObject(object):\n",
    "     def __init__(self):\n",
    "         self.x = 9\n",
    "         self.y = 10\n",
    "     def power(self):\n",
    "         return self.x * self.x\n",
    "     \n",
    "obj = MyObject()\n",
    "# 紧接着，可以测试该对象的属性：\n",
    "print(hasattr(obj, 'x')) # 有属性'x'吗？\n",
    "print(obj.x)\n",
    "print(hasattr(obj, 'y')) # 有属性'y'吗？)\n",
    "\n",
    "setattr(obj, 'y', 19) # 设置一个属性'y'\n",
    "print(hasattr(obj, 'y')) # 有属性'y'吗？)\n",
    "\n",
    "print(getattr(obj, 'y')) # 获取属性'y'\n",
    "obj.y # 获取属性'y'"
   ]
  },
  {
   "cell_type": "code",
   "execution_count": 3,
   "metadata": {},
   "outputs": [
    {
     "ename": "AttributeError",
     "evalue": "'MyObject' object has no attribute 'z'",
     "output_type": "error",
     "traceback": [
      "\u001b[1;31m---------------------------------------------------------------------------\u001b[0m",
      "\u001b[1;31mAttributeError\u001b[0m                            Traceback (most recent call last)",
      "Cell \u001b[1;32mIn[3], line 2\u001b[0m\n\u001b[0;32m      1\u001b[0m \u001b[38;5;66;03m# 如果试图获取不存在的属性，会抛出AttributeError的错误：\u001b[39;00m\n\u001b[1;32m----> 2\u001b[0m \u001b[38;5;28;43mgetattr\u001b[39;49m\u001b[43m(\u001b[49m\u001b[43mobj\u001b[49m\u001b[43m,\u001b[49m\u001b[43m \u001b[49m\u001b[38;5;124;43m'\u001b[39;49m\u001b[38;5;124;43mz\u001b[39;49m\u001b[38;5;124;43m'\u001b[39;49m\u001b[43m)\u001b[49m \u001b[38;5;66;03m# 获取属性'z'\u001b[39;00m\n",
      "\u001b[1;31mAttributeError\u001b[0m: 'MyObject' object has no attribute 'z'"
     ]
    }
   ],
   "source": [
    "# 如果试图获取不存在的属性，会抛出AttributeError的错误：\n",
    "getattr(obj, 'z') # 获取属性'z'"
   ]
  },
  {
   "cell_type": "code",
   "execution_count": 4,
   "metadata": {},
   "outputs": [
    {
     "data": {
      "text/plain": [
       "404"
      ]
     },
     "execution_count": 4,
     "metadata": {},
     "output_type": "execute_result"
    }
   ],
   "source": [
    "# 可以传入一个default参数，如果属性不存在，就返回默认值：\n",
    "getattr(obj, 'z', 404) # 获取属性'z'，如果不存在，返回默认值404"
   ]
  },
  {
   "cell_type": "code",
   "execution_count": 5,
   "metadata": {},
   "outputs": [
    {
     "data": {
      "text/plain": [
       "True"
      ]
     },
     "execution_count": 5,
     "metadata": {},
     "output_type": "execute_result"
    }
   ],
   "source": [
    "# 也可以获得对象的方法：\n",
    "hasattr(obj, 'power') # 有属性'power'吗？"
   ]
  },
  {
   "cell_type": "code",
   "execution_count": 7,
   "metadata": {},
   "outputs": [
    {
     "data": {
      "text/plain": [
       "<bound method MyObject.power of <__main__.MyObject object at 0x0000021DC6993FD0>>"
      ]
     },
     "execution_count": 7,
     "metadata": {},
     "output_type": "execute_result"
    }
   ],
   "source": [
    "getattr(obj, 'power') # 获取属性'power'"
   ]
  },
  {
   "cell_type": "code",
   "execution_count": 10,
   "metadata": {},
   "outputs": [
    {
     "name": "stdout",
     "output_type": "stream",
     "text": [
      "81\n",
      "81\n"
     ]
    }
   ],
   "source": [
    "fn = getattr(obj, 'power')\n",
    "print(fn())\n",
    "\n",
    "fn = obj.power()\n",
    "print(fn)"
   ]
  },
  {
   "cell_type": "code",
   "execution_count": 12,
   "metadata": {},
   "outputs": [],
   "source": [
    "# 小结\n",
    "# 通过内置的一系列函数，我们可以对任意一个Python对象进行剖析，拿到其内部的数据。\n",
    "# 要注意的是，只有在不知道对象信息的时候，我们才会去获取对象信息。如果可以直接写：\n",
    "sum = obj.x + obj.y\n",
    "\n",
    "# 就不要写：\n",
    "sum = getattr(obj, 'x') + getattr(obj, 'y')"
   ]
  },
  {
   "cell_type": "code",
   "execution_count": null,
   "metadata": {},
   "outputs": [],
   "source": [
    "# 一个正确的用法的例子如下：\n",
    "def readImage(fp):\n",
    "    if hasattr(fp, 'read'):\n",
    "        return readData(fp)\n",
    "    return None\n",
    "\n",
    "# 假设我们希望从文件流fp中读取图像，我们首先要判断该fp对象是否存在read方法，如果存在，则该对象是一个流，如果不存在，则无法读取。hasattr()就派上了用场。\n",
    "# 请注意，在Python这类动态语言中，根据鸭子类型，有read()方法，不代表该fp对象就是一个文件流，它也可能是网络流，\n",
    "# 也可能是内存中的一个字节流，但只要read()方法返回的是有效的图像数据，就不影响读取图像的功能。\n",
    " "
   ]
  }
 ],
 "metadata": {
  "kernelspec": {
   "display_name": "homework",
   "language": "python",
   "name": "python3"
  },
  "language_info": {
   "codemirror_mode": {
    "name": "ipython",
    "version": 3
   },
   "file_extension": ".py",
   "mimetype": "text/x-python",
   "name": "python",
   "nbconvert_exporter": "python",
   "pygments_lexer": "ipython3",
   "version": "3.10.16"
  }
 },
 "nbformat": 4,
 "nbformat_minor": 2
}
