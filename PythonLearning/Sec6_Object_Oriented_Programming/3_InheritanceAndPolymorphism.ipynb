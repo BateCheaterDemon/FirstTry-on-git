{
 "cells": [
  {
   "cell_type": "code",
   "execution_count": 2,
   "metadata": {},
   "outputs": [
    {
     "name": "stdout",
     "output_type": "stream",
     "text": [
      "Animal is running\n",
      "Animal is running\n"
     ]
    }
   ],
   "source": [
    "# 在OOP程序设计中，当我们定义一个class的时候，可以从某个现有的class继承，新的class称为子类（Subclass），\n",
    "# 而被继承的class称为基类、父类或超类（Base class、Super class）。\n",
    "# 比如，我们已经编写了一个名为Animal的class，有一个run()方法可以直接打印：\n",
    "\n",
    "class Animal():\n",
    "    def run(self):\n",
    "        print('Animal is running')\n",
    "\n",
    "# 当我们需要编写Dog和Cat类时，就可以直接从Animal类继承：\n",
    "class Dog(Animal):\n",
    "    pass\n",
    "\n",
    "class Cat(Animal):\n",
    "    pass\n",
    "\n",
    "# 对于Dog来说，Animal就是它的父类，对于Animal来说，Dog就是它的子类。Cat和Dog类似。\n",
    "# 继承有什么好处？最大的好处是子类获得了父类的全部功能。\n",
    "# 由于Animal实现了run()方法，因此，Dog和Cat作为它的子类，什么事也没干，就自动拥有了run()方法：\n",
    "dog = Dog()\n",
    "dog.run()\n",
    "\n",
    "cat = Cat()\n",
    "cat.run()"
   ]
  },
  {
   "cell_type": "code",
   "execution_count": 3,
   "metadata": {},
   "outputs": [
    {
     "name": "stdout",
     "output_type": "stream",
     "text": [
      "Dog is running\n",
      "Cat is running\n"
     ]
    }
   ],
   "source": [
    "# 当然，也可以对子类增加一些方法，比如Dog类：\n",
    "class Dog(Animal):\n",
    "    def run(self):\n",
    "        print('Dog is running')\n",
    "\n",
    "class Cat(Animal):\n",
    "    def run(self):\n",
    "        print('Cat is running')\n",
    "\n",
    "dog = Dog()\n",
    "dog.run()\n",
    "\n",
    "cat = Cat()\n",
    "cat.run()"
   ]
  },
  {
   "cell_type": "code",
   "execution_count": 5,
   "metadata": {},
   "outputs": [
    {
     "name": "stdout",
     "output_type": "stream",
     "text": [
      "True\n",
      "True\n",
      "True\n"
     ]
    }
   ],
   "source": [
    "# 当子类和父类都存在相同的run()方法时，\n",
    "# 我们说，子类的run()覆盖了父类的run()，在代码运行的时候，总是会调用子类的run()。这样，我们就获得了继承的另一个好处：多态。\n",
    "# 要理解什么是多态，我们首先要对数据类型再作一点说明。\n",
    "# 当我们定义一个class的时候，我们实际上就定义了一种数据类型。我们定义的数据类型和Python自带的数据类型，比如str、list、dict没什么两样：\n",
    "a = list() # a是list类型\n",
    "b = Animal() # b是Animal类型\n",
    "c = Dog() # c是Dog类型\n",
    "\n",
    "# 判断一个变量是否是某个类型可以用isinstance()判断：\n",
    "print(isinstance(a, list))\n",
    "print(isinstance(b, Animal))\n",
    "print(isinstance(c, Dog))"
   ]
  },
  {
   "cell_type": "code",
   "execution_count": 11,
   "metadata": {},
   "outputs": [
    {
     "name": "stdout",
     "output_type": "stream",
     "text": [
      "True\n",
      "True\n",
      "False\n",
      "False\n"
     ]
    },
    {
     "data": {
      "text/plain": [
       "'\\n总结：一个实例数据类型是当前的子类和其所有的父类类型，但是不能是同一父类的其他子类类型\\n父类也不能是子类的数据类型\\n'"
      ]
     },
     "execution_count": 11,
     "metadata": {},
     "output_type": "execute_result"
    }
   ],
   "source": [
    "# 看来a、b、c确实对应着list、Animal、Dog这3种类型。\n",
    "# 但是等等，试试：\n",
    "print(isinstance(dog,Animal))\n",
    "print(isinstance(dog,Dog))\n",
    "print(isinstance(dog,Cat))\n",
    "\n",
    "# 看来c不仅仅是Dog，c还是Animal！\n",
    "# 不过仔细想想，这是有道理的，因为Dog是从Animal继承下来的，当我们创建了一个Dog的实例c时，我们认为c的数据类型是Dog没错，但c同时也是Animal也没错，Dog本来就是Animal的一种！\n",
    "# 所以，在继承关系中，如果一个实例的数据类型是某个子类，那它的数据类型也可以被看做是父类。但是，反过来就不行：\n",
    "b = Animal()\n",
    "print(isinstance(b, Dog))\n",
    "'''\n",
    "总结：一个实例数据类型是当前的子类和其所有的父类类型，但是不能是同一父类的其他子类类型\n",
    "父类也不能是子类的数据类型\n",
    "'''"
   ]
  },
  {
   "cell_type": "code",
   "execution_count": null,
   "metadata": {},
   "outputs": [],
   "source": [
    "# Dog可以看成Animal，但Animal不可以看成Dog。\n",
    "# 要理解多态的好处，我们还需要再编写一个函数，这个函数接受一个Animal类型的变量：\n",
    "# def run_write(x: Animal):\n",
    "#     x.run()\n",
    "#     x.run()\n",
    "\n"
   ]
  },
  {
   "cell_type": "code",
   "execution_count": 17,
   "metadata": {},
   "outputs": [
    {
     "name": "stdout",
     "output_type": "stream",
     "text": [
      "Animal is running\n",
      "Animal is running\n"
     ]
    }
   ],
   "source": [
    "def run_twice(animal:Animal):\n",
    "    animal.run()\n",
    "    animal.run()\n",
    "\n",
    "# 当我们传入Animal的实例时，run_twice()就打印出：\n",
    "run_twice(Animal())"
   ]
  },
  {
   "cell_type": "code",
   "execution_count": 15,
   "metadata": {},
   "outputs": [
    {
     "name": "stdout",
     "output_type": "stream",
     "text": [
      "Dog is running\n",
      "Dog is running\n",
      "Cat is running\n",
      "Cat is running\n"
     ]
    }
   ],
   "source": [
    "# 当我们传入Dog的实例时，run_twice()就打印出：\n",
    "run_twice(Dog())\n",
    "\n",
    "# 当我们传入Cat的实例时，run_twice()就打印出：\n",
    "run_twice(Cat())"
   ]
  },
  {
   "cell_type": "code",
   "execution_count": 16,
   "metadata": {},
   "outputs": [
    {
     "name": "stdout",
     "output_type": "stream",
     "text": [
      "Tortoise is running slowly...\n",
      "Tortoise is running slowly...\n"
     ]
    }
   ],
   "source": [
    "# 看上去没啥意思，但是仔细想想，现在，如果我们再定义一个Tortoise类型，也从Animal派生：\n",
    "class Tortoise(Animal):\n",
    "    def run(self):\n",
    "        print('Tortoise is running slowly...')\n",
    "\n",
    "# 当我们调用run_twice()时，传入Tortoise的实例：\n",
    "run_twice(Tortoise())"
   ]
  },
  {
   "cell_type": "code",
   "execution_count": null,
   "metadata": {},
   "outputs": [],
   "source": [
    "# 你会发现，新增一个Animal的子类，不必对run_twice()做任何修改，实际上，任何依赖Animal作为参数的函数或者方法都可以不加修改地正常运行，原因就在于多态。\n",
    "# 多态的好处就是，当我们需要传入Dog、Cat、Tortoise……时，我们只需要接收Animal类型就可以了，\n",
    "# 因为Dog、Cat、Tortoise……都是Animal类型，然后，按照Animal类型进行操作即可。\n",
    "# 由于Animal类型有run()方法，因此，传入的任意类型，只要是Animal类或者子类，就会自动调用实际类型的run()方法，这就是多态的意思：\n",
    "\n",
    "# 对于一个变量，我们只需要知道它是Animal类型，无需确切地知道它的子类型，就可以放心地调用run()方法，\n",
    "# 而具体调用的run()方法是作用在Animal、Dog、Cat还是Tortoise对象上，由运行时该对象的确切类型决定，\n",
    "# 这就是多态真正的威力：调用方只管调用，不管细节，\n",
    "# 而当我们新增一种Animal的子类时，只要确保run()方法编写正确，不用管原来的代码是如何调用的。这就是著名的“开闭”原则：\n",
    "\n",
    "# 对扩展开放：允许新增Animal子类；\n",
    "# 对修改封闭：不需要修改依赖Animal类型的run_twice()等函数。\n",
    "# 继承还可以一级一级地继承下来，就好比从爷爷到爸爸、再到儿子这样的关系。而任何类，最终都可以追溯到根类object，这些继承关系看上去就像一颗倒着的树。比如如下的继承树：\n",
    "'''\n",
    "Object\n",
    "│\n",
    "├── Animal\n",
    "│   ├── Dog\n",
    "│   └── Cat\n",
    "│\n",
    "└── Plant\n",
    "    ├── Tree\n",
    "    └── Flower\n",
    "'''"
   ]
  },
  {
   "cell_type": "code",
   "execution_count": null,
   "metadata": {},
   "outputs": [],
   "source": [
    "# 静态语言和动态语言\n",
    "# 对于静态语言（例如Java）来说，如果需要传入Animal类型，则传入的对象必须是Animal类型或者它的子类，否则，将无法调用run()方法。\n",
    "# 对于Python这样的动态语言来说，则不一定需要传入Animal类型。我们只需要保证传入的对象有一个run()方法就可以了：\n",
    "class Timer(object):\n",
    "    def run(self):\n",
    "        print('Start...')\n",
    "\n",
    "# 这就是动态语言的“鸭子类型”，\n",
    "# 它并不要求严格的继承体系，一个对象只要“看起来像鸭子，走起路来像鸭子”，那它就可以被看做是鸭子。\n",
    "# Python的“file-like object“就是一种鸭子类型。对真正的文件对象，它有一个read()方法，返回其内容。\n",
    "# 但是，许多对象，只要有read()方法，都被视为“file-like object“。许多函数接收的参数就是“file-like object“，\n",
    "# 你不一定要传入真正的文件对象，完全可以传入任何实现了read()方法的对象。\n",
    "\n",
    "# 继承可以把父类的所有功能都直接拿过来，这样就不必重零做起，子类只需要新增自己特有的方法，也可以把父类不适合的方法覆盖重写。\n",
    "# 动态语言的鸭子类型特点决定了继承不像静态语言那样是必须的。"
   ]
  }
 ],
 "metadata": {
  "kernelspec": {
   "display_name": "homework",
   "language": "python",
   "name": "python3"
  },
  "language_info": {
   "codemirror_mode": {
    "name": "ipython",
    "version": 3
   },
   "file_extension": ".py",
   "mimetype": "text/x-python",
   "name": "python",
   "nbconvert_exporter": "python",
   "pygments_lexer": "ipython3",
   "version": "3.10.16"
  }
 },
 "nbformat": 4,
 "nbformat_minor": 2
}
