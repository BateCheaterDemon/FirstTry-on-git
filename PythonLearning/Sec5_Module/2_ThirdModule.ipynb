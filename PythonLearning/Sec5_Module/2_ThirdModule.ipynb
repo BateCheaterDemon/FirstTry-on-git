{
 "cells": [
  {
   "cell_type": "code",
   "execution_count": null,
   "metadata": {},
   "outputs": [],
   "source": [
    "# 在Python中，安装第三方模块，是通过包管理工具pip完成的。\n",
    "# 如果你正在使用Mac或Linux，安装pip本身这个步骤就可以跳过了。\n",
    "\n",
    "# 如果你正在使用Windows，请参考安装Python一节的内容，确保安装时勾选了pip和Add python.exe to Path。\n",
    "# 使用conda也不需要\n",
    "\n",
    "# 注意：Mac或Linux上有可能并存Python 3.x和Python 2.x，因此对应的pip命令是pip3。\n",
    "# 例如，我们要安装一个第三方库——Python Imaging Library，这是Python下非常强大的处理图像的工具库。\n",
    "# 不过，PIL目前只支持到Python 2.7，并且有年头没有更新了，因此，基于PIL的Pillow项目开发非常活跃，并且支持最新的Python 3。\n",
    "\n",
    "# 一般来说，第三方库都会在Python官方的 pypi.python.org 网站注册，要安装一个第三方库，\n",
    "# 必须先知道该库的名称，可以在官网或者pypi上搜索，比如Pillow的名称叫Pillow，因此，安装Pillow的命令就是：\n",
    "'''\n",
    "pip install Pillow\n",
    "'''\n",
    "# 耐心等待下载并安装后，就可以使用Pillow了。"
   ]
  },
  {
   "cell_type": "code",
   "execution_count": null,
   "metadata": {},
   "outputs": [],
   "source": [
    "# 安装常用模块\n",
    "# 在使用Python时，我们经常需要用到很多第三方库，例如，上面提到的Pillow，以及MySQL驱动程序，Web框架Flask，科学计算Numpy等。用pip一个一个安装费时费力，还需要考虑兼容性。\n",
    "# 我们推荐直接使用Anaconda，\n",
    "# 这是一个基于Python的数据处理和科学计算平台，它已经内置了许多非常有用的第三方库，我们装上Anaconda，就相当于把数十个第三方模块自动安装好了，非常简单易用。"
   ]
  },
  {
   "cell_type": "code",
   "execution_count": null,
   "metadata": {},
   "outputs": [
    {
     "data": {
      "text/plain": [
       "['f:\\\\FOR-LEARNING\\\\Anaconda3\\\\envs\\\\homework\\\\python310.zip',\n",
       " 'f:\\\\FOR-LEARNING\\\\Anaconda3\\\\envs\\\\homework\\\\DLLs',\n",
       " 'f:\\\\FOR-LEARNING\\\\Anaconda3\\\\envs\\\\homework\\\\lib',\n",
       " 'f:\\\\FOR-LEARNING\\\\Anaconda3\\\\envs\\\\homework',\n",
       " '',\n",
       " 'f:\\\\FOR-LEARNING\\\\Anaconda3\\\\envs\\\\homework\\\\lib\\\\site-packages',\n",
       " 'f:\\\\FOR-LEARNING\\\\Anaconda3\\\\envs\\\\homework\\\\lib\\\\site-packages\\\\win32',\n",
       " 'f:\\\\FOR-LEARNING\\\\Anaconda3\\\\envs\\\\homework\\\\lib\\\\site-packages\\\\win32\\\\lib',\n",
       " 'f:\\\\FOR-LEARNING\\\\Anaconda3\\\\envs\\\\homework\\\\lib\\\\site-packages\\\\Pythonwin']"
      ]
     },
     "execution_count": 1,
     "metadata": {},
     "output_type": "execute_result"
    }
   ],
   "source": [
    "# 模块搜索路径\n",
    "# 当我们试图加载一个模块时，Python会在指定的路径下搜索对应的.py文件，如果找不到，就会报错：\n",
    "'''\n",
    ">>> import mymodule\n",
    "Traceback (most recent call last):\n",
    "  File \"<stdin>\", line 1, in <module>\n",
    "ImportError: No module named mymodule\n",
    "'''\n",
    "# 默认情况下，Python解释器会搜索当前目录、所有已安装的内置模块和第三方模块，搜索路径存放在sys模块的path变量中：\n",
    "import sys\n",
    "sys.path\n",
    "\n",
    "# 如果我们要添加自己的搜索目录，有两种方法：\n",
    "# 一是直接修改sys.path，添加要搜索的目录：\n",
    "'''\n",
    ">>> import sys\n",
    ">>> sys.path.append('/Users/michael/my_py_scripts')\n",
    "'''\n",
    "# 这种方法是在运行时修改，运行结束后失效。\n",
    "# 第二种方法是设置环境变量PYTHONPATH，该环境变量的内容会被自动添加到模块搜索路径中。\n",
    "# 设置方式与设置Path环境变量类似。注意只需要添加我们自己的搜索路径，Python本身的搜索路径不受影响。"
   ]
  },
  {
   "cell_type": "code",
   "execution_count": null,
   "metadata": {},
   "outputs": [],
   "source": []
  }
 ],
 "metadata": {
  "kernelspec": {
   "display_name": "homework",
   "language": "python",
   "name": "python3"
  },
  "language_info": {
   "codemirror_mode": {
    "name": "ipython",
    "version": 3
   },
   "file_extension": ".py",
   "mimetype": "text/x-python",
   "name": "python",
   "nbconvert_exporter": "python",
   "pygments_lexer": "ipython3",
   "version": "3.10.16"
  }
 },
 "nbformat": 4,
 "nbformat_minor": 2
}
