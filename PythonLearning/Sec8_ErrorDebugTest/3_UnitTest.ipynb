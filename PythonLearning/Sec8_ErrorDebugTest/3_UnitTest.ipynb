{
 "cells": [
  {
   "cell_type": "code",
   "execution_count": 1,
   "metadata": {},
   "outputs": [],
   "source": [
    "# 如果你听说过“测试驱动开发”（TDD：Test-Driven Development），单元测试就不陌生。\n",
    "# 单元测试是用来对一个模块、一个函数或者一个类来进行正确性检验的测试工作。\n",
    "# 比如对函数abs()，我们可以编写出以下几个测试用例：\n",
    "\n",
    "# 输入正数，比如1、1.2、0.99，期待返回值与输入相同；\n",
    "# 输入负数，比如-1、-1.2、-0.99，期待返回值与输入相反；\n",
    "# 输入0，期待返回0；\n",
    "# 输入非数值类型，比如None、[]、{}，期待抛出TypeError。\n",
    "# 把上面的测试用例放到一个测试模块里，就是一个完整的单元测试。\n",
    "\n",
    "# 如果单元测试通过，说明我们测试的这个函数能够正常工作。\n",
    "# 如果单元测试不通过，要么函数有bug，要么测试条件输入不正确，总之，需要修复使单元测试能够通过。\n",
    "# 单元测试通过后有什么意义呢？如果我们对abs()函数代码做了修改，\n",
    "# 只需要再跑一遍单元测试，如果通过，说明我们的修改不会对abs()函数原有的行为造成影响，\n",
    "# 如果测试不通过，说明我们的修改与原有行为不一致，要么修改代码，要么修改测试。\n",
    "# 这种以测试为驱动的开发模式最大的好处就是确保一个程序模块的行为符合我们设计的测试用例。\n",
    "# 在将来修改的时候，可以极大程度地保证该模块行为仍然是正确的。\n",
    "# 我们来编写一个Dict类，这个类的行为和dict一致，但是可以通过属性来访问，用起来就像下面这样："
   ]
  },
  {
   "cell_type": "code",
   "execution_count": null,
   "metadata": {},
   "outputs": [],
   "source": [
    "'''\n",
    ">>> d = Dict(a=1, b=2)\n",
    ">>> d['a']\n",
    "1\n",
    ">>> d.a\n",
    "1\n",
    "'''"
   ]
  }
 ],
 "metadata": {
  "kernelspec": {
   "display_name": "homework",
   "language": "python",
   "name": "python3"
  },
  "language_info": {
   "codemirror_mode": {
    "name": "ipython",
    "version": 3
   },
   "file_extension": ".py",
   "mimetype": "text/x-python",
   "name": "python",
   "nbconvert_exporter": "python",
   "pygments_lexer": "ipython3",
   "version": "3.10.16"
  }
 },
 "nbformat": 4,
 "nbformat_minor": 2
}
