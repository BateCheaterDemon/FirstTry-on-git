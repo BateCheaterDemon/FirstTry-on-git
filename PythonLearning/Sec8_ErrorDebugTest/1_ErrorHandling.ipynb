{
 "cells": [
  {
   "cell_type": "code",
   "execution_count": 8,
   "metadata": {},
   "outputs": [],
   "source": [
    "# 在程序运行的过程中，如果发生了错误，可以事先约定返回一个错误代码，这样，就可以知道是否有错，以及出错的原因。\n",
    "# 在操作系统提供的调用中，返回错误码非常常见。比如打开文件的函数open()，成功时返回文件描述符（就是一个整数），出错时返回-1。\n",
    "# 用错误码来表示是否出错十分不便，因为函数本身应该返回的正常结果和错误码混在一起，造成调用者必须用大量的代码来判断是否出错：\n",
    "def foo():\n",
    "    r = some_function()\n",
    "    if r==(-1):\n",
    "        return (-1)\n",
    "    # do something\n",
    "    return r\n",
    "\n",
    "def some_function():\n",
    "    pass\n",
    "\n",
    "def bar():\n",
    "    r = foo()\n",
    "    if r==(-1):\n",
    "        print('Error')\n",
    "    else:\n",
    "        pass"
   ]
  },
  {
   "cell_type": "code",
   "execution_count": 3,
   "metadata": {},
   "outputs": [
    {
     "name": "stdout",
     "output_type": "stream",
     "text": [
      "try...\n",
      "except: division by zero\n",
      "finally...\n",
      "END\n"
     ]
    }
   ],
   "source": [
    "# 一旦出错，还要一级一级上报，直到某个函数可以处理该错误（比如，给用户输出一个错误信息）。\n",
    "# 所以高级语言通常都内置了一套try...except...finally...的错误处理机制，Python也不例外。\n",
    "# try\n",
    "# 让我们用一个例子来看看try的机制：\n",
    "try:\n",
    "    print('try...')\n",
    "    r = 10 / 0\n",
    "    print('result:', r)\n",
    "except ZeroDivisionError as e:\n",
    "    print('except:', e)\n",
    "finally:\n",
    "    print('finally...')\n",
    "print('END')\n",
    "# 当我们认为某些代码可能会出错时，就可以用try来运行这段代码，\n",
    "# 如果执行出错，则后续代码不会继续执行，而是直接跳转至错误处理代码，\n",
    "# 即except语句块，执行完except后，如果有finally语句块，则执行finally语句块，至此，执行完毕。\n",
    "# 上面的代码在计算10 / 0时会产生一个除法运算错误：\n"
   ]
  },
  {
   "cell_type": "code",
   "execution_count": 4,
   "metadata": {},
   "outputs": [
    {
     "name": "stdout",
     "output_type": "stream",
     "text": [
      "try...\n",
      "result: 5.0\n",
      "finally...\n",
      "END\n"
     ]
    }
   ],
   "source": [
    "# 从输出可以看到，当错误发生时，后续语句print('result:', r)不会被执行，\n",
    "# except由于捕获到ZeroDivisionError，因此被执行。最后，finally语句被执行。\n",
    "# 然后，程序继续按照流程往下走。\n",
    "# 如果把除数0改成2，则执行结果如下：\n",
    "try:\n",
    "    print('try...')\n",
    "    r = 10 / 2\n",
    "    print('result:', r)\n",
    "except ZeroDivisionError as e:\n",
    "    print('except:', e)\n",
    "finally:\n",
    "    print('finally...')\n",
    "print('END')"
   ]
  },
  {
   "cell_type": "code",
   "execution_count": 5,
   "metadata": {},
   "outputs": [
    {
     "name": "stdout",
     "output_type": "stream",
     "text": [
      "try...\n",
      "ValueError: invalid literal for int() with base 10: 'a'\n",
      "finally...\n",
      "END\n"
     ]
    }
   ],
   "source": [
    "# 由于没有错误发生，所以except语句块不会被执行，但是finally如果有，则一定会被执行（可以没有finally语句）。\n",
    "# 你还可以猜测，错误应该有很多种类，如果发生了不同类型的错误，应该由不同的except语句块处理。\n",
    "# 没错，可以有多个except来捕获不同类型的错误：\n",
    "try:\n",
    "    print('try...')\n",
    "    r = 10 / int('a')\n",
    "    print('result:', r)\n",
    "except ValueError as e:\n",
    "    print('ValueError:', e)\n",
    "except ZeroDivisionError as e:\n",
    "    print('ZeroDivisionError:', e)\n",
    "finally:\n",
    "    print('finally...')\n",
    "print('END')"
   ]
  },
  {
   "cell_type": "code",
   "execution_count": 6,
   "metadata": {},
   "outputs": [
    {
     "name": "stdout",
     "output_type": "stream",
     "text": [
      "try...\n",
      "result: 5.0\n",
      "no error!\n",
      "finally...\n",
      "END\n"
     ]
    }
   ],
   "source": [
    "# int()函数可能会抛出ValueError，所以我们用一个except捕获ValueError，用另一个except捕获ZeroDivisionError。\n",
    "# 此外，如果没有错误发生，可以在except语句块后面加一个else，当没有错误发生时，会自动执行else语句：\n",
    "try:\n",
    "    print('try...')\n",
    "    r = 10 / int('2')\n",
    "    print('result:', r)\n",
    "except ValueError as e:\n",
    "    print('ValueError:', e)\n",
    "except ZeroDivisionError as e:\n",
    "    print('ZeroDivisionError:', e)\n",
    "else:\n",
    "    print('no error!')\n",
    "finally:\n",
    "    print('finally...')\n",
    "print('END')"
   ]
  },
  {
   "cell_type": "code",
   "execution_count": 9,
   "metadata": {},
   "outputs": [],
   "source": [
    "# Python的错误其实也是class，所有的错误类型都继承自BaseException，\n",
    "# 所以在使用except时需要注意的是，它不但捕获该类型的错误，还把其子类也“一网打尽”。比如：\n",
    "try:\n",
    "    foo()\n",
    "except ValueError as e:\n",
    "    print('ValueError')\n",
    "except UnicodeError as e:\n",
    "    print('UnicodeError')\n",
    "\n",
    "# 第二个except永远也捕获不到UnicodeError，因为UnicodeError是ValueError的子类，如果有，也被第一个except给捕获了。\n",
    "# Python所有的错误都是从BaseException类派生的，常见的错误类型和继承关系看这里："
   ]
  },
  {
   "cell_type": "code",
   "execution_count": null,
   "metadata": {},
   "outputs": [],
   "source": [
    "# 使用try...except捕获错误还有一个巨大的好处，就是可以跨越多层调用，\n",
    "# 比如函数main()调用bar()，bar()调用foo()，结果foo()出错了，这时，只要main()捕获到了，就可以处理：\n",
    "def foo(s):\n",
    "    return 10 / int(s)\n",
    "\n",
    "def bar(s):\n",
    "    return foo(s) * 2\n",
    "\n",
    "def main():\n",
    "    try:\n",
    "        bar('0')\n",
    "    except Exception as e:\n",
    "        print('Error:', e)\n",
    "    finally:\n",
    "        print('finally...')\n",
    "\n",
    "# 也就是说，不需要在每个可能出错的地方去捕获错误，只要在合适的层次去捕获错误就可以了。\n",
    "# 这样一来，就大大减少了写try...except...finally的麻烦。"
   ]
  },
  {
   "cell_type": "code",
   "execution_count": null,
   "metadata": {},
   "outputs": [
    {
     "data": {
      "text/plain": [
       "'\\nTraceback (most recent call last):\\n  File \"F:\\\\学校专业公务用\\\\Github\\\\personal\\\\FirstTry-on-git\\\\PythonLearning\\\\Sec8_ErrorDebugTest\\\\error.py\", line 11, in <module>\\n    main()\\n  调用main()出错了，在代码文件err.py的第11行代码，但原因是第9行：\\n\\n  File \"F:\\\\学校专业公务用\\\\Github\\\\personal\\\\FirstTry-on-git\\\\PythonLearning\\\\Sec8_ErrorDebugTest\\\\error.py\", line 9, in main\\n    bar(\\'0\\')\\n\\n    调用bar(\\'0\\')出错了，在代码文件err.py的第9行代码，但原因是第6行：\\n  File \"F:\\\\学校专业公务用\\\\Github\\\\personal\\\\FirstTry-on-git\\\\PythonLearning\\\\Sec8_ErrorDebugTest\\\\error.py\", line 6, in bar\\n    return foo(s) * 2\\n    原因是return foo(s) * 2这个语句出错了，但这还不是最终原因，继续往下看：\\n\\n  File \"F:\\\\学校专业公务用\\\\Github\\\\personal\\\\FirstTry-on-git\\\\PythonLearning\\\\Sec8_ErrorDebugTest\\\\error.py\", line 3, in foo\\n    return 10 / int(s)\\n    原因是return 10 / int(s)这个语句出错了，这是错误产生的源头，因为下面打印了：\\n\\nZeroDivisionError: division by zero\\n根据错误类型ZeroDivisionError，我们判断，int(s)本身并没有出错，但是int(s)返回0，在计算10 / 0时出错，至此，找到错误源头。\\n\\n'"
      ]
     },
     "execution_count": 13,
     "metadata": {},
     "output_type": "execute_result"
    }
   ],
   "source": [
    "# 调用栈\n",
    "# 如果错误没有被捕获，它就会一直往上抛，最后被Python解释器捕获，打印一个错误信息，然后程序退出。来看看err.py：\n",
    "'''\n",
    "Traceback (most recent call last):\n",
    "  File \"F:\\学校专业公务用\\Github\\personal\\FirstTry-on-git\\PythonLearning\\Sec8_ErrorDebugTest\\error.py\", line 11, in <module>\n",
    "    main()\n",
    "  调用main()出错了，在代码文件err.py的第11行代码，但原因是第9行：\n",
    "\n",
    "  File \"F:\\学校专业公务用\\Github\\personal\\FirstTry-on-git\\PythonLearning\\Sec8_ErrorDebugTest\\error.py\", line 9, in main\n",
    "    bar('0')\n",
    "\n",
    "    调用bar('0')出错了，在代码文件err.py的第9行代码，但原因是第6行：\n",
    "  File \"F:\\学校专业公务用\\Github\\personal\\FirstTry-on-git\\PythonLearning\\Sec8_ErrorDebugTest\\error.py\", line 6, in bar\n",
    "    return foo(s) * 2\n",
    "    原因是return foo(s) * 2这个语句出错了，但这还不是最终原因，继续往下看：\n",
    "\n",
    "  File \"F:\\学校专业公务用\\Github\\personal\\FirstTry-on-git\\PythonLearning\\Sec8_ErrorDebugTest\\error.py\", line 3, in foo\n",
    "    return 10 / int(s)\n",
    "    原因是return 10 / int(s)这个语句出错了，这是错误产生的源头，因为下面打印了：\n",
    "\n",
    "ZeroDivisionError: division by zero\n",
    "根据错误类型ZeroDivisionError，我们判断，int(s)本身并没有出错，但是int(s)返回0，在计算10 / 0时出错，至此，找到错误源头。\n",
    "\n",
    "'''\n",
    "# 出错并不可怕，可怕的是不知道哪里出错了。解读错误信息是定位错误的关键。我们从上往下可以看到整个错误的调用函数链：\n",
    "# 出错的时候，一定要分析错误的调用栈信息，才能定位错误的位置。\n"
   ]
  },
  {
   "cell_type": "code",
   "execution_count": null,
   "metadata": {},
   "outputs": [],
   "source": [
    "# 记录错误\n",
    "# 如果不捕获错误，自然可以让Python解释器来打印出错误堆栈，但程序也被结束了。\n",
    "# 既然我们能捕获错误，就可以把错误堆栈打印出来，然后分析错误原因，同时，让程序继续执行下去。\n",
    "# Python内置的logging模块可以非常容易地记录错误信息：\n",
    "\n",
    "'''\n",
    "ERROR:root:division by zero\n",
    "Traceback (most recent call last):\n",
    "  File \"F:\\学校专业公务用\\Github\\personal\\FirstTry-on-git\\PythonLearning\\Sec8_ErrorDebugTest\\err_logging.py\", line 11, in main\n",
    "    bar('0')\n",
    "  File \"F:\\学校专业公务用\\Github\\personal\\FirstTry-on-git\\PythonLearning\\Sec8_ErrorDebugTest\\err_logging.py\", line 7, in bar\n",
    "    return foo(s) * 2\n",
    "  File \"F:\\学校专业公务用\\Github\\personal\\FirstTry-on-git\\PythonLearning\\Sec8_ErrorDebugTest\\err_logging.py\", line 4, in foo\n",
    "    return 10 / int(s)\n",
    "ZeroDivisionError: division by zero\n",
    "END\n",
    "'''\n",
    "# 通过配置，logging还可以把错误记录到日志文件里，方便事后排查。"
   ]
  },
  {
   "cell_type": "code",
   "execution_count": 15,
   "metadata": {},
   "outputs": [
    {
     "data": {
      "text/plain": [
       "'\\nTraceback (most recent call last):\\n  File \"F:\\\\学校专业公务用\\\\Github\\\\personal\\\\FirstTry-on-git\\\\PythonLearning\\\\Sec8_ErrorDebugTest\\\\err_raise.py\", line 10, in <module>\\n    foo(\\'0\\')\\n  File \"F:\\\\学校专业公务用\\\\Github\\\\personal\\\\FirstTry-on-git\\\\PythonLearning\\\\Sec8_ErrorDebugTest\\\\err_raise.py\", line 7, in foo\\n    raise FooError(\\'invalid value: %s\\' % s)\\n__main__.FooError: invalid value: 0\\n'"
      ]
     },
     "execution_count": 15,
     "metadata": {},
     "output_type": "execute_result"
    }
   ],
   "source": [
    "# 抛出错误\n",
    "# 因为错误是class，捕获一个错误就是捕获到该class的一个实例。\n",
    "# 因此，错误并不是凭空产生的，而是有意创建并抛出的。Python的内置函数会抛出很多类型的错误，我们自己编写的函数也可以抛出错误。\n",
    "# 如果要抛出错误，首先根据需要，可以定义一个错误的class，选择好继承关系，然后，用raise语句抛出一个错误的实例：\n",
    "'''\n",
    "Traceback (most recent call last):\n",
    "  File \"F:\\学校专业公务用\\Github\\personal\\FirstTry-on-git\\PythonLearning\\Sec8_ErrorDebugTest\\err_raise.py\", line 10, in <module>\n",
    "    foo('0')\n",
    "  File \"F:\\学校专业公务用\\Github\\personal\\FirstTry-on-git\\PythonLearning\\Sec8_ErrorDebugTest\\err_raise.py\", line 7, in foo\n",
    "    raise FooError('invalid value: %s' % s)\n",
    "__main__.FooError: invalid value: 0\n",
    "'''\n",
    "# 执行，可以最后跟踪到我们自己定义的错误："
   ]
  },
  {
   "cell_type": "code",
   "execution_count": 18,
   "metadata": {},
   "outputs": [
    {
     "data": {
      "text/plain": [
       "'\\nValueError!\\nTraceback (most recent call last):\\n  File \"F:\\\\学校专业公务用\\\\Github\\\\personal\\\\FirstTry-on-git\\\\PythonLearning\\\\Sec8_ErrorDebugTest\\\\err_test.py\", line 14, in <module>\\n    bar()\\n  File \"F:\\\\学校专业公务用\\\\Github\\\\personal\\\\FirstTry-on-git\\\\PythonLearning\\\\Sec8_ErrorDebugTest\\\\err_test.py\", line 9, in bar\\n    foo(\\'0\\')\\n  File \"F:\\\\学校专业公务用\\\\Github\\\\personal\\\\FirstTry-on-git\\\\PythonLearning\\\\Sec8_ErrorDebugTest\\\\err_test.py\", line 4, in foo\\n    raise ValueError(\\'invalid value: %s\\' % s)\\nValueError: invalid value: 0\\n'"
      ]
     },
     "execution_count": 18,
     "metadata": {},
     "output_type": "execute_result"
    }
   ],
   "source": [
    "# 只有在必要的时候才定义我们自己的错误类型。\n",
    "# 如果可以选择Python已有的内置的错误类型（比如ValueError，TypeError），尽量使用Python内置的错误类型。\n",
    "# 最后，我们来看另一种错误处理的方式：\n",
    "'''\n",
    "ValueError!\n",
    "Traceback (most recent call last):\n",
    "  File \"F:\\学校专业公务用\\Github\\personal\\FirstTry-on-git\\PythonLearning\\Sec8_ErrorDebugTest\\err_test.py\", line 14, in <module>\n",
    "    bar()\n",
    "  File \"F:\\学校专业公务用\\Github\\personal\\FirstTry-on-git\\PythonLearning\\Sec8_ErrorDebugTest\\err_test.py\", line 9, in bar\n",
    "    foo('0')\n",
    "  File \"F:\\学校专业公务用\\Github\\personal\\FirstTry-on-git\\PythonLearning\\Sec8_ErrorDebugTest\\err_test.py\", line 4, in foo\n",
    "    raise ValueError('invalid value: %s' % s)\n",
    "ValueError: invalid value: 0\n",
    "'''\n",
    "# 在bar()函数中，我们明明已经捕获了错误，但是，打印一个ValueError!后，又把错误通过raise语句抛出去了，这不有病么？\n",
    "# 其实这种错误处理方式不但没病，而且相当常见。捕获错误目的只是记录一下，便于后续追踪。\n",
    "# 但是，由于当前函数不知道应该怎么处理该错误，所以，最恰当的方式是继续往上抛，让顶层调用者去处理。\n",
    "# 好比一个员工处理不了一个问题时，就把问题抛给他的老板，如果他的老板也处理不了，就一直往上抛，最终会抛给CEO去处理。\n",
    "# raise语句如果不带参数，就会把当前错误原样抛出。此外，在except中raise一个Error，还可以把一种类型的错误转化成另一种类型："
   ]
  },
  {
   "cell_type": "code",
   "execution_count": 19,
   "metadata": {},
   "outputs": [
    {
     "data": {
      "text/plain": [
       "\"\\ntry:\\n    10 / 0\\nexcept ZeroDivisionError:\\n    raise ValueError('input error!')\\n\""
      ]
     },
     "execution_count": 19,
     "metadata": {},
     "output_type": "execute_result"
    }
   ],
   "source": [
    "'''\n",
    "try:\n",
    "    10 / 0\n",
    "except ZeroDivisionError:\n",
    "    raise ValueError('input error!')\n",
    "'''\n",
    "# 只要是合理的转换逻辑就可以，但是，决不应该把一个IOError转换成毫不相干的ValueError。"
   ]
  },
  {
   "cell_type": "code",
   "execution_count": 20,
   "metadata": {},
   "outputs": [
    {
     "name": "stdout",
     "output_type": "stream",
     "text": [
      "100 + 200 + 345 = 645\n"
     ]
    },
    {
     "ename": "ValueError",
     "evalue": "invalid literal for int() with base 10: ' 7.6'",
     "output_type": "error",
     "traceback": [
      "\u001b[1;31m---------------------------------------------------------------------------\u001b[0m",
      "\u001b[1;31mValueError\u001b[0m                                Traceback (most recent call last)",
      "Cell \u001b[1;32mIn[20], line 19\u001b[0m\n\u001b[0;32m     16\u001b[0m     r \u001b[38;5;241m=\u001b[39m calc(\u001b[38;5;124m'\u001b[39m\u001b[38;5;124m99 + 88 + 7.6\u001b[39m\u001b[38;5;124m'\u001b[39m)\n\u001b[0;32m     17\u001b[0m     \u001b[38;5;28mprint\u001b[39m(\u001b[38;5;124m'\u001b[39m\u001b[38;5;124m99 + 88 + 7.6 =\u001b[39m\u001b[38;5;124m'\u001b[39m, r)\n\u001b[1;32m---> 19\u001b[0m \u001b[43mmain\u001b[49m\u001b[43m(\u001b[49m\u001b[43m)\u001b[49m\n",
      "Cell \u001b[1;32mIn[20], line 16\u001b[0m, in \u001b[0;36mmain\u001b[1;34m()\u001b[0m\n\u001b[0;32m     14\u001b[0m r \u001b[38;5;241m=\u001b[39m calc(\u001b[38;5;124m'\u001b[39m\u001b[38;5;124m100 + 200 + 345\u001b[39m\u001b[38;5;124m'\u001b[39m)\n\u001b[0;32m     15\u001b[0m \u001b[38;5;28mprint\u001b[39m(\u001b[38;5;124m'\u001b[39m\u001b[38;5;124m100 + 200 + 345 =\u001b[39m\u001b[38;5;124m'\u001b[39m, r)\n\u001b[1;32m---> 16\u001b[0m r \u001b[38;5;241m=\u001b[39m \u001b[43mcalc\u001b[49m\u001b[43m(\u001b[49m\u001b[38;5;124;43m'\u001b[39;49m\u001b[38;5;124;43m99 + 88 + 7.6\u001b[39;49m\u001b[38;5;124;43m'\u001b[39;49m\u001b[43m)\u001b[49m\n\u001b[0;32m     17\u001b[0m \u001b[38;5;28mprint\u001b[39m(\u001b[38;5;124m'\u001b[39m\u001b[38;5;124m99 + 88 + 7.6 =\u001b[39m\u001b[38;5;124m'\u001b[39m, r)\n",
      "Cell \u001b[1;32mIn[20], line 11\u001b[0m, in \u001b[0;36mcalc\u001b[1;34m(exp)\u001b[0m\n\u001b[0;32m      9\u001b[0m ss \u001b[38;5;241m=\u001b[39m exp\u001b[38;5;241m.\u001b[39msplit(\u001b[38;5;124m'\u001b[39m\u001b[38;5;124m+\u001b[39m\u001b[38;5;124m'\u001b[39m)\n\u001b[0;32m     10\u001b[0m ns \u001b[38;5;241m=\u001b[39m \u001b[38;5;28mmap\u001b[39m(str2num, ss)\n\u001b[1;32m---> 11\u001b[0m \u001b[38;5;28;01mreturn\u001b[39;00m \u001b[43mreduce\u001b[49m\u001b[43m(\u001b[49m\u001b[38;5;28;43;01mlambda\u001b[39;49;00m\u001b[43m \u001b[49m\u001b[43macc\u001b[49m\u001b[43m,\u001b[49m\u001b[43m \u001b[49m\u001b[43mx\u001b[49m\u001b[43m:\u001b[49m\u001b[43m \u001b[49m\u001b[43macc\u001b[49m\u001b[43m \u001b[49m\u001b[38;5;241;43m+\u001b[39;49m\u001b[43m \u001b[49m\u001b[43mx\u001b[49m\u001b[43m,\u001b[49m\u001b[43m \u001b[49m\u001b[43mns\u001b[49m\u001b[43m)\u001b[49m\n",
      "Cell \u001b[1;32mIn[20], line 6\u001b[0m, in \u001b[0;36mstr2num\u001b[1;34m(s)\u001b[0m\n\u001b[0;32m      5\u001b[0m \u001b[38;5;28;01mdef\u001b[39;00m\u001b[38;5;250m \u001b[39m\u001b[38;5;21mstr2num\u001b[39m(s):\n\u001b[1;32m----> 6\u001b[0m     \u001b[38;5;28;01mreturn\u001b[39;00m \u001b[38;5;28;43mint\u001b[39;49m\u001b[43m(\u001b[49m\u001b[43ms\u001b[49m\u001b[43m)\u001b[49m\n",
      "\u001b[1;31mValueError\u001b[0m: invalid literal for int() with base 10: ' 7.6'"
     ]
    }
   ],
   "source": [
    "# 练习\n",
    "# 运行下面的代码，根据异常信息进行分析，定位出错误源头，并修复:\n",
    "from functools import reduce\n",
    "\n",
    "def str2num(s):\n",
    "    return int(s)\n",
    "\n",
    "def calc(exp):\n",
    "    ss = exp.split('+')\n",
    "    ns = map(str2num, ss)\n",
    "    return reduce(lambda acc, x: acc + x, ns)\n",
    "\n",
    "def main():\n",
    "    r = calc('100 + 200 + 345')\n",
    "    print('100 + 200 + 345 =', r)\n",
    "    r = calc('99 + 88 + 7.6')\n",
    "    print('99 + 88 + 7.6 =', r)\n",
    "\n",
    "main()"
   ]
  },
  {
   "cell_type": "code",
   "execution_count": null,
   "metadata": {},
   "outputs": [],
   "source": [
    "# 小结\n",
    "# Python内置的try...except...finally用来处理错误十分方便。出错时，会分析错误信息并定位错误发生的代码位置才是最关键的。\n",
    "# 程序也可以主动抛出错误，让调用者来处理相应的错误。但是，应该在文档中写清楚可能会抛出哪些错误，以及错误产生的原因。"
   ]
  }
 ],
 "metadata": {
  "kernelspec": {
   "display_name": "homework",
   "language": "python",
   "name": "python3"
  },
  "language_info": {
   "codemirror_mode": {
    "name": "ipython",
    "version": 3
   },
   "file_extension": ".py",
   "mimetype": "text/x-python",
   "name": "python",
   "nbconvert_exporter": "python",
   "pygments_lexer": "ipython3",
   "version": "3.10.16"
  }
 },
 "nbformat": 4,
 "nbformat_minor": 2
}
