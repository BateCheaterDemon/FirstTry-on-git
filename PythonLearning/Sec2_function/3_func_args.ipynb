{
 "cells": [
  {
   "cell_type": "code",
   "execution_count": 2,
   "metadata": {},
   "outputs": [
    {
     "name": "stdout",
     "output_type": "stream",
     "text": [
      "25\n",
      "225\n"
     ]
    }
   ],
   "source": [
    "# 定义函数把参数的名字和位置确定下来，函数的接口定义就完成了。对于函数的调用者来说，\n",
    "# 只需要知道如何传递正确的参数，以及函数将返回什么样的值就够了，函数内部的复杂逻辑被封装起来，\n",
    "# 调用者无需了解。\n",
    "\n",
    "# Python的函数定义非常简单，但灵活度却非常大。除了正常定义的必选参数外，\n",
    "# 还可以使用默认参数、可变参数和关键字参数，使得函数定义出来的接口，\n",
    "# 不但能处理复杂的参数，还可以简化调用者的代码。\n",
    "\n",
    "def power(x):\n",
    "    return x * x\n",
    "\n",
    "print(power(5))\n",
    "print(power(15))"
   ]
  },
  {
   "cell_type": "code",
   "execution_count": 10,
   "metadata": {},
   "outputs": [
    {
     "name": "stdout",
     "output_type": "stream",
     "text": [
      "125\n",
      "243\n"
     ]
    }
   ],
   "source": [
    "# 如果要计算更多次方，不可能每个次方函数都定义一遍\n",
    "def power(x,n):\n",
    "    sum = 1\n",
    "    for i in range(n):\n",
    "        sum = sum * x\n",
    "    return sum\n",
    "\n",
    "print(power(5,3))\n",
    "print(power(3,5))"
   ]
  },
  {
   "cell_type": "code",
   "execution_count": 11,
   "metadata": {},
   "outputs": [
    {
     "ename": "TypeError",
     "evalue": "power() missing 1 required positional argument: 'n'",
     "output_type": "error",
     "traceback": [
      "\u001b[1;31m---------------------------------------------------------------------------\u001b[0m",
      "\u001b[1;31mTypeError\u001b[0m                                 Traceback (most recent call last)",
      "Cell \u001b[1;32mIn[11], line 5\u001b[0m\n\u001b[0;32m      1\u001b[0m \u001b[38;5;66;03m# 默认参数\u001b[39;00m\n\u001b[0;32m      2\u001b[0m \u001b[38;5;66;03m# 新的power(x, n)函数定义没有问题，但是，旧的调用代码失败了，\u001b[39;00m\n\u001b[0;32m      3\u001b[0m \u001b[38;5;66;03m# 原因是我们增加了一个参数，导致旧的代码因为缺少一个参数而无法正常调用：\u001b[39;00m\n\u001b[1;32m----> 5\u001b[0m \u001b[43mpower\u001b[49m\u001b[43m(\u001b[49m\u001b[38;5;241;43m5\u001b[39;49m\u001b[43m)\u001b[49m\n",
      "\u001b[1;31mTypeError\u001b[0m: power() missing 1 required positional argument: 'n'"
     ]
    }
   ],
   "source": [
    "# 默认参数\n",
    "# 新的power(x, n)函数定义没有问题，但是，旧的调用代码失败了，\n",
    "# 原因是我们增加了一个参数，导致旧的代码因为缺少一个参数而无法正常调用：\n",
    "\n",
    "power(5)"
   ]
  },
  {
   "cell_type": "code",
   "execution_count": 14,
   "metadata": {},
   "outputs": [
    {
     "name": "stdout",
     "output_type": "stream",
     "text": [
      "25\n",
      "25\n"
     ]
    },
    {
     "data": {
      "text/plain": [
       "'\\n如果默认参数放在前面，而位置参数放在后面，会导致以下问题：\\n当你调用函数时Python 无法确定哪些值是传递给位置参数的，哪些是传递给默认参数的。\\n这会导致歧义Python 解释器无法正确解析参数。\\n'"
      ]
     },
     "execution_count": 14,
     "metadata": {},
     "output_type": "execute_result"
    }
   ],
   "source": [
    "# Python的错误信息很明确：调用函数power()缺少了一个位置参数n。\n",
    "# 这个时候，默认参数就排上用场了。由于我们经常计算x2，所以，完全可以把第二个参数n的默认值设定为2：\n",
    "def power(x,n=2):\n",
    "    sum = 1\n",
    "    for i in range(n):\n",
    "        sum = sum * x\n",
    "    return sum\n",
    "\n",
    "print(power(5))\n",
    "print(power(5,2))\n",
    "\n",
    "# 而对于n > 2的其他情况，就必须明确地传入n，比如power(5, 3)。\n",
    "# 从上面的例子可以看出，默认参数可以简化函数的调用。设置默认参数时，有几点要注意：\n",
    "\n",
    "# 一是必选参数在前，默认参数在后，否则Python的解释器会报错（思考一下为什么默认参数不能放在必选参数前面）\n",
    "'''\n",
    "如果默认参数放在前面，而位置参数放在后面，会导致以下问题：\n",
    "当你调用函数时Python 无法确定哪些值是传递给位置参数的，哪些是传递给默认参数的。\n",
    "这会导致歧义Python 解释器无法正确解析参数。\n",
    "'''"
   ]
  },
  {
   "cell_type": "code",
   "execution_count": 16,
   "metadata": {},
   "outputs": [
    {
     "name": "stdout",
     "output_type": "stream",
     "text": [
      "name: Bob\n",
      "gender: A\n"
     ]
    }
   ],
   "source": [
    "# 二是如何设置默认参数。\n",
    "# 当函数有多个参数时，把变化大的参数放前面，变化小的参数放后面。变化小的参数就可以作为默认参数。\n",
    "# 使用默认参数有什么好处？最大的好处是能降低调用函数的难度。\n",
    "# 举个例子，我们写个一年级小学生注册的函数，需要传入name和gender两个参数：\n",
    "def enroll(name,gender):\n",
    "    print('name:',name)\n",
    "    print('gender:',gender)\n",
    "\n",
    "enroll('Bob','A')"
   ]
  },
  {
   "cell_type": "code",
   "execution_count": 19,
   "metadata": {},
   "outputs": [
    {
     "name": "stdout",
     "output_type": "stream",
     "text": [
      "name: Alice\n",
      "gender: M\n",
      "age: 18\n",
      "city: ShangHai\n",
      "name: Cloud\n",
      "gender: F\n",
      "age: 16\n",
      "city: Final Fantasy\n",
      "name: Adam\n",
      "gender: M\n",
      "age: 18\n",
      "city: Tianjing\n"
     ]
    }
   ],
   "source": [
    "# 如果要继续传入年龄、城市等信息怎么办？这样会使得调用函数的复杂度大大增加。\n",
    "# 我们可以把年龄和城市设为默认参数：\n",
    "def enroll(name,gender,age = 18,city = \"ShangHai\"):\n",
    "    print('name:',name)\n",
    "    print('gender:',gender)\n",
    "    print('age:',age)\n",
    "    print('city:',city)\n",
    "\n",
    "enroll('Alice','M')\n",
    "enroll('Cloud','F',age=16,city='Final Fantasy')\n",
    "\n",
    "#也可以不按顺序提供部分默认参数。当不按顺序提供部分默认参数时，需要把参数名写上。\n",
    "# 比如调用enroll('Adam', 'M', city='Tianjin')，意思是，city参数用传进去的值，其他默认参数继续使用默认值。\n",
    "enroll('Adam','M',city='Tianjing')"
   ]
  },
  {
   "cell_type": "code",
   "execution_count": 28,
   "metadata": {},
   "outputs": [
    {
     "name": "stdout",
     "output_type": "stream",
     "text": [
      "[1, 2, 3, 'END']\n",
      "['x', 'y', 'z', 'END']\n"
     ]
    }
   ],
   "source": [
    "# 默认参数很有用，但使用不当，也会掉坑里。默认参数有个最大的坑，演示如下：\n",
    "# 先定义一个函数，传入一个list，添加一个END再返回：\n",
    "def add_end(L=[]):\n",
    "    L.append('END')\n",
    "    return L\n",
    "# 当你正常调用时，结果似乎不错：\n",
    "print(add_end([1,2,3]))\n",
    "print(add_end(['x', 'y', 'z']))"
   ]
  },
  {
   "cell_type": "code",
   "execution_count": null,
   "metadata": {},
   "outputs": [
    {
     "name": "stdout",
     "output_type": "stream",
     "text": [
      "['END']\n",
      "['END', 'END']\n",
      "['END', 'END', 'END']\n"
     ]
    }
   ],
   "source": [
    "# 当你使用默认参数调用时，一开始结果也是对的：\n",
    "print(add_end())\n",
    "print(add_end())\n",
    "print(add_end())\n",
    "\n",
    "# 很多初学者很疑惑，默认参数是[]，但是函数似乎每次都“记住了”上次添加了'END'后的list。\n",
    "# 原因解释如下：\n",
    "# Python函数在定义的时候，默认参数L的值就被计算出来了，即[]，因为默认参数L也是一个变量，\n",
    "# 它指向对象[]，每次调用该函数，如果改变了L的内容，则下次调用时，默认参数的内容就变了，不再是函数定义时的[]了。\n",
    "\n",
    "# 定义默认参数要牢记一点：默认参数必须指向不变对象！"
   ]
  },
  {
   "cell_type": "code",
   "execution_count": 32,
   "metadata": {},
   "outputs": [
    {
     "name": "stdout",
     "output_type": "stream",
     "text": [
      "['END']\n",
      "['END']\n",
      "['END']\n"
     ]
    }
   ],
   "source": [
    "# 要修改上面的例子，我们可以用None这个不变对象来实现：\n",
    "def add_end(L=None):\n",
    "    if L is None:\n",
    "        L=[]\n",
    "    L.append('END')\n",
    "    return L\n",
    "\n",
    "print(add_end())\n",
    "print(add_end())\n",
    "print(add_end())\n",
    "\n",
    "# 为什么要设计str、None这样的不变对象呢？因为不变对象一旦创建，对象内部的数据就不能修改，\n",
    "# 这样就减少了由于修改数据导致的错误。此外，由于对象不变，多任务环境下同时读取对象不需要加锁，\n",
    "# 同时读一点问题都没有。我们在编写程序时，如果可以设计一个不变对象，那就尽量设计成不变对象。\n"
   ]
  },
  {
   "cell_type": "code",
   "execution_count": 38,
   "metadata": {},
   "outputs": [
    {
     "name": "stdout",
     "output_type": "stream",
     "text": [
      "14\n",
      "84\n"
     ]
    }
   ],
   "source": [
    "# 可变参数\n",
    "# 在Python函数中，还可以定义可变参数。顾名思义，可变参数就是传入的参数个数是可变的，可以是1个、2个到任意个，还可以是0个。\n",
    "# 我们以数学题为例子，给定一组数字a，b，c……，请计算a2 + b2 + c2 + ……。\n",
    "# 要定义出这个函数，我们必须确定输入的参数。由于参数个数不确定，\n",
    "# 我们首先想到可以把a，b，c……作为一个list或tuple传进来，这样，函数可以定义如下：\n",
    "\n",
    "def calc(numbers:list | tuple):\n",
    "    sum = 0\n",
    "    for n in numbers:\n",
    "        sum = sum + n*n\n",
    "    return sum\n",
    "\n",
    "test = [1,2,3]\n",
    "print(calc(test))\n",
    "test = (1,3,5,7)\n",
    "print(calc(test))"
   ]
  },
  {
   "cell_type": "code",
   "execution_count": 36,
   "metadata": {},
   "outputs": [
    {
     "name": "stdout",
     "output_type": "stream",
     "text": [
      "5\n",
      "0\n"
     ]
    }
   ],
   "source": [
    "# 如果利用可变参数，调用函数的方式可以简化成这样：calc(1, 2, 3)\n",
    "def calc(*numbers):\n",
    "    sum = 0\n",
    "    for n in numbers:\n",
    "        sum = sum + n*n\n",
    "    return sum\n",
    "# 定义可变参数和定义一个list或tuple参数相比，仅仅在参数前面加了一个*号。\n",
    "# 在函数内部，参数numbers接收到的是一个tuple，因此，函数代码完全不变。但是，调用该函数时，可以传入任意个参数，包括0个参数：\n",
    "print(calc(1,2))\n",
    "print(calc())"
   ]
  },
  {
   "cell_type": "code",
   "execution_count": null,
   "metadata": {},
   "outputs": [
    {
     "name": "stdout",
     "output_type": "stream",
     "text": [
      "14\n",
      "14\n"
     ]
    }
   ],
   "source": [
    "# 如果已经有一个list或者tuple，要调用一个可变参数怎么办？可以这样做：\n",
    "nums = [1, 2, 3]\n",
    "print(calc(nums[0], nums[1], nums[2]))\n",
    "\n",
    "#这种写法当然是可行的，问题是太繁琐，所以Python允许你在list或tuple前面加一个*号，把list或tuple的元素变成可变参数传进去：\n",
    "nums = [1, 2, 3]\n",
    "print(calc(*nums))\n",
    "# *nums表示把nums这个list的所有元素作为可变参数传进去。这种写法相当有用，而且很常见。"
   ]
  },
  {
   "cell_type": "code",
   "execution_count": 45,
   "metadata": {},
   "outputs": [
    {
     "name": "stdout",
     "output_type": "stream",
     "text": [
      "name: Micheal age: 30 other: {}\n"
     ]
    }
   ],
   "source": [
    "# 关键字参数\n",
    "# 可变参数允许你传入0个或任意个参数，这些可变参数在函数调用时自动组装为一个tuple。\n",
    "# 而关键字参数允许你传入0个或任意个含参数名的参数，这些关键字参数在函数内部自动组装为一个dict字典。请看示例：\n",
    "# ()tuple []list {}dict\n",
    "def person(name,age,**kw):\n",
    "    print('name:',name,'age:',age,'other:',kw)\n",
    "\n",
    "person('Micheal',30)"
   ]
  },
  {
   "cell_type": "code",
   "execution_count": 46,
   "metadata": {},
   "outputs": [
    {
     "name": "stdout",
     "output_type": "stream",
     "text": [
      "name: Bob age: 35 other: {'city': 'Beijing'}\n",
      "name: Adam age: 45 other: {'gender': 'M', 'job': 'Engineer'}\n"
     ]
    }
   ],
   "source": [
    "# 也可以传入任意个数的关键字的参数\n",
    "person('Bob',35,city='Beijing')\n",
    "\n",
    "person('Adam',45,gender='M',job='Engineer')"
   ]
  },
  {
   "cell_type": "code",
   "execution_count": 48,
   "metadata": {},
   "outputs": [
    {
     "name": "stdout",
     "output_type": "stream",
     "text": [
      "name: Alice age: 22 other: {'city': 'Beijing', 'job': 'Engineer'}\n"
     ]
    }
   ],
   "source": [
    "# 关键字参数有什么用？它可以扩展函数的功能。比如，在person函数里，我们保证能接收到name和age这两个参数，\n",
    "# 但是，如果调用者愿意提供更多的参数，我们也能收到。试想你正在做一个用户注册的功能，除了用户名和年龄是必填项外，\n",
    "# 其他都是可选项，利用关键字参数来定义这个函数就能满足注册的需求。\n",
    "# 和可变参数类似，也可以先组装出一个dict，然后，把该dict转换为关键字参数传进去：\n",
    "extra = {'city':'Beijing','job':'Engineer'}\n",
    "person('Alice',22,city=extra['city'],job=extra['job'])"
   ]
  },
  {
   "cell_type": "code",
   "execution_count": null,
   "metadata": {},
   "outputs": [
    {
     "ename": "TypeError",
     "evalue": "person() takes 2 positional arguments but 4 were given",
     "output_type": "error",
     "traceback": [
      "\u001b[1;31m---------------------------------------------------------------------------\u001b[0m",
      "\u001b[1;31mTypeError\u001b[0m                                 Traceback (most recent call last)",
      "Cell \u001b[1;32mIn[51], line 2\u001b[0m\n\u001b[0;32m      1\u001b[0m \u001b[38;5;66;03m# 当然，上面复杂的调用可以用简化的写法：\u001b[39;00m\n\u001b[1;32m----> 2\u001b[0m \u001b[43mperson\u001b[49m\u001b[43m(\u001b[49m\u001b[38;5;124;43m'\u001b[39;49m\u001b[38;5;124;43mJack\u001b[39;49m\u001b[38;5;124;43m'\u001b[39;49m\u001b[43m,\u001b[49m\u001b[43m \u001b[49m\u001b[38;5;241;43m24\u001b[39;49m\u001b[43m,\u001b[49m\u001b[43m \u001b[49m\u001b[38;5;241;43m*\u001b[39;49m\u001b[43mextra\u001b[49m\u001b[43m)\u001b[49m\n\u001b[0;32m      3\u001b[0m \u001b[38;5;66;03m# **extra表示把extra这个dict的所有key-value用关键字参数传入到函数的**kw参数，\u001b[39;00m\n\u001b[0;32m      4\u001b[0m \u001b[38;5;66;03m# kw将获得一个dict，注意kw获得的dict是extra的一份拷贝，对kw的改动不会影响到函数外的extra。\u001b[39;00m\n",
      "\u001b[1;31mTypeError\u001b[0m: person() takes 2 positional arguments but 4 were given"
     ]
    }
   ],
   "source": [
    "# 当然，上面复杂的调用可以用简化的写法：\n",
    "person('Jack', 24, **extra)\n",
    "# **extra表示把extra这个dict的所有key-value用关键字参数传入到函数的**kw参数，\n",
    "# kw将获得一个dict，注意kw获得的dict是extra的一份拷贝，对kw的改动不会影响到函数外的extra。"
   ]
  },
  {
   "cell_type": "code",
   "execution_count": 57,
   "metadata": {},
   "outputs": [
    {
     "name": "stdout",
     "output_type": "stream",
     "text": [
      "1 2 3\n"
     ]
    }
   ],
   "source": [
    "# *extra 这里的 * 是解包操作符（unpacking operator），它会将可迭代对象 extra 解包为多个独立的参数，然后传递给 print()。\n",
    "extra = [1, 2, 3]\n",
    "print(*extra)\n",
    "\n",
    "# **extra 这里的 ** 是字典解包操作符（dictionary unpacking operator），它会将字典 extra 解包为关键字参数，然后传递给 print()。\n",
    "# print() 函数只接受特定的关键字参数（如 sep、end、file、flush），因此字典的键必须是这些参数之一，否则会抛出 TypeError。\n",
    "# 所以无法print(**extra),如果上述的字典的键不是这样的话。\n",
    "# **extra 将字典 {\"sep\": \" | \", \"end\": \"!\\n\"} 解包为 sep=\" | \", end=\"!\\n\"。"
   ]
  },
  {
   "cell_type": "code",
   "execution_count": 59,
   "metadata": {},
   "outputs": [
    {
     "name": "stdout",
     "output_type": "stream",
     "text": [
      "{'city': 'Beijing', 'addr': 'Chaoyang', 'zipcode': 123456}\n",
      "kw type <class 'dict'>\n",
      "city in kw\n",
      "name: Jack age: 24 other: {'city': 'Beijing', 'addr': 'Chaoyang', 'zipcode': 123456}\n"
     ]
    }
   ],
   "source": [
    "# 命名关键字参数\n",
    "# 对于关键字参数，函数的调用者可以传入任意不受限制的关键字参数。至于到底传入了哪些，就需要在函数内部通过kw检查。\n",
    "# 仍以person()函数为例，我们希望检查是否有city和job参数：\n",
    "def person(name,age,**kw):\n",
    "    print(kw)\n",
    "    print('kw type',type(kw))\n",
    "    if 'city' in kw:\n",
    "        print('city in kw')\n",
    "    if 'job' in kw:\n",
    "        print('job in kw')\n",
    "    print('name:',name,'age:',age,'other:',kw)\n",
    "\n",
    "person('Jack', 24, city='Beijing', addr='Chaoyang', zipcode=123456)"
   ]
  },
  {
   "cell_type": "code",
   "execution_count": 64,
   "metadata": {},
   "outputs": [
    {
     "name": "stdout",
     "output_type": "stream",
     "text": [
      "jack 24 Beijing Engineer\n"
     ]
    },
    {
     "ename": "TypeError",
     "evalue": "person() takes 2 positional arguments but 4 were given",
     "output_type": "error",
     "traceback": [
      "\u001b[1;31m---------------------------------------------------------------------------\u001b[0m",
      "\u001b[1;31mTypeError\u001b[0m                                 Traceback (most recent call last)",
      "Cell \u001b[1;32mIn[64], line 7\u001b[0m\n\u001b[0;32m      4\u001b[0m \u001b[38;5;66;03m# 和关键字参数**kw不同，命名关键字参数需要一个特殊分隔符*，*后面的参数被视为命名关键字参数。\u001b[39;00m\n\u001b[0;32m      5\u001b[0m person(\u001b[38;5;124m'\u001b[39m\u001b[38;5;124mjack\u001b[39m\u001b[38;5;124m'\u001b[39m,\u001b[38;5;241m24\u001b[39m,city\u001b[38;5;241m=\u001b[39m\u001b[38;5;124m'\u001b[39m\u001b[38;5;124mBeijing\u001b[39m\u001b[38;5;124m'\u001b[39m,job\u001b[38;5;241m=\u001b[39m\u001b[38;5;124m'\u001b[39m\u001b[38;5;124mEngineer\u001b[39m\u001b[38;5;124m'\u001b[39m)\n\u001b[1;32m----> 7\u001b[0m \u001b[43mperson\u001b[49m\u001b[43m(\u001b[49m\u001b[38;5;124;43m'\u001b[39;49m\u001b[38;5;124;43mjack\u001b[39;49m\u001b[38;5;124;43m'\u001b[39;49m\u001b[43m,\u001b[49m\u001b[38;5;241;43m24\u001b[39;49m\u001b[43m,\u001b[49m\u001b[38;5;124;43m'\u001b[39;49m\u001b[38;5;124;43mBeijing\u001b[39;49m\u001b[38;5;124;43m'\u001b[39;49m\u001b[43m,\u001b[49m\u001b[38;5;124;43m'\u001b[39;49m\u001b[38;5;124;43mEngineer\u001b[39;49m\u001b[38;5;124;43m'\u001b[39;49m\u001b[43m)\u001b[49m\n",
      "\u001b[1;31mTypeError\u001b[0m: person() takes 2 positional arguments but 4 were given"
     ]
    }
   ],
   "source": [
    "# 如果要限制关键字参数的名字，就可以用命名关键字参数，例如，只接收city和job作为关键字参数。这种方式定义的函数如下：\n",
    "def person(name,age,*,city,job):\n",
    "    print(name,age,city,job)\n",
    "# 和关键字参数**kw不同，命名关键字参数需要一个特殊分隔符*，*后面的参数被视为命名关键字参数。\n",
    "person('jack',24,city='Beijing',job='Engineer')\n",
    "\n",
    "person('jack',24,'Beijing','Engineer')"
   ]
  },
  {
   "cell_type": "code",
   "execution_count": null,
   "metadata": {},
   "outputs": [
    {
     "ename": "TypeError",
     "evalue": "person() missing 2 required keyword-only arguments: 'city' and 'job'",
     "output_type": "error",
     "traceback": [
      "\u001b[1;31m---------------------------------------------------------------------------\u001b[0m",
      "\u001b[1;31mTypeError\u001b[0m                                 Traceback (most recent call last)",
      "Cell \u001b[1;32mIn[62], line 5\u001b[0m\n\u001b[0;32m      3\u001b[0m     \u001b[38;5;28mprint\u001b[39m(name,age,args,city,job)\n\u001b[0;32m      4\u001b[0m \u001b[38;5;66;03m# 命名关键字参数必须传入参数名，这和位置参数不同。如果没有传入参数名，调用将报错：\u001b[39;00m\n\u001b[1;32m----> 5\u001b[0m \u001b[43mperson\u001b[49m\u001b[43m(\u001b[49m\u001b[38;5;124;43m'\u001b[39;49m\u001b[38;5;124;43mJack\u001b[39;49m\u001b[38;5;124;43m'\u001b[39;49m\u001b[43m,\u001b[49m\u001b[38;5;241;43m24\u001b[39;49m\u001b[43m,\u001b[49m\u001b[38;5;124;43m'\u001b[39;49m\u001b[38;5;124;43mBeijing\u001b[39;49m\u001b[38;5;124;43m'\u001b[39;49m\u001b[43m,\u001b[49m\u001b[38;5;124;43m'\u001b[39;49m\u001b[38;5;124;43mEngineer\u001b[39;49m\u001b[38;5;124;43m'\u001b[39;49m\u001b[43m)\u001b[49m\n",
      "\u001b[1;31mTypeError\u001b[0m: person() missing 2 required keyword-only arguments: 'city' and 'job'"
     ]
    }
   ],
   "source": [
    "# 如果函数定义中已经有了一个可变参数，后面跟着的命名关键字参数就不再需要一个特殊分隔符*了：\n",
    "def person(name,age,*args,city,job):\n",
    "    print(name,age,args,city,job)\n",
    "# 命名关键字参数必须传入参数名，这和位置参数不同。如果没有传入参数名，调用将报错：\n",
    "person('Jack',24,'Beijing','Engineer')\n",
    "# 由于调用时缺少参数名city和job，Python解释器把前两个参数视为位置参数，后两个参数传给*args，但缺少命名关键字参数导致报错。"
   ]
  },
  {
   "cell_type": "code",
   "execution_count": 63,
   "metadata": {},
   "outputs": [
    {
     "name": "stdout",
     "output_type": "stream",
     "text": [
      "Jack 25 Beijing Engineeer\n"
     ]
    }
   ],
   "source": [
    "# 命名关键字参数可以有缺省值，从而简化调用：\n",
    "def person(name,age,*,city='Beijing',job):\n",
    "    print(name,age,city,job)\n",
    "\n",
    "# 有命名关键参数city具有默认值，调用时，可不传入city参数：\n",
    "person('Jack',25,job='Engineeer')"
   ]
  },
  {
   "cell_type": "code",
   "execution_count": 65,
   "metadata": {},
   "outputs": [],
   "source": [
    "# 使用命名关键字参数时，要特别注意，如果没有可变参数，就必须加一个*作为特殊分隔符。如果缺少*，Python解释器将无法识别位置参数和命名关键字参数：\n",
    "def person(name,age,city,job):\n",
    "    # 缺乏#，city和job被视为位置参数\n",
    "    pass"
   ]
  },
  {
   "cell_type": "code",
   "execution_count": null,
   "metadata": {},
   "outputs": [],
   "source": [
    "# 参数组合\n",
    "# 在Python中定义函数，可以用必选参数、默认参数、可变参数、关键字参数和命名关键字参数，\n",
    "# 这5种参数都可以组合使用。但是请注意，参数定义的顺序必须是：必选参数、默认参数、可变参数、命名关键字参数和关键字参数。\n",
    "\n",
    "# 参数顺序规则\n",
    "# 必选参数（位置参数）：必须传递值的参数。\n",
    "# 默认参数：可以为参数指定默认值，调用时可以不传递。\n",
    "# 可变参数（*args）：接收任意数量的位置参数，打包成一个元组。\n",
    "# 命名关键字参数：必须通过关键字传递的参数，通常放在 * 或 *args 之后。\n",
    "# 关键字参数（**kwargs）：接收任意数量的关键字参数，打包成一个字典。\n",
    "\n",
    "def example(a, b, c=3, *args, d, e=5, **kwargs):\n",
    "    print(\"必选参数 a, b:\", a, b)\n",
    "    print(\"默认参数 c:\", c)\n",
    "    print(\"可变参数 args:\", args)\n",
    "    print(\"命名关键字参数 d, e:\", d, e)\n",
    "    print(\"关键字参数 kwargs:\", kwargs)\n",
    "\n",
    "# 调用函数\n",
    "example(1, 2, 4, 6, 7, d=8, f=9, g=10)"
   ]
  },
  {
   "cell_type": "code",
   "execution_count": 72,
   "metadata": {},
   "outputs": [
    {
     "name": "stdout",
     "output_type": "stream",
     "text": [
      "a = 1 b = 2 c = 0 args = () d= 0 kw = {}\n",
      "a = 1 b = 2 c = 3 args = () d= 0 kw = {}\n",
      "a = 1 b = 2 c = 3 args = ('a', 'b') d= 0 kw = {}\n",
      "a = 1 b = 2 c = 3 args = ('a', 'b') d= 0 kw = {'x': 99}\n",
      "a = 1 b = 2 c = 0 d = 99 kw = {'ext': None}\n"
     ]
    }
   ],
   "source": [
    "def f1(a, b, c=0, *args,d=0, **kw):\n",
    "    print('a =', a, 'b =', b, 'c =', c, 'args =', args,'d=',d, 'kw =', kw)\n",
    "\n",
    "def f2(a, b, c=0, *, d, **kw):\n",
    "    print('a =', a, 'b =', b, 'c =', c, 'd =', d, 'kw =', kw)\n",
    "\n",
    "f1(1,2)\n",
    "f1(1,2,c=3)\n",
    "f1(1,2,3,'a','b')\n",
    "f1(1, 2, 3, 'a', 'b', x=99)\n",
    "f2(1, 2, d=99, ext=None)"
   ]
  },
  {
   "cell_type": "code",
   "execution_count": 75,
   "metadata": {},
   "outputs": [
    {
     "name": "stdout",
     "output_type": "stream",
     "text": [
      "a = 1 b = 2 c = 3 args = (4,) d= 99 kw = {'x': '#'}\n"
     ]
    }
   ],
   "source": [
    "# 最神奇的是通过一个tuple和dict，你也可以调用上述函数：\n",
    "args = (1,2,3,4)\n",
    "kw={'d':99,'x':'#'}\n",
    "f1(*args,**kw)"
   ]
  },
  {
   "cell_type": "code",
   "execution_count": 78,
   "metadata": {},
   "outputs": [
    {
     "name": "stdout",
     "output_type": "stream",
     "text": [
      "mul(5) = 5\n",
      "mul(5, 6) = 30\n",
      "mul(5, 6, 7) = 210\n",
      "mul(5, 6, 7, 9) = 1890\n",
      "测试成功!\n"
     ]
    }
   ],
   "source": [
    "# 所以，对于任意函数，都可以通过类似func(*args, **kw)的形式调用它，无论它的参数是如何定义的。\n",
    "# 虽然可以组合多达5种参数，但不要同时使用太多的组合，否则函数接口的可理解性很差。\n",
    "\n",
    "# 练习\n",
    "# 以下函数允许计算两个数的乘积，请稍加改造，变成可接收一个或多个数并计算乘积：\n",
    "def SampleMul(x,y):\n",
    "    return x*y\n",
    "\n",
    "def mul(*args):\n",
    "    if not args:\n",
    "        raise TypeError(\"至少需要一个参数\")\n",
    "    sum = 1\n",
    "    for i in args:\n",
    "        sum = sum*i\n",
    "    return sum\n",
    "\n",
    "print('mul(5) =', mul(5))\n",
    "print('mul(5, 6) =', mul(5, 6))\n",
    "print('mul(5, 6, 7) =', mul(5, 6, 7))\n",
    "print('mul(5, 6, 7, 9) =', mul(5, 6, 7, 9))\n",
    "if mul(5) != 5:\n",
    "    print('mul(5)测试失败!')\n",
    "elif mul(5, 6) != 30:\n",
    "    print('mul(5, 6)测试失败!')\n",
    "elif mul(5, 6, 7) != 210:\n",
    "    print('mul(5, 6, 7)测试失败!')\n",
    "elif mul(5, 6, 7, 9) != 1890:\n",
    "    print('mul(5, 6, 7, 9)测试失败!')\n",
    "else:\n",
    "    try:\n",
    "        mul()\n",
    "        print('mul()测试失败!')\n",
    "    except TypeError:\n",
    "        print('测试成功!')"
   ]
  },
  {
   "cell_type": "code",
   "execution_count": null,
   "metadata": {},
   "outputs": [],
   "source": []
  }
 ],
 "metadata": {
  "kernelspec": {
   "display_name": "homework",
   "language": "python",
   "name": "python3"
  },
  "language_info": {
   "codemirror_mode": {
    "name": "ipython",
    "version": 3
   },
   "file_extension": ".py",
   "mimetype": "text/x-python",
   "name": "python",
   "nbconvert_exporter": "python",
   "pygments_lexer": "ipython3",
   "version": "3.10.16"
  }
 },
 "nbformat": 4,
 "nbformat_minor": 2
}
