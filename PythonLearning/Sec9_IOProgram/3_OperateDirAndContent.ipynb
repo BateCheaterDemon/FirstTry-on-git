{
 "cells": [
  {
   "cell_type": "code",
   "execution_count": 2,
   "metadata": {},
   "outputs": [
    {
     "name": "stdout",
     "output_type": "stream",
     "text": [
      "nt\n"
     ]
    }
   ],
   "source": [
    "# 如果我们要操作文件、目录，可以在命令行下面输入操作系统提供的各种命令来完成。\n",
    "# 比如dir、cp等命令。\n",
    "# 如果要在Python程序中执行这些目录和文件的操作怎么办？\n",
    "# 其实操作系统提供的命令只是简单地调用了操作系统提供的接口函数，\n",
    "# Python内置的os模块也可以直接调用操作系统提供的接口函数。\n",
    "# 打开Python交互式命令行，我们来看看如何使用os模块的基本功能：\n",
    "import os\n",
    "print(os.name)\n",
    "# 如果是posix，说明系统是Linux、Unix或macOS，如果是nt，就是Windows系统。\n",
    "# 要获取详细的系统信息，可以调用uname()函数："
   ]
  },
  {
   "cell_type": "code",
   "execution_count": null,
   "metadata": {},
   "outputs": [
    {
     "ename": "AttributeError",
     "evalue": "module 'os' has no attribute 'uname'",
     "output_type": "error",
     "traceback": [
      "\u001b[1;31m---------------------------------------------------------------------------\u001b[0m",
      "\u001b[1;31mAttributeError\u001b[0m                            Traceback (most recent call last)",
      "Cell \u001b[1;32mIn[7], line 1\u001b[0m\n\u001b[1;32m----> 1\u001b[0m \u001b[43mos\u001b[49m\u001b[38;5;241;43m.\u001b[39;49m\u001b[43muname\u001b[49m()\n",
      "\u001b[1;31mAttributeError\u001b[0m: module 'os' has no attribute 'uname'"
     ]
    }
   ],
   "source": [
    "os.uname()\n",
    "# 注意uname()函数在Windows上不提供，也就是说，os模块的某些函数是跟操作系统相关的。"
   ]
  },
  {
   "cell_type": "code",
   "execution_count": 8,
   "metadata": {},
   "outputs": [
    {
     "data": {
      "text/plain": [
       "environ{'ALLUSERSPROFILE': 'C:\\\\ProgramData',\n",
       "        'APPDATA': 'C:\\\\Users\\\\BateCheaterDemon\\\\AppData\\\\Roaming',\n",
       "        'APPLICATION_INSIGHTS_NO_DIAGNOSTIC_CHANNEL': '1',\n",
       "        'CHROME_CRASHPAD_PIPE_NAME': '\\\\\\\\.\\\\pipe\\\\crashpad_32572_NWGBFGGHPFXMULRD',\n",
       "        'COMMONPROGRAMFILES': 'C:\\\\Program Files\\\\Common Files',\n",
       "        'COMMONPROGRAMFILES(X86)': 'C:\\\\Program Files (x86)\\\\Common Files',\n",
       "        'COMMONPROGRAMW6432': 'C:\\\\Program Files\\\\Common Files',\n",
       "        'COMPUTERNAME': 'ADMINISTRATOR',\n",
       "        'COMSPEC': 'C:\\\\WINDOWS\\\\system32\\\\cmd.exe',\n",
       "        'CONDA_DEFAULT_ENV': 'homework',\n",
       "        'CONDA_EXE': 'F:\\\\FOR-LEARNING\\\\Anaconda3\\\\Scripts\\\\conda.exe',\n",
       "        'CONDA_PREFIX': 'F:\\\\FOR-LEARNING\\\\Anaconda3\\\\envs\\\\homework',\n",
       "        'CONDA_PROMPT_MODIFIER': '(homework) ',\n",
       "        'CONDA_PYTHON_EXE': 'F:\\\\FOR-LEARNING\\\\Anaconda3\\\\python.exe',\n",
       "        'CONDA_ROOT': 'F:\\\\FOR-LEARNING\\\\Anaconda3',\n",
       "        'CONDA_SHLVL': '1',\n",
       "        'CUDA_PATH': 'C:\\\\Program Files\\\\NVIDIA GPU Computing Toolkit\\\\CUDA\\\\v11.7',\n",
       "        'CUDA_PATH_V11_7': 'C:\\\\Program Files\\\\NVIDIA GPU Computing Toolkit\\\\CUDA\\\\v11.7',\n",
       "        'DRIVERDATA': 'C:\\\\Windows\\\\System32\\\\Drivers\\\\DriverData',\n",
       "        'EFC_14768_1262719628': '1',\n",
       "        'EFC_14768_1592913036': '1',\n",
       "        'EFC_14768_2283032206': '1',\n",
       "        'EFC_14768_2775293581': '1',\n",
       "        'EFC_14768_3789132940': '1',\n",
       "        'ELECTRON_RUN_AS_NODE': '1',\n",
       "        'FPS_BROWSER_APP_PROFILE_STRING': 'Internet Explorer',\n",
       "        'FPS_BROWSER_USER_PROFILE_STRING': 'Default',\n",
       "        'HOMEDRIVE': 'C:',\n",
       "        'HOMEPATH': '\\\\Users\\\\BateCheaterDemon',\n",
       "        'JPY_INTERRUPT_EVENT': '2720',\n",
       "        'KMP_DUPLICATE_LIB_OK': 'TRUE',\n",
       "        'LOCALAPPDATA': 'C:\\\\Users\\\\BateCheaterDemon\\\\AppData\\\\Local',\n",
       "        'LOGONSERVER': '\\\\\\\\ADMINISTRATOR',\n",
       "        'MKL_SERIAL': 'YES',\n",
       "        'NUMBER_OF_PROCESSORS': '16',\n",
       "        'NVTOOLSEXT_PATH': 'C:\\\\Program Files\\\\NVIDIA Corporation\\\\NvToolsExt\\\\',\n",
       "        'ONEDRIVE': 'C:\\\\Users\\\\BateCheaterDemon\\\\OneDrive',\n",
       "        'ORIGINAL_XDG_CURRENT_DESKTOP': 'undefined',\n",
       "        'OS': 'Windows_NT',\n",
       "        'PATH': 'f:\\\\FOR-LEARNING\\\\Anaconda3\\\\envs\\\\homework;F:\\\\FOR-LEARNING\\\\Anaconda3\\\\envs\\\\homework;F:\\\\FOR-LEARNING\\\\Anaconda3\\\\envs\\\\homework\\\\Library\\\\mingw-w64\\\\bin;F:\\\\FOR-LEARNING\\\\Anaconda3\\\\envs\\\\homework\\\\Library\\\\usr\\\\bin;F:\\\\FOR-LEARNING\\\\Anaconda3\\\\envs\\\\homework\\\\Library\\\\bin;F:\\\\FOR-LEARNING\\\\Anaconda3\\\\envs\\\\homework\\\\Scripts;F:\\\\FOR-LEARNING\\\\Anaconda3\\\\envs\\\\homework\\\\bin;F:\\\\FOR-LEARNING\\\\Anaconda3\\\\condabin;C:\\\\Program Files\\\\NVIDIA GPU Computing Toolkit\\\\CUDA\\\\v11.7\\\\bin;C:\\\\Program Files\\\\NVIDIA GPU Computing Toolkit\\\\CUDA\\\\v11.7\\\\libnvvp;C:\\\\Windows\\\\system32;C:\\\\Windows;C:\\\\Windows\\\\System32\\\\Wbem;C:\\\\Windows\\\\System32\\\\WindowsPowerShell\\\\v1.0;C:\\\\Windows\\\\System32\\\\OpenSSH;C:\\\\Program Files\\\\NVIDIA Corporation\\\\NVIDIA NvDLISR;C:\\\\WINDOWS\\\\system32;C:\\\\WINDOWS;C:\\\\WINDOWS\\\\System32\\\\Wbem;C:\\\\WINDOWS\\\\System32\\\\WindowsPowerShell\\\\v1.0;C:\\\\WINDOWS\\\\System32\\\\OpenSSH;gram Files\\\\dotnet;gram Files (x86)\\\\NVIDIA Corporation\\\\PhysX\\\\Common;C:\\\\Program Files\\\\NVIDIA Corporation\\\\Nsight Compute 2022.2.0;F:\\\\FOR-LEARNING\\\\Anaconda3;F:\\\\FOR-LEARNING\\\\Anaconda3\\\\Scripts;F:\\\\FOR-LEARNING\\\\Anaconda3\\\\Library\\\\bin;F:\\\\FOR-LEARNING\\\\Anaconda3\\\\Library\\\\mingw-w64\\\\bin;F:\\\\FOR-LEARNING\\\\Anaconda3\\\\Library\\\\usr\\\\bin;lab2022\\\\body\\\\runtime\\\\win64;D:\\\\matlab2022\\\\body\\\\bin;ke3.11.3\\\\bin;D:\\\\cmake3.20\\\\bin;D:\\\\cmake3.20.0rc1\\\\bin;D:\\\\Cmake3.21\\\\bin;ke3.11.1\\\\bin;D:\\\\Toolkits\\\\cmake3.11.1\\\\bin;D:\\\\Toolkits\\\\qt5.11.1\\\\5.11.1\\\\msvc2017_64\\\\bin;D:\\\\Toolkits\\\\qt5.11.1\\\\5.11.1\\\\msvc2017_64\\\\lib;C:\\\\Program Files\\\\Microsoft SQL Server\\\\150\\\\Tools\\\\Binn;C:\\\\Program Files\\\\dotnet;C:\\\\Program Files (x86)\\\\Incredibuild;C:\\\\Program Files\\\\CodeBlocks\\\\MinGW\\\\bin;D:\\\\Git\\\\Git\\\\cmd;C:\\\\Users\\\\BateCheaterDemon\\\\AppData\\\\Local\\\\Microsoft\\\\WindowsApps;C:\\\\Program Files\\\\Bandizip;F:\\\\FOR-LEARNING\\\\Pycharm\\\\PyCharm Community Edition 2022.3.1\\\\bin;.;C:\\\\Users\\\\BateCheaterDemon\\\\.dotnet\\\\tools;D:\\\\VS code\\\\Microsoft VS Code\\\\bin;D:\\\\qt5.11.1\\\\body\\\\5.11.1\\\\msvc2017_64\\\\bin;.',\n",
       "        'PATHEXT': '.COM;.EXE;.BAT;.CMD;.VBS;.VBE;.JS;.JSE;.WSF;.WSH;.MSC',\n",
       "        'PROCESSOR_ARCHITECTURE': 'AMD64',\n",
       "        'PROCESSOR_IDENTIFIER': 'Intel64 Family 6 Model 141 Stepping 1, GenuineIntel',\n",
       "        'PROCESSOR_LEVEL': '6',\n",
       "        'PROCESSOR_REVISION': '8d01',\n",
       "        'PROGRAMDATA': 'C:\\\\ProgramData',\n",
       "        'PROGRAMFILES': 'C:\\\\Program Files',\n",
       "        'PROGRAMFILES(X86)': 'C:\\\\Program Files (x86)',\n",
       "        'PROGRAMW6432': 'C:\\\\Program Files',\n",
       "        'PROMPT': '(homework) $P$G',\n",
       "        'PSMODULEPATH': 'C:\\\\Program Files\\\\WindowsPowerShell\\\\Modules;C:\\\\WINDOWS\\\\system32\\\\WindowsPowerShell\\\\v1.0\\\\Modules',\n",
       "        'PUBLIC': 'C:\\\\Users\\\\Public',\n",
       "        'PYCHARM COMMUNITY EDITION': 'F:\\\\FOR-LEARNING\\\\Pycharm\\\\PyCharm Community Edition 2022.3.1\\\\bin;',\n",
       "        'PYDEVD_IPYTHON_COMPATIBLE_DEBUGGING': '1',\n",
       "        'PYTHONIOENCODING': 'utf-8',\n",
       "        'PYTHONUNBUFFERED': '1',\n",
       "        'PYTHONUTF8': '1',\n",
       "        'PYTHON_FROZEN_MODULES': 'on',\n",
       "        'SESSIONNAME': 'Console',\n",
       "        'SSL_CERT_FILE': 'F:\\\\FOR-LEARNING\\\\Anaconda3\\\\envs\\\\homework\\\\Library\\\\ssl\\\\cacert.pem',\n",
       "        'SYSTEMDRIVE': 'C:',\n",
       "        'SYSTEMROOT': 'C:\\\\WINDOWS',\n",
       "        'TEMP': 'C:\\\\Users\\\\BATECH~1\\\\AppData\\\\Local\\\\Temp',\n",
       "        'TMP': 'C:\\\\Users\\\\BATECH~1\\\\AppData\\\\Local\\\\Temp',\n",
       "        'USERDOMAIN': 'ADMINISTRATOR',\n",
       "        'USERDOMAIN_ROAMINGPROFILE': 'ADMINISTRATOR',\n",
       "        'USERNAME': 'BateCheaterDemon',\n",
       "        'USERPROFILE': 'C:\\\\Users\\\\BateCheaterDemon',\n",
       "        'VS140COMNTOOLS': 'D:\\\\Program Files (x86)\\\\Microsoft Visual Studio 14.0\\\\Common7\\\\Tools\\\\',\n",
       "        'VSCODE_CODE_CACHE_PATH': 'C:\\\\Users\\\\BateCheaterDemon\\\\AppData\\\\Roaming\\\\Code\\\\CachedData\\\\65edc4939843c90c34d61f4ce11704f09d3e5cb6',\n",
       "        'VSCODE_CRASH_REPORTER_PROCESS_TYPE': 'extensionHost',\n",
       "        'VSCODE_CWD': 'D:\\\\VS code\\\\Microsoft VS Code',\n",
       "        'VSCODE_ESM_ENTRYPOINT': 'vs/workbench/api/node/extensionHostProcess',\n",
       "        'VSCODE_HANDLES_UNCAUGHT_ERRORS': 'true',\n",
       "        'VSCODE_IPC_HOOK': '\\\\\\\\.\\\\pipe\\\\b058d124-1.95.1-main-sock',\n",
       "        'VSCODE_L10N_BUNDLE_LOCATION': 'file:///c%3A/Users/BateCheaterDemon/.vscode/extensions/ms-ceintl.vscode-language-pack-zh-hans-1.95.2024103009/translations/extensions/vscode.json-language-features.i18n.json',\n",
       "        'VSCODE_NLS_CONFIG': '{\"userLocale\":\"zh-cn\",\"osLocale\":\"zh-cn\",\"resolvedLanguage\":\"zh-cn\",\"defaultMessagesFile\":\"D:\\\\\\\\VS code\\\\\\\\Microsoft VS Code\\\\\\\\resources\\\\\\\\app\\\\\\\\out\\\\\\\\nls.messages.json\",\"languagePack\":{\"translationsConfigFile\":\"C:\\\\\\\\Users\\\\\\\\BateCheaterDemon\\\\\\\\AppData\\\\\\\\Roaming\\\\\\\\Code\\\\\\\\clp\\\\\\\\992791cd017d0441f609c48108aa8c37.zh-cn\\\\\\\\tcf.json\",\"messagesFile\":\"C:\\\\\\\\Users\\\\\\\\BateCheaterDemon\\\\\\\\AppData\\\\\\\\Roaming\\\\\\\\Code\\\\\\\\clp\\\\\\\\992791cd017d0441f609c48108aa8c37.zh-cn\\\\\\\\65edc4939843c90c34d61f4ce11704f09d3e5cb6\\\\\\\\nls.messages.json\",\"corruptMarkerFile\":\"C:\\\\\\\\Users\\\\\\\\BateCheaterDemon\\\\\\\\AppData\\\\\\\\Roaming\\\\\\\\Code\\\\\\\\clp\\\\\\\\992791cd017d0441f609c48108aa8c37.zh-cn\\\\\\\\corrupted.info\"},\"locale\":\"zh-cn\",\"availableLanguages\":{\"*\":\"zh-cn\"},\"_languagePackId\":\"992791cd017d0441f609c48108aa8c37.zh-cn\",\"_languagePackSupport\":true,\"_translationsConfigFile\":\"C:\\\\\\\\Users\\\\\\\\BateCheaterDemon\\\\\\\\AppData\\\\\\\\Roaming\\\\\\\\Code\\\\\\\\clp\\\\\\\\992791cd017d0441f609c48108aa8c37.zh-cn\\\\\\\\tcf.json\",\"_cacheRoot\":\"C:\\\\\\\\Users\\\\\\\\BateCheaterDemon\\\\\\\\AppData\\\\\\\\Roaming\\\\\\\\Code\\\\\\\\clp\\\\\\\\992791cd017d0441f609c48108aa8c37.zh-cn\",\"_resolvedLanguagePackCoreLocation\":\"C:\\\\\\\\Users\\\\\\\\BateCheaterDemon\\\\\\\\AppData\\\\\\\\Roaming\\\\\\\\Code\\\\\\\\clp\\\\\\\\992791cd017d0441f609c48108aa8c37.zh-cn\\\\\\\\65edc4939843c90c34d61f4ce11704f09d3e5cb6\",\"_corruptedFile\":\"C:\\\\\\\\Users\\\\\\\\BateCheaterDemon\\\\\\\\AppData\\\\\\\\Roaming\\\\\\\\Code\\\\\\\\clp\\\\\\\\992791cd017d0441f609c48108aa8c37.zh-cn\\\\\\\\corrupted.info\"}',\n",
       "        'VSCODE_PID': '32572',\n",
       "        'WINDIR': 'C:\\\\WINDOWS',\n",
       "        'ZES_ENABLE_SYSMAN': '1',\n",
       "        '_CONDA_OLD_CHCP': '936',\n",
       "        '__CONDA_OPENSLL_CERT_FILE_SET': '\"1\"',\n",
       "        'PYDEVD_USE_FRAME_EVAL': 'NO',\n",
       "        'TERM': 'xterm-color',\n",
       "        'CLICOLOR': '1',\n",
       "        'FORCE_COLOR': '1',\n",
       "        'CLICOLOR_FORCE': '1',\n",
       "        'PAGER': 'cat',\n",
       "        'GIT_PAGER': 'cat',\n",
       "        'MPLBACKEND': 'module://matplotlib_inline.backend_inline'}"
      ]
     },
     "execution_count": 8,
     "metadata": {},
     "output_type": "execute_result"
    }
   ],
   "source": [
    "# 环境变量\n",
    "# 在操作系统中定义的环境变量，\n",
    "# 全部保存在os.environ这个变量中，可以直接查看：\n",
    "os.environ\n"
   ]
  },
  {
   "cell_type": "code",
   "execution_count": 10,
   "metadata": {},
   "outputs": [
    {
     "data": {
      "text/plain": [
       "'f:\\\\FOR-LEARNING\\\\Anaconda3\\\\envs\\\\homework;F:\\\\FOR-LEARNING\\\\Anaconda3\\\\envs\\\\homework;F:\\\\FOR-LEARNING\\\\Anaconda3\\\\envs\\\\homework\\\\Library\\\\mingw-w64\\\\bin;F:\\\\FOR-LEARNING\\\\Anaconda3\\\\envs\\\\homework\\\\Library\\\\usr\\\\bin;F:\\\\FOR-LEARNING\\\\Anaconda3\\\\envs\\\\homework\\\\Library\\\\bin;F:\\\\FOR-LEARNING\\\\Anaconda3\\\\envs\\\\homework\\\\Scripts;F:\\\\FOR-LEARNING\\\\Anaconda3\\\\envs\\\\homework\\\\bin;F:\\\\FOR-LEARNING\\\\Anaconda3\\\\condabin;C:\\\\Program Files\\\\NVIDIA GPU Computing Toolkit\\\\CUDA\\\\v11.7\\\\bin;C:\\\\Program Files\\\\NVIDIA GPU Computing Toolkit\\\\CUDA\\\\v11.7\\\\libnvvp;C:\\\\Windows\\\\system32;C:\\\\Windows;C:\\\\Windows\\\\System32\\\\Wbem;C:\\\\Windows\\\\System32\\\\WindowsPowerShell\\\\v1.0;C:\\\\Windows\\\\System32\\\\OpenSSH;C:\\\\Program Files\\\\NVIDIA Corporation\\\\NVIDIA NvDLISR;C:\\\\WINDOWS\\\\system32;C:\\\\WINDOWS;C:\\\\WINDOWS\\\\System32\\\\Wbem;C:\\\\WINDOWS\\\\System32\\\\WindowsPowerShell\\\\v1.0;C:\\\\WINDOWS\\\\System32\\\\OpenSSH;gram Files\\\\dotnet;gram Files (x86)\\\\NVIDIA Corporation\\\\PhysX\\\\Common;C:\\\\Program Files\\\\NVIDIA Corporation\\\\Nsight Compute 2022.2.0;F:\\\\FOR-LEARNING\\\\Anaconda3;F:\\\\FOR-LEARNING\\\\Anaconda3\\\\Scripts;F:\\\\FOR-LEARNING\\\\Anaconda3\\\\Library\\\\bin;F:\\\\FOR-LEARNING\\\\Anaconda3\\\\Library\\\\mingw-w64\\\\bin;F:\\\\FOR-LEARNING\\\\Anaconda3\\\\Library\\\\usr\\\\bin;lab2022\\\\body\\\\runtime\\\\win64;D:\\\\matlab2022\\\\body\\\\bin;ke3.11.3\\\\bin;D:\\\\cmake3.20\\\\bin;D:\\\\cmake3.20.0rc1\\\\bin;D:\\\\Cmake3.21\\\\bin;ke3.11.1\\\\bin;D:\\\\Toolkits\\\\cmake3.11.1\\\\bin;D:\\\\Toolkits\\\\qt5.11.1\\\\5.11.1\\\\msvc2017_64\\\\bin;D:\\\\Toolkits\\\\qt5.11.1\\\\5.11.1\\\\msvc2017_64\\\\lib;C:\\\\Program Files\\\\Microsoft SQL Server\\\\150\\\\Tools\\\\Binn;C:\\\\Program Files\\\\dotnet;C:\\\\Program Files (x86)\\\\Incredibuild;C:\\\\Program Files\\\\CodeBlocks\\\\MinGW\\\\bin;D:\\\\Git\\\\Git\\\\cmd;C:\\\\Users\\\\BateCheaterDemon\\\\AppData\\\\Local\\\\Microsoft\\\\WindowsApps;C:\\\\Program Files\\\\Bandizip;F:\\\\FOR-LEARNING\\\\Pycharm\\\\PyCharm Community Edition 2022.3.1\\\\bin;.;C:\\\\Users\\\\BateCheaterDemon\\\\.dotnet\\\\tools;D:\\\\VS code\\\\Microsoft VS Code\\\\bin;D:\\\\qt5.11.1\\\\body\\\\5.11.1\\\\msvc2017_64\\\\bin;.'"
      ]
     },
     "execution_count": 10,
     "metadata": {},
     "output_type": "execute_result"
    }
   ],
   "source": [
    "# 要获取某个环境变量的值，可以调用os.environ.get('key')：\n",
    "os.environ.get('PATH')"
   ]
  },
  {
   "cell_type": "code",
   "execution_count": 11,
   "metadata": {},
   "outputs": [
    {
     "data": {
      "text/plain": [
       "'default'"
      ]
     },
     "execution_count": 11,
     "metadata": {},
     "output_type": "execute_result"
    }
   ],
   "source": [
    "os.environ.get('x', 'default')"
   ]
  },
  {
   "cell_type": "code",
   "execution_count": null,
   "metadata": {},
   "outputs": [
    {
     "data": {
      "text/plain": [
       "'f:\\\\学校专业公务用\\\\Github\\\\personal\\\\FirstTry-on-git\\\\PythonLearning\\\\Sec9_IOProgram'"
      ]
     },
     "execution_count": 12,
     "metadata": {},
     "output_type": "execute_result"
    }
   ],
   "source": [
    "# 操作文件和目录\n",
    "# 操作文件和目录的函数一部分放在os模块中，\n",
    "# 一部分放在os.path模块中，这一点要注意一下。\n",
    "# 查看、创建和删除目录可以这么调用：\n",
    "\n",
    "# 查看当前目录的绝对路径:\n",
    "os.path.abspath('.')"
   ]
  },
  {
   "cell_type": "code",
   "execution_count": 27,
   "metadata": {},
   "outputs": [
    {
     "data": {
      "text/plain": [
       "'F:/学校专业公务用/Github/personal/FirstTry-on-git/PythonLearning/Sec9_IOProgram/test\\\\testdir'"
      ]
     },
     "execution_count": 27,
     "metadata": {},
     "output_type": "execute_result"
    }
   ],
   "source": [
    "# 在某个目录下创建一个新目录，首先把新目录的完整路径表示出来:\n",
    "os.path.join('F:/学校专业公务用/Github/personal/FirstTry-on-git/PythonLearning/Sec9_IOProgram/test', 'testdir')"
   ]
  },
  {
   "cell_type": "code",
   "execution_count": 28,
   "metadata": {},
   "outputs": [],
   "source": [
    "# 然后创建一个目录:\n",
    "os.mkdir('F:/学校专业公务用/Github/personal/FirstTry-on-git/PythonLearning/Sec9_IOProgram/test/testdir')"
   ]
  },
  {
   "cell_type": "code",
   "execution_count": 29,
   "metadata": {},
   "outputs": [],
   "source": [
    "# 删掉一个目录:\n",
    "os.rmdir('F:/学校专业公务用/Github/personal/FirstTry-on-git/PythonLearning/Sec9_IOProgram/test/testdir')"
   ]
  },
  {
   "cell_type": "code",
   "execution_count": 30,
   "metadata": {},
   "outputs": [
    {
     "data": {
      "text/plain": [
       "'\\npart-1\\\\part-2\\n'"
      ]
     },
     "execution_count": 30,
     "metadata": {},
     "output_type": "execute_result"
    }
   ],
   "source": [
    "# 把两个路径合成一个时，不要直接拼字符串，而要通过os.path.join()函数，\n",
    "# 这样可以正确处理不同操作系统的路径分隔符。在Linux/Unix/Mac下，os.path.join()返回这样的字符串：\n",
    "'''\n",
    "part-1/part-2\n",
    "'''\n",
    "# 而Windows下会返回这样的字符串：\n",
    "'''\n",
    "part-1\\part-2\n",
    "'''"
   ]
  },
  {
   "cell_type": "code",
   "execution_count": 31,
   "metadata": {},
   "outputs": [
    {
     "data": {
      "text/plain": [
       "('/Users/michael/testdir', 'file.txt')"
      ]
     },
     "execution_count": 31,
     "metadata": {},
     "output_type": "execute_result"
    }
   ],
   "source": [
    "# 同样的道理，要拆分路径时，也不要直接去拆字符串，而要通过os.path.split()函数，\n",
    "# 这样可以把一个路径拆分为两部分，后一部分总是最后级别的目录或文件名：\n",
    "os.path.split('/Users/michael/testdir/file.txt')"
   ]
  },
  {
   "cell_type": "code",
   "execution_count": 32,
   "metadata": {},
   "outputs": [
    {
     "data": {
      "text/plain": [
       "('/path/to/file', '.txt')"
      ]
     },
     "execution_count": 32,
     "metadata": {},
     "output_type": "execute_result"
    }
   ],
   "source": [
    "# os.path.splitext()可以直接让你得到文件扩展名，很多时候非常方便：\n",
    "os.path.splitext('/path/to/file.txt')"
   ]
  },
  {
   "cell_type": "code",
   "execution_count": 7,
   "metadata": {},
   "outputs": [
    {
     "name": "stdout",
     "output_type": "stream",
     "text": [
      "TXT 文件创建成功！\n"
     ]
    }
   ],
   "source": [
    "# 这些合并、拆分路径的函数并不要求目录和文件要真实存在，它们只对字符串进行操作。\n",
    "# 文件操作使用下面的函数。假定当前目录下有一个test.txt文件：\n",
    "\n",
    "# 创建一个名为 'example.txt' 的文件，并写入内容\n",
    "with open('test_rename.txt', 'w', encoding='utf-8') as f:\n",
    "    f.write('Hello, World! 这是一个 TXT 文件。')\n",
    "\n",
    "print(\"TXT 文件创建成功！\")"
   ]
  },
  {
   "cell_type": "code",
   "execution_count": 8,
   "metadata": {},
   "outputs": [],
   "source": [
    "os.rename('test_rename.txt', 'test.py')"
   ]
  },
  {
   "cell_type": "code",
   "execution_count": 9,
   "metadata": {},
   "outputs": [],
   "source": [
    "os.remove('test.py')"
   ]
  },
  {
   "cell_type": "code",
   "execution_count": 10,
   "metadata": {},
   "outputs": [
    {
     "data": {
      "text/plain": [
       "['test']"
      ]
     },
     "execution_count": 10,
     "metadata": {},
     "output_type": "execute_result"
    }
   ],
   "source": [
    "# 但是复制文件的函数居然在os模块中不存在！\n",
    "# 原因是复制文件并非由操作系统提供的系统调用。\n",
    "# 理论上讲，我们通过上一节的读写文件可以完成文件复制，只不过要多写很多代码。\n",
    "# 幸运的是shutil模块提供了copyfile()的函数，\n",
    "# 你还可以在shutil模块中找到很多实用函数，它们可以看做是os模块的补充。\n",
    "# 最后看看如何利用Python的特性来过滤文件。比如我们要列出当前目录下的所有目录，只需要一行代码：\n",
    "\n",
    "[x for x in os.listdir('.') if os.path.isdir(x)]\n"
   ]
  }
 ],
 "metadata": {
  "kernelspec": {
   "display_name": "homework",
   "language": "python",
   "name": "python3"
  },
  "language_info": {
   "codemirror_mode": {
    "name": "ipython",
    "version": 3
   },
   "file_extension": ".py",
   "mimetype": "text/x-python",
   "name": "python",
   "nbconvert_exporter": "python",
   "pygments_lexer": "ipython3",
   "version": "3.10.16"
  }
 },
 "nbformat": 4,
 "nbformat_minor": 2
}
