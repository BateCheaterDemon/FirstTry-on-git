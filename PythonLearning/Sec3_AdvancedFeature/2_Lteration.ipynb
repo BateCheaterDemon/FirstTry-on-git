{
 "cells": [
  {
   "cell_type": "code",
   "execution_count": null,
   "metadata": {},
   "outputs": [
    {
     "name": "stdout",
     "output_type": "stream",
     "text": [
      "a\n",
      "b\n",
      "c\n"
     ]
    }
   ],
   "source": [
    "# 迭代 iteration\n",
    "# 如果给定一个list或tuple，我们可以通过for循环来遍历这个list或tuple，这种遍历我们称为迭代（Iteration）。\n",
    "# 在Python中，迭代是通过for ... in来完成的，而很多语言比如C语言，迭代list是通过下标完成的，比如C代码：\n",
    "\n",
    "# for (i=0; i<length; i++) {\n",
    "#     n = list[i];\n",
    "# }\n",
    "\n",
    "# Python的for循环抽象程度要高于C的for循环，因为Python的for循环不仅可以用在list或tuple上，还可以作用在其他可迭代对象上。\n",
    "# list这种数据类型虽然有下标，但很多其他数据类型是没有下标的，但是，只要是可迭代对象，无论有无下标，都可以迭代，比如dict就可以迭代：\n",
    "d = {'a': 1, 'b': 2, 'c': 3}\n",
    "for key in d:\n",
    "    print(key)"
   ]
  },
  {
   "cell_type": "code",
   "execution_count": 3,
   "metadata": {},
   "outputs": [
    {
     "name": "stdout",
     "output_type": "stream",
     "text": [
      "A\n",
      "B\n",
      "C\n"
     ]
    }
   ],
   "source": [
    "# 因为dict的存储不是按照list的方式顺序排列，所以，迭代出的结果顺序很可能不一样。\n",
    "# 默认情况下，dict迭代的是key。如果要迭代value，可以用for value in d.values()，\n",
    "# 如果要同时迭代key和value，可以用for k, v in d.items()。\n",
    "# 由于字符串也是可迭代对象，因此，也可以作用于for循环：\n",
    "\n",
    "for ch in 'ABC':\n",
    "    print(ch)"
   ]
  },
  {
   "cell_type": "code",
   "execution_count": 6,
   "metadata": {},
   "outputs": [
    {
     "name": "stdout",
     "output_type": "stream",
     "text": [
      "True\n",
      "True\n",
      "False\n"
     ]
    }
   ],
   "source": [
    "# 所以，当我们使用for循环时，只要作用于一个可迭代对象，for循环就可以正常运行，而我们不太关心该对象究竟是list还是其他数据类型。\n",
    "# 那么，如何判断一个对象是可迭代对象呢？方法是通过collections.abc模块的Iterable类型判断：\n",
    "\n",
    "from collections.abc import Iterable\n",
    "\n",
    "print(isinstance('abc',Iterable))\n",
    "\n",
    "print(isinstance([1,2,3], Iterable)) # list是否可迭代\n",
    "\n",
    "print(isinstance(123, Iterable)) # 整数是否可迭代"
   ]
  },
  {
   "cell_type": "code",
   "execution_count": null,
   "metadata": {},
   "outputs": [
    {
     "name": "stdout",
     "output_type": "stream",
     "text": [
      "0 A\n",
      "1 B\n",
      "2 C\n"
     ]
    }
   ],
   "source": [
    "# 最后一个小问题，如果要对list实现类似Java那样的下标循环怎么办？Python内置的enumerate函数可以把一个list变成索引-元素对，这样就可以在for循环中同时迭代索引和元素本身：\n",
    "for i, value in enumerate(['A', 'B', 'C']):\n",
    "     print(i, value)"
   ]
  },
  {
   "cell_type": "code",
   "execution_count": 9,
   "metadata": {},
   "outputs": [
    {
     "name": "stdout",
     "output_type": "stream",
     "text": [
      "1 1\n",
      "2 4\n",
      "3 9\n"
     ]
    }
   ],
   "source": [
    "# 上面的for循环里，同时引用了两个变量，在Python里是很常见的，比如下面的代码：\n",
    "for x, y in [(1, 1), (2, 4), (3, 9)]:\n",
    "    print(x,y)"
   ]
  },
  {
   "cell_type": "code",
   "execution_count": null,
   "metadata": {},
   "outputs": [
    {
     "name": "stdout",
     "output_type": "stream",
     "text": [
      "(7, 7)\n",
      "测试成功!\n"
     ]
    }
   ],
   "source": [
    "# 练习\n",
    "# 请使用迭代查找一个list中最小和最大值，并返回一个tuple：\n",
    "def findMinAndMax(L):\n",
    "    if L == None or L==[]:\n",
    "        return (None,None)\n",
    "    else:\n",
    "        Max = L[0]\n",
    "        Min = L[0]\n",
    "        for i in L:\n",
    "            if i>=Max:\n",
    "                Max = i\n",
    "            if i<=Min:\n",
    "                Min = i\n",
    "        return (Min,Max)\n",
    "\n",
    "# 测试\n",
    "if findMinAndMax([]) != (None,None):\n",
    "    print('1测试失败!')\n",
    "elif findMinAndMax([7]) != (7, 7):\n",
    "    print('2测试失败!')\n",
    "elif findMinAndMax([7, 1]) != (1, 7):\n",
    "    print('3测试失败!')\n",
    "elif findMinAndMax([7, 1, 3, 9, 5]) != (1, 9):\n",
    "    print('4测试失败!')\n",
    "else:\n",
    "    print('测试成功!')"
   ]
  }
 ],
 "metadata": {
  "kernelspec": {
   "display_name": "homework",
   "language": "python",
   "name": "python3"
  },
  "language_info": {
   "codemirror_mode": {
    "name": "ipython",
    "version": 3
   },
   "file_extension": ".py",
   "mimetype": "text/x-python",
   "name": "python",
   "nbconvert_exporter": "python",
   "pygments_lexer": "ipython3",
   "version": "3.10.16"
  }
 },
 "nbformat": 4,
 "nbformat_minor": 2
}
