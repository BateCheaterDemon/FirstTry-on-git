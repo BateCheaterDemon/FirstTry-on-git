{
 "cells": [
  {
   "cell_type": "code",
   "execution_count": null,
   "metadata": {},
   "outputs": [],
   "source": [
    "# 我们已经知道，可以直接作用于for循环的数据类型有以下几种：\n",
    "# 一类是集合数据类型，如list、tuple、dict、set、str等；\n",
    "# 一类是generator，包括生成器和带yield的generator function。\n",
    "# 这些可以直接作用于for循环的对象统称为可迭代对象：Iterable。\n",
    "# 可以使用isinstance()判断一个对象是否是Iterable对象：\n"
   ]
  }
 ],
 "metadata": {
  "kernelspec": {
   "display_name": "homework",
   "language": "python",
   "name": "python3"
  },
  "language_info": {
   "name": "python",
   "version": "3.10.16"
  }
 },
 "nbformat": 4,
 "nbformat_minor": 2
}
