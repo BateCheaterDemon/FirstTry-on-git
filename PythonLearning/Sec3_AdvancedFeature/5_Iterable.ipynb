{
 "cells": [
  {
   "cell_type": "code",
   "execution_count": 3,
   "metadata": {},
   "outputs": [
    {
     "name": "stdout",
     "output_type": "stream",
     "text": [
      "True\n",
      "True\n",
      "True\n",
      "True\n",
      "False\n"
     ]
    }
   ],
   "source": [
    "# 我们已经知道，可以直接作用于for循环的数据类型有以下几种：\n",
    "# 一类是集合数据类型，如list、tuple、dict、set、str等；\n",
    "# 一类是generator，包括生成器和带yield的generator function。\n",
    "# 这些可以直接作用于for循环的对象统称为可迭代对象：Iterable。\n",
    "# 可以使用isinstance()判断一个对象是否是Iterable对象：\n",
    "\n",
    "from collections.abc import Iterable\n",
    "print(isinstance([],Iterable))\n",
    "\n",
    "print(isinstance({},Iterable))\n",
    "\n",
    "print(isinstance('abc',Iterable))\n",
    "\n",
    "print(isinstance((x for x in range(10)),Iterable)) # 迭代\n",
    "\n",
    "print(isinstance(100,Iterable))"
   ]
  },
  {
   "cell_type": "code",
   "execution_count": 2,
   "metadata": {},
   "outputs": [
    {
     "name": "stdout",
     "output_type": "stream",
     "text": [
      "True\n",
      "False\n",
      "False\n",
      "False\n"
     ]
    }
   ],
   "source": [
    "# 而生成器不但可以作用于for循环，还可以被next()函数不断调用并返回下一个值，直到最后抛出StopIteration错误表示无法继续返回下一个值了。\n",
    "# 可以被next()函数调用并不断返回下一个值的对象称为迭代器：Iterator。\n",
    "# 可以使用isinstance()判断一个对象是否是Iterator对象：\n",
    "from collections.abc import Iterator\n",
    "isinstance((x for x in range(10)), Iterator)\n",
    "\n",
    "print(isinstance((x for x in range(10)),Iterator))\n",
    "\n",
    "print(isinstance([],Iterator))\n",
    "\n",
    "print(isinstance({},Iterator))\n",
    "\n",
    "print(isinstance('abc',Iterator))"
   ]
  },
  {
   "cell_type": "code",
   "execution_count": 3,
   "metadata": {},
   "outputs": [
    {
     "name": "stdout",
     "output_type": "stream",
     "text": [
      "True\n",
      "True\n",
      "True\n"
     ]
    }
   ],
   "source": [
    "# 生成器都是Iterator对象，但list、dict、str虽然是Iterable，却不是Iterator。\n",
    "# 把list、dict、str等Iterable变成Iterator可以使用iter()函数：\n",
    "print(isinstance(iter([]),Iterator))\n",
    "\n",
    "print(isinstance(iter({}),Iterator))\n",
    "\n",
    "print(isinstance(iter('abc'),Iterator))"
   ]
  },
  {
   "cell_type": "code",
   "execution_count": 4,
   "metadata": {},
   "outputs": [],
   "source": [
    "# 为什么list、dict、str等数据类型不是Iterator？\n",
    "# 因为Python的Iterator对象表示的是一个数据流，Iterator对象可以被next()函数调用并不断返回下一个数据，\n",
    "# 直到没有数据时抛出StopIteration错误。可以把这个数据流看做是一个有序序列，但我们却不能提前知道序列的长度，\n",
    "# 只能不断通过next()函数实现按需计算下一个数据，所以Iterator的计算是惰性的，只有在需要返回下一个数据时它才会计算。\n",
    "# Iterator甚至可以表示一个无限大的数据流，例如全体自然数。而使用list是永远不可能存储全体自然数的。\n",
    "\n",
    "# 凡是可作用于for循环的对象都是Iterable类型；\n",
    "# 凡是可作用于next()函数的对象都是Iterator类型，它们表示一个惰性计算的序列；\n",
    "# 集合数据类型如list、dict、str等是Iterable但不是Iterator，不过可以通过iter()函数获得一个Iterator对象。\n",
    "# Python的for循环本质上就是通过不断调用next()函数实现的，例如：\n",
    "for x in [1, 2, 3, 4, 5]:\n",
    "    pass\n",
    "\n",
    "# 实际上完全等价于：\n",
    "it = iter([1,2,3,4,5])\n",
    "\n",
    "while True:\n",
    "    try:\n",
    "        x = next(it)\n",
    "    except StopIteration:\n",
    "        break"
   ]
  },
  {
   "cell_type": "code",
   "execution_count": null,
   "metadata": {},
   "outputs": [],
   "source": []
  }
 ],
 "metadata": {
  "kernelspec": {
   "display_name": "homework",
   "language": "python",
   "name": "python3"
  },
  "language_info": {
   "codemirror_mode": {
    "name": "ipython",
    "version": 3
   },
   "file_extension": ".py",
   "mimetype": "text/x-python",
   "name": "python",
   "nbconvert_exporter": "python",
   "pygments_lexer": "ipython3",
   "version": "3.10.16"
  }
 },
 "nbformat": 4,
 "nbformat_minor": 2
}
