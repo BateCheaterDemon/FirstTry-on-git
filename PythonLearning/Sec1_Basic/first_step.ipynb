{
 "cells": [
  {
   "cell_type": "code",
   "execution_count": null,
   "metadata": {},
   "outputs": [],
   "source": [
    "print(\"hello world\")\n",
    "\n",
    "name = input(\"please input your name:\")\n",
    "print(\"hello\",name)"
   ]
  },
  {
   "cell_type": "code",
   "execution_count": 1,
   "metadata": {},
   "outputs": [
    {
     "name": "stdout",
     "output_type": "stream",
     "text": [
      "I'm \"OK\"!\n",
      "I'm learning\n",
      "Python.\n",
      "\\\n",
      "\\\n"
     ]
    }
   ],
   "source": [
    "# 整数 1000,100_000均可\n",
    "# 浮点数 1.23,1.23e9,1.23e-9 e表示10的幂\n",
    "\n",
    "# 字符串\n",
    "print(\"I'm \\\"OK\\\"!\")\n",
    "\n",
    "print('I\\'m learning\\nPython.')\n",
    "\n",
    "print(\"\\\\\\n\\\\\")"
   ]
  },
  {
   "cell_type": "code",
   "execution_count": 2,
   "metadata": {},
   "outputs": [
    {
     "name": "stdout",
     "output_type": "stream",
     "text": [
      "line1\n",
      "line2\n",
      "line3\n"
     ]
    }
   ],
   "source": [
    "print('''line1\n",
    "... line2\n",
    "... line3''')"
   ]
  },
  {
   "cell_type": "code",
   "execution_count": 3,
   "metadata": {},
   "outputs": [
    {
     "name": "stdout",
     "output_type": "stream",
     "text": [
      "hello,\\n\n",
      "world\n"
     ]
    }
   ],
   "source": [
    "print(r'''hello,\\n\n",
    "world''')"
   ]
  },
  {
   "cell_type": "code",
   "execution_count": 5,
   "metadata": {},
   "outputs": [
    {
     "name": "stdout",
     "output_type": "stream",
     "text": [
      "True\n",
      "False\n",
      "True\n",
      "False\n",
      "False\n",
      "True\n",
      "False\n",
      "True\n"
     ]
    }
   ],
   "source": [
    "# 布尔值\n",
    "print(True)\n",
    "print(False)\n",
    "\n",
    "print(3>2)\n",
    "print(3>5)\n",
    "\n",
    "# and or not\n",
    "print(True and False)\n",
    "print(True or False)\n",
    "print(not True)\n",
    "print(not 1>2)\n"
   ]
  },
  {
   "cell_type": "code",
   "execution_count": 6,
   "metadata": {},
   "outputs": [
    {
     "name": "stdout",
     "output_type": "stream",
     "text": [
      "adult\n"
     ]
    }
   ],
   "source": [
    "# 布尔值用于条件判断\n",
    "age = 20\n",
    "if age >= 18:\n",
    "    print('adult')\n",
    "else:\n",
    "    print('teenager')"
   ]
  },
  {
   "cell_type": "code",
   "execution_count": null,
   "metadata": {},
   "outputs": [],
   "source": [
    "# 空值，不能理解为0，None是一个特殊的空值。\n",
    "a = None"
   ]
  },
  {
   "cell_type": "code",
   "execution_count": null,
   "metadata": {},
   "outputs": [],
   "source": [
    "# 变量\n",
    "a = 1 # a是整数\n",
    "t_007 = 'T007' # t_007是字符串\n",
    "Answer = True # Answer是布尔值\n"
   ]
  },
  {
   "cell_type": "code",
   "execution_count": null,
   "metadata": {},
   "outputs": [
    {
     "name": "stdout",
     "output_type": "stream",
     "text": [
      "123\n",
      "ABC\n"
     ]
    }
   ],
   "source": [
    "# 等号=是赋值语句，可以把任意数据类型赋值给变量，同一个变量可以反复赋值，而且可以是不同类型的变量，是一种动态赋值\n",
    "a = 123 # a是整数\n",
    "print(a)\n",
    "a = 'ABC' # a是字符串\n",
    "print(a)"
   ]
  },
  {
   "cell_type": "code",
   "execution_count": 9,
   "metadata": {},
   "outputs": [
    {
     "name": "stdout",
     "output_type": "stream",
     "text": [
      "12\n",
      "ABC\n"
     ]
    }
   ],
   "source": [
    "x = 10\n",
    "x = x + 2\n",
    "print(x)\n",
    "\n",
    "a= 'ABC'\n",
    "b = a\n",
    "a = 'XYZ'\n",
    "print(b)"
   ]
  },
  {
   "cell_type": "code",
   "execution_count": null,
   "metadata": {},
   "outputs": [],
   "source": [
    "# 常量\n",
    "# 所谓常量就是不能变的变量，比如常用的数学常数π就是一个常量。在Python中，通常用全部大写的变量名表示常量\n",
    "PI = 3.14159265359\n",
    "pi = 3.14159265359\n"
   ]
  },
  {
   "cell_type": "code",
   "execution_count": 11,
   "metadata": {},
   "outputs": [
    {
     "name": "stdout",
     "output_type": "stream",
     "text": [
      "3.3333333333333335\n",
      "3.0\n",
      "3\n",
      "1\n"
     ]
    }
   ],
   "source": [
    "# 除法\n",
    "print(10/3) # 3.3333333333333335\n",
    "print(9/3) # 3.0 结果是浮点数\n",
    "print(10//3) # 3 地板除，结果是整数\n",
    "print(10%3) # 1 取余数"
   ]
  },
  {
   "cell_type": "code",
   "execution_count": 12,
   "metadata": {},
   "outputs": [
    {
     "name": "stdout",
     "output_type": "stream",
     "text": [
      "123\n",
      "456.789\n",
      "Hello, world\n",
      "Hello, 'Adam'\n",
      "Hello, \"Bart\"\n",
      "Hello,\n",
      "Lisa!\n"
     ]
    }
   ],
   "source": [
    "n = 123\n",
    "print(n)\n",
    "f = 456.789\n",
    "print(f)\n",
    "s1 = 'Hello, world'\n",
    "print(s1)\n",
    "s2 = 'Hello, \\'Adam\\''\n",
    "print(s2)\n",
    "s3 = r'Hello, \"Bart\"'\n",
    "print(s3)\n",
    "s4 = r'''Hello,\n",
    "Lisa!'''\n",
    "print(s4)"
   ]
  },
  {
   "cell_type": "code",
   "execution_count": null,
   "metadata": {},
   "outputs": [
    {
     "name": "stdout",
     "output_type": "stream",
     "text": [
      "包含中文的str\n",
      "65\n",
      "20013\n",
      "B\n",
      "文\n",
      "中文\n"
     ]
    }
   ],
   "source": [
    "# 字符串和编码\n",
    "# 字符编码 uTF-8,Python 3版本中，字符串是以Unicode编码的，也就是说，Python的字符串支持多语言，例如：\n",
    "print('包含中文的str')\n",
    "\n",
    "# ord()函数获取字符的整数表示，chr()函数把编码转换为对应的字符\n",
    "print(ord('A')) # 65\n",
    "print(ord('中')) # 20013\n",
    "print(chr(66)) # B char函数返回对应的字符\n",
    "print(chr(25991)) # 文\n",
    "\n",
    "print('\\u4e2d\\u6587') # 中文 16进制"
   ]
  },
  {
   "cell_type": "code",
   "execution_count": null,
   "metadata": {},
   "outputs": [
    {
     "name": "stdout",
     "output_type": "stream",
     "text": [
      "b'ABC'\n",
      "b'\\xe4\\xb8\\xad\\xe6\\x96\\x87'\n",
      "ABC\n",
      "中文\n",
      "中\n",
      "3\n",
      "6\n",
      "6\n"
     ]
    }
   ],
   "source": [
    "# bytes类型的数据用带b前缀的单引号或双引号表示\n",
    "x = b'ABC'\n",
    "y = 'ABC'\n",
    "# 前者是str，后者虽然内容显示得和前者一样，但bytes的每个字符都只占用一个字节。\n",
    "# 以Unicode表示的str通过encode()方法可以编码为指定的bytes\n",
    "print('ABC'.encode('ascii'))\n",
    "\n",
    "print('中文'.encode('utf-8'))\n",
    "# print('中文'.encode('ascii')) \n",
    "\n",
    "# 反过来，如果我们从网络或磁盘上读取了字节流，那么读到的数据就是bytes。要把bytes变为str，就需要用decode()方法\n",
    "print(b'ABC'.decode('ascii'))\n",
    "print(b'\\xe4\\xb8\\xad\\xe6\\x96\\x87'.decode('utf-8'))\n",
    "\n",
    "# 如果bytes中包含无法解码的字节，decode()方法会报错：\n",
    "# print(b'\\xe4\\xb8\\xad\\xff'.decode('utf-8'))\n",
    "# 如果bytes中只有一小部分无效的字节，可以传入errors='ignore'忽略错误的字节\n",
    "print(b'\\xe4\\xb8\\xad\\xff'.decode('utf-8', errors='ignore'))\n",
    "\n",
    "# len()函数计算的是str的字符数，如果换成bytes，len()函数就计算字节数\n",
    "print(len(b'ABC'))\n",
    "print(len(b'\\xe4\\xb8\\xad\\xe6\\x96\\x87'))\n",
    "print(len('中文'.encode('utf-8')))\n",
    "# 可见1个中文字符经过UTF-8编码后通常会占用3个字节，而1个英文字符只占用1个字节。\n",
    "\n",
    "#!/usr/bin/env python3，这一行注释是为了告诉Linux/OS X系统，这是一个Python可执行程序，Windows系统会忽略这个注释。\n",
    "# -*- coding: utf-8 -*-，这行注释是为了告诉Python解释器，按照UTF-8编码读取源代码，否则，你在源代码中写的中文输出可能会有乱码。"
   ]
  },
  {
   "cell_type": "code",
   "execution_count": null,
   "metadata": {},
   "outputs": [
    {
     "name": "stdout",
     "output_type": "stream",
     "text": [
      "Hello, world\n"
     ]
    }
   ],
   "source": [
    "# 格式化\n",
    "# 在字符串内部，%s表示用字符串替换，%d表示用整数替换，有几个%?占位符，后面就跟几个变量或者值，顺序要对应好。如果只有一个%?，括号可以省略。\n",
    "s='world'\n",
    "print('Hello, %s'% s)\n"
   ]
  },
  {
   "cell_type": "code",
   "execution_count": 26,
   "metadata": {},
   "outputs": [
    {
     "name": "stdout",
     "output_type": "stream",
     "text": [
      " 3-01\n",
      "3.14\n",
      "Age: 25. Gender: True\n"
     ]
    }
   ],
   "source": [
    "print('%2d-%02d' % (3, 1))\n",
    "print('%.2f' % 3.1415926)\n",
    "\n",
    "# 如果你不太确定应该用什么，%s永远起作用，它会把任何数据类型转换为字符串：\n",
    "print('Age: %s. Gender: %s' % (25, True))\n",
    "\n"
   ]
  },
  {
   "cell_type": "code",
   "execution_count": 30,
   "metadata": {},
   "outputs": [
    {
     "name": "stdout",
     "output_type": "stream",
     "text": [
      "Hello, 小明, 成绩提升了 17.1%\n"
     ]
    }
   ],
   "source": [
    "# format()\n",
    "print('Hello, {0}, 成绩提升了 {1:.1f}%'.format('小明', 17.125))"
   ]
  },
  {
   "cell_type": "code",
   "execution_count": 31,
   "metadata": {},
   "outputs": [
    {
     "name": "stdout",
     "output_type": "stream",
     "text": [
      "The area of a circle with radius 2.5 is 19.62\n"
     ]
    }
   ],
   "source": [
    "# f-string\n",
    "r = 2.5\n",
    "s = 3.14 * r ** 2\n",
    "print(f'The area of a circle with radius {r} is {s:.2f}')"
   ]
  },
  {
   "cell_type": "code",
   "execution_count": 33,
   "metadata": {},
   "outputs": [
    {
     "name": "stdout",
     "output_type": "stream",
     "text": [
      "小明成绩的提升百分比是18.1%\n"
     ]
    }
   ],
   "source": [
    "score1=72\n",
    "score2=85\n",
    "rate = (score2-score1)/score1*100\n",
    "print(f\"小明成绩的提升百分比是{rate:.1f}%\")"
   ]
  },
  {
   "cell_type": "code",
   "execution_count": 14,
   "metadata": {},
   "outputs": [
    {
     "name": "stdout",
     "output_type": "stream",
     "text": [
      "['Michael', 'Bob', 'Tracy']\n",
      "Michael\n",
      "Bob\n",
      "Tracy\n",
      "Tracy\n"
     ]
    },
    {
     "ename": "IndexError",
     "evalue": "list index out of range",
     "output_type": "error",
     "traceback": [
      "\u001b[1;31m---------------------------------------------------------------------------\u001b[0m",
      "\u001b[1;31mIndexError\u001b[0m                                Traceback (most recent call last)",
      "Cell \u001b[1;32mIn[14], line 12\u001b[0m\n\u001b[0;32m     10\u001b[0m \u001b[38;5;28mprint\u001b[39m(classmates[\u001b[38;5;241m-\u001b[39m\u001b[38;5;241m1\u001b[39m]) \u001b[38;5;66;03m# 最后一个元素\u001b[39;00m\n\u001b[0;32m     11\u001b[0m \u001b[38;5;66;03m# 索引超出了范围时，Python会报一个IndexError错误，所以，要确保索引不要越界\u001b[39;00m\n\u001b[1;32m---> 12\u001b[0m \u001b[38;5;28mprint\u001b[39m(\u001b[43mclassmates\u001b[49m\u001b[43m[\u001b[49m\u001b[38;5;241;43m3\u001b[39;49m\u001b[43m]\u001b[49m)\n",
      "\u001b[1;31mIndexError\u001b[0m: list index out of range"
     ]
    }
   ],
   "source": [
    "# list and tuple\n",
    "classmates = ['Michael', 'Bob', 'Tracy']\n",
    "print(classmates)\n",
    "len(classmates) # 3个元素\n",
    "# 通过索引方式访问每一个位置的元素，索引是从0开始的\n",
    "print(classmates[0])\n",
    "print(classmates[1])\n",
    "print(classmates[2])\n",
    "# 如果要取最后一个元素，除了计算索引位置外，还可以用-1做索引，直接获取最后一个元素：\n",
    "print(classmates[-1]) # 最后一个元素\n",
    "# 索引超出了范围时，Python会报一个IndexError错误，所以，要确保索引不要越界\n",
    "print(classmates[3]) # 不存在的元素"
   ]
  },
  {
   "cell_type": "code",
   "execution_count": 15,
   "metadata": {},
   "outputs": [
    {
     "name": "stdout",
     "output_type": "stream",
     "text": [
      "['Michael', 'Bob', 'Tracy', 'Adam']\n",
      "['Michael', 'Jack', 'Bob', 'Tracy', 'Adam']\n",
      "Adam\n",
      "['Michael', 'Jack', 'Bob', 'Tracy']\n",
      "['Michael', 'Sarah', 'Bob', 'Tracy']\n"
     ]
    }
   ],
   "source": [
    "# list是一个可变的有序表，所以，可以往list中追加元素到末尾：\n",
    "classmates.append('Adam')\n",
    "print(classmates)\n",
    "# 把元素插入到指定的位置，比如索引号为1的位置：\n",
    "classmates.insert(1, 'Jack')\n",
    "print(classmates)\n",
    "# 删除list末尾的元素，用pop()方法\n",
    "delete_element=classmates.pop()\n",
    "print(delete_element)\n",
    "print(classmates)\n",
    "# 要把某个元素替换成别的元素，可以直接赋值给对应的索引位置：\n",
    "classmates[1] = 'Sarah'\n",
    "print(classmates)"
   ]
  },
  {
   "cell_type": "code",
   "execution_count": null,
   "metadata": {},
   "outputs": [
    {
     "name": "stdout",
     "output_type": "stream",
     "text": [
      "['Apple', 123, True]\n",
      "4\n",
      "['asp', 'php']\n",
      "php\n"
     ]
    }
   ],
   "source": [
    "# list里面的元素的数据类型也可以不同\n",
    "L = ['Apple', 123, True]\n",
    "print(L)\n",
    "\n",
    "# list元素也可以是另一个list\n",
    "s = ['python', 'java', ['asp', 'php'], 'scheme']\n",
    "print(len(s))\n",
    "print(s[2])\n",
    "print(s[2][1]) #注意s只有4个元素，其中s[2]又是一个list"
   ]
  },
  {
   "cell_type": "code",
   "execution_count": null,
   "metadata": {},
   "outputs": [
    {
     "name": "stdout",
     "output_type": "stream",
     "text": [
      "Michael\n",
      "Tracy\n",
      "(1, 2)\n",
      "()\n",
      "1\n",
      "(1,)\n",
      "('a', 'b', ['X', 'Y'])\n"
     ]
    }
   ],
   "source": [
    "# 元组：tuple。tuple和list非常类似，但是tuple一旦初始化就不能修改，比如同样是列出同学的名字：\n",
    "classmates = ('Michael', 'Bob', 'Tracy')\n",
    "# 现在，classmates这个tuple不能变了，它也没有append()，insert()这样的方法。\n",
    "# 其他获取元素的方法和list是一样的，你可以正常地使用classmates[0]，classmates[-1]，但不能赋值成另外的元素。\n",
    "print(classmates[0])\n",
    "print(classmates[-1])\n",
    "# 不可变的tuple有什么意义？因为tuple不可变，所以代码更安全。如果可能，能用tuple代替list就尽量用tuple。\n",
    "# tuple的陷阱：当你定义一个tuple时，在定义的时候，tuple的元素就必须被确定下来，比如：\n",
    "t = (1, 2)\n",
    "print(t)\n",
    "\n",
    "# 如果要定义一个空的tuple，可以写成()：\n",
    "t = ()\n",
    "print(t)\n",
    "\n",
    "# 但是，要定义一个只有1个元素的tuple，如果你这么定义：\n",
    "t = (1)\n",
    "print(t)\n",
    "# t定义的不是tuple，是数字1！这是因为括号()既可以表示tuple，\n",
    "# 又可以表示数学公式中的小括号，这就产生了歧义，因此，Python规定，这种情况下，按小括号进行计算，计算结果自然是1\n",
    "\n",
    "# 所以，只有1个元素的tuple定义时必须加一个逗号,，来消除歧义：\n",
    "t = (1,)\n",
    "print(t)\n",
    "\n",
    "# “可变的”tuple：\n",
    "t = ('a', 'b', ['A', 'B'])\n",
    "t[2][0] = 'X'\n",
    "t[2][1] = 'Y'\n",
    "print(t)\n",
    "# tuple的元素确实变了，但其实变的不是tuple的元素，而是list的元素。\n",
    "# tuple一开始指向的list并没有改成别的list，所以，tuple所谓的“不变”是说，\n",
    "# tuple的每个元素，指向永远不变。即指向'a'，就不能改成指向'b'\n",
    "# 指向一个list，就不能改成指向其他对象，但指向的这个list本身是可变的！"
   ]
  },
  {
   "cell_type": "code",
   "execution_count": 24,
   "metadata": {},
   "outputs": [
    {
     "name": "stdout",
     "output_type": "stream",
     "text": [
      "Apple\n",
      "Python\n"
     ]
    }
   ],
   "source": [
    "# 练习\n",
    "# 请用索引取出下面list的指定元素：\n",
    "L = [\n",
    "    ['Apple', 'Google', 'Microsoft'],\n",
    "    ['Java', 'Python', 'Ruby', 'PHP'],\n",
    "    ['Adam', 'Bart', 'Bob']\n",
    "]\n",
    "\n",
    "# 打印Apple:\n",
    "print(L[0][0])\n",
    "\n",
    "# 打印Python:\n",
    "print(L[1][1])\n"
   ]
  },
  {
   "cell_type": "code",
   "execution_count": null,
   "metadata": {},
   "outputs": [
    {
     "name": "stdout",
     "output_type": "stream",
     "text": [
      "your age is 20\n",
      "you are an 20 years old adult\n",
      "your age is  3\n",
      "teenager\n",
      "kid\n",
      "True\n",
      "False\n"
     ]
    }
   ],
   "source": [
    "# 条件判断\n",
    "age = 20\n",
    "if age >= 18:\n",
    "    print('your age is',age)\n",
    "    print(f'you are an {age} years old adult')\n",
    "\n",
    "# python的if语句从上往下判断，如果在某个判断上是True，把该判断对应的语句执行后，就忽略掉剩下的elif和else\n",
    "# 并且以缩进为依据，缩进相同的代码块组成一个代码块\n",
    "age = 3\n",
    "if age >= 18:\n",
    "    print('your age is ',age)\n",
    "    print('adult')\n",
    "else:\n",
    "    print('your age is ',age)\n",
    "    print('teenager')\n",
    "\n",
    "# 注意不要少写了冒号:\n",
    "# 也存在elif的情况\n",
    "age = 3\n",
    "if age >= 18:\n",
    "    print('adult')\n",
    "elif age >= 6:\n",
    "    print('teenager')\n",
    "else:\n",
    "    print('kid')\n",
    "\n",
    "# if判断条件还可以简写，比如写：\n",
    "x = 1\n",
    "if x:\n",
    "    print('True')\n",
    "# 只要x是非零数值、非空字符串、非空list等，就判断为True，否则为False。\n",
    "\n",
    "x = None\n",
    "if x:\n",
    "    print('True')\n",
    "else:\n",
    "    print('False')\n"
   ]
  },
  {
   "cell_type": "code",
   "execution_count": 1,
   "metadata": {},
   "outputs": [
    {
     "name": "stdout",
     "output_type": "stream",
     "text": [
      "score is B\n"
     ]
    }
   ],
   "source": [
    "# 模式匹配\n",
    "# 当我们用if ... elif ... elif ... else ...判断时，会写很长一串代码，可读性较差。\n",
    "# 如果要针对某个变量匹配若干种情况，可以使用match语句。\n",
    "# 例如，某个学生的成绩只能是A、B、C，用if语句编写如下：\n",
    "score = 'B'\n",
    "if score == 'A':\n",
    "    print('score is A')\n",
    "elif score == 'B':\n",
    "    print('score is B')\n",
    "elif soce=='C':\n",
    "    print('score is C')\n",
    "else:\n",
    "    print('score is invalid')"
   ]
  },
  {
   "cell_type": "code",
   "execution_count": null,
   "metadata": {},
   "outputs": [
    {
     "name": "stdout",
     "output_type": "stream",
     "text": [
      "score is B\n"
     ]
    }
   ],
   "source": [
    "# 如果使用match语句，就可以写得更加简洁(match 是python3.10以上的功能)：\n",
    "# 使用match语句时，我们依次用case xxx匹配，并且可以在最后（且仅能在最后）加一个case _表示“任意值”，代码较if ... elif ... else ...更易读。\n",
    "score = 'B'\n",
    "match score:\n",
    "    case 'A':\n",
    "        print('score is A')\n",
    "    case 'B':\n",
    "        print('score is B')\n",
    "    case 'C':\n",
    "        print('score is C')\n",
    "    case _:\n",
    "        print('score is invalid')"
   ]
  },
  {
   "cell_type": "code",
   "execution_count": null,
   "metadata": {},
   "outputs": [
    {
     "name": "stdout",
     "output_type": "stream",
     "text": [
      "other\n"
     ]
    }
   ],
   "source": [
    "# 复杂匹配：match语句除了可以匹配简单的单个值外，还可以匹配多个值、匹配一定范围，并且把匹配后的值绑定到变量：\n",
    "age = 25\n",
    "\n",
    "match age:\n",
    "    case x if x<10:\n",
    "        print(f\"<10 year old:{x}\")\n",
    "    case 10:\n",
    "        print('10 years old')\n",
    "    case 11,12,13,14,15,16,17,18: #11 | 12 | 13 | 14 | 15 | 16 | 17 | 18也是可以，逗号顺眼\n",
    "        print('11-18 years old')\n",
    "    case 19:\n",
    "        print('19 years old')\n",
    "    case _: # \n",
    "        print('not sure')\n"
   ]
  },
  {
   "cell_type": "code",
   "execution_count": null,
   "metadata": {},
   "outputs": [
    {
     "name": "stdout",
     "output_type": "stream",
     "text": [
      "file:['world.c', 'python.c']\n",
      "gcc complie:hello.c,world.c,python.c\n"
     ]
    }
   ],
   "source": [
    "# 匹配列表\n",
    "# 我们假设用户输入了一个命令，用args = ['gcc', 'hello.c']存储，下面的代码演示了如何用match匹配来解析这个列表：\n",
    "\n",
    "args = ['gcc', 'hello.c','world.c','python.c']\n",
    "match args:\n",
    "    # 如果仅出现gcc，报错：\n",
    "    case ['gcc']:\n",
    "        print('gcc: missing source file')\n",
    "    # 出现gcc，且至少制定了一个文件\n",
    "    # 第二个case ['gcc', file1, *files]表示列表第一个字符串是'gcc'，第二个字符串绑定到变量file1，\n",
    "    # 后面的任意个字符串绑定到*files（符号*的作用将在函数的参数中讲解），它实际上表示至少指定一个文件；\n",
    "    case ['gcc', file1,*file]:\n",
    "        # print(f\"file:{file}\")\n",
    "        print('gcc complie:'+file1+','+','.join(file))\n",
    "        \n",
    "    # 如果仅出现clean：\n",
    "    case ['clean']:\n",
    "        print('clean')\n",
    "    case _: \n",
    "        print('invalid command')   \n",
    "    #第三个case ['clean']表示列表仅有'clean'一个字符串；\n",
    "    # 最后一个case _表示其他所有情况。\n",
    "    # 可见，match语句的匹配规则非常灵活，可以写出非常简洁的代码。"
   ]
  },
  {
   "cell_type": "code",
   "execution_count": null,
   "metadata": {},
   "outputs": [
    {
     "name": "stdout",
     "output_type": "stream",
     "text": [
      "a:1,b:2,_:[3, 4, 5]\n"
     ]
    }
   ],
   "source": [
    "# *变量可以承载不止一个值，这在函数的参数中也有应用\n",
    "a,b,*_ = [1,2,3,4,5]\n",
    "print(f\"a:{a},b:{b},_:{_}\") # _也是可以作为一个变量"
   ]
  },
  {
   "cell_type": "code",
   "execution_count": null,
   "metadata": {},
   "outputs": [
    {
     "name": "stdout",
     "output_type": "stream",
     "text": [
      "Michael\n",
      "Bob\n",
      "Tracy\n"
     ]
    }
   ],
   "source": [
    "# 循环\n",
    "# python的循环有两种，一种是for...in循环，依次把list或tuple中的每个元素迭代出来，看例子：\n",
    "# 所以for x in ...循环就是把每个元素代入变量x，然后执行缩进块的语句。\n",
    "names = ['Michael', 'Bob', 'Tracy']\n",
    "for name in names:\n",
    "    print(name)"
   ]
  },
  {
   "cell_type": "code",
   "execution_count": 22,
   "metadata": {},
   "outputs": [
    {
     "name": "stdout",
     "output_type": "stream",
     "text": [
      "sum:5050\n"
     ]
    }
   ],
   "source": [
    "sum = 0\n",
    "for x in range(101): #range(101)生成0-100的整数序列\n",
    "    sum+=x\n",
    "print(f\"sum:{sum}\")"
   ]
  },
  {
   "cell_type": "code",
   "execution_count": 24,
   "metadata": {},
   "outputs": [
    {
     "name": "stdout",
     "output_type": "stream",
     "text": [
      "2500\n"
     ]
    }
   ],
   "source": [
    "# while循环 计算100以内的所有奇数之和\n",
    "sum = 0\n",
    "n = 99\n",
    "while n>0:\n",
    "    sum+=n\n",
    "    n-=2\n",
    "print(sum)\n"
   ]
  },
  {
   "cell_type": "code",
   "execution_count": 25,
   "metadata": {},
   "outputs": [
    {
     "name": "stdout",
     "output_type": "stream",
     "text": [
      "Hellow, Bart\n",
      "Hellow, Lisa\n",
      "Hellow, Adam\n"
     ]
    }
   ],
   "source": [
    "# 循环练习：请利用循环依次对list中的每个名字打印出Hello, xxx!：\n",
    "L = ['Bart', 'Lisa', 'Adam']\n",
    "\n",
    "for name in L:\n",
    "    print(\"Hellow,\",name)"
   ]
  },
  {
   "cell_type": "code",
   "execution_count": 26,
   "metadata": {},
   "outputs": [
    {
     "name": "stdout",
     "output_type": "stream",
     "text": [
      "1\n",
      "2\n",
      "3\n",
      "4\n",
      "5\n",
      "6\n",
      "7\n",
      "8\n",
      "9\n",
      "10\n",
      "END\n"
     ]
    }
   ],
   "source": [
    "# break在循环中，break语句可以提前退出循环。例如，本来要循环打印1～100的数字：\n",
    "n = 1\n",
    "while n<=100:\n",
    "    if n>10:\n",
    "        break\n",
    "    print(n)\n",
    "    n+=1\n",
    "print('END')\n"
   ]
  },
  {
   "cell_type": "code",
   "execution_count": null,
   "metadata": {},
   "outputs": [
    {
     "name": "stdout",
     "output_type": "stream",
     "text": [
      "1\n",
      "3\n",
      "5\n",
      "7\n",
      "9\n"
     ]
    }
   ],
   "source": [
    "# continue在循环过程中，也可以通过continue语句，跳过当前的这次循环，直接开始下一次循环。\n",
    "n = 0\n",
    "while n<10:\n",
    "    n +=1\n",
    "    if n%2==0:\n",
    "        continue # 从此处开始直接跳转下一次循环\n",
    "    print(n)"
   ]
  },
  {
   "cell_type": "code",
   "execution_count": 29,
   "metadata": {},
   "outputs": [
    {
     "name": "stdout",
     "output_type": "stream",
     "text": [
      "2\n",
      "4\n",
      "6\n",
      "8\n",
      "10\n"
     ]
    }
   ],
   "source": [
    "n = 0\n",
    "while n<10:\n",
    "    n = n+1\n",
    "    if n%2==0:\n",
    "        print(n)\n",
    "        continue\n",
    "    "
   ]
  },
  {
   "cell_type": "code",
   "execution_count": null,
   "metadata": {},
   "outputs": [
    {
     "name": "stdout",
     "output_type": "stream",
     "text": [
      "95\n",
      "{'Michael': 95, 'Bob': 75, 'Tracy': 85}\n"
     ]
    }
   ],
   "source": [
    "# dict和set\n",
    "# dict全称dictionary，其他语言中也称为map，使用键-值（key-value）存储，具有极快的查找速度。\n",
    "# 举个例子，假设要根据同学的名字查找对应的成绩，如果用list实现，需要两个list：\n",
    "\n",
    "names = ['Michael', 'Bob', 'Tracy']\n",
    "scores = [95, 75, 85]\n",
    "\n",
    "# 给定一个名字，要查找对应的成绩，就先要在names中找到对应的位置，再从scores取出对应的成绩，list越长，耗时越长。\n",
    "# 如果用dict实现，只需要一个“名字”-“成绩”的对照表，直接根据名字查找成绩，无论这个表有多大，查找速度都非常快。\n",
    "\n",
    "d={'Michael':95,'Bob':75,'Tracy':85}\n",
    "print(d['Michael'])\n",
    "# 先在字典的索引表里（比如部首表）查这个字对应的页码，然后直接翻到该页，找到这个字。无论找哪个字，这种查找速度都非常快，不会随着字典大小的增加而变慢。\n",
    "# dict在内部就可以直接计算出Michael对应的存放成绩的“页码”，也就是95这个数字存放的内存地址，直接取出来，所以速度非常快。\n",
    "print(d)"
   ]
  },
  {
   "cell_type": "code",
   "execution_count": 36,
   "metadata": {},
   "outputs": [
    {
     "name": "stdout",
     "output_type": "stream",
     "text": [
      "{'Michael': 95, 'Bob': 75, 'Tracy': 85, 'Jack': 90, 'Alice': 88}\n",
      "{'Michael': 95, 'Bob': 75, 'Tracy': 85, 'Jack': 100, 'Alice': 88}\n"
     ]
    }
   ],
   "source": [
    "# 把数据放入dict的方法，除了初始化时指定外，还可以通过key放入：\n",
    "d['Jack'] = 90\n",
    "d['Alice'] = 88\n",
    "print(d)\n",
    "\n",
    "# 由于一个key只能对应一个value，所以，多次对一个key放入value，后面的值会把前面的值冲掉：\n",
    "d['Jack'] = 100\n",
    "print(d)"
   ]
  },
  {
   "cell_type": "code",
   "execution_count": 37,
   "metadata": {},
   "outputs": [
    {
     "ename": "KeyError",
     "evalue": "'Thomas'",
     "output_type": "error",
     "traceback": [
      "\u001b[1;31m---------------------------------------------------------------------------\u001b[0m",
      "\u001b[1;31mKeyError\u001b[0m                                  Traceback (most recent call last)",
      "Cell \u001b[1;32mIn[37], line 2\u001b[0m\n\u001b[0;32m      1\u001b[0m \u001b[38;5;66;03m# 如果key不存在，dict就会报错：\u001b[39;00m\n\u001b[1;32m----> 2\u001b[0m \u001b[38;5;28mprint\u001b[39m(\u001b[43md\u001b[49m\u001b[43m[\u001b[49m\u001b[38;5;124;43m'\u001b[39;49m\u001b[38;5;124;43mThomas\u001b[39;49m\u001b[38;5;124;43m'\u001b[39;49m\u001b[43m]\u001b[49m) \u001b[38;5;66;03m# KeyError: 'Thomas'\u001b[39;00m\n",
      "\u001b[1;31mKeyError\u001b[0m: 'Thomas'"
     ]
    }
   ],
   "source": [
    "# 如果key不存在，dict就会报错：\n",
    "print(d['Thomas']) # KeyError: 'Thomas'"
   ]
  },
  {
   "cell_type": "code",
   "execution_count": 38,
   "metadata": {},
   "outputs": [
    {
     "name": "stdout",
     "output_type": "stream",
     "text": [
      "False\n",
      "None\n",
      "-1\n"
     ]
    }
   ],
   "source": [
    "# 要避免key不存在的错误，有两种办法，一是通过in判断key是否存在：\n",
    "print('Thomas' in d) # False\n",
    "\n",
    "# 二是通过dict提供的get()方法，如果key不存在，可以返回None，或者自己指定的value：\n",
    "print(d.get('Thomas')) # None\n",
    "print(d.get('Thomas',-1)) # -1"
   ]
  },
  {
   "cell_type": "code",
   "execution_count": null,
   "metadata": {},
   "outputs": [
    {
     "name": "stdout",
     "output_type": "stream",
     "text": [
      "{'Michael': 95, 'Bob': 75, 'Tracy': 85, 'Jack': 100, 'Alice': 88}\n",
      "{'Michael': 95, 'Tracy': 85, 'Jack': 100, 'Alice': 88}\n"
     ]
    }
   ],
   "source": [
    "# 要删除一个key，用pop(key)方法，对应的value也会从dict中删除：\n",
    "print(d)\n",
    "d.pop('Bob')\n",
    "print(d)\n",
    "# 请务必注意，dict内部存放的顺序和key放入的顺序是没有关系的。\n",
    "# 和list比较，dict有以下几个特点：\n",
    "# 查找和插入的速度极快，不会随着key的增加而变慢；\n",
    "# 需要占用大量的内存，内存浪费多。\n",
    "\n",
    "# 而list相反：\n",
    "# 查找和插入的时间随着元素的增加而增加；\n",
    "# 占用空间小，浪费内存很少。\n",
    "# 所以，dict是用空间来换取时间的一种方法。"
   ]
  },
  {
   "cell_type": "code",
   "execution_count": null,
   "metadata": {},
   "outputs": [
    {
     "ename": "TypeError",
     "evalue": "unhashable type: 'list'",
     "output_type": "error",
     "traceback": [
      "\u001b[1;31m---------------------------------------------------------------------------\u001b[0m",
      "\u001b[1;31mTypeError\u001b[0m                                 Traceback (most recent call last)",
      "Cell \u001b[1;32mIn[41], line 5\u001b[0m\n\u001b[0;32m      1\u001b[0m \u001b[38;5;66;03m# dict可以用在需要高速查找的很多地方，在Python代码中几乎无处不在，正确使用dict非常重要，需要牢记的第一条就是dict的key必须是不可变对象。\u001b[39;00m\n\u001b[0;32m      2\u001b[0m \u001b[38;5;66;03m# 这是因为dict根据key来计算value的存储位置，如果每次计算相同的key得出的结果不同，那dict内部就完全混乱了。这个通过key计算位置的算法称为哈希算法（Hash）。\u001b[39;00m\n\u001b[0;32m      3\u001b[0m \u001b[38;5;66;03m# 要保证hash的正确性，作为key的对象就不能变。在Python中，字符串、整数等都是不可变的，因此，可以放心地作为key。而list是可变的，就不能作为key：\u001b[39;00m\n\u001b[0;32m      4\u001b[0m key \u001b[38;5;241m=\u001b[39m [\u001b[38;5;241m1\u001b[39m,\u001b[38;5;241m2\u001b[39m,\u001b[38;5;241m3\u001b[39m]\n\u001b[1;32m----> 5\u001b[0m \u001b[43md\u001b[49m\u001b[43m[\u001b[49m\u001b[43mkey\u001b[49m\u001b[43m]\u001b[49m\u001b[38;5;241m=\u001b[39m\u001b[38;5;124m\"\u001b[39m\u001b[38;5;124ma list\u001b[39m\u001b[38;5;124m\"\u001b[39m \u001b[38;5;66;03m# TypeError: unhashable type: 'list'\u001b[39;00m\n",
      "\u001b[1;31mTypeError\u001b[0m: unhashable type: 'list'"
     ]
    }
   ],
   "source": [
    "# dict可以用在需要高速查找的很多地方，在Python代码中几乎无处不在，正确使用dict非常重要，需要牢记的第一条就是dict的key必须是不可变对象。\n",
    "# 这是因为dict根据key来计算value的存储位置，如果每次计算相同的key得出的结果不同，那dict内部就完全混乱了。这个通过key计算位置的算法称为哈希算法（Hash）。\n",
    "# 要保证hash的正确性，作为key的对象就不能变。在Python中，字符串、整数等都是不可变的，因此，可以放心地作为key。而list是可变的，就不能作为key：\n",
    "key = [1, 2, 3]\n",
    "d[key] = \"a list\"  # TypeError: unhashable type: 'list'"
   ]
  },
  {
   "cell_type": "code",
   "execution_count": 43,
   "metadata": {},
   "outputs": [
    {
     "name": "stdout",
     "output_type": "stream",
     "text": [
      "{1, 2, 3}\n",
      "<class 'set'>\n"
     ]
    }
   ],
   "source": [
    "# set和dict类似，也是一组key的集合，但不存储value。由于key不能重复，所以，在set中，没有重复的key。\n",
    "# 要创建一个set，用{x,y,z,...}列出每个元素：\n",
    "s={1,2,3}\n",
    "print(s)\n",
    "print(type(s))"
   ]
  },
  {
   "cell_type": "code",
   "execution_count": 45,
   "metadata": {},
   "outputs": [
    {
     "name": "stdout",
     "output_type": "stream",
     "text": [
      "<class 'list'>\n",
      "s={1, 2, 3, 4, 5}\n",
      "<class 'set'>\n"
     ]
    }
   ],
   "source": [
    "# 或者提供一个list作为输入集合：\n",
    "list_s = [1,2,3,4,5]\n",
    "print(type(list_s))\n",
    "s = set(list_s)\n",
    "print(f\"s={s}\")\n",
    "print(type(s))\n"
   ]
  },
  {
   "cell_type": "code",
   "execution_count": 46,
   "metadata": {},
   "outputs": [
    {
     "name": "stdout",
     "output_type": "stream",
     "text": [
      "{1, 2, 3}\n"
     ]
    }
   ],
   "source": [
    "# 注意，传入的参数[1, 2, 3]是一个list，而显示的{1, 2, 3}只是告诉你这个set内部有1，2，3这3个元素，显示的顺序也不表示set是有序的。。\n",
    "# 重复元素在set中自动被过滤：\n",
    "\n",
    "s = {1, 1, 2, 2, 3, 3}\n",
    "print(s)"
   ]
  },
  {
   "cell_type": "code",
   "execution_count": 47,
   "metadata": {},
   "outputs": [
    {
     "name": "stdout",
     "output_type": "stream",
     "text": [
      "{1, 2, 3, 4}\n",
      "{1, 2, 3, 4}\n"
     ]
    }
   ],
   "source": [
    "# 通过add(key)方法可以添加元素到set中，可以重复添加，但不会有效果：\n",
    "s.add(4)\n",
    "print(s)\n",
    "s.add(4)\n",
    "print(s)"
   ]
  },
  {
   "cell_type": "code",
   "execution_count": 48,
   "metadata": {},
   "outputs": [
    {
     "name": "stdout",
     "output_type": "stream",
     "text": [
      "{1, 2, 3}\n",
      "{2, 3}\n"
     ]
    }
   ],
   "source": [
    "# 通过remove(key)方法可以删除元素：\n",
    "s.remove(4)\n",
    "print(s)\n",
    "s.remove(1)\n",
    "print(s)"
   ]
  },
  {
   "cell_type": "code",
   "execution_count": null,
   "metadata": {},
   "outputs": [
    {
     "name": "stdout",
     "output_type": "stream",
     "text": [
      "{2, 3}\n",
      "{1, 2, 3, 4}\n"
     ]
    }
   ],
   "source": [
    "# set可以看成数学意义上的无序和无重复元素的集合，因此，两个set可以做数学意义上的交集、并集等操作：\n",
    "s1 = {1, 2, 3}\n",
    "s2 = {2, 3, 4}\n",
    "\n",
    "print(s1 & s2) # 交集\n",
    "print(s1 | s2) # 并集"
   ]
  },
  {
   "cell_type": "code",
   "execution_count": 51,
   "metadata": {},
   "outputs": [
    {
     "ename": "TypeError",
     "evalue": "unhashable type: 'list'",
     "output_type": "error",
     "traceback": [
      "\u001b[1;31m---------------------------------------------------------------------------\u001b[0m",
      "\u001b[1;31mTypeError\u001b[0m                                 Traceback (most recent call last)",
      "Cell \u001b[1;32mIn[51], line 4\u001b[0m\n\u001b[0;32m      1\u001b[0m \u001b[38;5;66;03m# set和dict的唯一区别仅在于没有存储对应的value，但是，set的原理和dict一样，\u001b[39;00m\n\u001b[0;32m      2\u001b[0m \u001b[38;5;66;03m# 所以，同样不可以放入可变对象，因为无法判断两个可变对象是否相等，也就无法保证set内部“不会有重复元素”。试试把list放入set，看看是否会报错。\u001b[39;00m\n\u001b[0;32m      3\u001b[0m s_var \u001b[38;5;241m=\u001b[39m [\u001b[38;5;241m1\u001b[39m,\u001b[38;5;241m2\u001b[39m,\u001b[38;5;241m3\u001b[39m]\n\u001b[1;32m----> 4\u001b[0m s \u001b[38;5;241m=\u001b[39m {\u001b[38;5;241m1\u001b[39m, \u001b[38;5;241m2\u001b[39m, \u001b[38;5;241m3\u001b[39m, s_var}\n",
      "\u001b[1;31mTypeError\u001b[0m: unhashable type: 'list'"
     ]
    }
   ],
   "source": [
    "# set和dict的唯一区别仅在于没有存储对应的value，但是，set的原理和dict一样，\n",
    "# 所以，同样不可以放入可变对象，因为无法判断两个可变对象是否相等，也就无法保证set内部“不会有重复元素”。试试把list放入set，看看是否会报错。\n",
    "s_var = [1,2,3]\n",
    "s = {1, 2, 3, s_var}"
   ]
  },
  {
   "cell_type": "code",
   "execution_count": 52,
   "metadata": {},
   "outputs": [
    {
     "name": "stdout",
     "output_type": "stream",
     "text": [
      "['a', 'b', 'c']\n"
     ]
    }
   ],
   "source": [
    "# 再议不可变对象\n",
    "# str是不变对象，而list是可变对象。\n",
    "# 对于可变对象，比如list，对list进行操作，list内部的内容是会变化的，比如：\n",
    "a = ['c', 'b', 'a']\n",
    "a.sort()\n",
    "print(a)"
   ]
  },
  {
   "cell_type": "code",
   "execution_count": null,
   "metadata": {},
   "outputs": [
    {
     "name": "stdout",
     "output_type": "stream",
     "text": [
      "Abc\n",
      "abc\n"
     ]
    }
   ],
   "source": [
    "# 而对于不可变对象，比如str，对str进行操作呢：\n",
    "a = 'abc'\n",
    "b=a.replace('a', 'A')\n",
    "print(b)\n",
    "print(a)\n",
    "# a是变量，而'abc'才是字符串对象！有些时候，我们经常说，对象a的内容是'abc'，但其实是指，a本身是一个变量，它指向的对象的内容才是'abc'：\n",
    "# 当我们调用a.replace('a', 'A')时，实际上调用方法replace是作用在字符串对象'abc'上的，\n",
    "# 而这个方法虽然名字叫replace，但却没有改变字符串'abc'的内容。相反，replace方法创建了一个新字符串'Abc'并返回，\n",
    "# 如果我们用变量b指向该新字符串，就容易理解了，变量a仍指向原有的字符串'abc'，但变量b却指向新字符串'Abc'了：\n",
    "# 于不变对象来说，调用对象自身的任意方法，也不会改变该对象自身的内容。相反，这些方法会创建新的对象并返回，这样，就保证了不可变对象本身永远是不可变的。"
   ]
  },
  {
   "cell_type": "code",
   "execution_count": 58,
   "metadata": {},
   "outputs": [
    {
     "name": "stdout",
     "output_type": "stream",
     "text": [
      "{(1, 2, 3): 'value'}\n",
      "{(1, 2, 3)}\n"
     ]
    },
    {
     "ename": "TypeError",
     "evalue": "unhashable type: 'list'",
     "output_type": "error",
     "traceback": [
      "\u001b[1;31m---------------------------------------------------------------------------\u001b[0m",
      "\u001b[1;31mTypeError\u001b[0m                                 Traceback (most recent call last)",
      "Cell \u001b[1;32mIn[58], line 10\u001b[0m\n\u001b[0;32m      7\u001b[0m \u001b[38;5;28mprint\u001b[39m(my_set)\n\u001b[0;32m      9\u001b[0m \u001b[38;5;66;03m# 将元组 (1, [2, 3]) 放入字典或集合\u001b[39;00m\n\u001b[1;32m---> 10\u001b[0m my_dict \u001b[38;5;241m=\u001b[39m {(\u001b[38;5;241m1\u001b[39m, [\u001b[38;5;241m2\u001b[39m, \u001b[38;5;241m3\u001b[39m]): \u001b[38;5;124m\"\u001b[39m\u001b[38;5;124mvalue\u001b[39m\u001b[38;5;124m\"\u001b[39m}  \u001b[38;5;66;03m# 这行会抛出 TypeError\u001b[39;00m\n\u001b[0;32m     11\u001b[0m my_set \u001b[38;5;241m=\u001b[39m {(\u001b[38;5;241m1\u001b[39m, [\u001b[38;5;241m2\u001b[39m, \u001b[38;5;241m3\u001b[39m])}  \u001b[38;5;66;03m# 这行也会抛出 TypeError\u001b[39;00m\n\u001b[0;32m     13\u001b[0m \u001b[38;5;66;03m# 这是因为元组 (1, [2, 3]) 中包含了一个列表 [2, 3]，而列表是可变的，\u001b[39;00m\n\u001b[0;32m     14\u001b[0m \u001b[38;5;66;03m# 因此整个元组也是不可哈希的。因为哈希表（dict和set）需要每个键都是可哈希的，包含可变对象的元组不能作为键。\u001b[39;00m\n",
      "\u001b[1;31mTypeError\u001b[0m: unhashable type: 'list'"
     ]
    }
   ],
   "source": [
    "# 练习:tuple虽然是不变对象，但试试把(1, 2, 3)和(1, [2, 3])放入dict或set中，并解释结果。\n",
    "# 将元组 (1, 2, 3) 放入字典或集合\n",
    "my_dict = {(1, 2, 3): \"value\"}\n",
    "my_set = {(1, 2, 3)}\n",
    "\n",
    "print(my_dict)\n",
    "print(my_set)\n",
    "\n",
    "# 将元组 (1, [2, 3]) 放入字典或集合\n",
    "my_dict = {(1, [2, 3]): \"value\"}  # 这行会抛出 TypeError\n",
    "my_set = {(1, [2, 3])}  # 这行也会抛出 TypeError\n",
    "\n",
    "# 这是因为元组 (1, [2, 3]) 中包含了一个列表 [2, 3]，而列表是可变的，\n",
    "# 因此整个元组也是不可哈希的。因为哈希表（dict和set）需要每个键都是可哈希的，包含可变对象的元组不能作为键。"
   ]
  },
  {
   "cell_type": "code",
   "execution_count": null,
   "metadata": {},
   "outputs": [
    {
     "name": "stdout",
     "output_type": "stream",
     "text": [
      "(1, [2, 3])\n",
      "(1, [4, 3])\n"
     ]
    }
   ],
   "source": [
    "# 元组当下因为是不可变的，所以可以作为字典的键，但是如果元组中包含了不可哈希的对象，那么整个元组也会变得不可哈希。\n",
    "list1 = [2,3]\n",
    "a = (1,list1)\n",
    "print(a)\n",
    "\n",
    "list1[0] = 4\n",
    "print(a)"
   ]
  }
 ],
 "metadata": {
  "kernelspec": {
   "display_name": "homework",
   "language": "python",
   "name": "python3"
  },
  "language_info": {
   "codemirror_mode": {
    "name": "ipython",
    "version": 3
   },
   "file_extension": ".py",
   "mimetype": "text/x-python",
   "name": "python",
   "nbconvert_exporter": "python",
   "pygments_lexer": "ipython3",
   "version": "3.10.16"
  }
 },
 "nbformat": 4,
 "nbformat_minor": 2
}
