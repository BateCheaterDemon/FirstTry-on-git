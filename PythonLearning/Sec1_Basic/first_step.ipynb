{
 "cells": [
  {
   "cell_type": "code",
   "execution_count": null,
   "metadata": {},
   "outputs": [],
   "source": [
    "print(\"hello world\")\n",
    "\n",
    "name = input(\"please input your name:\")\n",
    "print(\"hello\",name)"
   ]
  },
  {
   "cell_type": "code",
   "execution_count": 1,
   "metadata": {},
   "outputs": [
    {
     "name": "stdout",
     "output_type": "stream",
     "text": [
      "I'm \"OK\"!\n",
      "I'm learning\n",
      "Python.\n",
      "\\\n",
      "\\\n"
     ]
    }
   ],
   "source": [
    "# 整数 1000,100_000均可\n",
    "# 浮点数 1.23,1.23e9,1.23e-9 e表示10的幂\n",
    "\n",
    "# 字符串\n",
    "print(\"I'm \\\"OK\\\"!\")\n",
    "\n",
    "print('I\\'m learning\\nPython.')\n",
    "\n",
    "print(\"\\\\\\n\\\\\")"
   ]
  },
  {
   "cell_type": "code",
   "execution_count": 2,
   "metadata": {},
   "outputs": [
    {
     "name": "stdout",
     "output_type": "stream",
     "text": [
      "line1\n",
      "line2\n",
      "line3\n"
     ]
    }
   ],
   "source": [
    "print('''line1\n",
    "... line2\n",
    "... line3''')"
   ]
  },
  {
   "cell_type": "code",
   "execution_count": 3,
   "metadata": {},
   "outputs": [
    {
     "name": "stdout",
     "output_type": "stream",
     "text": [
      "hello,\\n\n",
      "world\n"
     ]
    }
   ],
   "source": [
    "print(r'''hello,\\n\n",
    "world''')"
   ]
  },
  {
   "cell_type": "code",
   "execution_count": 5,
   "metadata": {},
   "outputs": [
    {
     "name": "stdout",
     "output_type": "stream",
     "text": [
      "True\n",
      "False\n",
      "True\n",
      "False\n",
      "False\n",
      "True\n",
      "False\n",
      "True\n"
     ]
    }
   ],
   "source": [
    "# 布尔值\n",
    "print(True)\n",
    "print(False)\n",
    "\n",
    "print(3>2)\n",
    "print(3>5)\n",
    "\n",
    "# and or not\n",
    "print(True and False)\n",
    "print(True or False)\n",
    "print(not True)\n",
    "print(not 1>2)\n"
   ]
  },
  {
   "cell_type": "code",
   "execution_count": 6,
   "metadata": {},
   "outputs": [
    {
     "name": "stdout",
     "output_type": "stream",
     "text": [
      "adult\n"
     ]
    }
   ],
   "source": [
    "# 布尔值用于条件判断\n",
    "age = 20\n",
    "if age >= 18:\n",
    "    print('adult')\n",
    "else:\n",
    "    print('teenager')"
   ]
  },
  {
   "cell_type": "code",
   "execution_count": null,
   "metadata": {},
   "outputs": [],
   "source": [
    "# 空值，不能理解为0，None是一个特殊的空值。\n",
    "a = None"
   ]
  },
  {
   "cell_type": "code",
   "execution_count": null,
   "metadata": {},
   "outputs": [],
   "source": [
    "# 变量\n",
    "a = 1 # a是整数\n",
    "t_007 = 'T007' # t_007是字符串\n",
    "Answer = True # Answer是布尔值\n"
   ]
  },
  {
   "cell_type": "code",
   "execution_count": null,
   "metadata": {},
   "outputs": [
    {
     "name": "stdout",
     "output_type": "stream",
     "text": [
      "123\n",
      "ABC\n"
     ]
    }
   ],
   "source": [
    "# 等号=是赋值语句，可以把任意数据类型赋值给变量，同一个变量可以反复赋值，而且可以是不同类型的变量，是一种动态赋值\n",
    "a = 123 # a是整数\n",
    "print(a)\n",
    "a = 'ABC' # a是字符串\n",
    "print(a)"
   ]
  },
  {
   "cell_type": "code",
   "execution_count": 9,
   "metadata": {},
   "outputs": [
    {
     "name": "stdout",
     "output_type": "stream",
     "text": [
      "12\n",
      "ABC\n"
     ]
    }
   ],
   "source": [
    "x = 10\n",
    "x = x + 2\n",
    "print(x)\n",
    "\n",
    "a= 'ABC'\n",
    "b = a\n",
    "a = 'XYZ'\n",
    "print(b)"
   ]
  },
  {
   "cell_type": "code",
   "execution_count": null,
   "metadata": {},
   "outputs": [],
   "source": [
    "# 常量\n",
    "# 所谓常量就是不能变的变量，比如常用的数学常数π就是一个常量。在Python中，通常用全部大写的变量名表示常量\n",
    "PI = 3.14159265359\n",
    "pi = 3.14159265359\n"
   ]
  },
  {
   "cell_type": "code",
   "execution_count": 11,
   "metadata": {},
   "outputs": [
    {
     "name": "stdout",
     "output_type": "stream",
     "text": [
      "3.3333333333333335\n",
      "3.0\n",
      "3\n",
      "1\n"
     ]
    }
   ],
   "source": [
    "# 除法\n",
    "print(10/3) # 3.3333333333333335\n",
    "print(9/3) # 3.0 结果是浮点数\n",
    "print(10//3) # 3 地板除，结果是整数\n",
    "print(10%3) # 1 取余数"
   ]
  },
  {
   "cell_type": "code",
   "execution_count": 12,
   "metadata": {},
   "outputs": [
    {
     "name": "stdout",
     "output_type": "stream",
     "text": [
      "123\n",
      "456.789\n",
      "Hello, world\n",
      "Hello, 'Adam'\n",
      "Hello, \"Bart\"\n",
      "Hello,\n",
      "Lisa!\n"
     ]
    }
   ],
   "source": [
    "n = 123\n",
    "print(n)\n",
    "f = 456.789\n",
    "print(f)\n",
    "s1 = 'Hello, world'\n",
    "print(s1)\n",
    "s2 = 'Hello, \\'Adam\\''\n",
    "print(s2)\n",
    "s3 = r'Hello, \"Bart\"'\n",
    "print(s3)\n",
    "s4 = r'''Hello,\n",
    "Lisa!'''\n",
    "print(s4)"
   ]
  },
  {
   "cell_type": "code",
   "execution_count": null,
   "metadata": {},
   "outputs": [
    {
     "name": "stdout",
     "output_type": "stream",
     "text": [
      "包含中文的str\n",
      "65\n",
      "20013\n",
      "B\n",
      "文\n",
      "中文\n"
     ]
    }
   ],
   "source": [
    "# 字符串和编码\n",
    "# 字符编码 uTF-8,Python 3版本中，字符串是以Unicode编码的，也就是说，Python的字符串支持多语言，例如：\n",
    "print('包含中文的str')\n",
    "\n",
    "# ord()函数获取字符的整数表示，chr()函数把编码转换为对应的字符\n",
    "print(ord('A')) # 65\n",
    "print(ord('中')) # 20013\n",
    "print(chr(66)) # B char函数返回对应的字符\n",
    "print(chr(25991)) # 文\n",
    "\n",
    "print('\\u4e2d\\u6587') # 中文 16进制"
   ]
  },
  {
   "cell_type": "code",
   "execution_count": null,
   "metadata": {},
   "outputs": [
    {
     "name": "stdout",
     "output_type": "stream",
     "text": [
      "b'ABC'\n",
      "b'\\xe4\\xb8\\xad\\xe6\\x96\\x87'\n",
      "ABC\n",
      "中文\n",
      "中\n",
      "3\n",
      "6\n",
      "6\n"
     ]
    }
   ],
   "source": [
    "# bytes类型的数据用带b前缀的单引号或双引号表示\n",
    "x = b'ABC'\n",
    "y = 'ABC'\n",
    "# 前者是str，后者虽然内容显示得和前者一样，但bytes的每个字符都只占用一个字节。\n",
    "# 以Unicode表示的str通过encode()方法可以编码为指定的bytes\n",
    "print('ABC'.encode('ascii'))\n",
    "\n",
    "print('中文'.encode('utf-8'))\n",
    "# print('中文'.encode('ascii')) \n",
    "\n",
    "# 反过来，如果我们从网络或磁盘上读取了字节流，那么读到的数据就是bytes。要把bytes变为str，就需要用decode()方法\n",
    "print(b'ABC'.decode('ascii'))\n",
    "print(b'\\xe4\\xb8\\xad\\xe6\\x96\\x87'.decode('utf-8'))\n",
    "\n",
    "# 如果bytes中包含无法解码的字节，decode()方法会报错：\n",
    "# print(b'\\xe4\\xb8\\xad\\xff'.decode('utf-8'))\n",
    "# 如果bytes中只有一小部分无效的字节，可以传入errors='ignore'忽略错误的字节\n",
    "print(b'\\xe4\\xb8\\xad\\xff'.decode('utf-8', errors='ignore'))\n",
    "\n",
    "# len()函数计算的是str的字符数，如果换成bytes，len()函数就计算字节数\n",
    "print(len(b'ABC'))\n",
    "print(len(b'\\xe4\\xb8\\xad\\xe6\\x96\\x87'))\n",
    "print(len('中文'.encode('utf-8')))\n",
    "# 可见1个中文字符经过UTF-8编码后通常会占用3个字节，而1个英文字符只占用1个字节。\n",
    "\n",
    "#!/usr/bin/env python3，这一行注释是为了告诉Linux/OS X系统，这是一个Python可执行程序，Windows系统会忽略这个注释。\n",
    "# -*- coding: utf-8 -*-，这行注释是为了告诉Python解释器，按照UTF-8编码读取源代码，否则，你在源代码中写的中文输出可能会有乱码。"
   ]
  },
  {
   "cell_type": "code",
   "execution_count": null,
   "metadata": {},
   "outputs": [
    {
     "name": "stdout",
     "output_type": "stream",
     "text": [
      "Hello, world\n"
     ]
    }
   ],
   "source": [
    "# 格式化\n",
    "# 在字符串内部，%s表示用字符串替换，%d表示用整数替换，有几个%?占位符，后面就跟几个变量或者值，顺序要对应好。如果只有一个%?，括号可以省略。\n",
    "s='world'\n",
    "print('Hello, %s'% s)\n"
   ]
  },
  {
   "cell_type": "code",
   "execution_count": 26,
   "metadata": {},
   "outputs": [
    {
     "name": "stdout",
     "output_type": "stream",
     "text": [
      " 3-01\n",
      "3.14\n",
      "Age: 25. Gender: True\n"
     ]
    }
   ],
   "source": [
    "print('%2d-%02d' % (3, 1))\n",
    "print('%.2f' % 3.1415926)\n",
    "\n",
    "# 如果你不太确定应该用什么，%s永远起作用，它会把任何数据类型转换为字符串：\n",
    "print('Age: %s. Gender: %s' % (25, True))\n",
    "\n"
   ]
  },
  {
   "cell_type": "code",
   "execution_count": 30,
   "metadata": {},
   "outputs": [
    {
     "name": "stdout",
     "output_type": "stream",
     "text": [
      "Hello, 小明, 成绩提升了 17.1%\n"
     ]
    }
   ],
   "source": [
    "# format()\n",
    "print('Hello, {0}, 成绩提升了 {1:.1f}%'.format('小明', 17.125))"
   ]
  },
  {
   "cell_type": "code",
   "execution_count": 31,
   "metadata": {},
   "outputs": [
    {
     "name": "stdout",
     "output_type": "stream",
     "text": [
      "The area of a circle with radius 2.5 is 19.62\n"
     ]
    }
   ],
   "source": [
    "# f-string\n",
    "r = 2.5\n",
    "s = 3.14 * r ** 2\n",
    "print(f'The area of a circle with radius {r} is {s:.2f}')"
   ]
  },
  {
   "cell_type": "code",
   "execution_count": 33,
   "metadata": {},
   "outputs": [
    {
     "name": "stdout",
     "output_type": "stream",
     "text": [
      "小明成绩的提升百分比是18.1%\n"
     ]
    }
   ],
   "source": [
    "score1=72\n",
    "score2=85\n",
    "rate = (score2-score1)/score1*100\n",
    "print(f\"小明成绩的提升百分比是{rate:.1f}%\")"
   ]
  },
  {
   "cell_type": "code",
   "execution_count": 14,
   "metadata": {},
   "outputs": [
    {
     "name": "stdout",
     "output_type": "stream",
     "text": [
      "['Michael', 'Bob', 'Tracy']\n",
      "Michael\n",
      "Bob\n",
      "Tracy\n",
      "Tracy\n"
     ]
    },
    {
     "ename": "IndexError",
     "evalue": "list index out of range",
     "output_type": "error",
     "traceback": [
      "\u001b[1;31m---------------------------------------------------------------------------\u001b[0m",
      "\u001b[1;31mIndexError\u001b[0m                                Traceback (most recent call last)",
      "Cell \u001b[1;32mIn[14], line 12\u001b[0m\n\u001b[0;32m     10\u001b[0m \u001b[38;5;28mprint\u001b[39m(classmates[\u001b[38;5;241m-\u001b[39m\u001b[38;5;241m1\u001b[39m]) \u001b[38;5;66;03m# 最后一个元素\u001b[39;00m\n\u001b[0;32m     11\u001b[0m \u001b[38;5;66;03m# 索引超出了范围时，Python会报一个IndexError错误，所以，要确保索引不要越界\u001b[39;00m\n\u001b[1;32m---> 12\u001b[0m \u001b[38;5;28mprint\u001b[39m(\u001b[43mclassmates\u001b[49m\u001b[43m[\u001b[49m\u001b[38;5;241;43m3\u001b[39;49m\u001b[43m]\u001b[49m)\n",
      "\u001b[1;31mIndexError\u001b[0m: list index out of range"
     ]
    }
   ],
   "source": [
    "# list and tuple\n",
    "classmates = ['Michael', 'Bob', 'Tracy']\n",
    "print(classmates)\n",
    "len(classmates) # 3个元素\n",
    "# 通过索引方式访问每一个位置的元素，索引是从0开始的\n",
    "print(classmates[0])\n",
    "print(classmates[1])\n",
    "print(classmates[2])\n",
    "# 如果要取最后一个元素，除了计算索引位置外，还可以用-1做索引，直接获取最后一个元素：\n",
    "print(classmates[-1]) # 最后一个元素\n",
    "# 索引超出了范围时，Python会报一个IndexError错误，所以，要确保索引不要越界\n",
    "print(classmates[3]) # 不存在的元素"
   ]
  },
  {
   "cell_type": "code",
   "execution_count": 15,
   "metadata": {},
   "outputs": [
    {
     "name": "stdout",
     "output_type": "stream",
     "text": [
      "['Michael', 'Bob', 'Tracy', 'Adam']\n",
      "['Michael', 'Jack', 'Bob', 'Tracy', 'Adam']\n",
      "Adam\n",
      "['Michael', 'Jack', 'Bob', 'Tracy']\n",
      "['Michael', 'Sarah', 'Bob', 'Tracy']\n"
     ]
    }
   ],
   "source": [
    "# list是一个可变的有序表，所以，可以往list中追加元素到末尾：\n",
    "classmates.append('Adam')\n",
    "print(classmates)\n",
    "# 把元素插入到指定的位置，比如索引号为1的位置：\n",
    "classmates.insert(1, 'Jack')\n",
    "print(classmates)\n",
    "# 删除list末尾的元素，用pop()方法\n",
    "delete_element=classmates.pop()\n",
    "print(delete_element)\n",
    "print(classmates)\n",
    "# 要把某个元素替换成别的元素，可以直接赋值给对应的索引位置：\n",
    "classmates[1] = 'Sarah'\n",
    "print(classmates)"
   ]
  },
  {
   "cell_type": "code",
   "execution_count": null,
   "metadata": {},
   "outputs": [
    {
     "name": "stdout",
     "output_type": "stream",
     "text": [
      "['Apple', 123, True]\n",
      "4\n",
      "['asp', 'php']\n",
      "php\n"
     ]
    }
   ],
   "source": [
    "# list里面的元素的数据类型也可以不同\n",
    "L = ['Apple', 123, True]\n",
    "print(L)\n",
    "\n",
    "# list元素也可以是另一个list\n",
    "s = ['python', 'java', ['asp', 'php'], 'scheme']\n",
    "print(len(s))\n",
    "print(s[2])\n",
    "print(s[2][1]) #注意s只有4个元素，其中s[2]又是一个list"
   ]
  },
  {
   "cell_type": "code",
   "execution_count": null,
   "metadata": {},
   "outputs": [
    {
     "name": "stdout",
     "output_type": "stream",
     "text": [
      "Michael\n",
      "Tracy\n",
      "(1, 2)\n",
      "()\n",
      "1\n",
      "(1,)\n",
      "('a', 'b', ['X', 'Y'])\n"
     ]
    }
   ],
   "source": [
    "# 元组：tuple。tuple和list非常类似，但是tuple一旦初始化就不能修改，比如同样是列出同学的名字：\n",
    "classmates = ('Michael', 'Bob', 'Tracy')\n",
    "# 现在，classmates这个tuple不能变了，它也没有append()，insert()这样的方法。\n",
    "# 其他获取元素的方法和list是一样的，你可以正常地使用classmates[0]，classmates[-1]，但不能赋值成另外的元素。\n",
    "print(classmates[0])\n",
    "print(classmates[-1])\n",
    "# 不可变的tuple有什么意义？因为tuple不可变，所以代码更安全。如果可能，能用tuple代替list就尽量用tuple。\n",
    "# tuple的陷阱：当你定义一个tuple时，在定义的时候，tuple的元素就必须被确定下来，比如：\n",
    "t = (1, 2)\n",
    "print(t)\n",
    "\n",
    "# 如果要定义一个空的tuple，可以写成()：\n",
    "t = ()\n",
    "print(t)\n",
    "\n",
    "# 但是，要定义一个只有1个元素的tuple，如果你这么定义：\n",
    "t = (1)\n",
    "print(t)\n",
    "# t定义的不是tuple，是数字1！这是因为括号()既可以表示tuple，\n",
    "# 又可以表示数学公式中的小括号，这就产生了歧义，因此，Python规定，这种情况下，按小括号进行计算，计算结果自然是1\n",
    "\n",
    "# 所以，只有1个元素的tuple定义时必须加一个逗号,，来消除歧义：\n",
    "t = (1,)\n",
    "print(t)\n",
    "\n",
    "# “可变的”tuple：\n",
    "t = ('a', 'b', ['A', 'B'])\n",
    "t[2][0] = 'X'\n",
    "t[2][1] = 'Y'\n",
    "print(t)\n",
    "# tuple的元素确实变了，但其实变的不是tuple的元素，而是list的元素。\n",
    "# tuple一开始指向的list并没有改成别的list，所以，tuple所谓的“不变”是说，\n",
    "# tuple的每个元素，指向永远不变。即指向'a'，就不能改成指向'b'\n",
    "# 指向一个list，就不能改成指向其他对象，但指向的这个list本身是可变的！"
   ]
  },
  {
   "cell_type": "code",
   "execution_count": 24,
   "metadata": {},
   "outputs": [
    {
     "name": "stdout",
     "output_type": "stream",
     "text": [
      "Apple\n",
      "Python\n"
     ]
    }
   ],
   "source": [
    "# 练习\n",
    "# 请用索引取出下面list的指定元素：\n",
    "L = [\n",
    "    ['Apple', 'Google', 'Microsoft'],\n",
    "    ['Java', 'Python', 'Ruby', 'PHP'],\n",
    "    ['Adam', 'Bart', 'Bob']\n",
    "]\n",
    "\n",
    "# 打印Apple:\n",
    "print(L[0][0])\n",
    "\n",
    "# 打印Python:\n",
    "print(L[1][1])\n"
   ]
  },
  {
   "cell_type": "code",
   "execution_count": null,
   "metadata": {},
   "outputs": [
    {
     "name": "stdout",
     "output_type": "stream",
     "text": [
      "your age is 20\n",
      "you are an 20 years old adult\n",
      "your age is  3\n",
      "teenager\n",
      "kid\n",
      "True\n",
      "False\n"
     ]
    }
   ],
   "source": [
    "# 条件判断\n",
    "age = 20\n",
    "if age >= 18:\n",
    "    print('your age is',age)\n",
    "    print(f'you are an {age} years old adult')\n",
    "\n",
    "# python的if语句从上往下判断，如果在某个判断上是True，把该判断对应的语句执行后，就忽略掉剩下的elif和else\n",
    "# 并且以缩进为依据，缩进相同的代码块组成一个代码块\n",
    "age = 3\n",
    "if age >= 18:\n",
    "    print('your age is ',age)\n",
    "    print('adult')\n",
    "else:\n",
    "    print('your age is ',age)\n",
    "    print('teenager')\n",
    "\n",
    "# 注意不要少写了冒号:\n",
    "# 也存在elif的情况\n",
    "age = 3\n",
    "if age >= 18:\n",
    "    print('adult')\n",
    "elif age >= 6:\n",
    "    print('teenager')\n",
    "else:\n",
    "    print('kid')\n",
    "\n",
    "# if判断条件还可以简写，比如写：\n",
    "x = 1\n",
    "if x:\n",
    "    print('True')\n",
    "# 只要x是非零数值、非空字符串、非空list等，就判断为True，否则为False。\n",
    "\n",
    "x = None\n",
    "if x:\n",
    "    print('True')\n",
    "else:\n",
    "    print('False')\n",
    "\n"
   ]
  }
 ],
 "metadata": {
  "kernelspec": {
   "display_name": "yolo",
   "language": "python",
   "name": "yolo"
  },
  "language_info": {
   "codemirror_mode": {
    "name": "ipython",
    "version": 3
   },
   "file_extension": ".py",
   "mimetype": "text/x-python",
   "name": "python",
   "nbconvert_exporter": "python",
   "pygments_lexer": "ipython3",
   "version": "3.9.0"
  }
 },
 "nbformat": 4,
 "nbformat_minor": 2
}
