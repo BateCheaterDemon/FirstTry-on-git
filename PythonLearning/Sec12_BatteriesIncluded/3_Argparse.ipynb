{
 "cells": [
  {
   "cell_type": "code",
   "execution_count": null,
   "id": "4d2eed03",
   "metadata": {},
   "outputs": [
    {
     "name": "stdout",
     "output_type": "stream",
     "text": [
      "['/home/qwx/miniforge3/envs/personal/lib/python3.10/site-packages/ipykernel_launcher.py', '--f=/run/user/1000/jupyter/runtime/kernel-v3626b63f2a495ac2ca96d1444650d0fc07ed95cec.json']\n"
     ]
    },
    {
     "ename": "IndexError",
     "evalue": "list index out of range",
     "output_type": "error",
     "traceback": [
      "\u001b[0;31m---------------------------------------------------------------------------\u001b[0m",
      "\u001b[0;31mIndexError\u001b[0m                                Traceback (most recent call last)",
      "Cell \u001b[0;32mIn[2], line 6\u001b[0m\n\u001b[1;32m      4\u001b[0m \u001b[38;5;28mprint\u001b[39m(sys\u001b[38;5;241m.\u001b[39margv)\n\u001b[1;32m      5\u001b[0m source \u001b[38;5;241m=\u001b[39m sys\u001b[38;5;241m.\u001b[39margv[\u001b[38;5;241m1\u001b[39m]\n\u001b[0;32m----> 6\u001b[0m target \u001b[38;5;241m=\u001b[39m \u001b[43msys\u001b[49m\u001b[38;5;241;43m.\u001b[39;49m\u001b[43margv\u001b[49m\u001b[43m[\u001b[49m\u001b[38;5;241;43m2\u001b[39;49m\u001b[43m]\u001b[49m\n",
      "\u001b[0;31mIndexError\u001b[0m: list index out of range"
     ]
    }
   ],
   "source": [
    "# 在命令行程序中，经常需要获取命令行参数。Python内置的sys.argv保存了完整的参数列表，我们可以从中解析出需要的参数：\n",
    "# copy.py\n",
    "import sys\n",
    "print(sys.argv)\n",
    "source = sys.argv[1]\n",
    "target = sys.argv[2]\n",
    "\n",
    "# python copy.py source.txt copy.txt"
   ]
  },
  {
   "cell_type": "code",
   "execution_count": null,
   "id": "03a46dee",
   "metadata": {},
   "outputs": [],
   "source": [
    "# 这种方式能应付简单的参数，但参数稍微复杂点，比如可以使用-d复制目录，\n",
    "# 使用--filename *.py过滤文件名等，解析起来就非常麻烦。\n",
    "# 为了简化参数解析，我们可以使用内置的argparse库，定义好各个参数类型后，它能直接返回有效的参数。\n",
    "# 假设我们想编写一个备份MySQL数据库的命令行程序，需要输入的参数如下：\n",
    "\n",
    "# host参数：表示MySQL主机名或IP，不输入则默认为localhost；\n",
    "# port参数：表示MySQL的端口号，int类型，不输入则默认为3306；\n",
    "# user参数：表示登录MySQL的用户名，必须输入；\n",
    "# password参数：表示登录MySQL的口令，必须输入；\n",
    "# gz参数：表示是否压缩备份文件，不输入则默认为False；\n",
    "# outfile参数：表示备份文件保存在哪，必须输入。\n",
    "\n",
    "# 其中，outfile是位置参数，而其他则是类似--user root这样的“关键字”参数。\n",
    "\n",
    "# 用argparse来解析参数，一个完整的示例如下：\n",
    "\n",
    "# backup.py\n",
    "# python backup.py -u root -p hello --database testdb backup.sql"
   ]
  },
  {
   "cell_type": "code",
   "execution_count": 4,
   "id": "741896a8",
   "metadata": {},
   "outputs": [],
   "source": [
    "# 缺少必要的参数，或者参数不对，将报告详细的错误信息：\n",
    "# python backup.py --database testdb backup.sql"
   ]
  },
  {
   "cell_type": "code",
   "execution_count": 5,
   "id": "be6a85ba",
   "metadata": {},
   "outputs": [],
   "source": [
    "# 更神奇的是，如果输入-h，则打印帮助信息：\n",
    "# python backup.py -h"
   ]
  },
  {
   "cell_type": "code",
   "execution_count": null,
   "id": "af7b0265",
   "metadata": {},
   "outputs": [
    {
     "ename": "TypeError",
     "evalue": "ArgumentParser.parse_args() missing 1 required positional argument: 'self'",
     "output_type": "error",
     "traceback": [
      "\u001b[0;31m---------------------------------------------------------------------------\u001b[0m",
      "\u001b[0;31mTypeError\u001b[0m                                 Traceback (most recent call last)",
      "Cell \u001b[0;32mIn[6], line 6\u001b[0m\n\u001b[1;32m      2\u001b[0m \u001b[38;5;28;01mimport\u001b[39;00m\u001b[38;5;250m \u001b[39m\u001b[38;5;21;01margparse\u001b[39;00m\n\u001b[1;32m      4\u001b[0m parser \u001b[38;5;241m=\u001b[39m argparse\u001b[38;5;241m.\u001b[39mArgumentParser\n\u001b[0;32m----> 6\u001b[0m args \u001b[38;5;241m=\u001b[39m \u001b[43mparser\u001b[49m\u001b[38;5;241;43m.\u001b[39;49m\u001b[43mparse_args\u001b[49m\u001b[43m(\u001b[49m\u001b[43m)\u001b[49m\n",
      "\u001b[0;31mTypeError\u001b[0m: ArgumentParser.parse_args() missing 1 required positional argument: 'self'"
     ]
    }
   ],
   "source": [
    "# 获取有效参数的代码实际上是这一行：\n",
    "import argparse\n",
    "\n",
    "parser = argparse.ArgumentParser\n",
    "\n",
    "args = parser.parse_args()"
   ]
  },
  {
   "cell_type": "code",
   "execution_count": null,
   "id": "b95aea12",
   "metadata": {},
   "outputs": [],
   "source": [
    "# 我们不必捕获异常，parse_args()非常方便的一点在于，如果参数有问题，则它打印出错误信息后，结束进程；\n",
    "# 如果参数是-h，则它打印帮助信息后，结束进程。\n",
    "# 只有当参数全部有效时，才会返回一个NameSpace对象，获取对应的参数就把参数名当作属性获取，非常方便。\n",
    "# 可见，使用argparse后，解析参数的工作被大大简化了，我们可以专注于定义参数，然后直接获取到有效的参数输入。"
   ]
  }
 ],
 "metadata": {
  "kernelspec": {
   "display_name": "personal",
   "language": "python",
   "name": "python3"
  },
  "language_info": {
   "codemirror_mode": {
    "name": "ipython",
    "version": 3
   },
   "file_extension": ".py",
   "mimetype": "text/x-python",
   "name": "python",
   "nbconvert_exporter": "python",
   "pygments_lexer": "ipython3",
   "version": "3.10.18"
  }
 },
 "nbformat": 4,
 "nbformat_minor": 5
}
