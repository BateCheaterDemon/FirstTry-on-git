{
 "cells": [
  {
   "cell_type": "code",
   "execution_count": 1,
   "id": "6fe33a98",
   "metadata": {},
   "outputs": [
    {
     "name": "stdout",
     "output_type": "stream",
     "text": [
      "b'\\x00\\x9c@c'\n"
     ]
    }
   ],
   "source": [
    "# 准确地讲，Python没有专门处理字节的数据类型。\n",
    "# 但由于b'str'可以表示字节，所以，字节数组＝二进制str。\n",
    "# 而在C语言中，我们可以很方便地用struct、union来处理字节，以及字节和int，float的转换。\n",
    "# 在Python中，比方说要把一个32位无符号整数变成字节，也就是4个长度的bytes，你得配合位运算符这么写：\n",
    "\n",
    "n = 10240099\n",
    "b1 = (n & 0xff000000) >> 24\n",
    "b2 = (n & 0xff0000) >> 16\n",
    "b3 = (n & 0xff00) >> 8\n",
    "b4 = n & 0xff\n",
    "bs = bytes([b1, b2, b3, b4])\n",
    "print(bs)"
   ]
  },
  {
   "cell_type": "code",
   "execution_count": 2,
   "id": "c912a3f9",
   "metadata": {},
   "outputs": [
    {
     "data": {
      "text/plain": [
       "b'\\x00\\x9c@c'"
      ]
     },
     "execution_count": 2,
     "metadata": {},
     "output_type": "execute_result"
    }
   ],
   "source": [
    "# 非常麻烦。如果换成浮点数就无能为力了。\n",
    "# 好在Python提供了一个struct模块来解决bytes和其他二进制数据类型的转换。\n",
    "# struct的pack函数把任意数据类型变成bytes：\n",
    "\n",
    "import struct\n",
    "struct.pack('>I', 10240099)\n"
   ]
  },
  {
   "cell_type": "code",
   "execution_count": 3,
   "id": "0fa71aae",
   "metadata": {},
   "outputs": [
    {
     "data": {
      "text/plain": [
       "(4042322160, 32896)"
      ]
     },
     "execution_count": 3,
     "metadata": {},
     "output_type": "execute_result"
    }
   ],
   "source": [
    "# pack的第一个参数是处理指令，'>I'的意思是：\n",
    "# >表示字节顺序是big-endian，也就是网络序，I表示4字节无符号整数。\n",
    "# 后面的参数个数要和处理指令一致。\n",
    "# unpack把bytes变成相应的数据类型：\n",
    "\n",
    "struct.unpack('>IH', b'\\xf0\\xf0\\xf0\\xf0\\x80\\x80')"
   ]
  },
  {
   "cell_type": "code",
   "execution_count": 4,
   "id": "19551804",
   "metadata": {},
   "outputs": [],
   "source": [
    "# 根据>IH的说明，后面的bytes依次变为I：4字节无符号整数和H：2字节无符号整数。\n",
    "# 所以，尽管Python不适合编写底层操作字节流的代码，但在对性能要求不高的地方，利用struct就方便多了。\n",
    "# struct模块定义的数据类型可以参考Python官方文档：\n",
    "# https://docs.python.org/3/library/struct.html#format-characters\n",
    "# Windows的位图文件（.bmp）是一种非常简单的文件格式，我们来用struct分析一下。\n",
    "# 首先找一个bmp文件，没有的话用“画图”画一个。\n",
    "# 读入前30个字节来分析：\n",
    "\n",
    "s = b'\\x42\\x4d\\x38\\x8c\\x0a\\x00\\x00\\x00\\x00\\x00\\x36\\x00\\x00\\x00\\x28\\x00\\x00\\x00\\x80\\x02\\x00\\x00\\x68\\x01\\x00\\x00\\x01\\x00\\x18\\x00'"
   ]
  },
  {
   "cell_type": "code",
   "execution_count": 5,
   "id": "922cad86",
   "metadata": {},
   "outputs": [
    {
     "data": {
      "text/plain": [
       "(b'B', b'M', 691256, 0, 54, 40, 640, 360, 1, 24)"
      ]
     },
     "execution_count": 5,
     "metadata": {},
     "output_type": "execute_result"
    }
   ],
   "source": [
    "# BMP格式采用小端方式存储数据，文件头的结构按顺序如下：\n",
    "# 两个字节：'BM'表示Windows位图，'BA'表示OS/2位图； \n",
    "# 一个4字节整数：表示位图大小； 一个4字节整数：保留位，始终为0； \n",
    "# 一个4字节整数：实际图像的偏移量； 一个4字节整数：Header的字节数； \n",
    "# 一个4字节整数：图像宽度； 一个4字节整数：图像高度； \n",
    "# 一个2字节整数：始终为1； 一个2字节整数：颜色数。\n",
    "# 所以，组合起来用unpack读取：\n",
    "struct.unpack('<ccIIIIIIHH', s)"
   ]
  },
  {
   "cell_type": "code",
   "execution_count": 6,
   "id": "2d0c8a4e",
   "metadata": {},
   "outputs": [
    {
     "name": "stdout",
     "output_type": "stream",
     "text": [
      "ok\n"
     ]
    }
   ],
   "source": [
    "# 结果显示，b'B'、b'M'说明是Windows位图，位图大小为640x360，颜色数为24。\n",
    "\n",
    "# 请编写一个bmpinfo.py，可以检查任意文件是否是位图文件，如果是，打印出图片大小和颜色数。\n",
    "import base64, struct\n",
    "\n",
    "bmp_data = base64.b64decode('Qk1oAgAAAAAAADYAAAAoAAAAHAAAAAoAAAABABAAAAAAADICAAASCwAAEgsAA' +\n",
    "                   'AAAAAAAAAAA/3//f/9//3//f/9//3//f/9//3//f/9//3//f/9//3//f/9//3//f/9//3/' +\n",
    "                   '/f/9//3//f/9//3//f/9/AHwAfAB8AHwAfAB8AHwAfP9//3//fwB8AHwAfAB8/3//f/9/A' +\n",
    "                   'HwAfAB8AHz/f/9//3//f/9//38AfAB8AHwAfAB8AHwAfAB8AHz/f/9//38AfAB8/3//f/9' +\n",
    "                   '//3//fwB8AHz/f/9//3//f/9//3//f/9/AHwAfP9//3//f/9/AHwAfP9//3//fwB8AHz/f' +\n",
    "                   '/9//3//f/9/AHwAfP9//3//f/9//3//f/9//38AfAB8AHwAfAB8AHwAfP9//3//f/9/AHw' +\n",
    "                   'AfP9//3//f/9//38AfAB8/3//f/9//3//f/9//3//fwB8AHwAfAB8AHwAfAB8/3//f/9//' +\n",
    "                   '38AfAB8/3//f/9//3//fwB8AHz/f/9//3//f/9//3//f/9/AHwAfP9//3//f/9/AHwAfP9' +\n",
    "                   '//3//fwB8AHz/f/9/AHz/f/9/AHwAfP9//38AfP9//3//f/9/AHwAfAB8AHwAfAB8AHwAf' +\n",
    "                   'AB8/3//f/9/AHwAfP9//38AfAB8AHwAfAB8AHwAfAB8/3//f/9//38AfAB8AHwAfAB8AHw' +\n",
    "                   'AfAB8/3//f/9/AHwAfAB8AHz/fwB8AHwAfAB8AHwAfAB8AHz/f/9//3//f/9//3//f/9//' +\n",
    "                   '3//f/9//3//f/9//3//f/9//3//f/9//3//f/9//3//f/9//3//f/9//38AAA==')\n",
    "\n",
    "def bmp_info(data):\n",
    "    # BMP文件头：14字节\n",
    "    # 信息头：从第14字节开始，至少40字节\n",
    "    if len(data) < 54:  # 确保数据足够长\n",
    "        return None\n",
    "    \n",
    "    # 检查BMP文件签名 'BM'\n",
    "    if data[:2] != b'BM':\n",
    "        return None\n",
    "    \n",
    "    # 解析信息头\n",
    "    # 信息头大小（4字节，位置14-17）\n",
    "    info_header_size = struct.unpack('<I', data[14:18])[0]\n",
    "    \n",
    "    # 根据信息头大小确定如何解析\n",
    "    if info_header_size >= 40:  # BITMAPINFOHEADER 或更大\n",
    "        # 宽度（4字节，位置18-21）\n",
    "        width = struct.unpack('<i', data[18:22])[0]\n",
    "        # 高度（4字节，位置22-25）\n",
    "        height = struct.unpack('<i', data[22:26])[0]\n",
    "        # 颜色平面数（2字节，位置26-27），必须为1\n",
    "        planes = struct.unpack('<H', data[26:28])[0]\n",
    "        # 每像素位数（2字节，位置28-29）\n",
    "        bits_per_pixel = struct.unpack('<H', data[28:30])[0]\n",
    "        \n",
    "        return {\n",
    "            'width': width,\n",
    "            'height': height,\n",
    "            'color': bits_per_pixel\n",
    "        }\n",
    "    else:\n",
    "        return None\n",
    "\n",
    "# 测试\n",
    "bi = bmp_info(bmp_data)\n",
    "assert bi['width'] == 28\n",
    "assert bi['height'] == 10\n",
    "assert bi['color'] == 16\n",
    "print('ok')"
   ]
  }
 ],
 "metadata": {
  "kernelspec": {
   "display_name": "personal",
   "language": "python",
   "name": "python3"
  },
  "language_info": {
   "codemirror_mode": {
    "name": "ipython",
    "version": 3
   },
   "file_extension": ".py",
   "mimetype": "text/x-python",
   "name": "python",
   "nbconvert_exporter": "python",
   "pygments_lexer": "ipython3",
   "version": "3.10.18"
  }
 },
 "nbformat": 4,
 "nbformat_minor": 5
}
