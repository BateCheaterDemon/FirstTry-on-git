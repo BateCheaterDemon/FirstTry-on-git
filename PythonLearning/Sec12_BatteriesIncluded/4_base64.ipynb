{
 "cells": [
  {
   "cell_type": "code",
   "execution_count": 1,
   "id": "be0860ab",
   "metadata": {},
   "outputs": [],
   "source": [
    "# Base64是一种用64个字符来表示任意二进制数据的方法。\n",
    "# 用记事本打开exe、jpg、pdf这些文件时，我们都会看到一大堆乱码，因为二进制文件包含很多无法显示和打印的字符，\n",
    "# 所以，如果要让记事本这样的文本处理软件能处理二进制数据，就需要一个二进制到字符串的转换方法。\n",
    "# Base64是一种最常见的二进制编码方法。\n",
    "# Base64的原理很简单，首先，准备一个包含64个字符的数组：\n",
    "\n",
    "# ['A', 'B', 'C', ... 'a', 'b', 'c', ... '0', '1', ... '+', '/']\n",
    "# 然后，对二进制数据进行处理，每3个字节一组，一共是3x8=24bit，划为4组，每组正好6个bit：\n",
    "\n",
    "# 这样我们得到4个数字作为索引，然后查表，获得相应的4个字符，就是编码后的字符串。\n",
    "# 所以，Base64编码会把3字节的二进制数据编码为4字节的文本数据，\n",
    "# 长度增加33%，好处是编码后的文本数据可以在邮件正文、网页等直接显示。"
   ]
  },
  {
   "cell_type": "code",
   "execution_count": 2,
   "id": "b2c4a6f8",
   "metadata": {},
   "outputs": [
    {
     "name": "stdout",
     "output_type": "stream",
     "text": [
      "b'YmluYXJ5AHN0cmluZw=='\n",
      "b'binary\\x00string'\n"
     ]
    }
   ],
   "source": [
    "# 如果要编码的二进制数据不是3的倍数，最后会剩下1个或2个字节怎么办？\n",
    "# Base64用\\x00字节在末尾补足后，再在编码的末尾加上1个或2个=号，表示补了多少字节，解码的时候，会自动去掉。\n",
    "# Python内置的base64可以直接进行base64的编解码：\n",
    "\n",
    "import base64\n",
    "print(base64.b64encode(b'binary\\x00string'))\n",
    "\n",
    "print(base64.b64decode(b'YmluYXJ5AHN0cmluZw=='))"
   ]
  },
  {
   "cell_type": "code",
   "execution_count": 3,
   "id": "d694ef58",
   "metadata": {},
   "outputs": [
    {
     "name": "stdout",
     "output_type": "stream",
     "text": [
      "b'abcd++//'\n",
      "b'abcd--__'\n",
      "b'i\\xb7\\x1d\\xfb\\xef\\xff'\n"
     ]
    }
   ],
   "source": [
    "# 由于标准的Base64编码后可能出现字符+和/，在URL中就不能直接作为参数，\n",
    "# 所以又有一种\"url safe\"的base64编码，其实就是把字符+和/分别变成-和_：\n",
    "\n",
    "print(base64.b64encode(b'i\\xb7\\x1d\\xfb\\xef\\xff'))\n",
    "\n",
    "print(base64.urlsafe_b64encode(b'i\\xb7\\x1d\\xfb\\xef\\xff'))\n",
    "\n",
    "print(base64.urlsafe_b64decode('abcd--__'))"
   ]
  },
  {
   "cell_type": "code",
   "execution_count": null,
   "id": "bd82a6cb",
   "metadata": {},
   "outputs": [],
   "source": [
    "# 还可以自己定义64个字符的排列顺序，这样就可以自定义Base64编码，不过，通常情况下完全没有必要。\n",
    "# Base64是一种通过查表的编码方法，不能用于加密，即使使用自定义的编码表也不行。\n",
    "# Base64适用于小段内容的编码，比如数字证书签名、Cookie的内容等。\n",
    "# 由于=字符也可能出现在Base64编码中，但=用在URL、Cookie里面会造成歧义，所以，很多Base64编码后会把=去掉：\n",
    "\n",
    "# 标准Base64:\n",
    "'abcd' -> 'YWJjZA=='\n",
    "# 自动去掉=:\n",
    "'abcd' -> 'YWJjZA'\n",
    "\n",
    "# 去掉=后怎么解码呢？因为Base64是把3个字节变为4个字节，所以，Base64编码的长度永远是4的倍数，\n",
    "# 因此，需要加上=把Base64字符串的长度变为4的倍数，就可以正常解码了。\n",
    "# Base64是一种任意二进制到文本字符串的编码方法，常用于在URL、Cookie、网页中传输少量二进制数据。"
   ]
  },
  {
   "cell_type": "code",
   "execution_count": 5,
   "id": "39fc7b6f",
   "metadata": {},
   "outputs": [
    {
     "name": "stdout",
     "output_type": "stream",
     "text": [
      "ok\n"
     ]
    }
   ],
   "source": [
    "# 请写一个能处理去掉=的base64解码函数：\n",
    "import base64\n",
    "\n",
    "def safe_base64_decode(s):\n",
    "    try:\n",
    "        # 确保输入是字节串或字符串，转换为字节串\n",
    "        if isinstance(s, str):\n",
    "            s = s.encode('ascii')\n",
    "        \n",
    "        # 计算需要补齐的 '=' 数量\n",
    "        padding_needed = (4 - len(s) % 4) % 4\n",
    "        # 补齐 '='\n",
    "        s += b'=' * padding_needed\n",
    "        \n",
    "        # 使用标准 Base64 解码\n",
    "        return base64.b64decode(s)\n",
    "    except (ValueError, base64.binascii.Error):\n",
    "        raise ValueError(\"Invalid Base64 string\")\n",
    "\n",
    "# 测试:\n",
    "assert b'abcd' == safe_base64_decode('YWJjZA=='), safe_base64_decode('YWJjZA==')\n",
    "assert b'abcd' == safe_base64_decode('YWJjZA'), safe_base64_decode('YWJjZA')\n",
    "print('ok')\n"
   ]
  }
 ],
 "metadata": {
  "kernelspec": {
   "display_name": "personal",
   "language": "python",
   "name": "python3"
  },
  "language_info": {
   "codemirror_mode": {
    "name": "ipython",
    "version": 3
   },
   "file_extension": ".py",
   "mimetype": "text/x-python",
   "name": "python",
   "nbconvert_exporter": "python",
   "pygments_lexer": "ipython3",
   "version": "3.10.18"
  }
 },
 "nbformat": 4,
 "nbformat_minor": 5
}
