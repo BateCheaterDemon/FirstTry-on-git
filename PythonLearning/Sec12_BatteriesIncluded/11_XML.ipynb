{
 "cells": [
  {
   "cell_type": "code",
   "execution_count": null,
   "id": "95e68f7f",
   "metadata": {},
   "outputs": [],
   "source": [
    "# XML虽然比JSON复杂，在Web中应用也不如以前多了，不过仍有很多地方在用，所以，有必要了解如何操作XML。\n",
    "# DOM vs SAX\n",
    "# 操作XML有两种方法：DOM和SAX。DOM会把整个XML读入内存，解析为树，因此占用内存大，\n",
    "# 解析慢，优点是可以任意遍历树的节点。SAX是流模式，边读边解析，占用内存小，解析快，缺点是我们需要自己处理事件。\n",
    "# 正常情况下，优先考虑SAX，因为DOM实在太占内存。\n",
    "# 在Python中使用SAX解析XML非常简洁，通常我们关心的事件是start_element，end_element和char_data，\n",
    "# 准备好这3个函数，然后就可以解析xml了。\n",
    "# 举个例子，当SAX解析器读到一个节点时：\n",
    "\n",
    "# <a href=\"/\">python</a>\n",
    "\n",
    "# 会产生3个事件：\n",
    "\n",
    "# start_element事件，在读取<a href=\"/\">时；\n",
    "# char_data事件，在读取python时；\n",
    "# end_element事件，在读取</a>时。"
   ]
  },
  {
   "cell_type": "code",
   "execution_count": 1,
   "id": "2e0419b0",
   "metadata": {},
   "outputs": [
    {
     "name": "stdout",
     "output_type": "stream",
     "text": [
      "sax:start_element: ol, attrs: {}\n",
      "sax:char_data: \n",
      "\n",
      "sax:char_data:     \n",
      "sax:start_element: li, attrs: {}\n",
      "sax:start_element: a, attrs: {'href': '/python'}\n",
      "sax:char_data: Python\n",
      "sax:end_element: a\n",
      "sax:end_element: li\n",
      "sax:char_data: \n",
      "\n",
      "sax:char_data:     \n",
      "sax:start_element: li, attrs: {}\n",
      "sax:start_element: a, attrs: {'href': '/ruby'}\n",
      "sax:char_data: Ruby\n",
      "sax:end_element: a\n",
      "sax:end_element: li\n",
      "sax:char_data: \n",
      "\n",
      "sax:end_element: ol\n"
     ]
    },
    {
     "data": {
      "text/plain": [
       "1"
      ]
     },
     "execution_count": 1,
     "metadata": {},
     "output_type": "execute_result"
    }
   ],
   "source": [
    "# 用代码实验一下：\n",
    "\n",
    "from xml.parsers.expat import ParserCreate\n",
    "\n",
    "class DefaultSaxHandler(object):\n",
    "    def start_element(self, name, attrs):\n",
    "        print('sax:start_element: %s, attrs: %s' % (name, str(attrs)))\n",
    "\n",
    "    def end_element(self, name):\n",
    "        print('sax:end_element: %s' % name)\n",
    "\n",
    "    def char_data(self, text):\n",
    "        print('sax:char_data: %s' % text)\n",
    "\n",
    "xml = r'''<?xml version=\"1.0\"?>\n",
    "<ol>\n",
    "    <li><a href=\"/python\">Python</a></li>\n",
    "    <li><a href=\"/ruby\">Ruby</a></li>\n",
    "</ol>\n",
    "'''\n",
    "\n",
    "handler = DefaultSaxHandler()\n",
    "parser = ParserCreate()\n",
    "parser.StartElementHandler = handler.start_element\n",
    "parser.EndElementHandler = handler.end_element\n",
    "parser.CharacterDataHandler = handler.char_data\n",
    "parser.Parse(xml)\n"
   ]
  },
  {
   "cell_type": "code",
   "execution_count": null,
   "id": "f606c4ca",
   "metadata": {},
   "outputs": [
    {
     "ename": "NameError",
     "evalue": "name 'encode' is not defined",
     "output_type": "error",
     "traceback": [
      "\u001b[0;31m---------------------------------------------------------------------------\u001b[0m",
      "\u001b[0;31mNameError\u001b[0m                                 Traceback (most recent call last)",
      "Cell \u001b[0;32mIn[2], line 4\u001b[0m\n\u001b[1;32m      2\u001b[0m L\u001b[38;5;241m.\u001b[39mappend(\u001b[38;5;124mr\u001b[39m\u001b[38;5;124m'\u001b[39m\u001b[38;5;124m<?xml version=\u001b[39m\u001b[38;5;124m\"\u001b[39m\u001b[38;5;124m1.0\u001b[39m\u001b[38;5;124m\"\u001b[39m\u001b[38;5;124m?>\u001b[39m\u001b[38;5;124m'\u001b[39m)\n\u001b[1;32m      3\u001b[0m L\u001b[38;5;241m.\u001b[39mappend(\u001b[38;5;124mr\u001b[39m\u001b[38;5;124m'\u001b[39m\u001b[38;5;124m<root>\u001b[39m\u001b[38;5;124m'\u001b[39m)\n\u001b[0;32m----> 4\u001b[0m L\u001b[38;5;241m.\u001b[39mappend(\u001b[43mencode\u001b[49m(\u001b[38;5;124m'\u001b[39m\u001b[38;5;124msome & data\u001b[39m\u001b[38;5;124m'\u001b[39m))\n\u001b[1;32m      5\u001b[0m L\u001b[38;5;241m.\u001b[39mappend(\u001b[38;5;124mr\u001b[39m\u001b[38;5;124m'\u001b[39m\u001b[38;5;124m</root>\u001b[39m\u001b[38;5;124m'\u001b[39m)\n\u001b[1;32m      6\u001b[0m \u001b[38;5;28;01mreturn\u001b[39;00m \u001b[38;5;124m'\u001b[39m\u001b[38;5;124m'\u001b[39m\u001b[38;5;241m.\u001b[39mjoin(L)\n",
      "\u001b[0;31mNameError\u001b[0m: name 'encode' is not defined"
     ]
    }
   ],
   "source": [
    "L = []\n",
    "L.append(r'<?xml version=\"1.0\"?>')\n",
    "L.append(r'<root>')\n",
    "L.append(encode('some & data'))\n",
    "L.append(r'</root>')\n",
    "return ''.join(L)\n",
    "# 如果要生成复杂的XML呢？建议你不要用XML，改成JSON。"
   ]
  },
  {
   "cell_type": "code",
   "execution_count": 5,
   "id": "17e78da8",
   "metadata": {},
   "outputs": [
    {
     "name": "stdout",
     "output_type": "stream",
     "text": [
      "City: Beijing\n",
      "Weather Condition: Overcast\n",
      "Temperature: 12.3°C\n",
      "Wind Speed: 7.2 kph\n",
      "测试通过!\n"
     ]
    }
   ],
   "source": [
    "# 解析XML时，注意找出自己感兴趣的节点，响应事件时，把节点数据保存起来。解析完毕后，就可以处理数据。\n",
    "\n",
    "# 请利用SAX编写程序解析WeatherAPI的XML格式的天气预报，获取天气预报：\n",
    "from xml.parsers.expat import ParserCreate\n",
    "from urllib import request\n",
    "\n",
    "class WeatherSaxHandler:\n",
    "    def __init__(self):\n",
    "        self.weather_data = {\n",
    "            'city': '',\n",
    "            'weather': {\n",
    "                'condition': '',\n",
    "                'temperature': '',\n",
    "                'wind': ''\n",
    "            }\n",
    "        }\n",
    "        self.current_element = ''\n",
    "        self.current_data = ''\n",
    "    \n",
    "    def start_element(self, name, attrs):\n",
    "        self.current_element = name\n",
    "    \n",
    "    def end_element(self, name):\n",
    "        if name == 'name':\n",
    "            self.weather_data['city'] = self.current_data.strip()\n",
    "        elif name == 'text':\n",
    "            self.weather_data['weather']['condition'] = self.current_data.strip()\n",
    "        elif name == 'temp_c':\n",
    "            self.weather_data['weather']['temperature'] = self.current_data.strip()\n",
    "        elif name == 'wind_kph':\n",
    "            self.weather_data['weather']['wind'] = self.current_data.strip()\n",
    "        \n",
    "        self.current_data = ''\n",
    "    \n",
    "    def char_data(self, data):\n",
    "        self.current_data += data\n",
    "\n",
    "def parseXml(xml_str):\n",
    "    handler = WeatherSaxHandler()\n",
    "    parser = ParserCreate()\n",
    "    parser.StartElementHandler = handler.start_element\n",
    "    parser.EndElementHandler = handler.end_element\n",
    "    parser.CharacterDataHandler = handler.char_data\n",
    "    \n",
    "    parser.Parse(xml_str)\n",
    "    \n",
    "    return handler.weather_data\n",
    "\n",
    "# 测试:\n",
    "URL = 'https://api.weatherapi.com/v1/current.xml?key=b4e8f86b44654e6b86885330242207&q=Beijing&aqi=no'\n",
    "\n",
    "with request.urlopen(URL, timeout=4) as f:\n",
    "    data = f.read()\n",
    "\n",
    "result = parseXml(data.decode('utf-8'))\n",
    "print(f\"City: {result['city']}\")\n",
    "print(f\"Weather Condition: {result['weather']['condition']}\")\n",
    "print(f\"Temperature: {result['weather']['temperature']}°C\")\n",
    "print(f\"Wind Speed: {result['weather']['wind']} kph\")\n",
    "\n",
    "assert result['city'] == 'Beijing'\n",
    "print(\"测试通过!\")"
   ]
  }
 ],
 "metadata": {
  "kernelspec": {
   "display_name": "personal",
   "language": "python",
   "name": "python3"
  },
  "language_info": {
   "codemirror_mode": {
    "name": "ipython",
    "version": 3
   },
   "file_extension": ".py",
   "mimetype": "text/x-python",
   "name": "python",
   "nbconvert_exporter": "python",
   "pygments_lexer": "ipython3",
   "version": "3.10.18"
  }
 },
 "nbformat": 4,
 "nbformat_minor": 5
}
