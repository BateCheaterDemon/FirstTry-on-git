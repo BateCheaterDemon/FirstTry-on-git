{
 "cells": [
  {
   "cell_type": "code",
   "execution_count": 1,
   "id": "6b4675dc",
   "metadata": {},
   "outputs": [
    {
     "name": "stdout",
     "output_type": "stream",
     "text": [
      "2025-10-13 21:56:50.232491\n"
     ]
    }
   ],
   "source": [
    "# Python之所以自称“batteries included”，就是因为内置了许多非常有用的模块，无需额外安装和配置，即可直接使用。\n",
    "# 本章将介绍一些常用的内建模块。\n",
    "\n",
    "# datetime是Python处理日期和时间的标准库。\n",
    "# 获取当前日期和时间\n",
    "# 我们先看如何获取当前日期和时间：\n",
    "\n",
    "from datetime import datetime\n",
    "\n",
    "now = datetime.now()\n",
    "print(now)"
   ]
  },
  {
   "cell_type": "code",
   "execution_count": null,
   "id": "6b6a8ee5",
   "metadata": {},
   "outputs": [
    {
     "name": "stdout",
     "output_type": "stream",
     "text": [
      "<class 'datetime.datetime'>\n"
     ]
    }
   ],
   "source": [
    "print(type(now))\n",
    "# 注意到datetime是模块，datetime模块还包含一个datetime类，\n",
    "# 通过from datetime import datetime导入的才是datetime这个类。\n",
    "# 如果仅导入import datetime，则必须引用全名datetime.datetime。\n",
    "# datetime.now()返回当前日期和时间，其类型是datetime。"
   ]
  },
  {
   "cell_type": "code",
   "execution_count": 3,
   "id": "b8e7f94c",
   "metadata": {},
   "outputs": [
    {
     "name": "stdout",
     "output_type": "stream",
     "text": [
      "2015-04-19 12:20:00\n"
     ]
    }
   ],
   "source": [
    "# 获取指定日期和时间\n",
    "# 要指定某个日期和时间，我们直接用参数构造一个datetime：\n",
    "\n",
    "from datetime import datetime\n",
    "dt = datetime(2015, 4, 19, 12, 20) # 用指定日期时间创建datetime\n",
    "\n",
    "print(dt)\n"
   ]
  },
  {
   "cell_type": "code",
   "execution_count": 5,
   "id": "bfb5e134",
   "metadata": {},
   "outputs": [
    {
     "data": {
      "text/plain": [
       "1429417200.0"
      ]
     },
     "execution_count": 5,
     "metadata": {},
     "output_type": "execute_result"
    }
   ],
   "source": [
    "# datetime转换为timestamp\n",
    "# 在计算机中，时间实际上是用数字表示的。\n",
    "# 我们把1970年1月1日 00:00:00 UTC+00:00时区的时刻称为epoch time，\n",
    "# 记为0（1970年以前的时间timestamp为负数），当前时间就是相对于epoch time的秒数，称为timestamp。\n",
    "\n",
    "# 你可以认为：\n",
    "\n",
    "# timestamp = 0 = 1970-1-1 00:00:00 UTC+0:00\n",
    "# timestamp = 0 = 1970-1-1 08:00:00 UTC+8:00 #东八区\n",
    "\n",
    "# 可见timestamp的值与时区毫无关系，因为timestamp一旦确定，其UTC时间就确定了，\n",
    "# 转换到任意时区的时间也是完全确定的，这就是为什么计算机存储的当前时间是以timestamp表示的，\n",
    "# 因为全球各地的计算机在任意时刻的timestamp都是完全相同的（假定时间已校准）。\n",
    "\n",
    "# 把一个datetime类型转换为timestamp只需要简单调用timestamp()方法：\n",
    "from datetime import datetime\n",
    "\n",
    "dt = datetime(2015, 4, 19, 12, 20)\n",
    "\n",
    "dt.timestamp()"
   ]
  },
  {
   "cell_type": "code",
   "execution_count": 7,
   "id": "7a0c46d1",
   "metadata": {},
   "outputs": [
    {
     "name": "stdout",
     "output_type": "stream",
     "text": [
      "2015-04-19 12:20:00\n"
     ]
    }
   ],
   "source": [
    "# 注意Python的timestamp是一个浮点数，整数位表示秒。\n",
    "# 某些编程语言（如Java和JavaScript）的timestamp使用整数表示毫秒数，\n",
    "# 这种情况下只需要把timestamp除以1000就得到Python的浮点表示方法。\n",
    "\n",
    "# timestamp转换为datetime\n",
    "# 要把timestamp转换为datetime，使用datetime提供的fromtimestamp()方法：\n",
    "\n",
    "from datetime import datetime\n",
    "\n",
    "t = 1429417200.0\n",
    "\n",
    "print(datetime.fromtimestamp(t))"
   ]
  },
  {
   "cell_type": "code",
   "execution_count": 9,
   "id": "48778a46",
   "metadata": {},
   "outputs": [
    {
     "name": "stdout",
     "output_type": "stream",
     "text": [
      "2015-04-19 12:20:00\n",
      "2015-04-19 04:20:00\n"
     ]
    }
   ],
   "source": [
    "# 注意到timestamp是一个浮点数，它没有时区的概念，而datetime是有时区的。上述转换是在timestamp和本地时间做转换。\n",
    "# 本地时间是指当前操作系统设定的时区。例如北京时区是东8区，则本地时间：\n",
    "\n",
    "'''\n",
    "2015-04-19 12:20:00\n",
    "\n",
    "实际上就是UTC+8:00时区的时间：\n",
    "2015-04-19 12:20:00 UTC+8:00\n",
    "\n",
    "而此刻的格林威治标准时间与北京时间差了8小时，也就是UTC+0:00时区的时间应该是：\n",
    "2015-04-19 04:20:00 UTC+0:00\n",
    "\n",
    "timestamp也可以直接被转换到UTC标准时区的时间：\n",
    "'''\n",
    "\n",
    "from datetime import datetime\n",
    "t = 1429417200.0\n",
    "print(datetime.fromtimestamp(t)) # 本地时间\n",
    "\n",
    "print(datetime.utcfromtimestamp(t)) # UTC时间"
   ]
  },
  {
   "cell_type": "code",
   "execution_count": 10,
   "id": "17dd209a",
   "metadata": {},
   "outputs": [
    {
     "name": "stdout",
     "output_type": "stream",
     "text": [
      "2015-06-01 18:19:59\n"
     ]
    }
   ],
   "source": [
    "# str转换为datetime\n",
    "# 很多时候，用户输入的日期和时间是字符串，要处理日期和时间，首先必须把str转换为datetime。\n",
    "# 转换方法是通过datetime.strptime()实现，需要一个日期和时间的格式化字符串：\n",
    "\n",
    "from datetime import datetime\n",
    "\n",
    "cday = datetime.strptime('2015-6-1 18:19:59', '%Y-%m-%d %H:%M:%S')\n",
    "\n",
    "print(cday)"
   ]
  },
  {
   "cell_type": "code",
   "execution_count": 11,
   "id": "1c27d251",
   "metadata": {},
   "outputs": [
    {
     "name": "stdout",
     "output_type": "stream",
     "text": [
      "Mon, Oct 13 22:08\n"
     ]
    }
   ],
   "source": [
    "# 字符串'%Y-%m-%d %H:%M:%S'规定了日期和时间部分的格式。\n",
    "# 详细的说明请参考Python文档。\n",
    "# 注意转换后的datetime是没有时区信息的。\n",
    "\n",
    "# datetime转换为str\n",
    "\n",
    "# 如果已经有了datetime对象，要把它格式化为字符串显示给用户，就需要转换为str，\n",
    "# 转换方法是通过strftime()实现的，同样需要一个日期和时间的格式化字符串：\n",
    "\n",
    "from datetime import datetime\n",
    "\n",
    "now = datetime.now()\n",
    "print(now.strftime('%a, %b %d %H:%M'))"
   ]
  },
  {
   "cell_type": "code",
   "execution_count": null,
   "id": "e7af7bf0",
   "metadata": {},
   "outputs": [
    {
     "name": "stdout",
     "output_type": "stream",
     "text": [
      "2025-10-13 22:11:21.387920\n",
      "2025-10-14 08:11:21.387920\n",
      "2025-10-12 22:11:21.387920\n",
      "2025-10-16 10:11:21.387920\n"
     ]
    }
   ],
   "source": [
    "# datetime加减\n",
    "# 对日期和时间进行加减实际上就是把datetime往后或往前计算，得到新的datetime。\n",
    "# 加减可以直接用+和-运算符，不过需要导入timedelta这个类：\n",
    "\n",
    "from datetime import datetime, timedelta\n",
    "now = datetime.now()\n",
    "print(now)\n",
    "\n",
    "print(now + timedelta(hours=10))\n",
    "\n",
    "print(now - timedelta(days=1))\n",
    "\n",
    "print(now + timedelta(days=2, hours=12))\n",
    "\n",
    "# 可见，使用timedelta你可以很容易地算出前几天和后几天的时刻。"
   ]
  },
  {
   "cell_type": "code",
   "execution_count": 15,
   "id": "718b4b4b",
   "metadata": {},
   "outputs": [
    {
     "name": "stdout",
     "output_type": "stream",
     "text": [
      "2025-10-13 22:13:57.406062\n",
      "2025-10-13 22:13:57.406062+08:00\n"
     ]
    }
   ],
   "source": [
    "# 本地时间转换为UTC时间\n",
    "# 本地时间是指系统设定时区的时间，例如北京时间是UTC+8:00时区的时间，而UTC时间指UTC+0:00时区的时间。\n",
    "# 一个datetime类型有一个时区属性tzinfo，但是默认为None，\n",
    "# 所以无法区分这个datetime到底是哪个时区，除非强行给datetime设置一个时区：\n",
    "\n",
    "from datetime import datetime, timedelta, timezone\n",
    "tz_utc_8 = timezone(timedelta(hours=8)) # 创建时区UTC+8:00\n",
    "\n",
    "now = datetime.now()\n",
    "print(now)\n",
    "\n",
    "dt = now.replace(tzinfo=tz_utc_8) # 强制设置为UTC+8:00\n",
    "print(dt)"
   ]
  },
  {
   "cell_type": "code",
   "execution_count": 16,
   "id": "fbdb518f",
   "metadata": {},
   "outputs": [
    {
     "name": "stdout",
     "output_type": "stream",
     "text": [
      "2025-10-13 14:15:29.272206+00:00\n",
      "2025-10-13 22:15:29.272206+08:00\n",
      "2025-10-13 23:15:29.272206+09:00\n",
      "2025-10-13 23:15:29.272206+09:00\n"
     ]
    }
   ],
   "source": [
    "# 如果系统时区恰好是UTC+8:00，那么上述代码就是正确的，否则，不能强制设置为UTC+8:00时区。\n",
    "\n",
    "# 时区转换\n",
    "# 我们可以先通过utcnow()拿到当前的UTC时间，再转换为任意时区的时间：\n",
    "\n",
    "utc_dt = datetime.utcnow().replace(tzinfo=timezone.utc)\n",
    "print(utc_dt)\n",
    "\n",
    "# astimezone()将转换时区为北京时间:\n",
    "bj_dt = utc_dt.astimezone(timezone(timedelta(hours=8)))\n",
    "print(bj_dt)\n",
    "\n",
    "# astimezone()将转换时区为东京时间:\n",
    "tokyo_dt = utc_dt.astimezone(timezone(timedelta(hours=9)))\n",
    "print(tokyo_dt)\n",
    "\n",
    "# astimezone()将bj_dt转换时区为东京时间:\n",
    "tokyo_dt2 = bj_dt.astimezone(timezone(timedelta(hours=9)))\n",
    "print(tokyo_dt2)\n"
   ]
  },
  {
   "cell_type": "code",
   "execution_count": 17,
   "id": "f4ad7c40",
   "metadata": {},
   "outputs": [
    {
     "name": "stdout",
     "output_type": "stream",
     "text": [
      "ok\n"
     ]
    }
   ],
   "source": [
    "# 时区转换的关键在于，拿到一个datetime时，要获知其正确的时区，然后强制设置时区，作为基准时间。\n",
    "# 利用带时区的datetime，通过astimezone()方法，可以转换到任意时区。\n",
    "# 注：不是必须从UTC+0:00时区转换到其他时区，任何带时区的datetime都可以正确转换，例如上述bj_dt到tokyo_dt的转换。\n",
    "\n",
    "# 小结\n",
    "# datetime表示的时间需要时区信息才能确定一个特定的时间，否则只能视为本地时间。\n",
    "# 如果要存储datetime，最佳方法是将其转换为timestamp再存储，因为timestamp的值与时区完全无关。\n",
    "\n",
    "# 假设你获取了用户输入的日期和时间如2015-1-21 9:01:30，\n",
    "# 以及一个时区信息如UTC+5:00，均是str，请编写一个函数将其转换为timestamp：\n",
    "\n",
    "import re\n",
    "from datetime import datetime, timezone, timedelta\n",
    "\n",
    "def to_timestamp(dt_str, tz_str):\n",
    "    # 解析日期时间字符串\n",
    "    dt = datetime.strptime(dt_str, '%Y-%m-%d %H:%M:%S')\n",
    "    \n",
    "    # 解析时区信息\n",
    "    tz_match = re.match(r'^UTC([+-])(\\d{1,2}):00$', tz_str)\n",
    "    if not tz_match:\n",
    "        raise ValueError('Invalid timezone format')\n",
    "    \n",
    "    sign, hours = tz_match.groups()\n",
    "    hours = int(hours)\n",
    "    \n",
    "    # 创建时区对象\n",
    "    if sign == '+':\n",
    "        tz = timezone(timedelta(hours=hours))\n",
    "    else:\n",
    "        tz = timezone(timedelta(hours=-hours))\n",
    "    \n",
    "    # 将日期时间设置为对应时区\n",
    "    dt = dt.replace(tzinfo=tz)\n",
    "    \n",
    "    # 转换为timestamp\n",
    "    return dt.timestamp()\n",
    "\n",
    "# 测试:\n",
    "t1 = to_timestamp('2015-6-1 08:10:30', 'UTC+7:00')\n",
    "assert t1 == 1433121030.0, t1\n",
    "\n",
    "t2 = to_timestamp('2015-5-31 16:10:30', 'UTC-09:00')\n",
    "assert t2 == 1433121030.0, t2\n",
    "\n",
    "print('ok')"
   ]
  },
  {
   "cell_type": "code",
   "execution_count": null,
   "id": "6aa05b27",
   "metadata": {},
   "outputs": [],
   "source": []
  }
 ],
 "metadata": {
  "kernelspec": {
   "display_name": "personal",
   "language": "python",
   "name": "python3"
  },
  "language_info": {
   "codemirror_mode": {
    "name": "ipython",
    "version": 3
   },
   "file_extension": ".py",
   "mimetype": "text/x-python",
   "name": "python",
   "nbconvert_exporter": "python",
   "pygments_lexer": "ipython3",
   "version": "3.10.18"
  }
 },
 "nbformat": 4,
 "nbformat_minor": 5
}
