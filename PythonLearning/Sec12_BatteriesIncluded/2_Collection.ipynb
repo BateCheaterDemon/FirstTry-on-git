{
 "cells": [
  {
   "cell_type": "code",
   "execution_count": 1,
   "id": "38372621",
   "metadata": {},
   "outputs": [],
   "source": [
    "# collections是Python内建的一个集合模块，提供了许多有用的集合类。\n",
    "\n",
    "# namedtuple\n",
    "# 我们知道tuple可以表示不变集合，例如，一个点的二维坐标就可以表示成：\n",
    "\n",
    "p = (1, 2)\n",
    "# 但是，看到(1, 2)，很难看出这个tuple是用来表示一个坐标的。\n",
    "# 定义一个class又小题大做了，这时，namedtuple就派上了用场："
   ]
  },
  {
   "cell_type": "code",
   "execution_count": 12,
   "id": "bf81b916",
   "metadata": {},
   "outputs": [
    {
     "name": "stdout",
     "output_type": "stream",
     "text": [
      "1\n",
      "2\n"
     ]
    }
   ],
   "source": [
    "from collections import namedtuple\n",
    "Point = namedtuple('Point', ['x', 'y'])\n",
    "p = Point(1, 2)\n",
    "print(p.x)\n",
    "print(p.y)"
   ]
  },
  {
   "cell_type": "code",
   "execution_count": 5,
   "id": "0df15b6c",
   "metadata": {},
   "outputs": [
    {
     "name": "stdout",
     "output_type": "stream",
     "text": [
      "True\n",
      "True\n"
     ]
    }
   ],
   "source": [
    "# namedtuple是一个函数，它用来创建一个自定义的tuple对象，\n",
    "# 并且规定了tuple元素的个数，并可以用属性而不是索引来引用tuple的某个元素。\n",
    "\n",
    "# 这样一来，我们用namedtuple可以很方便地定义一种数据类型，它具备tuple的不变性，又可以根据属性来引用，使用十分方便。\n",
    "# 可以验证创建的Point对象是tuple的一种子类：\n",
    "\n",
    "print(isinstance(p, Point))\n",
    "print(isinstance(p, tuple))"
   ]
  },
  {
   "cell_type": "code",
   "execution_count": 6,
   "id": "97f7b5ce",
   "metadata": {},
   "outputs": [],
   "source": [
    "# 类似的，如果要用坐标和半径表示一个圆，也可以用namedtuple定义：\n",
    "Circle = namedtuple('Circle', ['x', 'y', 'r'])"
   ]
  },
  {
   "cell_type": "code",
   "execution_count": 13,
   "id": "f718ef9a",
   "metadata": {},
   "outputs": [
    {
     "name": "stdout",
     "output_type": "stream",
     "text": [
      "StrangeName(a=1, b=2)\n",
      "StrangeName\n",
      "StrangeName\n"
     ]
    }
   ],
   "source": [
    "# add\n",
    "# ✅ 推荐：类型名与变量名一致\n",
    "Point = namedtuple('Point', ['x', 'y'])\n",
    "\n",
    "# ❌ 不推荐：类型名与变量名不一致\n",
    "MyPoint = namedtuple('Point', ['x', 'y'])  # 混淆！\n",
    "\n",
    "# 混乱的例子（不要这样做！）\n",
    "WeirdTuple = namedtuple('StrangeName', ['a', 'b'])\n",
    "wt = WeirdTuple(1, 2)\n",
    "\n",
    "print(wt)  # StrangeName(a=1, b=2) - 显示的是 'StrangeName'\n",
    "print(type(wt).__name__)  # 'StrangeName' - 类名是 StrangeName\n",
    "print(WeirdTuple.__name__)  # 'StrangeName' - 变量名是 WeirdTuple，但类名是 StrangeName"
   ]
  },
  {
   "cell_type": "code",
   "execution_count": null,
   "id": "84ed870a",
   "metadata": {},
   "outputs": [
    {
     "name": "stdout",
     "output_type": "stream",
     "text": [
      "deque(['y', 'a', 'b', 'c', 'x'])\n"
     ]
    }
   ],
   "source": [
    "# deque\n",
    "\n",
    "# 使用list存储数据时，按索引访问元素很快，但是插入和删除元素就很慢了，\n",
    "# 因为list是线性存储，数据量大的时候，插入和删除效率很低。\n",
    "# deque是为了高效实现插入和删除操作的双向列表，适合用于队列和栈：\n",
    "\n",
    "from collections import deque\n",
    "q = deque(['a', 'b', 'c'])\n",
    "q.append('x')\n",
    "q.appendleft('y')\n",
    "print(q)\n",
    "\n",
    "# deque除了实现list的append()和pop()外，\n",
    "# 还支持appendleft()和popleft()，这样就可以非常高效地往头部添加或删除元素。"
   ]
  },
  {
   "cell_type": "code",
   "execution_count": null,
   "id": "e58e94c0",
   "metadata": {},
   "outputs": [
    {
     "name": "stdout",
     "output_type": "stream",
     "text": [
      "abc\n",
      "N/A\n"
     ]
    }
   ],
   "source": [
    "# defaultdict\n",
    "\n",
    "# 使用dict时，如果引用的Key不存在，就会抛出KeyError。\n",
    "# 如果希望key不存在时，返回一个默认值，就可以用defaultdict：\n",
    "\n",
    "from collections import defaultdict\n",
    "dd = defaultdict(lambda: 'N/A')\n",
    "dd['key1'] = 'abc'\n",
    "print(dd['key1']) # key1存在\n",
    "print(dd['key2'])\n",
    "\n",
    "# 注意默认值是调用函数返回的，而函数在创建defaultdict对象时传入。\n",
    "# 除了在Key不存在时返回默认值，defaultdict的其他行为跟dict是完全一样的。"
   ]
  },
  {
   "cell_type": "code",
   "execution_count": 18,
   "id": "5b39d31c",
   "metadata": {},
   "outputs": [
    {
     "name": "stdout",
     "output_type": "stream",
     "text": [
      "{'a': 1, 'b': 2, 'c': 3}\n",
      "OrderedDict([('a', 1), ('b', 2), ('c', 3)])\n"
     ]
    }
   ],
   "source": [
    "# OrderedDict\n",
    "# 使用dict时，Key是无序的。在对dict做迭代时，我们无法确定Key的顺序。\n",
    "# 如果要保持Key的顺序，可以用OrderedDict：\n",
    "\n",
    "from collections import OrderedDict\n",
    "d = dict([('a', 1), ('b', 2), ('c', 3)])\n",
    "print(d) # dict的Key是无序的\n",
    "\n",
    "od = OrderedDict([('a', 1), ('b', 2), ('c', 3)])\n",
    "print(od) # OrderedDict的Key是有序的"
   ]
  },
  {
   "cell_type": "code",
   "execution_count": 19,
   "id": "2ff103dd",
   "metadata": {},
   "outputs": [
    {
     "data": {
      "text/plain": [
       "['z', 'y', 'x']"
      ]
     },
     "execution_count": 19,
     "metadata": {},
     "output_type": "execute_result"
    }
   ],
   "source": [
    "# 注意，OrderedDict的Key会按照插入的顺序排列，不是Key本身排序：\n",
    "\n",
    "od = OrderedDict()\n",
    "od['z'] = 1\n",
    "od['y'] = 2\n",
    "od['x'] = 3\n",
    "list(od.keys()) # 按照插入的Key的顺序返回"
   ]
  },
  {
   "cell_type": "code",
   "execution_count": 21,
   "id": "2d5a6f4a",
   "metadata": {},
   "outputs": [],
   "source": [
    "# OrderedDict可以实现一个FIFO（先进先出）的dict，当容量超出限制时，先删除最早添加的Key：\n",
    "from collections import OrderedDict\n",
    "\n",
    "class LastUpdatedOrderedDict(OrderedDict):\n",
    "\n",
    "    def __init__(self, capacity):\n",
    "        super().__init__()\n",
    "        self._capacity = capacity\n",
    "\n",
    "    def __setitem__(self, key, value):\n",
    "        containsKey = 1 if key in self else 0\n",
    "        if len(self) - containsKey >= self._capacity:\n",
    "            last = self.popitem(last=False)\n",
    "            print('remove:', last)\n",
    "        if containsKey:\n",
    "            del self[key]\n",
    "            print('set:', (key, value))\n",
    "        else:\n",
    "            print('add:', (key, value))\n",
    "        OrderedDict.__setitem__(self, key, value)"
   ]
  },
  {
   "cell_type": "code",
   "execution_count": null,
   "id": "586ac645",
   "metadata": {},
   "outputs": [
    {
     "name": "stderr",
     "output_type": "stream",
     "text": [
      "usage: ipykernel_launcher.py [-h] [-u USER] [-c COLOR]\n",
      "ipykernel_launcher.py: error: unrecognized arguments: --f=/run/user/1000/jupyter/runtime/kernel-v30cd2ba20166373fa04ea456874c41df8ab935697.json\n"
     ]
    },
    {
     "ename": "SystemExit",
     "evalue": "2",
     "output_type": "error",
     "traceback": [
      "An exception has occurred, use %tb to see the full traceback.\n",
      "\u001b[0;31mSystemExit\u001b[0m\u001b[0;31m:\u001b[0m 2\n"
     ]
    },
    {
     "name": "stderr",
     "output_type": "stream",
     "text": [
      "/home/qwx/miniforge3/envs/personal/lib/python3.10/site-packages/IPython/core/interactiveshell.py:3587: UserWarning: To exit: use 'exit', 'quit', or Ctrl-D.\n",
      "  warn(\"To exit: use 'exit', 'quit', or Ctrl-D.\", stacklevel=1)\n"
     ]
    }
   ],
   "source": [
    "# ChainMap\n",
    "# ChainMap可以把一组dict串起来并组成一个逻辑上的dict。\n",
    "# ChainMap本身也是一个dict，但是查找的时候，会按照顺序在内部的dict依次查找。\n",
    "\n",
    "# 什么时候使用ChainMap最合适？\n",
    "# 举个例子：应用程序往往都需要传入参数，参数可以通过命令行传入，可以通过环境变量传入，还可以有默认参数。\n",
    "# 我们可以用ChainMap实现参数的优先级查找，即先查命令行参数，如果没有传入，再查环境变量，如果没有，就使用默认参数。\n",
    "\n",
    "# 下面的代码演示了如何查找user和color这两个参数：\n",
    "\n",
    "from collections import ChainMap\n",
    "import os, argparse\n",
    "\n",
    "# 构造缺省参数:\n",
    "# 运行Chainmap。py\n",
    "defaults = {\n",
    "    'color': 'red',\n",
    "    'user': 'guest'\n",
    "}\n",
    "\n",
    "# 构造命令行参数:\n",
    "parser = argparse.ArgumentParser()\n",
    "parser.add_argument('-u', '--user')\n",
    "parser.add_argument('-c', '--color')\n",
    "namespace = parser.parse_args()\n",
    "command_line_args = { k: v for k, v in vars(namespace).items() if v }\n",
    "\n",
    "# 组合成ChainMap:\n",
    "combined = ChainMap(command_line_args, os.environ, defaults)\n",
    "\n",
    "# 打印参数:\n",
    "print('color=%s' % combined['color'])\n",
    "print('user=%s' % combined['user'])"
   ]
  },
  {
   "cell_type": "code",
   "execution_count": 24,
   "id": "adf1bd3d",
   "metadata": {},
   "outputs": [],
   "source": [
    "# 没有任何参数时，打印出默认参数：\n",
    "# python3 use_chainmap.py\n",
    "# 当传入命令行参数时，优先使用命令行参数：\n",
    "# python3 use_chainmap.py -u bob\n",
    "# 同时传入命令行参数和环境变量，命令行参数的优先级较高：\n",
    "# user=admin color=green python3 use_chainmap.py -u bob "
   ]
  },
  {
   "cell_type": "code",
   "execution_count": null,
   "id": "5b19ca81",
   "metadata": {},
   "outputs": [
    {
     "name": "stdout",
     "output_type": "stream",
     "text": [
      "Counter({'r': 2, 'g': 2, 'm': 2, 'p': 1, 'o': 1, 'a': 1, 'i': 1, 'n': 1})\n",
      "Counter({'r': 4, 'g': 4, 'm': 4, 'p': 2, 'o': 2, 'a': 2, 'i': 2, 'n': 2})\n",
      "Counter({'r': 4, 'g': 4, 'm': 4, 'o': 3, 'p': 2, 'a': 2, 'i': 2, 'n': 2, 'l': 2, 'h': 1, 'e': 1})\n"
     ]
    }
   ],
   "source": [
    "# Counter\n",
    "# Counter是一个简单的计数器，例如，统计字符出现的个数：\n",
    "from collections import Counter\n",
    "c = Counter('programming')\n",
    "print(c)\n",
    "\n",
    "for ch in 'programming':\n",
    "    c[ch] = c[ch] + 1\n",
    "print(c) # 手动计数\n",
    "\n",
    "c.update('hello') # 也可以一次性update\n",
    "print(c)\n",
    "# Counter实际上也是dict的一个子类，上面的结果可以看出每个字符出现的次数。"
   ]
  }
 ],
 "metadata": {
  "kernelspec": {
   "display_name": "personal",
   "language": "python",
   "name": "python3"
  },
  "language_info": {
   "codemirror_mode": {
    "name": "ipython",
    "version": 3
   },
   "file_extension": ".py",
   "mimetype": "text/x-python",
   "name": "python",
   "nbconvert_exporter": "python",
   "pygments_lexer": "ipython3",
   "version": "3.10.18"
  }
 },
 "nbformat": 4,
 "nbformat_minor": 5
}
