{
 "cells": [
  {
   "cell_type": "code",
   "execution_count": 6,
   "id": "dcadce94",
   "metadata": {},
   "outputs": [
    {
     "name": "stdout",
     "output_type": "stream",
     "text": [
      "Process (60500) start...\n",
      "pid: 61032\n",
      "I (60500) just created a child process (61032).\n",
      "count 1\n",
      "Process (60500) start...\n",
      "pid: 0"
     ]
    },
    {
     "name": "stdout",
     "output_type": "stream",
     "text": [
      "\n",
      "I am child process (61032) and my parent is 60500.\n",
      "count 0\n"
     ]
    }
   ],
   "source": [
    "#mutiprocessing\n",
    "# 要让Python程序实现多进程（multiprocessing），我们先了解操作系统的相关知识。\n",
    "# Unix/Linux操作系统提供了一个fork()系统调用，它非常特殊。普通的函数调用，调用一次，返回一次，\n",
    "# 但是fork()调用一次，返回两次，因为操作系统自动把当前进程（称为父进程）复制了一份（称为子进程），然后，分别在父进程和子进程内返回。\n",
    "# 子进程永远返回0，而父进程返回子进程的ID。这样做的理由是，一个父进程可以fork出很多子进程，\n",
    "# 所以，父进程要记下每个子进程的ID，而子进程只需要调用getppid()就可以拿到父进程的ID。\n",
    "# Python的os模块封装了常见的系统调用，其中就包括fork，可以在Python程序中轻松创建子进程：\n",
    "\n",
    "import os\n",
    "print('Process (%s) start...' % os.getpid())\n",
    "count = 0\n",
    "# Only works on Unix/Linux/macOS:\n",
    "pid = os.fork()\n",
    "if pid == 0:\n",
    "    print(\"pid:\",pid)\n",
    "    print('I am child process (%s) and my parent is %s.' % (os.getpid(), os.getppid()))\n",
    "else:\n",
    "    print(\"pid:\",pid)\n",
    "    count += 1\n",
    "    print('I (%s) just created a child process (%s).' % (os.getpid(), pid))\n",
    "\n",
    "print(\"count\", count)"
   ]
  },
  {
   "cell_type": "code",
   "execution_count": null,
   "id": "79006249",
   "metadata": {},
   "outputs": [
    {
     "name": "stdout",
     "output_type": "stream",
     "text": [
      "Start: Process (60500)\n",
      "=== Parent Process ===\n",
      "My PID: 60500\n",
      "Child PID: 61053\n",
      "count before: 0\n",
      "count after: 200\n",
      "Final count in PID 60500: 200\n"
     ]
    },
    {
     "name": "stdout",
     "output_type": "stream",
     "text": [
      "Start: Process (60500)\n",
      "=== Child Process ===\n",
      "My PID: 61053\n",
      "Parent PID: 60500\n",
      "count before: 0\n",
      "count after: 100\n",
      "Final count in PID 61053: 100\n"
     ]
    }
   ],
   "source": [
    "import os\n",
    "import time\n",
    "\n",
    "print('Start: Process (%s)' % os.getpid())\n",
    "count = 0\n",
    "\n",
    "pid = os.fork() # 因为这个函数导致从此刻开始，进程分为了两道\n",
    "\n",
    "if pid == 0:\n",
    "    # 子进程\n",
    "    time.sleep(1)  # 延迟1秒，让父进程先输出\n",
    "    print('=== Child Process ===')\n",
    "    print('My PID:', os.getpid())\n",
    "    print('Parent PID:', os.getppid()) \n",
    "    print('count before:', count)\n",
    "    count = 100  # 修改子进程的count\n",
    "    print('count after:', count)\n",
    "else:\n",
    "    # 父进程\n",
    "    print('=== Parent Process ===')\n",
    "    print('My PID:', os.getpid())\n",
    "    print('Child PID:', pid)\n",
    "    print('count before:', count)\n",
    "    count = 200  # 修改父进程的count\n",
    "    print('count after:', count)\n",
    "\n",
    "print('Final count in PID %s: %s' % (os.getpid(), count))"
   ]
  },
  {
   "cell_type": "code",
   "execution_count": 8,
   "id": "91bc2b63",
   "metadata": {},
   "outputs": [],
   "source": [
    "# 由于Windows没有fork调用，上面的代码在Windows上无法运行。\n",
    "# 而Mac系统是基于BSD（Unix的一种）内核，所以，在Mac下运行是没有问题的，推荐大家用Mac学Python！\n",
    "# 有了fork调用，一个进程在接到新任务时就可以复制出一个子进程来处理新任务，\n",
    "# 常见的Apache服务器就是由父进程监听端口，每当有新的http请求时，就fork出子进程来处理新的http请求。"
   ]
  },
  {
   "cell_type": "code",
   "execution_count": 9,
   "id": "b5d9b73c",
   "metadata": {},
   "outputs": [
    {
     "name": "stdout",
     "output_type": "stream",
     "text": [
      "Parent process 60500.\n",
      "Child process will start.\n",
      "Run child process test (61164)...\n",
      "Child process end.\n"
     ]
    }
   ],
   "source": [
    "# multiprocessing\n",
    "# 如果你打算编写多进程的服务程序，Unix/Linux无疑是正确的选择。\n",
    "# 由于Windows没有fork调用，难道在Windows上无法用Python编写多进程的程序？\n",
    "# 由于Python是跨平台的，自然也应该提供一个跨平台的多进程支持。\n",
    "# multiprocessing模块就是跨平台版本的多进程模块。\n",
    "# multiprocessing模块提供了一个Process类来代表一个进程对象，下面的例子演示了启动一个子进程并等待其结束：\n",
    "from multiprocessing import Process\n",
    "import os\n",
    "\n",
    "# 子进程要执行的代码\n",
    "def run_proc(name):\n",
    "    print('Run child process %s (%s)...' % (name, os.getpid()))\n",
    "\n",
    "\n",
    "print('Parent process %s.' % os.getpid())\n",
    "p = Process(target=run_proc, args=('test',))\n",
    "print('Child process will start.')\n",
    "p.start()\n",
    "p.join()\n",
    "print('Child process end.')"
   ]
  },
  {
   "cell_type": "code",
   "execution_count": 10,
   "id": "31ef62d7",
   "metadata": {},
   "outputs": [
    {
     "name": "stdout",
     "output_type": "stream",
     "text": [
      "Parent process 60500.\n",
      "Run task 1 (61542)...Run task 2 (61543)...Run task 0 (61541)...Run task 3 (61544)...\n",
      "\n",
      "\n",
      "\n",
      "Waiting for all subprocesses done...\n",
      "Task 1 runs 0.67 seconds.\n",
      "Run task 4 (61542)...\n",
      "Task 2 runs 0.69 seconds.\n",
      "Task 0 runs 0.95 seconds.\n",
      "Task 4 runs 0.36 seconds.\n",
      "Task 3 runs 2.57 seconds.\n",
      "All subprocesses done.\n"
     ]
    }
   ],
   "source": [
    "# 创建子进程时，只需要传入一个执行函数和函数的参数，\n",
    "# 创建一个Process实例，用start()方法启动，这样创建进程比fork()还要简单。\n",
    "# join()方法可以等待子进程结束后再继续往下运行，通常用于进程间的同步。\n",
    "\n",
    "# Pool\n",
    "# 如果要启动大量的子进程，可以用进程池的方式批量创建子进程：\n",
    "\n",
    "from multiprocessing import Pool\n",
    "import os, time, random\n",
    "\n",
    "def long_time_task(name):\n",
    "    print('Run task %s (%s)...' % (name, os.getpid()))\n",
    "    start = time.time()\n",
    "    time.sleep(random.random() * 3)\n",
    "    end = time.time()\n",
    "    print('Task %s runs %0.2f seconds.' % (name, (end - start)))\n",
    "\n",
    "\n",
    "print('Parent process %s.' % os.getpid())\n",
    "p = Pool(4)\n",
    "for i in range(5):\n",
    "    p.apply_async(long_time_task, args=(i,))\n",
    "print('Waiting for all subprocesses done...')\n",
    "p.close()\n",
    "p.join()\n",
    "print('All subprocesses done.')\n"
   ]
  },
  {
   "cell_type": "code",
   "execution_count": 11,
   "id": "8c73c110",
   "metadata": {},
   "outputs": [],
   "source": [
    "# 代码解读：\n",
    "# 对Pool对象调用join()方法会等待所有子进程执行完毕，\n",
    "# 调用join()之前必须先调用close()，调用close()之后就不能继续添加新的Process了。\n",
    "# 请注意输出的结果，task 0，1，2，3是立刻执行的，而task 4要等待前面某个task完成后才执行，\n",
    "# 这是因为Pool的默认大小在我的电脑上是4，因此，最多同时执行4个进程。\n",
    "# 这是Pool有意设计的限制，并不是操作系统的限制。如果改成：\n",
    "\n",
    "# p = Pool(5)\n",
    "# 就可以同时跑5个进程。\n",
    "# 由于Pool的默认大小是CPU的核数，\n",
    "# 如果你不幸拥有8核CPU，你要提交至少9个子进程才能看到上面的等待效果。"
   ]
  },
  {
   "cell_type": "code",
   "execution_count": null,
   "id": "5e5ae63d",
   "metadata": {},
   "outputs": [
    {
     "name": "stdout",
     "output_type": "stream",
     "text": [
      "$ nslookup www.python.org\n",
      "Server:\t\t127.0.0.53\n",
      "Address:\t127.0.0.53#53\n",
      "\n",
      "Non-authoritative answer:\n",
      "Name:\twww.python.org\n",
      "Address: 198.18.0.29\n",
      "\n",
      "Exit code: 0\n"
     ]
    }
   ],
   "source": [
    "# 子进程\n",
    "# 很多时候，子进程并不是自身，而是一个外部进程。\n",
    "# 我们创建了子进程后，还需要控制子进程的输入和输出。\n",
    "# subprocess模块可以让我们非常方便地启动一个子进程，然后控制其输入和输出。\n",
    "# 下面的例子演示了如何在Python代码中运行命令\n",
    "# nslookup www.python.org，这和命令行直接运行的效果是一样的：\n",
    "\n",
    "import subprocess\n",
    "\n",
    "print('$ nslookup www.python.org')\n",
    "r = subprocess.call(['nslookup', 'www.python.org'])\n",
    "print('Exit code:', r)"
   ]
  },
  {
   "cell_type": "code",
   "execution_count": null,
   "id": "d5891227",
   "metadata": {},
   "outputs": [
    {
     "name": "stdout",
     "output_type": "stream",
     "text": [
      "$ nslookup\n",
      "Server:\t\t127.0.0.53\n",
      "Address:\t127.0.0.53#53\n",
      "\n",
      "Non-authoritative answer:\n",
      "python.org\tmail exchanger = 50 mail.python.org.\n",
      "\n",
      "Authoritative answers can be found from:\n",
      "\n",
      "\n",
      "Exit code: 0\n"
     ]
    }
   ],
   "source": [
    "# 如果子进程还需要输入，则可以通过communicate()方法输入：\n",
    "import subprocess\n",
    "\n",
    "print('$ nslookup')\n",
    "p = subprocess.Popen(['nslookup'], stdin=subprocess.PIPE, stdout=subprocess.PIPE, stderr=subprocess.PIPE)\n",
    "output, err = p.communicate(b'set q=mx\\npython.org\\nexit\\n')\n",
    "print(output.decode('utf-8'))\n",
    "print('Exit code:', p.returncode)\n",
    "\n",
    "# 上面的代码相当于在命令行执行命令nslookup，然后手动输入：\n",
    "'''\n",
    "set q=mx\n",
    "python.org\n",
    "exit\n",
    "'''"
   ]
  },
  {
   "cell_type": "code",
   "execution_count": 15,
   "id": "4dba4354",
   "metadata": {},
   "outputs": [
    {
     "name": "stdout",
     "output_type": "stream",
     "text": [
      "Process to write: 62462\n",
      "Put A to queue...Process to read: 62465\n",
      "\n",
      "Get A from queue.\n",
      "Put B to queue...\n",
      "Get B from queue.\n",
      "Put C to queue...\n",
      "Get C from queue.\n"
     ]
    }
   ],
   "source": [
    "# 进程间通信\n",
    "# Process之间肯定是需要通信的，操作系统提供了很多机制来实现进程间的通信。\n",
    "# Python的multiprocessing模块包装了底层的机制，提供了Queue、Pipes等多种方式来交换数据。\n",
    "# 我们以Queue为例，在父进程中创建两个子进程，一个往Queue里写数据，一个从Queue里读数据：\n",
    "\n",
    "from multiprocessing import Process, Queue\n",
    "import os, time, random\n",
    "\n",
    "# 写数据进程执行的代码:\n",
    "def write(q:Queue):\n",
    "    print('Process to write: %s' % os.getpid())\n",
    "    for value in ['A', 'B', 'C']:\n",
    "        print('Put %s to queue...' % value)\n",
    "        q.put(value)\n",
    "        time.sleep(random.random())\n",
    "\n",
    "# 读数据进程执行的代码:\n",
    "def read(q:Queue):\n",
    "    print('Process to read: %s' % os.getpid())\n",
    "    while True:\n",
    "        value = q.get(True)\n",
    "        print('Get %s from queue.' % value)\n",
    "\n",
    "if __name__=='__main__':\n",
    "    # 父进程创建Queue，并传给各个子进程：\n",
    "    q = Queue()\n",
    "    pw = Process(target=write, args=(q,))\n",
    "    pr = Process(target=read, args=(q,))\n",
    "    # 启动子进程pw，写入:\n",
    "    pw.start()\n",
    "    # 启动子进程pr，读取:\n",
    "    pr.start()\n",
    "    # 等待pw结束:\n",
    "    pw.join()\n",
    "    # pr进程里是死循环，无法等待其结束，只能强行终止:\n",
    "    pr.terminate()"
   ]
  },
  {
   "cell_type": "code",
   "execution_count": null,
   "id": "47cf65e9",
   "metadata": {},
   "outputs": [],
   "source": [
    "# 在Unix/Linux下，multiprocessing模块封装了fork()调用，\n",
    "# 使我们不需要关注fork()的细节。由于Windows没有fork调用，\n",
    "# 因此，multiprocessing需要“模拟”出fork的效果，父进程所有Python对象都必须通过pickle序列化再传到子进程去，\n",
    "# 所以，如果multiprocessing在Windows下调用失败了，要先考虑是不是pickle失败了。"
   ]
  }
 ],
 "metadata": {
  "kernelspec": {
   "display_name": "personal",
   "language": "python",
   "name": "python3"
  },
  "language_info": {
   "codemirror_mode": {
    "name": "ipython",
    "version": 3
   },
   "file_extension": ".py",
   "mimetype": "text/x-python",
   "name": "python",
   "nbconvert_exporter": "python",
   "pygments_lexer": "ipython3",
   "version": "3.10.18"
  }
 },
 "nbformat": 4,
 "nbformat_minor": 5
}
