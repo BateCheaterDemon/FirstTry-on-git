{
 "cells": [
  {
   "cell_type": "code",
   "execution_count": 1,
   "metadata": {},
   "outputs": [
    {
     "data": {
      "text/plain": [
       "'\\nAnimal\\n├── Mammal\\n│   ├── Dog\\n│   └── Bat\\n└── Bird\\n    ├── Parrot\\n    └── Ostrich\\n'"
      ]
     },
     "execution_count": 1,
     "metadata": {},
     "output_type": "execute_result"
    }
   ],
   "source": [
    "# 多重继承\n",
    "# 继承是面向对象编程的一个重要的方式，因为通过继承，子类就可以扩展父类的功能。\n",
    "\n",
    "# 回忆一下Animal类层次的设计，假设我们要实现以下4种动物：\n",
    "\n",
    "# Dog - 狗狗；\n",
    "# Bat - 蝙蝠；\n",
    "# Parrot - 鹦鹉；\n",
    "# Ostrich - 鸵鸟。\n",
    "# 如果按照哺乳动物和鸟类归类，我们可以设计出这样的类的层次：\n",
    "'''\n",
    "Animal\n",
    "├── Mammal\n",
    "│   ├── Dog\n",
    "│   └── Bat\n",
    "└── Bird\n",
    "    ├── Parrot\n",
    "    └── Ostrich\n",
    "'''\n",
    "# 但是如果按照“能跑”和“能飞”来归类，我们就应该设计出这样的类的层次：\n",
    "# 如果要把上面的两种分类都包含进来，我们就得设计更多的层次：\n",
    "# 哺乳类：能跑的哺乳类，能飞的哺乳类；\n",
    "# 鸟类：能跑的鸟类，能飞的鸟类。\n",
    "# 这么一来，类的层次就复杂了：\n",
    "\n",
    "# 如果要再增加“宠物类”和“非宠物类”，这么搞下去，类的数量会呈指数增长，很明显这样设计是不行的。\n"
   ]
  },
  {
   "cell_type": "code",
   "execution_count": 2,
   "metadata": {},
   "outputs": [],
   "source": [
    "# 正确的做法是采用多重继承。首先，主要的类层次仍按照哺乳类和鸟类设计：\n",
    "class Animal():\n",
    "    pass\n",
    "# 大类:\n",
    "class Mammal(Animal):\n",
    "    pass\n",
    "\n",
    "class Bird(Animal):\n",
    "    pass\n",
    "\n",
    "# 各种动物:\n",
    "class Dog(Mammal):\n",
    "    pass\n",
    "class Bat(Mammal):\n",
    "    pass\n",
    "\n",
    "class Parrot(Bird):\n",
    "    pass\n",
    "class Ostrich(Bird):\n",
    "    pass"
   ]
  },
  {
   "cell_type": "code",
   "execution_count": 3,
   "metadata": {},
   "outputs": [],
   "source": [
    "# 现在，我们要给动物再加上Runnable和Flyable的功能，只需要先定义好Runnable和Flyable的类：\n",
    "class Runnable(object):\n",
    "    def run(self):\n",
    "        print('Running...')\n",
    "\n",
    "class Flyable(object):\n",
    "    def fly(self):\n",
    "        print('Flying...')"
   ]
  },
  {
   "cell_type": "code",
   "execution_count": 4,
   "metadata": {},
   "outputs": [],
   "source": [
    "# 对于需要Runnable功能的动物，就多继承一个Runnable，例如Dog：\n",
    "class Dog(Mammal, Runnable):\n",
    "    pass\n",
    "# 对于需要Flyable功能的动物，就多继承一个Flyable，例如Bat：\n",
    "class Bat(Mammal, Flyable):\n",
    "    pass\n",
    "# 通过多重继承，一个子类就可以同时获得多个父类的所有功能。"
   ]
  },
  {
   "cell_type": "code",
   "execution_count": 5,
   "metadata": {},
   "outputs": [
    {
     "ename": "NameError",
     "evalue": "name 'RunnableMixIn' is not defined",
     "output_type": "error",
     "traceback": [
      "\u001b[1;31m---------------------------------------------------------------------------\u001b[0m",
      "\u001b[1;31mNameError\u001b[0m                                 Traceback (most recent call last)",
      "Cell \u001b[1;32mIn[5], line 7\u001b[0m\n\u001b[0;32m      1\u001b[0m \u001b[38;5;66;03m# MixIn\u001b[39;00m\n\u001b[0;32m      2\u001b[0m \u001b[38;5;66;03m# 在设计类的继承关系时，通常，主线都是单一继承下来的，例如，Ostrich继承自Bird。\u001b[39;00m\n\u001b[0;32m      3\u001b[0m \u001b[38;5;66;03m# 但是，如果需要“混入”额外的功能，通过多重继承就可以实现，比如，让Ostrich除了继承自Bird外，再同时继承Runnable。这种设计通常称之为MixIn。\u001b[39;00m\n\u001b[0;32m      4\u001b[0m \n\u001b[0;32m      5\u001b[0m \u001b[38;5;66;03m# 为了更好地看出继承关系，我们把Runnable和Flyable改为RunnableMixIn和FlyableMixIn。\u001b[39;00m\n\u001b[0;32m      6\u001b[0m \u001b[38;5;66;03m# 类似的，你还可以定义出肉食动物CarnivorousMixIn和植食动物HerbivoresMixIn，让某个动物同时拥有好几个MixIn：\u001b[39;00m\n\u001b[1;32m----> 7\u001b[0m \u001b[38;5;28;01mclass\u001b[39;00m\u001b[38;5;250m \u001b[39m\u001b[38;5;21;01mDog\u001b[39;00m(Mammal, \u001b[43mRunnableMixIn\u001b[49m, CarnivorousMixIn):\n\u001b[0;32m      8\u001b[0m     \u001b[38;5;28;01mpass\u001b[39;00m\n",
      "\u001b[1;31mNameError\u001b[0m: name 'RunnableMixIn' is not defined"
     ]
    }
   ],
   "source": [
    "# MixIn\n",
    "# 在设计类的继承关系时，通常，主线都是单一继承下来的，例如，Ostrich继承自Bird。\n",
    "# 但是，如果需要“混入”额外的功能，通过多重继承就可以实现，比如，让Ostrich除了继承自Bird外，再同时继承Runnable。这种设计通常称之为MixIn。\n",
    "\n",
    "# 为了更好地看出继承关系，我们把Runnable和Flyable改为RunnableMixIn和FlyableMixIn。\n",
    "# 类似的，你还可以定义出肉食动物CarnivorousMixIn和植食动物HerbivoresMixIn，让某个动物同时拥有好几个MixIn：\n",
    "class Dog(Mammal, RunnableMixIn, CarnivorousMixIn):\n",
    "    pass"
   ]
  },
  {
   "cell_type": "code",
   "execution_count": null,
   "metadata": {},
   "outputs": [
    {
     "ename": "NameError",
     "evalue": "name 'TCPServer' is not defined",
     "output_type": "error",
     "traceback": [
      "\u001b[1;31m---------------------------------------------------------------------------\u001b[0m",
      "\u001b[1;31mNameError\u001b[0m                                 Traceback (most recent call last)",
      "Cell \u001b[1;32mIn[6], line 5\u001b[0m\n\u001b[0;32m      1\u001b[0m \u001b[38;5;66;03m# MixIn的目的就是给一个类增加多个功能，这样，在设计类的时候，我们优先考虑通过多重继承来组合多个MixIn的功能，而不是设计多层次的复杂的继承关系。\u001b[39;00m\n\u001b[0;32m      2\u001b[0m \u001b[38;5;66;03m# Python自带的很多库也使用了MixIn。举个例子，Python自带了TCPServer和UDPServer这两类网络服务，\u001b[39;00m\n\u001b[0;32m      3\u001b[0m \u001b[38;5;66;03m# 而要同时服务多个用户就必须使用多进程或多线程模型，这两种模型由ForkingMixIn和ThreadingMixIn提供。通过组合，我们就可以创造出合适的服务来。\u001b[39;00m\n\u001b[0;32m      4\u001b[0m \u001b[38;5;66;03m# 比如，编写一个多进程模式的TCP服务，定义如下：\u001b[39;00m\n\u001b[1;32m----> 5\u001b[0m \u001b[38;5;28;01mclass\u001b[39;00m\u001b[38;5;250m \u001b[39m\u001b[38;5;21;01mMyTCPServer\u001b[39;00m(\u001b[43mTCPServer\u001b[49m, ForkingMixIn):\n\u001b[0;32m      6\u001b[0m     \u001b[38;5;28;01mpass\u001b[39;00m\n",
      "\u001b[1;31mNameError\u001b[0m: name 'TCPServer' is not defined"
     ]
    }
   ],
   "source": [
    "# MixIn的目的就是给一个类增加多个功能，这样，在设计类的时候，我们优先考虑通过多重继承来组合多个MixIn的功能，而不是设计多层次的复杂的继承关系。\n",
    "# Python自带的很多库也使用了MixIn。举个例子，Python自带了TCPServer和UDPServer这两类网络服务，\n",
    "# 而要同时服务多个用户就必须使用多进程或多线程模型，这两种模型由ForkingMixIn和ThreadingMixIn提供。通过组合，我们就可以创造出合适的服务来。\n",
    "# 比如，编写一个多进程模式的TCP服务，定义如下：\n",
    "from socketserver import TCPServer\n",
    "\n",
    "class MyTCPServer(TCPServer, ForkingMixIn):\n",
    "    pass\n",
    "\n",
    "# 编写一个多线程模式的UDP服务，定义如下：\n",
    "class MyUDPServer(UDPServer, ThreadingMixIn):\n",
    "    pass\n",
    "\n",
    "# 如果你打算搞一个更先进的协程模型，可以编写一个CoroutineMixIn：\n",
    "class MyTCPServer(TCPServer, CoroutineMixIn):\n",
    "    pass\n",
    "# 这样一来，我们不需要复杂而庞大的继承链，只要选择组合不同的类的功能，就可以快速构造出所需的子类。"
   ]
  },
  {
   "cell_type": "code",
   "execution_count": null,
   "metadata": {},
   "outputs": [],
   "source": [
    "# 小结\n",
    "# 由于Python允许使用多重继承，因此，MixIn就是一种常见的设计。\n",
    "# 只允许单一继承的语言（如Java）不能使用MixIn的设计。"
   ]
  }
 ],
 "metadata": {
  "kernelspec": {
   "display_name": "homework",
   "language": "python",
   "name": "python3"
  },
  "language_info": {
   "codemirror_mode": {
    "name": "ipython",
    "version": 3
   },
   "file_extension": ".py",
   "mimetype": "text/x-python",
   "name": "python",
   "nbconvert_exporter": "python",
   "pygments_lexer": "ipython3",
   "version": "3.10.16"
  }
 },
 "nbformat": 4,
 "nbformat_minor": 2
}
