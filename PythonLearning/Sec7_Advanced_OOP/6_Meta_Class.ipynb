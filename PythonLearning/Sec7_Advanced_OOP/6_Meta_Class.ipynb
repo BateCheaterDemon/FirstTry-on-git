{
 "cells": [
  {
   "cell_type": "code",
   "execution_count": null,
   "metadata": {},
   "outputs": [],
   "source": [
    "# type()\n",
    "# 动态语言和静态语言最大的不同，就是函数和类的定义，不是编译时定义的，而是运行时动态创建的。\n",
    "# 比方说我们要定义一个Hello的class，就写一个hello.py模块：\n",
    "'''\n",
    "class Hello():\n",
    "    def hello(self,name='world'):\n",
    "        print(f\"Hello {name}\")\n",
    "'''"
   ]
  },
  {
   "cell_type": "code",
   "execution_count": null,
   "metadata": {},
   "outputs": [
    {
     "name": "stdout",
     "output_type": "stream",
     "text": [
      "Hello world\n",
      "<class 'type'>\n",
      "<class 'hello.Hello'>\n"
     ]
    }
   ],
   "source": [
    "# 当Python解释器载入hello模块时，\n",
    "# 就会依次执行该模块的所有语句，执行结果就是动态创建出一个Hello的class对象，测试如下：\n",
    "from hello import Hello\n",
    "h = Hello()\n",
    "h.hello()\n",
    "\n",
    "print(type(Hello))\n",
    "print(type(h))\n",
    "type()\n",
    "# 函数可以查看一个类型或变量的类型，Hello是一个class，它的类型就是type，而h是一个实例，它的类型就是class Hello。\n",
    "# 我们说class的定义是运行时动态创建的，而创建class的方法就是使用type()函数。"
   ]
  },
  {
   "cell_type": "code",
   "execution_count": 6,
   "metadata": {},
   "outputs": [
    {
     "name": "stdout",
     "output_type": "stream",
     "text": [
      "Hello world\n",
      "<class 'type'>\n",
      "<class '__main__.Hello'>\n"
     ]
    }
   ],
   "source": [
    "# type()函数既可以返回一个对象的类型，又可以创建出新的类型，\n",
    "# 比如，我们可以通过type()函数创建出Hello类，而无需通过class Hello(object)...的定义：\n",
    "def fn(self,name='world'):\n",
    "    print(f'Hello {name}')\n",
    "\n",
    "Hello = type('Hello', (object,), dict(hello=fn)) # 创建Hello class\n",
    "h = Hello()\n",
    "h.hello()\n",
    "\n",
    "print(type(Hello))\n",
    "print(type(h))"
   ]
  },
  {
   "cell_type": "code",
   "execution_count": null,
   "metadata": {},
   "outputs": [],
   "source": [
    "# 要创建一个class对象，type()函数依次传入3个参数：\n",
    "# class的名称；\n",
    "# 继承的父类集合，注意Python支持多重继承，如果只有一个父类，别忘了tuple的单元素写法；\n",
    "# class的方法名称与函数绑定，这里我们把函数fn绑定到方法名hello上。\n",
    "# 通过type()函数创建的类和直接写class是完全一样的，因为Python解释器遇到class定义时，仅仅是扫描一下class定义的语法，然后调用type()函数创建出class。\n",
    "# 正常情况下，我们都用class Xxx...来定义类，但是，type()函数也允许我们动态创建出类来，\n",
    "# 也就是说，动态语言本身支持运行期动态创建类，这和静态语言有非常大的不同，要在静态语言运行期创建类，\n",
    "# 必须构造源代码字符串再调用编译器，或者借助一些工具生成字节码实现，本质上都是动态编译，会非常复杂。"
   ]
  },
  {
   "cell_type": "code",
   "execution_count": 7,
   "metadata": {},
   "outputs": [],
   "source": [
    "# metaclass\n",
    "# 除了使用type()动态创建类以外，要控制类的创建行为，还可以使用metaclass。\n",
    "# metaclass，直译为元类，简单的解释就是：\n",
    "# 当我们定义了类以后，就可以根据这个类创建出实例，所以：先定义类，然后创建实例。\n",
    "# 但是如果我们想创建出类呢？那就必须根据metaclass创建出类，所以：先定义metaclass，然后创建类。\n",
    "# 连接起来就是：先定义metaclass，就可以创建类，最后创建实例。\n",
    "# 所以，metaclass允许你创建类或者修改类。换句话说，你可以把类看成是metaclass创建出来的“实例”。\n",
    "# metaclass是Python面向对象里最难理解，也是最难使用的魔术代码。\n",
    "# 正常情况下，你不会碰到需要使用metaclass的情况，所以，以下内容看不懂也没关系，因为基本上你不会用到。\n",
    "# 我们先看一个简单的例子，这个metaclass可以给我们自定义的MyList增加一个add方法：\n",
    "# 定义ListMetaclass，按照默认习惯，metaclass的类名总是以Metaclass结尾，以便清楚地表示这是一个metaclass：\n",
    "\n",
    "# metaclass是类的模板，所以必须从`type`类型派生：\n",
    "class ListMetaclass(type):\n",
    "    def __new__(cls, name, bases, attrs):\n",
    "        attrs['add'] = lambda self, value: self.append(value)\n",
    "        return type.__new__(cls, name, bases, attrs)"
   ]
  },
  {
   "cell_type": "code",
   "execution_count": 8,
   "metadata": {},
   "outputs": [
    {
     "name": "stdout",
     "output_type": "stream",
     "text": [
      "[1]\n"
     ]
    }
   ],
   "source": [
    "# 有了ListMetaclass，我们在定义类的时候还要指示使用ListMetaclass来定制类，传入关键字参数metaclass：\n",
    "class MyList(list, metaclass=ListMetaclass):\n",
    "    pass\n",
    "\n",
    "# 当我们传入关键字参数metaclass时，魔术就生效了，它指示Python解释器在创建MyList时，\n",
    "# 要通过ListMetaclass.__new__()来创建，在此，我们可以修改类的定义，比如，加上新的方法，然后，返回修改后的定义。\n",
    "\n",
    "# __new__()方法接收到的参数依次是：\n",
    "# 当前准备创建的类的对象；\n",
    "# 类的名字；\n",
    "# 类继承的父类集合；\n",
    "# 类的方法集合。\n",
    "# 测试一下MyList是否可以调用add()方法：\n",
    "\n",
    "L = MyList()\n",
    "L.add(1)\n",
    "print(L)\n"
   ]
  },
  {
   "cell_type": "code",
   "execution_count": 10,
   "metadata": {},
   "outputs": [
    {
     "ename": "AttributeError",
     "evalue": "'list' object has no attribute 'add'",
     "output_type": "error",
     "traceback": [
      "\u001b[1;31m---------------------------------------------------------------------------\u001b[0m",
      "\u001b[1;31mAttributeError\u001b[0m                            Traceback (most recent call last)",
      "Cell \u001b[1;32mIn[10], line 3\u001b[0m\n\u001b[0;32m      1\u001b[0m \u001b[38;5;66;03m# 而普通的list没有add()方法：\u001b[39;00m\n\u001b[0;32m      2\u001b[0m L2 \u001b[38;5;241m=\u001b[39m \u001b[38;5;28mlist\u001b[39m()\n\u001b[1;32m----> 3\u001b[0m \u001b[43mL2\u001b[49m\u001b[38;5;241;43m.\u001b[39;49m\u001b[43madd\u001b[49m(\u001b[38;5;241m1\u001b[39m)\n",
      "\u001b[1;31mAttributeError\u001b[0m: 'list' object has no attribute 'add'"
     ]
    }
   ],
   "source": [
    "# 而普通的list没有add()方法：\n",
    "L2 = list()\n",
    "L2.add(1)"
   ]
  },
  {
   "cell_type": "code",
   "execution_count": 1,
   "metadata": {},
   "outputs": [
    {
     "ename": "NameError",
     "evalue": "name 'Model' is not defined",
     "output_type": "error",
     "traceback": [
      "\u001b[1;31m---------------------------------------------------------------------------\u001b[0m",
      "\u001b[1;31mNameError\u001b[0m                                 Traceback (most recent call last)",
      "Cell \u001b[1;32mIn[1], line 8\u001b[0m\n\u001b[0;32m      1\u001b[0m \u001b[38;5;66;03m# 动态修改有什么意义？直接在MyList定义中写上add()方法不是更简单吗？正常情况下，确实应该直接写，通过metaclass修改纯属变态。\u001b[39;00m\n\u001b[0;32m      2\u001b[0m \u001b[38;5;66;03m# 但是，总会遇到需要通过metaclass修改类定义的。ORM就是一个典型的例子。\u001b[39;00m\n\u001b[0;32m      3\u001b[0m \u001b[38;5;66;03m# ORM全称“Object Relational Mapping”，即对象-关系映射，\u001b[39;00m\n\u001b[1;32m   (...)\u001b[0m\n\u001b[0;32m      6\u001b[0m \u001b[38;5;66;03m# 让我们来尝试编写一个ORM框架。\u001b[39;00m\n\u001b[0;32m      7\u001b[0m \u001b[38;5;66;03m# 编写底层模块的第一步，就是先把调用接口写出来。比如，使用者如果使用这个ORM框架，想定义一个User类来操作对应的数据库表User，我们期待他写出这样的代码：\u001b[39;00m\n\u001b[1;32m----> 8\u001b[0m \u001b[38;5;28;01mclass\u001b[39;00m\u001b[38;5;250m \u001b[39m\u001b[38;5;21;01mUser\u001b[39;00m(\u001b[43mModel\u001b[49m):\n\u001b[0;32m      9\u001b[0m     \u001b[38;5;66;03m# 定义类的属性到列的映射：\u001b[39;00m\n\u001b[0;32m     10\u001b[0m     \u001b[38;5;28mid\u001b[39m \u001b[38;5;241m=\u001b[39m IntegerField(\u001b[38;5;124m'\u001b[39m\u001b[38;5;124mid\u001b[39m\u001b[38;5;124m'\u001b[39m)\n\u001b[0;32m     11\u001b[0m     name \u001b[38;5;241m=\u001b[39m StringField(\u001b[38;5;124m'\u001b[39m\u001b[38;5;124musername\u001b[39m\u001b[38;5;124m'\u001b[39m)\n",
      "\u001b[1;31mNameError\u001b[0m: name 'Model' is not defined"
     ]
    }
   ],
   "source": [
    "# 动态修改有什么意义？直接在MyList定义中写上add()方法不是更简单吗？正常情况下，确实应该直接写，通过metaclass修改纯属变态。\n",
    "# 但是，总会遇到需要通过metaclass修改类定义的。ORM就是一个典型的例子。\n",
    "# ORM全称“Object Relational Mapping”，即对象-关系映射，\n",
    "# 就是把关系数据库的一行映射为一个对象，也就是一个类对应一个表，这样，写代码更简单，不用直接操作SQL语句。\n",
    "# 要编写一个ORM框架，所有的类都只能动态定义，因为只有使用者才能根据表的结构定义出对应的类来。\n",
    "# 让我们来尝试编写一个ORM框架。\n",
    "# 编写底层模块的第一步，就是先把调用接口写出来。比如，使用者如果使用这个ORM框架，想定义一个User类来操作对应的数据库表User，我们期待他写出这样的代码：\n",
    "class User(Model):\n",
    "    # 定义类的属性到列的映射：\n",
    "    id = IntegerField('id')\n",
    "    name = StringField('username')\n",
    "    email = StringField('email')\n",
    "    password = StringField('password')\n",
    "\n",
    "# 创建一个实例：\n",
    "u = User(id=12345, name='Michael', email='test@orm.org', password='my-pwd')\n",
    "# 保存到数据库：\n",
    "u.save()\n"
   ]
  },
  {
   "cell_type": "code",
   "execution_count": 2,
   "metadata": {},
   "outputs": [],
   "source": [
    "class Field():\n",
    "    def __init__(self, name, column_type):\n",
    "        self.name = name\n",
    "        self.column_type = column_type\n",
    "    \n",
    "    def __str__(self):\n",
    "        return '<%s:%s>' % (self.__class__.__name__, self.name)"
   ]
  },
  {
   "cell_type": "code",
   "execution_count": 3,
   "metadata": {},
   "outputs": [],
   "source": [
    "# 在Field的基础上，进一步定义各种类型的Field，比如StringField，IntegerField等等：\n",
    "class StringField(Field):\n",
    "    def __init__(self,name):\n",
    "        super(StringField,self).__init__(name,'varchar(100)') # 这是显示调用与隐式super().__init__(name,'varchar(100)')本质一样\n",
    "\n",
    "class IntegerField(Field):\n",
    "    def __init__(self,name):\n",
    "        super().__init__(name,'bigint')"
   ]
  },
  {
   "cell_type": "code",
   "execution_count": 4,
   "metadata": {},
   "outputs": [],
   "source": [
    "# 下一步，就是编写最复杂的ModelMetaclass了：\n",
    "class ModelMetaclass(type):\n",
    "    def __new__(cls,name,bases,attrs):\n",
    "        if name == 'Model':\n",
    "            return type.__new__(cls,name,bases,attrs)\n",
    "        print(f\"Found model:{name}\")\n",
    "        mappings = dict()\n",
    "        for k,v in attrs.items():\n",
    "            if isinstance(v,Field):\n",
    "                print(f'Found mapping:{k}==>{v}')\n",
    "                mappings[k] = v\n",
    "\n",
    "        for k in mappings.keys():\n",
    "            attrs.pop(k)\n",
    "        attrs['__mappings__'] = mappings\n",
    "        attrs['__table__'] = name\n",
    "        return type.__new__(cls, name, bases, attrs)"
   ]
  },
  {
   "cell_type": "code",
   "execution_count": 7,
   "metadata": {},
   "outputs": [],
   "source": [
    "# 以及基类Model：\n",
    "class Model(dict,metaclass=ModelMetaclass):\n",
    "    def __init__(self,**kw):\n",
    "        super().__init__(self,**kw)\n",
    "    \n",
    "    def __getattr__(self,key):\n",
    "        try:\n",
    "            return self[key]\n",
    "        except KeyError:\n",
    "            raise AttributeError(r\"'Model' object has no attribute '%s'\" % key)\n",
    "\n",
    "    def __setattr__(self, key, value):\n",
    "        self[key] = value\n",
    "\n",
    "    def save(self):\n",
    "        fields = []\n",
    "        params = []\n",
    "        args = []\n",
    "        for k, v in self.__mappings__.items():\n",
    "            fields.append(v.name)\n",
    "            params.append('?')\n",
    "            args.append(getattr(self, k, None))\n",
    "        sql = 'insert into %s (%s) values (%s)' % (self.__table__, ','.join(fields), ','.join(params))\n",
    "        print('SQL: %s' % sql)\n",
    "        print('ARGS: %s' % str(args))"
   ]
  },
  {
   "cell_type": "code",
   "execution_count": 13,
   "metadata": {},
   "outputs": [
    {
     "name": "stdout",
     "output_type": "stream",
     "text": [
      "Found model:User\n",
      "Found mapping:id==><IntegerField:id>\n",
      "Found mapping:name==><StringField:username>\n",
      "Found mapping:email==><StringField:email>\n",
      "Found mapping:password==><StringField:password>\n"
     ]
    }
   ],
   "source": [
    "# 当用户定义一个class User(Model)时，Python解释器首先在当前类User的定义中查找metaclass，如果没有找到，就继续在父类Model中查找metaclass，找到了，就使用Model中定义的metaclass的ModelMetaclass来创建User类，也就是说，metaclass可以隐式地继承到子类，但子类自己却感觉不到。\n",
    "\n",
    "# 在ModelMetaclass中，一共做了几件事情：\n",
    "\n",
    "# 排除掉对Model类的修改；\n",
    "# 在当前类（比如User）中查找定义的类的所有属性，如果找到一个Field属性，就把它保存到一个__mappings__的dict中，同时从类属性中删除该Field属性，否则，容易造成运行时错误（实例的属性会遮盖类的同名属性）；\n",
    "# 把表名保存到__table__中，这里简化为表名默认为类名。\n",
    "# 在Model类中，就可以定义各种操作数据库的方法，比如save()，delete()，find()，update等等。\n",
    "\n",
    "# 我们实现了save()方法，把一个实例保存到数据库中。因为有表名，属性到字段的映射和属性值的集合，就可以构造出INSERT语句。\n",
    "\n",
    "class User(Model):\n",
    "    id = IntegerField('id')\n",
    "    name = StringField('username')\n",
    "    email = StringField('email')\n",
    "    password = StringField('password')"
   ]
  },
  {
   "cell_type": "code",
   "execution_count": 15,
   "metadata": {},
   "outputs": [],
   "source": [
    "# 编写代码试试：\n",
    "u = User(id=12345, name='Michael', email='test@orm.org', password='my-pwd')\n"
   ]
  },
  {
   "cell_type": "code",
   "execution_count": 16,
   "metadata": {},
   "outputs": [
    {
     "name": "stdout",
     "output_type": "stream",
     "text": [
      "SQL: insert into User (id,username,email,password) values (?,?,?,?)\n",
      "ARGS: [12345, 'Michael', 'test@orm.org', 'my-pwd']\n"
     ]
    }
   ],
   "source": [
    "u.save()"
   ]
  },
  {
   "cell_type": "code",
   "execution_count": null,
   "metadata": {},
   "outputs": [],
   "source": [
    "# 可以看到，save()方法已经打印出了可执行的SQL语句，以及参数列表，只需要真正连接到数据库，执行该SQL语句，就可以完成真正的功能。\n",
    "\n",
    "# 不到100行代码，我们就通过metaclass实现了一个精简的ORM框架，是不是非常简单？"
   ]
  }
 ],
 "metadata": {
  "kernelspec": {
   "display_name": "homework",
   "language": "python",
   "name": "python3"
  },
  "language_info": {
   "codemirror_mode": {
    "name": "ipython",
    "version": 3
   },
   "file_extension": ".py",
   "mimetype": "text/x-python",
   "name": "python",
   "nbconvert_exporter": "python",
   "pygments_lexer": "ipython3",
   "version": "3.10.16"
  }
 },
 "nbformat": 4,
 "nbformat_minor": 2
}
