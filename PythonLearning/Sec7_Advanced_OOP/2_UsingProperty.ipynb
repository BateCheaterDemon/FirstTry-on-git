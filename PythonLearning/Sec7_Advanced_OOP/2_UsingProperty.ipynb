{
 "cells": [
  {
   "cell_type": "code",
   "execution_count": null,
   "metadata": {},
   "outputs": [],
   "source": [
    "# 使用@property\n",
    "# 在绑定属性时，如果我们直接把属性暴露出去，虽然写起来很简单，但是，没办法检查参数，导致可以把成绩随便改：\n",
    "class Student():\n",
    "    pass\n",
    "\n",
    "s = Student()\n",
    "s.score = 9999"
   ]
  },
  {
   "cell_type": "code",
   "execution_count": null,
   "metadata": {},
   "outputs": [],
   "source": [
    "# 这显然不合逻辑。为了限制score的范围，可以通过一个set_score()方法来设置成绩，\n",
    "# 再通过一个get_score()来获取成绩，这样，在set_score()方法里，就可以检查参数：\n",
    "class Student(object):\n",
    "    def get_score(self):\n",
    "         return self._score\n",
    "\n",
    "    def set_score(self, value):\n",
    "        if not isinstance(value, int):\n",
    "            raise ValueError('score must be an integer!')\n",
    "        if value < 0 or value > 100:\n",
    "            raise ValueError('score must between 0 ~ 100!')\n",
    "        self._score = value\n",
    "\n",
    "# 现在，对任意的Student实例进行操作，就不能随心所欲地设置score了：\n",
    "s = Student()\n",
    "s.set_score(60) # ok!\n",
    "s.get_score()"
   ]
  },
  {
   "cell_type": "code",
   "execution_count": null,
   "metadata": {},
   "outputs": [],
   "source": [
    "s.set_score(9999)"
   ]
  },
  {
   "cell_type": "code",
   "execution_count": null,
   "metadata": {},
   "outputs": [],
   "source": [
    "# 但是，上面的调用方法又略显复杂，没有直接用属性这么直接简单。\n",
    "# 有没有既能检查参数，又可以用类似属性这样简单的方式来访问类的变量呢？对于追求完美的Python程序员来说，这是必须要做到的！\n",
    "# 还记得装饰器（decorator）可以给函数动态加上功能吗？对于类的方法，装饰器一样起作用。Python内置的@property装饰器就是负责把一个方法变成属性调用的：\n",
    "class Student:\n",
    "    @property\n",
    "    def score(self):\n",
    "        return self._score\n",
    "\n",
    "    @score.setter\n",
    "    def score(self,value):\n",
    "        if not isinstance(value,int):\n",
    "            raise ValueError('score must be an integer!')\n",
    "        if value < 0 or value > 100:\n",
    "            raise ValueError('score must between 0 ~ 100!')\n",
    "        self._score = value\n"
   ]
  },
  {
   "cell_type": "code",
   "execution_count": null,
   "metadata": {},
   "outputs": [],
   "source": [
    "# @property的实现比较复杂，我们先考察如何使用。\n",
    "# 把一个getter方法变成属性，只需要加上@property就可以了，\n",
    "# 此时，@property本身又创建了另一个装饰器@score.setter，负责把一个setter方法变成属性赋值，于是，我们就拥有一个可控的属性操作：\n",
    "s = Student()\n",
    "s.score = 60\n",
    "s.score(60)# 尝试像调用方法一样调用属性,则会报错"
   ]
  },
  {
   "cell_type": "code",
   "execution_count": null,
   "metadata": {},
   "outputs": [],
   "source": [
    "s.score = 9999"
   ]
  },
  {
   "cell_type": "code",
   "execution_count": null,
   "metadata": {},
   "outputs": [],
   "source": [
    "# 注意到这个神奇的@property，我们在对实例属性操作的时候，\n",
    "# 就知道该属性很可能不是直接暴露的，而是通过getter和setter方法来实现的。\n",
    "# 还可以定义只读属性，只定义getter方法，不定义setter方法就是一个只读属性：\n",
    "class Student(object):\n",
    "    @property\n",
    "    def birth(self):\n",
    "        return self._birth\n",
    "\n",
    "    @birth.setter\n",
    "    def birth(self, value):\n",
    "        self._birth = value\n",
    "\n",
    "    @property\n",
    "    def age(self):\n",
    "        return 2025 - self._birth"
   ]
  },
  {
   "cell_type": "code",
   "execution_count": null,
   "metadata": {},
   "outputs": [],
   "source": [
    "# 上面的birth是可读写属性，而age就是一个只读属性，因为age可以根据birth和当前时间计算出来。\n",
    "# 要特别注意：属性的方法名不要和实例变量重名。例如，以下的代码是错误的：\n",
    "class Student(object):\n",
    "    # 方法名称和实例变量均为birth:\n",
    "    @property\n",
    "    def birth(self):\n",
    "        return self.birth\n",
    "\n",
    "# 这是因为调用s.birth时，首先转换为方法调用，在执行return self.birth时，\n",
    "# 又视为访问self的属性，于是又转换为方法调用self.birth()，造成无限递归，最终导致栈溢出报错RecursionError。\n",
    "s = Student()\n",
    "s.birth\n",
    "# 这是因为调用s.birth时，首先转换为方法调用，在执行return self.birth时，\n",
    "# 又视为访问self的属性，于是又转换为方法调用self.birth()，造成无限递归，最终导致栈溢出报错RecursionError。\\\n",
    "\n",
    "# 属性方法名和实例变量重名，会造成递归调用，导致栈溢出报错！"
   ]
  },
  {
   "cell_type": "code",
   "execution_count": 3,
   "metadata": {},
   "outputs": [
    {
     "name": "stdout",
     "output_type": "stream",
     "text": [
      "resolution = 786432\n",
      "测试通过!\n"
     ]
    }
   ],
   "source": [
    "# 小结\n",
    "# @property广泛应用在类的定义中，可以让调用者写出简短的代码，同时保证对参数进行必要的检查，这样，程序运行时就减少了出错的可能性。\n",
    "class Screen(object):\n",
    "    @property\n",
    "    def width(self):\n",
    "        return self._width\n",
    "    \n",
    "    @width.setter\n",
    "    def width(self,value):\n",
    "        self._width = value\n",
    "\n",
    "    @property\n",
    "    def height(self):\n",
    "        return self._height\n",
    "    \n",
    "    @width.setter\n",
    "    def height(self,value):\n",
    "        self._height = value\n",
    "\n",
    "    @property\n",
    "    def resolution(self):\n",
    "        return self._height * self.width\n",
    "    \n",
    "# 测试:\n",
    "s = Screen()\n",
    "s.width = 1024\n",
    "s.height = 768\n",
    "print('resolution =', s.resolution)\n",
    "if s.resolution == 786432:\n",
    "    print('测试通过!')\n",
    "else:\n",
    "    print('测试失败!')\n"
   ]
  },
  {
   "cell_type": "code",
   "execution_count": null,
   "metadata": {},
   "outputs": [],
   "source": []
  }
 ],
 "metadata": {
  "kernelspec": {
   "display_name": "homework",
   "language": "python",
   "name": "python3"
  },
  "language_info": {
   "codemirror_mode": {
    "name": "ipython",
    "version": 3
   },
   "file_extension": ".py",
   "mimetype": "text/x-python",
   "name": "python",
   "nbconvert_exporter": "python",
   "pygments_lexer": "ipython3",
   "version": "3.10.16"
  }
 },
 "nbformat": 4,
 "nbformat_minor": 2
}
