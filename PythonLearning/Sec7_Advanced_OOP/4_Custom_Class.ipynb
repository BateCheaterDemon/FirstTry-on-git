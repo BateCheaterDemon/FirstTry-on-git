{
 "cells": [
  {
   "cell_type": "code",
   "execution_count": null,
   "metadata": {},
   "outputs": [
    {
     "name": "stdout",
     "output_type": "stream",
     "text": [
      "<__main__.Student object at 0x0000023B60D9BCA0>\n"
     ]
    }
   ],
   "source": [
    "# 定制类\n",
    "# 看到类似__slots__这种形如__xxx__的变量或者函数名就要注意，这些在Python中是有特殊用途的。\n",
    "# __slots__我们已经知道怎么用了，__len__()方法我们也知道是为了能让class作用于len()函数。\n",
    "# 除此之外，Python的class中还有许多这样有特殊用途的函数，可以帮助我们定制类。\n",
    "# __str__\n",
    "# 我们先定义一个Student类，打印一个实例：\n",
    "class Student():\n",
    "    def __init__(self,name):\n",
    "        self.name = name\n",
    "    \n",
    "print(Student('Quwenxi'))"
   ]
  },
  {
   "cell_type": "code",
   "execution_count": 2,
   "metadata": {},
   "outputs": [
    {
     "name": "stdout",
     "output_type": "stream",
     "text": [
      "Student object (name: Quwenxi)\n"
     ]
    }
   ],
   "source": [
    "# 打印出一堆<__main__.Student object at 0x109afb190>，不好看。\n",
    "# 怎么才能打印得好看呢？只需要定义好__str__()方法，返回一个好看的字符串就可以了：\n",
    "class Student(object):\n",
    "     def __init__(self, name):\n",
    "         self.name = name\n",
    "     def __str__(self):\n",
    "         return 'Student object (name: %s)' % self.name\n",
    "     \n",
    "print(Student('Quwenxi'))"
   ]
  },
  {
   "cell_type": "code",
   "execution_count": null,
   "metadata": {},
   "outputs": [
    {
     "ename": "AttributeError",
     "evalue": "'Student' object has no attribute 'set_age'",
     "output_type": "error",
     "traceback": [
      "\u001b[1;31m---------------------------------------------------------------------------\u001b[0m\n",
      "\u001b[1;31mAttributeError\u001b[0m                            Traceback (most recent call last)\n",
      "Cell \u001b[1;32mIn[8], line 3\u001b[0m\n",
      "\u001b[0;32m      1\u001b[0m \u001b[38;5;66;03m# 但是，给一个实例绑定的方法，对另一个实例是不起作用的：\u001b[39;00m\n",
      "\u001b[0;32m      2\u001b[0m s2 \u001b[38;5;241m=\u001b[39m Student() \u001b[38;5;66;03m# 创建新的实例\u001b[39;00m\n",
      "\u001b[1;32m----> 3\u001b[0m \u001b[43ms2\u001b[49m\u001b[38;5;241;43m.\u001b[39;49m\u001b[43mset_age\u001b[49m(\u001b[38;5;241m25\u001b[39m) \u001b[38;5;66;03m# 尝试调用方法\u001b[39;00m\n",
      "\n",
      "\u001b[1;31mAttributeError\u001b[0m: 'Student' object has no attribute 'set_age'"
     ]
    }
   ],
   "source": [
    "# 但是，给一个实例绑定的方法，对另一个实例是不起作用的：\n",
    "s2 = Student() # 创建新的实例\n",
    "s2.set_age(25) # 尝试调用方法"
   ]
  },
  {
   "cell_type": "code",
   "execution_count": 4,
   "metadata": {},
   "outputs": [
    {
     "data": {
      "text/plain": [
       "<__main__.Student at 0x23b60d9b850>"
      ]
     },
     "execution_count": 4,
     "metadata": {},
     "output_type": "execute_result"
    }
   ],
   "source": [
    "# 这样打印出来的实例，不但好看，而且容易看出实例内部重要的数据。\n",
    "# 但是细心的朋友会发现直接敲变量不用print，打印出来的实例还是不好看：\n",
    "s = Student('Michael')\n",
    "s"
   ]
  },
  {
   "cell_type": "code",
   "execution_count": 5,
   "metadata": {},
   "outputs": [
    {
     "data": {
      "text/plain": [
       "Student object (name=Michael)"
      ]
     },
     "execution_count": 5,
     "metadata": {},
     "output_type": "execute_result"
    }
   ],
   "source": [
    "# 这是因为直接显示变量调用的不是__str__()，而是__repr__()，\n",
    "# 两者的区别是__str__()返回用户看到的字符串，而__repr__()返回程序开发者看到的字符串，也就是说，__repr__()是为调试服务的。\n",
    "# 解决办法是再定义一个__repr__()。但是通常__str__()和__repr__()代码都是一样的，所以，有个偷懒的写法：\n",
    "class Student(object):\n",
    "    def __init__(self, name):\n",
    "        self.name = name\n",
    "    def __str__(self):\n",
    "        return 'Student object (name=%s)' % self.name\n",
    "    __repr__ = __str__\n",
    "\n",
    "s = Student('Michael')\n",
    "s"
   ]
  },
  {
   "cell_type": "code",
   "execution_count": 6,
   "metadata": {},
   "outputs": [
    {
     "name": "stdout",
     "output_type": "stream",
     "text": [
      "1\n",
      "1\n",
      "2\n",
      "3\n",
      "5\n",
      "8\n",
      "13\n",
      "21\n",
      "34\n",
      "55\n",
      "89\n",
      "144\n",
      "233\n",
      "377\n",
      "610\n",
      "987\n",
      "1597\n",
      "2584\n",
      "4181\n",
      "6765\n",
      "10946\n",
      "17711\n",
      "28657\n",
      "46368\n",
      "75025\n"
     ]
    }
   ],
   "source": [
    "# __iter__\n",
    "# 如果一个类想被用于for ... in循环，类似list或tuple那样，就必须实现一个__iter__()方法，\n",
    "# 该方法返回一个迭代对象，然后，Python的for循环就会不断调用该迭代对象的__next__()方法拿到循环的下一个值，直到遇到StopIteration错误时退出循环。\n",
    "# 我们以斐波那契数列为例，写一个Fib类，可以作用于for循环：\n",
    "class Fib():\n",
    "    def __init__(self):\n",
    "        self.a,self.b = 0,1\n",
    "\n",
    "    def __iter__(self):\n",
    "        return self\n",
    "    \n",
    "    def __next__(self):\n",
    "        self.a,self.b = self.b,self.a+self.b\n",
    "        if self.a>100000:\n",
    "            raise StopIteration\n",
    "        return self.a\n",
    "    \n",
    "# 现在，试试把Fib实例作用于for循环：\n",
    "for n in Fib():\n",
    "    print(n)"
   ]
  },
  {
   "cell_type": "code",
   "execution_count": 7,
   "metadata": {},
   "outputs": [
    {
     "ename": "TypeError",
     "evalue": "'Fib' object is not subscriptable",
     "output_type": "error",
     "traceback": [
      "\u001b[1;31m---------------------------------------------------------------------------\u001b[0m",
      "\u001b[1;31mTypeError\u001b[0m                                 Traceback (most recent call last)",
      "Cell \u001b[1;32mIn[7], line 3\u001b[0m\n\u001b[0;32m      1\u001b[0m \u001b[38;5;66;03m# __getitem__\u001b[39;00m\n\u001b[0;32m      2\u001b[0m \u001b[38;5;66;03m# Fib实例虽然能作用于for循环，看起来和list有点像，但是，把它当成list来使用还是不行，比如，取第5个元素：\u001b[39;00m\n\u001b[1;32m----> 3\u001b[0m \u001b[43mFib\u001b[49m\u001b[43m(\u001b[49m\u001b[43m)\u001b[49m\u001b[43m[\u001b[49m\u001b[38;5;241;43m5\u001b[39;49m\u001b[43m]\u001b[49m\n",
      "\u001b[1;31mTypeError\u001b[0m: 'Fib' object is not subscriptable"
     ]
    }
   ],
   "source": [
    "# __getitem__\n",
    "# Fib实例虽然能作用于for循环，看起来和list有点像，但是，把它当成list来使用还是不行，比如，取第5个元素：\n",
    "Fib()[5]"
   ]
  },
  {
   "cell_type": "code",
   "execution_count": null,
   "metadata": {},
   "outputs": [
    {
     "name": "stdout",
     "output_type": "stream",
     "text": [
      "1\n",
      "1\n",
      "2\n",
      "3\n",
      "89\n",
      "573147844013817084101\n"
     ]
    }
   ],
   "source": [
    "# 要表现得像list那样按照下标取出元素，需要实现__getitem__()方法：\n",
    "class Fib(object):\n",
    "    def __getitem__(self, n):\n",
    "        a, b = 1, 1\n",
    "        for x in range(n):\n",
    "            a, b = b, a + b\n",
    "        return a\n",
    "\n",
    "# 现在，就可以按下标访问数列的任意一项了：\n",
    "f = Fib()\n",
    "print(f[0])\n",
    "\n",
    "print(f[1])\n",
    "\n",
    "print(f[2])\n",
    "\n",
    "print(f[3])\n",
    "\n",
    "print(f[10])\n",
    "\n",
    "print(f[100])"
   ]
  },
  {
   "cell_type": "code",
   "execution_count": 10,
   "metadata": {},
   "outputs": [
    {
     "data": {
      "text/plain": [
       "[5, 6, 7, 8, 9]"
      ]
     },
     "execution_count": 10,
     "metadata": {},
     "output_type": "execute_result"
    }
   ],
   "source": [
    "# 但是list有个神奇的切片方法：\n",
    "list(range(100))[5:10]"
   ]
  },
  {
   "cell_type": "code",
   "execution_count": 11,
   "metadata": {},
   "outputs": [],
   "source": [
    "# 对于Fib却报错。原因是__getitem__()传入的参数可能是一个int，也可能是一个切片对象slice，所以要做判断：\n",
    "class Fib(object):\n",
    "    def __getitem__(self, n):\n",
    "        if isinstance(n, int): # n是索引\n",
    "            a, b = 1, 1\n",
    "            for x in range(n):\n",
    "                a, b = b, a + b\n",
    "            return a\n",
    "        if isinstance(n, slice): # n是切片\n",
    "            start = n.start\n",
    "            stop = n.stop\n",
    "            if start is None:\n",
    "                start = 0\n",
    "            a, b = 1, 1\n",
    "            L = []\n",
    "            for x in range(stop):\n",
    "                if x >= start:\n",
    "                    L.append(a)\n",
    "                a, b = b, a + b\n",
    "            return L"
   ]
  },
  {
   "cell_type": "code",
   "execution_count": 12,
   "metadata": {},
   "outputs": [
    {
     "data": {
      "text/plain": [
       "[1, 1, 2, 3, 5]"
      ]
     },
     "execution_count": 12,
     "metadata": {},
     "output_type": "execute_result"
    }
   ],
   "source": [
    "f = Fib()\n",
    "f[0:5]"
   ]
  },
  {
   "cell_type": "code",
   "execution_count": 13,
   "metadata": {},
   "outputs": [
    {
     "data": {
      "text/plain": [
       "[1, 1, 2, 3, 5, 8, 13, 21, 34, 55]"
      ]
     },
     "execution_count": 13,
     "metadata": {},
     "output_type": "execute_result"
    }
   ],
   "source": [
    "f[:10]"
   ]
  },
  {
   "cell_type": "code",
   "execution_count": null,
   "metadata": {},
   "outputs": [
    {
     "data": {
      "text/plain": [
       "[1, 1, 2, 3, 5, 8, 13, 21, 34, 55]"
      ]
     },
     "execution_count": 14,
     "metadata": {},
     "output_type": "execute_result"
    }
   ],
   "source": [
    "# 但是没有对step参数作处理：\n",
    "f[:10:2]\n",
    "# 也没有对负数作处理，所以，要正确实现一个__getitem__()还是有很多工作要做的。\n",
    "# 此外，如果把对象看成dict，__getitem__()的参数也可能是一个可以作key的object，例如str。\n",
    "# 与之对应的是__setitem__()方法，把对象视作list或dict来对集合赋值。最后，还有一个__delitem__()方法，用于删除某个元素。\n",
    "# 总之，通过上面的方法，我们自己定义的类表现得和Python自带的list、tuple、dict没什么区别，这完全归功于动态语言的“鸭子类型”，不需要强制继承某个接口。"
   ]
  },
  {
   "cell_type": "code",
   "execution_count": 15,
   "metadata": {},
   "outputs": [],
   "source": [
    "# __getattr__\n",
    "# 正常情况下，当我们调用类的方法或属性时，如果不存在，就会报错。比如定义Student类：\n",
    "class Student(object):\n",
    "    def __init__(self):\n",
    "        self.name = 'Michael'"
   ]
  },
  {
   "cell_type": "code",
   "execution_count": null,
   "metadata": {},
   "outputs": [
    {
     "name": "stdout",
     "output_type": "stream",
     "text": [
      "Michael\n"
     ]
    },
    {
     "ename": "AttributeError",
     "evalue": "'Student' object has no attribute 'score'",
     "output_type": "error",
     "traceback": [
      "\u001b[1;31m---------------------------------------------------------------------------\u001b[0m",
      "\u001b[1;31mAttributeError\u001b[0m                            Traceback (most recent call last)",
      "Cell \u001b[1;32mIn[16], line 4\u001b[0m\n\u001b[0;32m      2\u001b[0m s \u001b[38;5;241m=\u001b[39m Student()\n\u001b[0;32m      3\u001b[0m \u001b[38;5;28mprint\u001b[39m(s\u001b[38;5;241m.\u001b[39mname)\n\u001b[1;32m----> 4\u001b[0m \u001b[38;5;28mprint\u001b[39m(\u001b[43ms\u001b[49m\u001b[38;5;241;43m.\u001b[39;49m\u001b[43mscore\u001b[49m)\n",
      "\u001b[1;31mAttributeError\u001b[0m: 'Student' object has no attribute 'score'"
     ]
    }
   ],
   "source": [
    "# 调用name属性，没问题，但是，调用不存在的score属性，就有问题了：\n",
    "s = Student()\n",
    "print(s.name)\n",
    "print(s.score)\n",
    "# 错误信息很清楚地告诉我们，没有找到score这个attribute。"
   ]
  },
  {
   "cell_type": "code",
   "execution_count": 19,
   "metadata": {},
   "outputs": [
    {
     "name": "stdout",
     "output_type": "stream",
     "text": [
      "Michael\n",
      "99\n",
      "99\n"
     ]
    }
   ],
   "source": [
    "# 要避免这个错误，除了可以加上一个score属性外，Python还有另一个机制，那就是写一个__getattr__()方法，动态返回一个属性。修改如下：\n",
    "class Student(object):\n",
    "    def __init__(self):\n",
    "        self.name = 'Michael'\n",
    "\n",
    "    def __getattr__(self, attr):\n",
    "        return 99\n",
    "\n",
    "# 当调用不存在的属性时，比如score，Python解释器会试图调用__getattr__(self, 'score')来尝试获得属性，这样，我们就有机会返回score的值：\n",
    "s = Student()\n",
    "print(s.name)\n",
    "print(s.score)\n",
    "print(s.play)\n"
   ]
  },
  {
   "cell_type": "code",
   "execution_count": 20,
   "metadata": {},
   "outputs": [
    {
     "name": "stdout",
     "output_type": "stream",
     "text": [
      "25\n"
     ]
    }
   ],
   "source": [
    "# 返回函数也是完全可以的：\n",
    "class Student(object):\n",
    "    def __getattr__(self, attr):\n",
    "        if attr=='age':\n",
    "            return lambda: 25\n",
    "        \n",
    "s = Student()\n",
    "print(s.age())"
   ]
  },
  {
   "cell_type": "code",
   "execution_count": 21,
   "metadata": {},
   "outputs": [],
   "source": [
    "# 注意，只有在没有找到属性的情况下，才调用__getattr__，已有的属性，比如name，不会在__getattr__中查找。\n",
    "# 此外，注意到任意调用如s.abc都会返回None，这是因为我们定义的__getattr__默认返回就是None。\n",
    "# 要让class只响应特定的几个属性，我们就要按照约定，抛出AttributeError的错误：\n",
    "class Student(object):\n",
    "    def __getattr__(self, attr):\n",
    "        if attr=='age':\n",
    "            return lambda: 25\n",
    "        raise AttributeError('\\'Student\\' object has no attribute \\'%s\\'' % attr)"
   ]
  },
  {
   "cell_type": "code",
   "execution_count": null,
   "metadata": {},
   "outputs": [
    {
     "data": {
      "text/plain": [
       "/status/user/timeline/list"
      ]
     },
     "execution_count": 22,
     "metadata": {},
     "output_type": "execute_result"
    }
   ],
   "source": [
    "# 这实际上可以把一个类的所有属性和方法调用全部动态化处理了，不需要任何特殊手段。\n",
    "\n",
    "# 这种完全动态调用的特性有什么实际作用呢？作用就是，可以针对完全动态的情况作调用。\n",
    "\n",
    "# 举个例子：\n",
    "\n",
    "# 现在很多网站都搞REST API，比如新浪微博、豆瓣啥的，调用API的URL类似：\n",
    "\n",
    "# http://api.server/user/friends\n",
    "# http://api.server/user/timeline/list\n",
    "# 如果要写SDK，给每个URL对应的API都写一个方法，那得累死，而且，API一旦改动，SDK也要改。\n",
    "\n",
    "# 利用完全动态的__getattr__，我们可以写出一个链式调用：\n",
    "class Chain(object):\n",
    "    def __init__(self, path=''):\n",
    "        self._path = path\n",
    "\n",
    "    def __getattr__(self, path):\n",
    "        return Chain('%s/%s' % (self._path, path))\n",
    "\n",
    "    def __str__(self):\n",
    "        return self._path\n",
    "\n",
    "    __repr__ = __str__\n",
    "\n",
    "Chain().status.user.timeline.list\n",
    "\n",
    "# 这样，无论API怎么变，SDK都可以根据URL实现完全动态的调用，而且，不随API的增加而改变！\n",
    "# 还有些REST API会把参数放到URL中，比如GitHub的API："
   ]
  },
  {
   "cell_type": "code",
   "execution_count": 23,
   "metadata": {},
   "outputs": [
    {
     "ename": "TypeError",
     "evalue": "'Chain' object is not callable",
     "output_type": "error",
     "traceback": [
      "\u001b[1;31m---------------------------------------------------------------------------\u001b[0m",
      "\u001b[1;31mTypeError\u001b[0m                                 Traceback (most recent call last)",
      "Cell \u001b[1;32mIn[23], line 4\u001b[0m\n\u001b[0;32m      1\u001b[0m \u001b[38;5;66;03m# 还有些REST API会把参数放到URL中，比如GitHub的API：\u001b[39;00m\n\u001b[0;32m      2\u001b[0m \u001b[38;5;66;03m# GET /users/:user/repos\u001b[39;00m\n\u001b[0;32m      3\u001b[0m \u001b[38;5;66;03m# 调用时，需要把:user替换为实际用户名。如果我们能写出这样的链式调用：\u001b[39;00m\n\u001b[1;32m----> 4\u001b[0m \u001b[43mChain\u001b[49m\u001b[43m(\u001b[49m\u001b[43m)\u001b[49m\u001b[38;5;241;43m.\u001b[39;49m\u001b[43musers\u001b[49m\u001b[43m(\u001b[49m\u001b[38;5;124;43m'\u001b[39;49m\u001b[38;5;124;43mmichael\u001b[39;49m\u001b[38;5;124;43m'\u001b[39;49m\u001b[43m)\u001b[49m\u001b[38;5;241m.\u001b[39mrepos\n",
      "\u001b[1;31mTypeError\u001b[0m: 'Chain' object is not callable"
     ]
    }
   ],
   "source": [
    "\n",
    "# 还有些REST API会把参数放到URL中，比如GitHub的API：\n",
    "# GET /users/:user/repos\n",
    "# 调用时，需要把:user替换为实际用户名。如果我们能写出这样的链式调用：\n",
    "Chain().users('michael').repos"
   ]
  },
  {
   "cell_type": "code",
   "execution_count": null,
   "metadata": {},
   "outputs": [
    {
     "name": "stdout",
     "output_type": "stream",
     "text": [
      "/users/michael/repos\n"
     ]
    }
   ],
   "source": [
    "class Chain(object):\n",
    "    def __init__(self, path=''):\n",
    "        self._path = path\n",
    "\n",
    "    def __call__(self, *args, **kwargs):\n",
    "        if args:\n",
    "            return Chain('%s/%s' % (self._path, '/'.join(map(str, args))))\n",
    "        elif kwargs:\n",
    "            return Chain('%s/%s' % (self._path, '/'.join(kwargs.keys())))\n",
    "        else:\n",
    "            raise TypeError(\"Chain() missing 1 required positional argument\")\n",
    "\n",
    "    def __getattr__(self, path):\n",
    "        return Chain('%s/%s' % (self._path, path))\n",
    "\n",
    "    def __str__(self):\n",
    "        return self._path\n",
    "\n",
    "    __repr__ = __str__\n",
    "\n",
    "# 使用示例\n",
    "chain = Chain()\n",
    "print(chain.users('michael').repos)  # 输出: users/michael/repos\n",
    "\n",
    "# 当尝试访问一个不存在的属性时，Python 会调用 __getattr__ 方法。\n",
    "# 在这个方法中，path 是被访问的属性名。\n",
    "# 每次调用时，它会创建一个新的 Chain 实例，并将当前路径与新路径拼接，用 / 分隔。\n",
    "# 例如，chain.users 会触发 __getattr__，将 self._path（初始为空）与 'users' 拼接，返回一个新的 Chain 实例，其路径为 'users'。\n",
    "\n",
    "# 当实例被当作函数调用时（例如 chain.users('michael')），Python 会调用 __call__ 方法。\n",
    "# 这个方法支持两种调用方式：\n",
    "# 位置参数（args）：将所有位置参数转换为字符串并用 / 拼接，然后与当前路径拼接。\n",
    "# 关键字参数（kwargs）：将关键字参数的键（keys()）用 / 拼接，然后与当前路径拼接。\n",
    "# 如果没有提供任何参数，则抛出 TypeError。\n",
    "\n",
    "# __str__ 方法定义了对象的字符串表示形式，返回当前路径 self._path。\n",
    "# __repr__ 方法通常用于调试，这里将其设置为与 __str__ 相同，确保在交互式环境中打印对象时也能显示路径。"
   ]
  },
  {
   "cell_type": "code",
   "execution_count": 1,
   "metadata": {},
   "outputs": [
    {
     "name": "stdout",
     "output_type": "stream",
     "text": [
      "My name is Michel.\n"
     ]
    }
   ],
   "source": [
    "# __call__\n",
    "# 一个对象实例可以有自己的属性和方法，\n",
    "# 当我们调用实例方法时，我们用instance.method()来调用。能不能直接在实例本身上调用呢？在Python中，答案是肯定的。\n",
    "# 任何类，只需要定义一个__call__()方法，就可以直接对实例进行调用。请看示例：\n",
    "class Student(object):\n",
    "    def __init__(self, name):\n",
    "        self.name = name\n",
    "\n",
    "    def __call__(self):\n",
    "        print('My name is %s.' % self.name)\n",
    "\n",
    "s = Student('Michel')\n",
    "s()"
   ]
  },
  {
   "cell_type": "code",
   "execution_count": null,
   "metadata": {},
   "outputs": [
    {
     "name": "stdout",
     "output_type": "stream",
     "text": [
      "True\n",
      "True\n",
      "False\n",
      "False\n",
      "False\n"
     ]
    }
   ],
   "source": [
    "# __call__()还可以定义参数。\n",
    "# 对实例进行直接调用就好比对一个函数进行调用一样，所以你完全可以把对象看成函数，\n",
    "# 把函数看成对象，因为这两者之间本来就没啥根本的区别。\n",
    "\n",
    "# 如果你把对象看成函数，那么函数本身其实也可以在运行期动态创建出来，\n",
    "# 因为类的实例都是运行期创建出来的，这么一来，我们就模糊了对象和函数的界限。\n",
    "\n",
    "# 那么，怎么判断一个变量是对象还是函数呢？其实，更多的时候，我们需要判断一个对象是否能被调用，\n",
    "# 能被调用的对象就是一个Callable对象，比如函数和我们上面定义的带有__call__()的类实例：\n",
    "\n",
    "print(callable(Student('Michel')))\n",
    "\n",
    "print(callable(max))\n",
    "\n",
    "print(callable([1, 2, 3]))\n",
    "\n",
    "print(callable(None))\n",
    "\n",
    "print(callable('str'))\n",
    "\n",
    "# 通过callable()函数，我们就可以判断一个对象是否是“可调用”对象。"
   ]
  },
  {
   "cell_type": "code",
   "execution_count": null,
   "metadata": {},
   "outputs": [],
   "source": [
    "# 小结\n",
    "# Python的class允许定义许多定制方法，可以让我们非常方便地生成特定的类。\n",
    "# 本节介绍的是最常用的几个定制方法，还有很多可定制的方法，请参考Python的官方文档。"
   ]
  }
 ],
 "metadata": {
  "kernelspec": {
   "display_name": "homework",
   "language": "python",
   "name": "python3"
  },
  "language_info": {
   "codemirror_mode": {
    "name": "ipython",
    "version": 3
   },
   "file_extension": ".py",
   "mimetype": "text/x-python",
   "name": "python",
   "nbconvert_exporter": "python",
   "pygments_lexer": "ipython3",
   "version": "3.10.16"
  }
 },
 "nbformat": 4,
 "nbformat_minor": 2
}
