{
 "cells": [
  {
   "cell_type": "code",
   "execution_count": 1,
   "id": "3eac1cba",
   "metadata": {},
   "outputs": [],
   "source": [
    "# Email的历史比Web还要久远，直到现在，Email也是互联网上应用非常广泛的服务。\n",
    "# 几乎所有的编程语言都支持发送和接收电子邮件，但是，先等等，在我们开始编写代码之前，有必要搞清楚电子邮件是如何在互联网上运作的。\n",
    "# 我们来看看传统邮件是如何运作的。假设你现在在北京，要给一个香港的朋友发一封信，怎么做呢？\n",
    "# 首先你得写好信，装进信封，写上地址，贴上邮票，然后就近找个邮局，把信仍进去。\n",
    "# 信件会从就近的小邮局转运到大邮局，再从大邮局往别的城市发，\n",
    "# 比如先发到天津，再走海运到达香港，也可能走京九线到香港，但是你不用关心具体路线，\n",
    "# 你只需要知道一件事，就是信件走得很慢，至少要几天时间。\n",
    "# 信件到达香港的某个邮局，也不会直接送到朋友的家里，因为邮局的叔叔是很聪明的，\n",
    "# 他怕你的朋友不在家，一趟一趟地白跑，所以，信件会投递到你的朋友的邮箱里，\n",
    "# 邮箱可能在公寓的一层，或者家门口，直到你的朋友回家的时候检查邮箱，发现信件后，就可以取到邮件了。\n",
    "# 电子邮件的流程基本上也是按上面的方式运作的，只不过速度不是按天算，而是按秒算。\n",
    "# 现在我们回到电子邮件，假设我们自己的电子邮件地址是me@163.com，\n",
    "# 对方的电子邮件地址是friend@sina.com（注意地址都是虚构的哈），\n",
    "# 现在我们用Outlook或者Foxmail之类的软件写好邮件，填上对方的Email地址，\n",
    "# 点“发送”，电子邮件就发出去了。这些电子邮件软件被称为MUA：Mail User Agent——邮件用户代理。\n",
    "\n",
    "# Email从MUA发出去，不是直接到达对方电脑，\n",
    "# 而是发到MTA：Mail Transfer Agent——邮件传输代理，\n",
    "# 就是那些Email服务提供商，比如网易、新浪等等。由于我们自己的电子邮件是163.com，\n",
    "# 所以，Email首先被投递到网易提供的MTA，再由网易的MTA发到对方服务商，也就是新浪的MTA。\n",
    "# 这个过程中间可能还会经过别的MTA，但是我们不关心具体路线，我们只关心速度。\n",
    "\n",
    "# Email到达新浪的MTA后，由于对方使用的是@sina.com的邮箱，\n",
    "# 因此，新浪的MTA会把Email投递到邮件的最终目的地MDA：\n",
    "# Mail Delivery Agent——邮件投递代理。Email到达MDA后，\n",
    "# 就静静地躺在新浪的某个服务器上，存放在某个文件或特殊的数据库里，我们将这个长期保存邮件的地方称之为电子邮箱。\n",
    "# 同普通邮件类似，Email不会直接到达对方的电脑，因为对方电脑不一定开机，开机也不一定联网。\n",
    "# 对方要取到邮件，必须通过MUA从MDA上把邮件取到自己的电脑上。\n",
    "\n",
    "# 所以，一封电子邮件的旅程就是：\n",
    "\n",
    "# 发件人 -> MUA -> MTA -> MTA -> 若干个MTA -> MDA <- MUA <- 收件人"
   ]
  },
  {
   "cell_type": "code",
   "execution_count": null,
   "id": "73a02699",
   "metadata": {},
   "outputs": [],
   "source": [
    "# 有了上述基本概念，要编写程序来发送和接收邮件，本质上就是：\n",
    "\n",
    "# 编写MUA把邮件发到MTA；\n",
    "# 编写MUA从MDA上收邮件。\n",
    "\n",
    "# 发邮件时，MUA和MTA使用的协议就是SMTP：Simple Mail Transfer Protocol，后面的MTA到另一个MTA也是用SMTP协议。\n",
    "\n",
    "# 收邮件时，MUA和MDA使用的协议有两种：POP：Post Office Protocol，目前版本是3，俗称POP3；\n",
    "# IMAP：Internet Message Access Protocol，目前版本是4，\n",
    "# 优点是不但能取邮件，还可以直接操作MDA上存储的邮件，比如从收件箱移到垃圾箱，等等。\n",
    "\n",
    "# 邮件客户端软件在发邮件时，会让你先配置SMTP服务器，也就是你要发到哪个MTA上。\n",
    "# 假设你正在使用163的邮箱，你就不能直接发到新浪的MTA上，因为它只服务新浪的用户，\n",
    "# 所以，你得填163提供的SMTP服务器地址：smtp.163.com，为了证明你是163的用户，\n",
    "# SMTP服务器还要求你填写邮箱地址和邮箱口令，这样，MUA才能正常地把Email通过SMTP协议发送到MTA。\n",
    "\n",
    "# 类似的，从MDA收邮件时，MDA服务器也要求验证你的邮箱口令，确保不会有人冒充你收取你的邮件，\n",
    "# 所以，Outlook之类的邮件客户端会要求你填写POP3或IMAP服务器地址、邮箱地址和口令，\n",
    "# 这样，MUA才能顺利地通过POP或IMAP协议从MDA取到邮件。\n",
    "\n",
    "# 在使用Python收发邮件前，请先准备好至少两个电子邮件，\n",
    "# 如xxx@163.com，xxx@sina.com，xxx@qq.com等，注意两个邮箱不要用同一家邮件服务商。\n",
    "\n",
    "# 最后特别注意，目前大多数邮件服务商都需要手动打开SMTP发信和POP收信的功能，否则只允许在网页登录：\n"
   ]
  },
  {
   "cell_type": "code",
   "execution_count": 3,
   "id": "0e09c66d",
   "metadata": {},
   "outputs": [],
   "source": [
    "# SMTP是发送邮件的协议，Python内置对SMTP的支持，可以发送纯文本邮件、HTML邮件以及带附件的邮件。\n",
    "# Python对SMTP支持有smtplib和email两个模块，email负责构造邮件，smtplib负责发送邮件。\n",
    "# 首先，我们来构造一个最简单的纯文本邮件：\n",
    "\n",
    "from email.mime.text import MIMEText\n",
    "msg = MIMEText('hello, send by Python...', 'plain', 'utf-8')"
   ]
  },
  {
   "cell_type": "code",
   "execution_count": 4,
   "id": "cb12f33c",
   "metadata": {},
   "outputs": [
    {
     "name": "stderr",
     "output_type": "stream",
     "text": [
      "send: 'ehlo [127.0.1.1]\\r\\n'\n"
     ]
    },
    {
     "ename": "SMTPServerDisconnected",
     "evalue": "please run connect() first",
     "output_type": "error",
     "traceback": [
      "\u001b[0;31m---------------------------------------------------------------------------\u001b[0m",
      "\u001b[0;31mSMTPServerDisconnected\u001b[0m                    Traceback (most recent call last)",
      "Cell \u001b[0;32mIn[4], line 16\u001b[0m\n\u001b[1;32m     14\u001b[0m server \u001b[38;5;241m=\u001b[39m smtplib\u001b[38;5;241m.\u001b[39mSMTP(smtp_server, \u001b[38;5;241m25\u001b[39m) \u001b[38;5;66;03m# SMTP协议默认端口是25\u001b[39;00m\n\u001b[1;32m     15\u001b[0m server\u001b[38;5;241m.\u001b[39mset_debuglevel(\u001b[38;5;241m1\u001b[39m)\n\u001b[0;32m---> 16\u001b[0m \u001b[43mserver\u001b[49m\u001b[38;5;241;43m.\u001b[39;49m\u001b[43mlogin\u001b[49m\u001b[43m(\u001b[49m\u001b[43mfrom_addr\u001b[49m\u001b[43m,\u001b[49m\u001b[43m \u001b[49m\u001b[43mpassword\u001b[49m\u001b[43m)\u001b[49m\n\u001b[1;32m     17\u001b[0m server\u001b[38;5;241m.\u001b[39msendmail(from_addr, [to_addr], msg\u001b[38;5;241m.\u001b[39mas_string())\n\u001b[1;32m     18\u001b[0m server\u001b[38;5;241m.\u001b[39mquit()\n",
      "File \u001b[0;32m~/miniforge3/envs/personal/lib/python3.10/smtplib.py:714\u001b[0m, in \u001b[0;36mSMTP.login\u001b[0;34m(self, user, password, initial_response_ok)\u001b[0m\n\u001b[1;32m    686\u001b[0m \u001b[38;5;28;01mdef\u001b[39;00m\u001b[38;5;250m \u001b[39m\u001b[38;5;21mlogin\u001b[39m(\u001b[38;5;28mself\u001b[39m, user, password, \u001b[38;5;241m*\u001b[39m, initial_response_ok\u001b[38;5;241m=\u001b[39m\u001b[38;5;28;01mTrue\u001b[39;00m):\n\u001b[1;32m    687\u001b[0m \u001b[38;5;250m    \u001b[39m\u001b[38;5;124;03m\"\"\"Log in on an SMTP server that requires authentication.\u001b[39;00m\n\u001b[1;32m    688\u001b[0m \n\u001b[1;32m    689\u001b[0m \u001b[38;5;124;03m    The arguments are:\u001b[39;00m\n\u001b[0;32m   (...)\u001b[0m\n\u001b[1;32m    711\u001b[0m \u001b[38;5;124;03m                              found.\u001b[39;00m\n\u001b[1;32m    712\u001b[0m \u001b[38;5;124;03m    \"\"\"\u001b[39;00m\n\u001b[0;32m--> 714\u001b[0m     \u001b[38;5;28;43mself\u001b[39;49m\u001b[38;5;241;43m.\u001b[39;49m\u001b[43mehlo_or_helo_if_needed\u001b[49m\u001b[43m(\u001b[49m\u001b[43m)\u001b[49m\n\u001b[1;32m    715\u001b[0m     \u001b[38;5;28;01mif\u001b[39;00m \u001b[38;5;129;01mnot\u001b[39;00m \u001b[38;5;28mself\u001b[39m\u001b[38;5;241m.\u001b[39mhas_extn(\u001b[38;5;124m\"\u001b[39m\u001b[38;5;124mauth\u001b[39m\u001b[38;5;124m\"\u001b[39m):\n\u001b[1;32m    716\u001b[0m         \u001b[38;5;28;01mraise\u001b[39;00m SMTPNotSupportedError(\n\u001b[1;32m    717\u001b[0m             \u001b[38;5;124m\"\u001b[39m\u001b[38;5;124mSMTP AUTH extension not supported by server.\u001b[39m\u001b[38;5;124m\"\u001b[39m)\n",
      "File \u001b[0;32m~/miniforge3/envs/personal/lib/python3.10/smtplib.py:611\u001b[0m, in \u001b[0;36mSMTP.ehlo_or_helo_if_needed\u001b[0;34m(self)\u001b[0m\n\u001b[1;32m    600\u001b[0m \u001b[38;5;250m\u001b[39m\u001b[38;5;124;03m\"\"\"Call self.ehlo() and/or self.helo() if needed.\u001b[39;00m\n\u001b[1;32m    601\u001b[0m \n\u001b[1;32m    602\u001b[0m \u001b[38;5;124;03mIf there has been no previous EHLO or HELO command this session, this\u001b[39;00m\n\u001b[0;32m   (...)\u001b[0m\n\u001b[1;32m    608\u001b[0m \u001b[38;5;124;03m                          the helo greeting.\u001b[39;00m\n\u001b[1;32m    609\u001b[0m \u001b[38;5;124;03m\"\"\"\u001b[39;00m\n\u001b[1;32m    610\u001b[0m \u001b[38;5;28;01mif\u001b[39;00m \u001b[38;5;28mself\u001b[39m\u001b[38;5;241m.\u001b[39mhelo_resp \u001b[38;5;129;01mis\u001b[39;00m \u001b[38;5;28;01mNone\u001b[39;00m \u001b[38;5;129;01mand\u001b[39;00m \u001b[38;5;28mself\u001b[39m\u001b[38;5;241m.\u001b[39mehlo_resp \u001b[38;5;129;01mis\u001b[39;00m \u001b[38;5;28;01mNone\u001b[39;00m:\n\u001b[0;32m--> 611\u001b[0m     \u001b[38;5;28;01mif\u001b[39;00m \u001b[38;5;129;01mnot\u001b[39;00m (\u001b[38;5;241m200\u001b[39m \u001b[38;5;241m<\u001b[39m\u001b[38;5;241m=\u001b[39m \u001b[38;5;28;43mself\u001b[39;49m\u001b[38;5;241;43m.\u001b[39;49m\u001b[43mehlo\u001b[49m\u001b[43m(\u001b[49m\u001b[43m)\u001b[49m[\u001b[38;5;241m0\u001b[39m] \u001b[38;5;241m<\u001b[39m\u001b[38;5;241m=\u001b[39m \u001b[38;5;241m299\u001b[39m):\n\u001b[1;32m    612\u001b[0m         (code, resp) \u001b[38;5;241m=\u001b[39m \u001b[38;5;28mself\u001b[39m\u001b[38;5;241m.\u001b[39mhelo()\n\u001b[1;32m    613\u001b[0m         \u001b[38;5;28;01mif\u001b[39;00m \u001b[38;5;129;01mnot\u001b[39;00m (\u001b[38;5;241m200\u001b[39m \u001b[38;5;241m<\u001b[39m\u001b[38;5;241m=\u001b[39m code \u001b[38;5;241m<\u001b[39m\u001b[38;5;241m=\u001b[39m \u001b[38;5;241m299\u001b[39m):\n",
      "File \u001b[0;32m~/miniforge3/envs/personal/lib/python3.10/smtplib.py:451\u001b[0m, in \u001b[0;36mSMTP.ehlo\u001b[0;34m(self, name)\u001b[0m\n\u001b[1;32m    446\u001b[0m \u001b[38;5;250m\u001b[39m\u001b[38;5;124;03m\"\"\" SMTP 'ehlo' command.\u001b[39;00m\n\u001b[1;32m    447\u001b[0m \u001b[38;5;124;03mHostname to send for this command defaults to the FQDN of the local\u001b[39;00m\n\u001b[1;32m    448\u001b[0m \u001b[38;5;124;03mhost.\u001b[39;00m\n\u001b[1;32m    449\u001b[0m \u001b[38;5;124;03m\"\"\"\u001b[39;00m\n\u001b[1;32m    450\u001b[0m \u001b[38;5;28mself\u001b[39m\u001b[38;5;241m.\u001b[39mesmtp_features \u001b[38;5;241m=\u001b[39m {}\n\u001b[0;32m--> 451\u001b[0m \u001b[38;5;28;43mself\u001b[39;49m\u001b[38;5;241;43m.\u001b[39;49m\u001b[43mputcmd\u001b[49m\u001b[43m(\u001b[49m\u001b[38;5;28;43mself\u001b[39;49m\u001b[38;5;241;43m.\u001b[39;49m\u001b[43mehlo_msg\u001b[49m\u001b[43m,\u001b[49m\u001b[43m \u001b[49m\u001b[43mname\u001b[49m\u001b[43m \u001b[49m\u001b[38;5;129;43;01mor\u001b[39;49;00m\u001b[43m \u001b[49m\u001b[38;5;28;43mself\u001b[39;49m\u001b[38;5;241;43m.\u001b[39;49m\u001b[43mlocal_hostname\u001b[49m\u001b[43m)\u001b[49m\n\u001b[1;32m    452\u001b[0m (code, msg) \u001b[38;5;241m=\u001b[39m \u001b[38;5;28mself\u001b[39m\u001b[38;5;241m.\u001b[39mgetreply()\n\u001b[1;32m    453\u001b[0m \u001b[38;5;66;03m# According to RFC1869 some (badly written)\u001b[39;00m\n\u001b[1;32m    454\u001b[0m \u001b[38;5;66;03m# MTA's will disconnect on an ehlo. Toss an exception if\u001b[39;00m\n\u001b[1;32m    455\u001b[0m \u001b[38;5;66;03m# that happens -ddm\u001b[39;00m\n",
      "File \u001b[0;32m~/miniforge3/envs/personal/lib/python3.10/smtplib.py:378\u001b[0m, in \u001b[0;36mSMTP.putcmd\u001b[0;34m(self, cmd, args)\u001b[0m\n\u001b[1;32m    374\u001b[0m     s \u001b[38;5;241m=\u001b[39m s\u001b[38;5;241m.\u001b[39mreplace(\u001b[38;5;124m'\u001b[39m\u001b[38;5;130;01m\\n\u001b[39;00m\u001b[38;5;124m'\u001b[39m, \u001b[38;5;124m'\u001b[39m\u001b[38;5;130;01m\\\\\u001b[39;00m\u001b[38;5;124mn\u001b[39m\u001b[38;5;124m'\u001b[39m)\u001b[38;5;241m.\u001b[39mreplace(\u001b[38;5;124m'\u001b[39m\u001b[38;5;130;01m\\r\u001b[39;00m\u001b[38;5;124m'\u001b[39m, \u001b[38;5;124m'\u001b[39m\u001b[38;5;130;01m\\\\\u001b[39;00m\u001b[38;5;124mr\u001b[39m\u001b[38;5;124m'\u001b[39m)\n\u001b[1;32m    375\u001b[0m     \u001b[38;5;28;01mraise\u001b[39;00m \u001b[38;5;167;01mValueError\u001b[39;00m(\n\u001b[1;32m    376\u001b[0m         \u001b[38;5;124mf\u001b[39m\u001b[38;5;124m'\u001b[39m\u001b[38;5;124mcommand and arguments contain prohibited newline characters: \u001b[39m\u001b[38;5;132;01m{\u001b[39;00ms\u001b[38;5;132;01m}\u001b[39;00m\u001b[38;5;124m'\u001b[39m\n\u001b[1;32m    377\u001b[0m     )\n\u001b[0;32m--> 378\u001b[0m \u001b[38;5;28;43mself\u001b[39;49m\u001b[38;5;241;43m.\u001b[39;49m\u001b[43msend\u001b[49m\u001b[43m(\u001b[49m\u001b[38;5;124;43mf\u001b[39;49m\u001b[38;5;124;43m'\u001b[39;49m\u001b[38;5;132;43;01m{\u001b[39;49;00m\u001b[43ms\u001b[49m\u001b[38;5;132;43;01m}\u001b[39;49;00m\u001b[38;5;132;43;01m{\u001b[39;49;00m\u001b[43mCRLF\u001b[49m\u001b[38;5;132;43;01m}\u001b[39;49;00m\u001b[38;5;124;43m'\u001b[39;49m\u001b[43m)\u001b[49m\n",
      "File \u001b[0;32m~/miniforge3/envs/personal/lib/python3.10/smtplib.py:365\u001b[0m, in \u001b[0;36mSMTP.send\u001b[0;34m(self, s)\u001b[0m\n\u001b[1;32m    363\u001b[0m         \u001b[38;5;28;01mraise\u001b[39;00m SMTPServerDisconnected(\u001b[38;5;124m'\u001b[39m\u001b[38;5;124mServer not connected\u001b[39m\u001b[38;5;124m'\u001b[39m)\n\u001b[1;32m    364\u001b[0m \u001b[38;5;28;01melse\u001b[39;00m:\n\u001b[0;32m--> 365\u001b[0m     \u001b[38;5;28;01mraise\u001b[39;00m SMTPServerDisconnected(\u001b[38;5;124m'\u001b[39m\u001b[38;5;124mplease run connect() first\u001b[39m\u001b[38;5;124m'\u001b[39m)\n",
      "\u001b[0;31mSMTPServerDisconnected\u001b[0m: please run connect() first"
     ]
    }
   ],
   "source": [
    "# 注意到构造MIMEText对象时，第一个参数就是邮件正文，第二个参数是MIME的subtype，\n",
    "# 传入'plain'表示纯文本，最终的MIME就是'text/plain'，最后一定要用utf-8编码保证多语言兼容性。\n",
    "# 然后，通过SMTP发出去：\n",
    "\n",
    "# 输入Email地址和口令:\n",
    "from_addr = input('From: ')\n",
    "password = input('Password: ')\n",
    "# 输入收件人地址:\n",
    "to_addr = input('To: ')\n",
    "# 输入SMTP服务器地址:\n",
    "smtp_server = input('SMTP server: ')\n",
    "\n",
    "import smtplib\n",
    "server = smtplib.SMTP(smtp_server, 25) # SMTP协议默认端口是25\n",
    "server.set_debuglevel(1)\n",
    "server.login(from_addr, password)\n",
    "server.sendmail(from_addr, [to_addr], msg.as_string())\n",
    "server.quit()"
   ]
  },
  {
   "cell_type": "code",
   "execution_count": 5,
   "id": "8051fdb8",
   "metadata": {},
   "outputs": [],
   "source": [
    "# 我们用set_debuglevel(1)就可以打印出和SMTP服务器交互的所有信息。\n",
    "# SMTP协议就是简单的文本命令和响应。\n",
    "# login()方法用来登录SMTP服务器，sendmail()方法就是发邮件，\n",
    "# 由于可以一次发给多个人，所以传入一个list，邮件正文是一个str，as_string()把MIMEText对象变成str。\n",
    "\n",
    "# 如果一切顺利，就可以在收件人信箱中收到我们刚发送的Email：\n",
    "\n",
    "# 仔细观察，发现如下问题：\n",
    "\n",
    "# 邮件没有主题；\n",
    "# 收件人的名字没有显示为友好的名字，比如Mr Green <green@example.com>；\n",
    "# 明明收到了邮件，却提示不在收件人中。\n",
    "# 这是因为邮件主题、如何显示发件人、收件人等信息并不是通过SMTP协议发给MTA，而是包含在发给MTA的文本中的，\n",
    "# 所以，我们必须把From、To和Subject添加到MIMEText中，才是一封完整的邮件："
   ]
  },
  {
   "cell_type": "code",
   "execution_count": null,
   "id": "4001ccc6",
   "metadata": {},
   "outputs": [],
   "source": [
    "from email import encoders\n",
    "from email.header import Header\n",
    "from email.mime.text import MIMEText\n",
    "from email.utils import parseaddr, formataddr\n",
    "\n",
    "import smtplib\n",
    "    \n",
    "def _format_addr(s):\n",
    "    name, addr = parseaddr(s)\n",
    "    return formataddr((Header(name, 'utf-8').encode(), addr))\n",
    "\n",
    "from_addr = input('From: ')\n",
    "password = input('Password: ')\n",
    "to_addr = input('To: ')\n",
    "smtp_server = input('SMTP server: ')\n",
    "\n",
    "msg = MIMEText('hello, send by Python...', 'plain', 'utf-8')\n",
    "msg['From'] = _format_addr('Python爱好者 <%s>' % from_addr)\n",
    "msg['To'] = _format_addr('管理员 <%s>' % to_addr)\n",
    "msg['Subject'] = Header('来自SMTP的问候……', 'utf-8').encode()\n",
    "    \n",
    "server = smtplib.SMTP(smtp_server, 25)\n",
    "server.set_debuglevel(1)\n",
    "server.login(from_addr, password)\n",
    "server.sendmail(from_addr, [to_addr], msg.as_string())\n",
    "server.quit()"
   ]
  },
  {
   "cell_type": "code",
   "execution_count": 6,
   "id": "0d1f36ee",
   "metadata": {},
   "outputs": [],
   "source": [
    "# 我们编写了一个函数_format_addr()来格式化一个邮件地址。\n",
    "# 注意不能简单地传入name <addr@example.com>，因为如果包含中文，需要通过Header对象进行编码。\n",
    "\n",
    "# msg['To']接收的是字符串而不是list，如果有多个邮件地址，用,分隔即可。\n",
    "# 再发送一遍邮件，就可以在收件人邮箱中看到正确的标题、发件人和收件人：\n",
    "\n",
    "# 你看到的收件人的名字很可能不是我们传入的管理员，因为很多邮件服务商在显示邮件时，\n",
    "# 会把收件人名字自动替换为用户注册的名字，但是其他收件人名字的显示不受影响。\n",
    "\n",
    "# 如果我们查看Email的原始内容，可以看到如下经过编码的邮件头："
   ]
  },
  {
   "cell_type": "code",
   "execution_count": 7,
   "id": "43a5224e",
   "metadata": {},
   "outputs": [],
   "source": [
    "# 这就是经过Header对象编码的文本，包含utf-8编码信息和Base64编码的文本。如果我们自己来手动构造这样的编码文本，显然比较复杂。\n",
    "\n",
    "# 发送HTML邮件\n",
    "# 如果我们要发送HTML邮件，而不是普通的纯文本文件怎么办？\n",
    "# 方法很简单，在构造MIMEText对象时，把HTML字符串传进去，再把第二个参数由plain变为html就可以了："
   ]
  },
  {
   "cell_type": "code",
   "execution_count": 8,
   "id": "4917630e",
   "metadata": {},
   "outputs": [],
   "source": [
    "# msg = MIMEText('<html><body><h1>Hello</h1>' +\n",
    "#     '<p>send by <a href=\"http://www.python.org\">Python</a>...</p>' +\n",
    "#     '</body></html>', 'html', 'utf-8')\n",
    "\n",
    "# 再发送一遍邮件，你将看到以HTML显示的邮件："
   ]
  },
  {
   "cell_type": "code",
   "execution_count": null,
   "id": "991c810e",
   "metadata": {},
   "outputs": [],
   "source": [
    "# 发送附件\n",
    "# 如果Email中要加上附件怎么办？带附件的邮件可以看做包含若干部分的邮件：\n",
    "# 文本和各个附件本身，所以，可以构造一个MIMEMultipart对象代表邮件本身，\n",
    "# 然后往里面加上一个MIMEText作为邮件正文，再继续往里面加上表示附件的MIMEBase对象即可：\n",
    "\n",
    "# 邮件对象:\n",
    "msg = MIMEMultipart()\n",
    "msg['From'] = _format_addr('Python爱好者 <%s>' % from_addr)\n",
    "msg['To'] = _format_addr('管理员 <%s>' % to_addr)\n",
    "msg['Subject'] = Header('来自SMTP的问候……', 'utf-8').encode()\n",
    "\n",
    "# 邮件正文是MIMEText:\n",
    "msg.attach(MIMEText('send with file...', 'plain', 'utf-8'))\n",
    "\n",
    "# 添加附件就是加上一个MIMEBase，从本地读取一个图片:\n",
    "with open('/Users/michael/Downloads/test.png', 'rb') as f:\n",
    "    # 设置附件的MIME和文件名，这里是png类型:\n",
    "    mime = MIMEBase('image', 'png', filename='test.png')\n",
    "    # 加上必要的头信息:\n",
    "    mime.add_header('Content-Disposition', 'attachment', filename='test.png')\n",
    "    mime.add_header('Content-ID', '<0>')\n",
    "    mime.add_header('X-Attachment-Id', '0')\n",
    "    # 把附件的内容读进来:\n",
    "    mime.set_payload(f.read())\n",
    "    # 用Base64编码:\n",
    "    encoders.encode_base64(mime)\n",
    "    # 添加到MIMEMultipart:\n",
    "    msg.attach(mime)"
   ]
  },
  {
   "cell_type": "code",
   "execution_count": null,
   "id": "a30c5bc6",
   "metadata": {},
   "outputs": [],
   "source": [
    "# 然后，按正常发送流程把msg（注意类型已变为MIMEMultipart）发送出去，就可以收到如下带附件的邮件：\n",
    "\n",
    "# 发送图片\n",
    "# 如果要把一个图片嵌入到邮件正文中怎么做？直接在HTML邮件中链接图片地址行不行？\n",
    "# 答案是，大部分邮件服务商都会自动屏蔽带有外链的图片，因为不知道这些链接是否指向恶意网站。\n",
    "\n",
    "# 要把图片嵌入到邮件正文中，我们只需按照发送附件的方式，先把邮件作为附件添加进去，\n",
    "# 然后，在HTML中通过引用src=\"cid:0\"就可以把附件作为图片嵌入了。如果有多个图片，\n",
    "# 给它们依次编号，然后引用不同的cid:x即可。\n",
    "\n",
    "# 把上面代码加入MIMEMultipart的MIMEText从plain改为html，然后在适当的位置引用图片：\n",
    "msg.attach(MIMEText('<html><body><h1>Hello</h1>' +\n",
    "    '<p><img src=\"cid:0\"></p>' +\n",
    "    '</body></html>', 'html', 'utf-8'))\n",
    "\n",
    "# 再次发送，就可以看到图片直接嵌入到邮件正文的效果："
   ]
  },
  {
   "cell_type": "code",
   "execution_count": null,
   "id": "850820c9",
   "metadata": {},
   "outputs": [],
   "source": [
    "# 同时支持HTML和Plain格式\n",
    "# 如果我们发送HTML邮件，收件人通过浏览器或者Outlook之类的软件是可以正常浏览邮件内容的，\n",
    "# 但是，如果收件人使用的设备太古老，查看不了HTML邮件怎么办？\n",
    "\n",
    "# 办法是在发送HTML的同时再附加一个纯文本，如果收件人无法查看HTML格式的邮件，就可以自动降级查看纯文本邮件。\n",
    "# 利用MIMEMultipart就可以组合一个HTML和Plain，要注意指定subtype是alternative：\n",
    "\n",
    "msg = MIMEMultipart('alternative')\n",
    "msg['From'] = ...\n",
    "msg['To'] = ...\n",
    "msg['Subject'] = ...\n",
    "\n",
    "msg.attach(MIMEText('hello', 'plain', 'utf-8'))\n",
    "msg.attach(MIMEText('<html><body><h1>Hello</h1></body></html>', 'html', 'utf-8'))\n",
    "# 正常发送msg对象...\n"
   ]
  },
  {
   "cell_type": "code",
   "execution_count": null,
   "id": "e3fb48c4",
   "metadata": {},
   "outputs": [],
   "source": [
    "# 加密SMTP\n",
    "# 使用标准的25端口连接SMTP服务器时，使用的是明文传输，发送邮件的整个过程可能会被窃听。\n",
    "# 要更安全地发送邮件，可以加密SMTP会话，实际上就是先创建SSL安全连接，然后再使用SMTP协议发送邮件。\n",
    "\n",
    "# 某些邮件服务商，例如Gmail，提供的SMTP服务必须要加密传输。我们来看看如何通过Gmail提供的安全SMTP发送邮件。\n",
    "\n",
    "# 必须知道，Gmail的SMTP端口是587，因此，修改代码如下：\n",
    "smtp_server = 'smtp.gmail.com'\n",
    "smtp_port = 587\n",
    "server = smtplib.SMTP(smtp_server, smtp_port)\n",
    "server.starttls()\n",
    "# 剩下的代码和前面的一模一样:\n",
    "server.set_debuglevel(1)\n",
    "...\n",
    "\n",
    "# 只需要在创建SMTP对象后，立刻调用starttls()方法，就创建了安全连接。后面的代码和前面的发送邮件代码完全一样。\n",
    "# 如果因为网络问题无法连接Gmail的SMTP服务器，请相信我们的代码是没有问题的，你需要对你的网络设置做必要的调整。"
   ]
  },
  {
   "cell_type": "code",
   "execution_count": null,
   "id": "5f3e34b0",
   "metadata": {},
   "outputs": [],
   "source": [
    "# 小结\n",
    "# 使用Python的smtplib发送邮件十分简单，只要掌握了各种邮件类型的构造方法，正确设置好邮件头，就可以顺利发出。\n",
    "\n",
    "# 构造一个邮件对象就是一个Messag对象，如果构造一个MIMEText对象，就表示一个文本邮件对象，\n",
    "# 如果构造一个MIMEImage对象，就表示一个作为附件的图片，要把多个对象组合起来，\n",
    "# 就用MIMEMultipart对象，而MIMEBase可以表示任何对象。它们的继承关系如下：\n",
    "\n",
    "# 这种嵌套关系就可以构造出任意复杂的邮件。你可以通过email.mime文档查看它们所在的包以及详细的用法。"
   ]
  }
 ],
 "metadata": {
  "kernelspec": {
   "display_name": "personal",
   "language": "python",
   "name": "python3"
  },
  "language_info": {
   "codemirror_mode": {
    "name": "ipython",
    "version": 3
   },
   "file_extension": ".py",
   "mimetype": "text/x-python",
   "name": "python",
   "nbconvert_exporter": "python",
   "pygments_lexer": "ipython3",
   "version": "3.10.18"
  }
 },
 "nbformat": 4,
 "nbformat_minor": 5
}
